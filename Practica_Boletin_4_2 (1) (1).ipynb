{
 "cells": [
  {
   "cell_type": "code",
   "execution_count": 1,
   "id": "325a0845",
   "metadata": {},
   "outputs": [],
   "source": [
    "import sympy as sp \n",
    "import numpy as np\n",
    "import matplotlib as mp\n",
    "import matplotlib.pyplot as plt\n",
    "import numpy as np"
   ]
  },
  {
   "cell_type": "code",
   "execution_count": 3,
   "id": "08c0b213",
   "metadata": {},
   "outputs": [],
   "source": [
    "# Dudas: 5,7,11,12,16,18"
   ]
  },
  {
   "cell_type": "code",
   "execution_count": 4,
   "id": "31da5a0d",
   "metadata": {},
   "outputs": [
    {
     "data": {
      "text/latex": [
       "$\\displaystyle c - \\frac{\\sqrt{1 - 4 x^{2}}}{4}$"
      ],
      "text/plain": [
       "c - sqrt(1 - 4*x**2)/4"
      ]
     },
     "metadata": {},
     "output_type": "display_data"
    },
    {
     "name": "stdout",
     "output_type": "stream",
     "text": [
      "La expresión 8 - 0.25*sqrt(1 - 4*x**2) es una primitiva, pero no la única, de x/sqrt(1 - 4*x**2) ; puesto que la constante de integración C puede adquirir cualquier valor pertenciente a R\n"
     ]
    }
   ],
   "source": [
    "#Ejercicio 1\n",
    "x,c = sp.symbols('x,c', real=True)\n",
    "expr = x/sp.sqrt(1-4*x**2)\n",
    "\n",
    "I1 = sp.integrate(expr)\n",
    "display(I1+c)\n",
    "prim = 8-1/4*sp.sqrt(1-4*x**2)\n",
    "print('La expresión',prim,'es una primitiva, pero no la única, de',expr,'; puesto que la constante de integración C puede adquirir cualquier valor pertenciente a R')"
   ]
  },
  {
   "cell_type": "code",
   "execution_count": 94,
   "id": "67f07483",
   "metadata": {},
   "outputs": [
    {
     "name": "stdout",
     "output_type": "stream",
     "text": [
      "APARTADO A\n",
      "---------------------\n",
      "\n"
     ]
    },
    {
     "data": {
      "text/latex": [
       "$\\displaystyle c + \\frac{\\sin{\\left(x^{4} + 2 \\right)}}{4}$"
      ],
      "text/plain": [
       "c + sin(x**4 + 2)/4"
      ]
     },
     "metadata": {},
     "output_type": "display_data"
    },
    {
     "name": "stdout",
     "output_type": "stream",
     "text": [
      "\n",
      "APARTADO B\n",
      "---------------------\n",
      "\n"
     ]
    },
    {
     "data": {
      "text/latex": [
       "$\\displaystyle c + x \\log{\\left(x \\right)} - x$"
      ],
      "text/plain": [
       "c + x*log(x) - x"
      ]
     },
     "metadata": {},
     "output_type": "display_data"
    },
    {
     "name": "stdout",
     "output_type": "stream",
     "text": [
      "\n",
      "APARTADO C\n",
      "\n",
      "---------------------\n",
      "\n"
     ]
    },
    {
     "data": {
      "text/latex": [
       "$\\displaystyle c + \\sin{\\left(\\sin{\\left(x \\right)} \\right)}$"
      ],
      "text/plain": [
       "c + sin(sin(x))"
      ]
     },
     "metadata": {},
     "output_type": "display_data"
    },
    {
     "name": "stdout",
     "output_type": "stream",
     "text": [
      "\n",
      "\n",
      "APARATADO D (Primera regla de integral inmediata)\n",
      "-----------------------------------------------\n",
      "\n",
      "du =  12*x**2\n",
      "\n",
      "Expresión a integrar = 1/12 * ∫(12x^2 * (4*x**3+7)^9)\n",
      "\n",
      "\n"
     ]
    },
    {
     "data": {
      "text/plain": [
       "'Solución final:'"
      ]
     },
     "metadata": {},
     "output_type": "display_data"
    },
    {
     "data": {
      "text/latex": [
       "$\\displaystyle c + 0.00833333333333333 \\left(4 x^{3} + 7\\right)^{10}$"
      ],
      "text/plain": [
       "c + 0.00833333333333333*(4*x**3 + 7)**10"
      ]
     },
     "metadata": {},
     "output_type": "display_data"
    },
    {
     "name": "stdout",
     "output_type": "stream",
     "text": [
      "\n",
      "\n",
      "APARTADO E\n",
      "------------------\n",
      "\n"
     ]
    },
    {
     "data": {
      "text/latex": [
       "$\\displaystyle \\frac{e^{x} \\sin{\\left(2 x + 5 \\right)}}{5} - \\frac{2 e^{x} \\cos{\\left(2 x + 5 \\right)}}{5}$"
      ],
      "text/plain": [
       "exp(x)*sin(2*x + 5)/5 - 2*exp(x)*cos(2*x + 5)/5"
      ]
     },
     "metadata": {},
     "output_type": "display_data"
    },
    {
     "name": "stdout",
     "output_type": "stream",
     "text": [
      "\n",
      "\n",
      "APARTADO F\n",
      "--------------------\n",
      "\n"
     ]
    },
    {
     "data": {
      "text/latex": [
       "$\\displaystyle \\frac{\\operatorname{atan}{\\left(x^{2} \\right)}}{2}$"
      ],
      "text/plain": [
       "atan(x**2)/2"
      ]
     },
     "metadata": {},
     "output_type": "display_data"
    }
   ],
   "source": [
    "#Ejercicio 2\n",
    "x,c = sp.symbols('x,c', reals=True)\n",
    "\n",
    "#a\n",
    "print('APARTADO A')\n",
    "print('---------------------\\n')\n",
    "expra = x**3*sp.cos(x**4+2)\n",
    "IA = sp.integrate(expra,x)\n",
    "display(IA+c)\n",
    "\n",
    "#b\n",
    "print('\\nAPARTADO B')\n",
    "print('---------------------\\n')\n",
    "exprb = sp.log(x)\n",
    "IB = sp.integrate(exprb,x)\n",
    "display(IB+c)\n",
    "\n",
    "#c\n",
    "print('\\nAPARTADO C')\n",
    "print('\\n---------------------\\n')\n",
    "exprc = sp.cos(x)*sp.cos(sp.sin(x))\n",
    "IC = sp.integrate(exprc,x)\n",
    "display(IC+c)\n",
    "\n",
    "#d\n",
    "print('\\n\\nAPARATADO D (Primera regla de integral inmediata)')\n",
    "print('-----------------------------------------------\\n')\n",
    "x,c = sp.symbols('x,c')\n",
    "expr0 = x**2*(4*x**3+7)**9 #la derivada de lo de dentro del paréntesis es 12x**2\n",
    "v = x**2\n",
    "u = (4*x**3+7)\n",
    "exp = 9\n",
    "du = sp.diff(u,x)\n",
    "print('du = ',du)\n",
    "expr1 = 1/12*(12*v*u**exp)\n",
    "print('\\nExpresión a integrar = 1/12 * ∫(12x^2 * (4*x**3+7)^9)')\n",
    "sol = 1/(12*(exp+1)) * u**(exp+1)\n",
    "print('\\n')\n",
    "display('Solución final:',sol+c)\n",
    "\n",
    "\n",
    "\n",
    "#e\n",
    "print('\\n\\nAPARTADO E') \n",
    "print('------------------\\n')\n",
    "expre = sp.exp(x)*sp.sin(2*x+5)\n",
    "IE = sp.integrate(expre,x)\n",
    "display(IE)\n",
    "\n",
    "#f\n",
    "print('\\n\\nAPARTADO F') \n",
    "print('--------------------\\n')\n",
    "exprf = x/(1+x**4)\n",
    "IF = sp.integrate(exprf,x)\n",
    "display(IF)\n",
    "\n"
   ]
  },
  {
   "cell_type": "code",
   "execution_count": 6,
   "id": "2c037b5d",
   "metadata": {},
   "outputs": [
    {
     "name": "stdout",
     "output_type": "stream",
     "text": [
      "U(f,P) = 181\n",
      "L(f,P) = -19\n",
      "\n",
      "La opción correcta es la A\n"
     ]
    }
   ],
   "source": [
    "# Ejercicio 3 Particiones\n",
    "x,p = sp.symbols('x,p', real=True)\n",
    "expr3 = x**3-2\n",
    "f = sp.Lambda(x,expr3)\n",
    "p = (-2,-1,1,4)\n",
    "\n",
    "#[-2,-1]\n",
    "Max1 = f(p[1])\n",
    "Min1 = f(p[0])\n",
    "\n",
    "#[-1,1]\n",
    "Max2 = f(p[2])\n",
    "Min2 = f(p[1])\n",
    "\n",
    "#[1,4]\n",
    "Max3 = f(p[3])\n",
    "Min3 = f(p[2])\n",
    "\n",
    "U = 1*Max1+2*Max2+3*Max3\n",
    "L = 1*Min1+2*Min2+3*Min3\n",
    "\n",
    "print('U(f,P) =',U)\n",
    "print('L(f,P) =',L)\n",
    "print('\\nLa opción correcta es la A')"
   ]
  },
  {
   "cell_type": "code",
   "execution_count": 7,
   "id": "f1f3adb1",
   "metadata": {},
   "outputs": [
    {
     "name": "stdout",
     "output_type": "stream",
     "text": [
      "APARTADO A\n",
      "---------------------\n"
     ]
    },
    {
     "data": {
      "text/plain": [
       "False"
      ]
     },
     "metadata": {},
     "output_type": "display_data"
    },
    {
     "name": "stdout",
     "output_type": "stream",
     "text": [
      "\n",
      "APARTADO B\n",
      "---------------------\n",
      "\n",
      "La integral definida entre a y b de f(x) puede oscilar entre los siguientes valores: [ 6 , 12 ]\n"
     ]
    }
   ],
   "source": [
    "# Ejercicio 4\n",
    "\n",
    "#Datos\n",
    "a = 2\n",
    "b = 4\n",
    "min = 3\n",
    "max = 6\n",
    "\n",
    "#Fórmula\n",
    "Expr = min*(b-a) <= sp.integrate(f(x),(x,b,a)) <= max*(b-a)\n",
    "\n",
    "#a\n",
    "print('APARTADO A')\n",
    "print('---------------------')\n",
    "display(15 <= max*(b-a))\n",
    "\n",
    "#b\n",
    "print('\\nAPARTADO B')\n",
    "print('---------------------\\n')\n",
    "v1 = min*(b-a)\n",
    "v2 = max*(b-a)\n",
    "print('La integral definida entre a y b de f(x) puede oscilar entre los siguientes valores: [',v1,',',v2,']')"
   ]
  },
  {
   "cell_type": "code",
   "execution_count": 8,
   "id": "bc1cab52",
   "metadata": {},
   "outputs": [
    {
     "name": "stdout",
     "output_type": "stream",
     "text": [
      "APARTADO A\n",
      "---------------------\n",
      "f(4) = 1\n",
      "\n",
      "APARTADO B\n",
      "---------------------\n",
      "g(1) = -1\n"
     ]
    }
   ],
   "source": [
    "# Ejercicio 5\n",
    "\n",
    "#a\n",
    "print('APARTADO A')\n",
    "print('---------------------')\n",
    "d1f = sp.diff(x*sp.cos(sp.pi*x))\n",
    "f = sp.Lambda(x,d1f)\n",
    "\n",
    "v = 4\n",
    "a = x\n",
    "b = 0\n",
    "\n",
    "sol = f(v) * sp.diff(a,x) - f(v) * sp.diff(b,x)\n",
    "print('f(4) =', sol)\n",
    "\n",
    "#b\n",
    "print('\\nAPARTADO B')\n",
    "print('---------------------')\n",
    "d1f_2 = sp.diff(x*sp.cos(sp.pi*x))\n",
    "f2 = sp.Lambda(x,d1f_2)\n",
    "\n",
    "v2 = 1\n",
    "a2 = x**3\n",
    "b2 = x**2\n",
    "\n",
    "sol2 = f2(v2) * sp.diff(a2,x) - f2(v2) * sp.diff(b2,x) \n",
    "print('g(1) =', sol2.subs(x,v2))"
   ]
  },
  {
   "cell_type": "code",
   "execution_count": 28,
   "id": "154188ec",
   "metadata": {},
   "outputs": [
    {
     "data": {
      "text/plain": [
       "'Derivada'"
      ]
     },
     "metadata": {},
     "output_type": "display_data"
    },
    {
     "data": {
      "text/latex": [
       "$\\displaystyle \\frac{\\sin{\\left(x \\right)}}{x}$"
      ],
      "text/plain": [
       "sin(x)/x"
      ]
     },
     "metadata": {},
     "output_type": "display_data"
    },
    {
     "name": "stdout",
     "output_type": "stream",
     "text": [
      "x = K * pi ; para todo K > 0\n"
     ]
    }
   ],
   "source": [
    "# Ejercicio 6 (Teorema fundamental del cálculo integral)\n",
    "\n",
    "# Dada una función f integrable en [a,b], llamamos F a una función definida\n",
    "# en [a,b] tal que: F(x) = integral definida entre a y b de f(t) * dt.\n",
    "\n",
    "# Fórmula --> F(x): F'(x) = f(b(x)) * b'(x) - f(a(x)) * a'(x)\n",
    "\n",
    "x = sp.symbols('x')\n",
    "expr6 = sp.sin(x)/x\n",
    "f = sp.Lambda(x,expr6)\n",
    "\n",
    "b = x\n",
    "a = 1\n",
    "\n",
    "# Derivada definida entre x,1.\n",
    "der = expr6.subs(x,b) * sp.diff(b,x) - expr6.subs(x,a) * sp.diff(a,x)\n",
    "display('Derivada',der)\n",
    "\n",
    "# Derivada = 0\n",
    "sol = sp.solve(der,x)\n",
    "print('x = K *', sol[0],'; para todo K > 0')"
   ]
  },
  {
   "cell_type": "code",
   "execution_count": 27,
   "id": "1a113456",
   "metadata": {},
   "outputs": [
    {
     "data": {
      "text/plain": [
       "'Derivada'"
      ]
     },
     "metadata": {},
     "output_type": "display_data"
    },
    {
     "data": {
      "text/latex": [
       "$\\displaystyle \\frac{\\sin{\\left(x \\right)}}{x}$"
      ],
      "text/plain": [
       "sin(x)/x"
      ]
     },
     "metadata": {},
     "output_type": "display_data"
    },
    {
     "name": "stdout",
     "output_type": "stream",
     "text": [
      "x = K * pi ; para todo K > 0\n"
     ]
    }
   ],
   "source": [
    "# Ejercicio 7\n",
    "x = sp.symbols('x')\n",
    "expr6 = sp.sin(x)/x\n",
    "f = sp.Lambda(x,expr6)\n",
    "\n",
    "a = x\n",
    "b = 1\n",
    "\n",
    "# Derivada definida entre x,1.\n",
    "der = expr6.subs(x,a) * sp.diff(a,x) - expr6.subs(x,b) * sp.diff(b,x)\n",
    "display('Derivada',der)\n",
    "\n",
    "# Derivada = 0\n",
    "sol = sp.solve(der,x)\n",
    "print('x = K *', sol[0],'; para todo K > 0')"
   ]
  },
  {
   "cell_type": "code",
   "execution_count": 11,
   "id": "6ef7cc1c",
   "metadata": {
    "scrolled": true
   },
   "outputs": [
    {
     "data": {
      "image/png": "[encoded data removed]",
      "text/plain": [
       "<Figure size 640x480 with 1 Axes>"
      ]
     },
     "metadata": {},
     "output_type": "display_data"
    },
    {
     "data": {
      "text/plain": [
       "'Puntos de corte y1 = y2; x ='"
      ]
     },
     "metadata": {},
     "output_type": "display_data"
    },
    {
     "data": {
      "text/latex": [
       "$\\displaystyle 0$"
      ],
      "text/plain": [
       "0"
      ]
     },
     "metadata": {},
     "output_type": "display_data"
    },
    {
     "data": {
      "text/plain": [
       "'Puntos de corte y1 = y3; x ='"
      ]
     },
     "metadata": {},
     "output_type": "display_data"
    },
    {
     "data": {
      "text/latex": [
       "$\\displaystyle 4$"
      ],
      "text/plain": [
       "4"
      ]
     },
     "metadata": {},
     "output_type": "display_data"
    },
    {
     "data": {
      "text/plain": [
       "'Área 1'"
      ]
     },
     "metadata": {},
     "output_type": "display_data"
    },
    {
     "data": {
      "text/latex": [
       "$\\displaystyle 2$"
      ],
      "text/plain": [
       "2"
      ]
     },
     "metadata": {},
     "output_type": "display_data"
    },
    {
     "data": {
      "text/plain": [
       "'Área 2'"
      ]
     },
     "metadata": {},
     "output_type": "display_data"
    },
    {
     "data": {
      "text/latex": [
       "$\\displaystyle 2$"
      ],
      "text/plain": [
       "2"
      ]
     },
     "metadata": {},
     "output_type": "display_data"
    },
    {
     "data": {
      "text/plain": [
       "'Área total'"
      ]
     },
     "metadata": {},
     "output_type": "display_data"
    },
    {
     "data": {
      "text/latex": [
       "$\\displaystyle 4$"
      ],
      "text/plain": [
       "4"
      ]
     },
     "metadata": {},
     "output_type": "display_data"
    }
   ],
   "source": [
    "# Ejercicio 8\n",
    "\n",
    "# Representación gráfica\n",
    "x,y = sp.symbols('x,y', real=True)\n",
    "p = sp.plot(2*x, x, 4, (x, -1, 5), show=False)\n",
    "p[0].line_color='black'\n",
    "p[1].line_color='orange'\n",
    "p.xlabel='x'\n",
    "p.ylabel='y'\n",
    "p.legend=True\n",
    "p.show()\n",
    "\n",
    "# Puntos de corte\n",
    "expr1 = x\n",
    "expr2 = 2*x\n",
    "expr3 = 4\n",
    "\n",
    "display('Puntos de corte y1 = y2; x =',sp.solve(expr1-expr2)[0])\n",
    "display('Puntos de corte y1 = y3; x =',sp.solve(expr1-expr3)[0])\n",
    "\n",
    "# Cálculo del área\n",
    "A1 = sp.integrate(expr2-expr1,(x,0,2))\n",
    "display('Área 1',A1)\n",
    "A2 = sp.integrate(expr3-expr1,(x,2,4))\n",
    "display('Área 2',A2)\n",
    "AT = A1+A2\n",
    "display('Área total',AT)"
   ]
  },
  {
   "cell_type": "code",
   "execution_count": 28,
   "id": "f3761481",
   "metadata": {},
   "outputs": [
    {
     "data": {
      "text/latex": [
       "$\\displaystyle 4$"
      ],
      "text/plain": [
       "4"
      ]
     },
     "execution_count": 28,
     "metadata": {},
     "output_type": "execute_result"
    }
   ],
   "source": [
    "x = sp.symbols('x')\n",
    "expr1 = x\n",
    "expr2 = 2*x\n",
    "expr3 = 4\n",
    "\n",
    "I1 = sp.integrate(4-x,(x,0,4))\n",
    "I2 = sp.integrate(4-2*x,(x,0,2))\n",
    "I1-I2"
   ]
  },
  {
   "cell_type": "code",
   "execution_count": 12,
   "id": "95947d54",
   "metadata": {},
   "outputs": [
    {
     "data": {
      "text/latex": [
       "$\\displaystyle \\begin{cases} \\sin^{2}{\\left(x \\right)} & \\text{for}\\: x \\geq 0 \\wedge x \\leq \\pi \\\\\\frac{x}{\\pi - x^{2}} & \\text{for}\\: x \\leq 2 \\pi \\wedge x > \\pi \\end{cases}$"
      ],
      "text/plain": [
       "Piecewise((sin(x)**2, (x >= 0) & (x <= pi)), (x/(pi - x**2), (x > pi) & (x <= 2*pi)))"
      ]
     },
     "metadata": {},
     "output_type": "display_data"
    },
    {
     "name": "stdout",
     "output_type": "stream",
     "text": [
      "---------------------------\n"
     ]
    },
    {
     "data": {
      "text/plain": [
       "'Singularidades:'"
      ]
     },
     "metadata": {},
     "output_type": "display_data"
    },
    {
     "data": {
      "text/latex": [
       "$\\displaystyle \\left\\{- \\sqrt{\\pi}, \\sqrt{\\pi}\\right\\}$"
      ],
      "text/plain": [
       "{-sqrt(pi), sqrt(pi)}"
      ]
     },
     "metadata": {},
     "output_type": "display_data"
    },
    {
     "name": "stdout",
     "output_type": "stream",
     "text": [
      "\n",
      "-√π se encuentra fuera del dominio y √π pertenece al primer intervalo, pero no es singularidad de la primera expresión.\n"
     ]
    },
    {
     "data": {
      "text/plain": [
       "'Límite x --> π-'"
      ]
     },
     "metadata": {},
     "output_type": "display_data"
    },
    {
     "data": {
      "text/latex": [
       "$\\displaystyle 0$"
      ],
      "text/plain": [
       "0"
      ]
     },
     "metadata": {},
     "output_type": "display_data"
    },
    {
     "data": {
      "text/plain": [
       "'Límite x--> π+'"
      ]
     },
     "metadata": {},
     "output_type": "display_data"
    },
    {
     "data": {
      "text/latex": [
       "$\\displaystyle \\frac{\\pi}{\\pi - \\pi^{2}}$"
      ],
      "text/plain": [
       "pi/(pi - pi**2)"
      ]
     },
     "metadata": {},
     "output_type": "display_data"
    },
    {
     "name": "stdout",
     "output_type": "stream",
     "text": [
      "f(x) no es continua pero sí está acotada, por lo que es integrable.\n",
      "\n",
      "\n",
      "APARTADO B\n",
      "---------------------\n"
     ]
    },
    {
     "data": {
      "text/plain": [
       "'Positiva de [0,π], por ejemplo en x = 1'"
      ]
     },
     "metadata": {},
     "output_type": "display_data"
    },
    {
     "data": {
      "text/plain": [
       "0.7080734182735712"
      ]
     },
     "metadata": {},
     "output_type": "display_data"
    },
    {
     "data": {
      "text/plain": [
       "'Negativa de (π,2π], por ejemplo en x = 4'"
      ]
     },
     "metadata": {},
     "output_type": "display_data"
    },
    {
     "data": {
      "text/plain": [
       "-0.3110805166019814"
      ]
     },
     "metadata": {},
     "output_type": "display_data"
    },
    {
     "name": "stdout",
     "output_type": "stream",
     "text": [
      "\n"
     ]
    },
    {
     "data": {
      "text/plain": [
       "'Area1 ='"
      ]
     },
     "metadata": {},
     "output_type": "display_data"
    },
    {
     "data": {
      "text/latex": [
       "$\\displaystyle \\frac{\\pi}{2}$"
      ],
      "text/plain": [
       "pi/2"
      ]
     },
     "metadata": {},
     "output_type": "display_data"
    },
    {
     "data": {
      "text/plain": [
       "'Area2 ='"
      ]
     },
     "metadata": {},
     "output_type": "display_data"
    },
    {
     "data": {
      "text/latex": [
       "$\\displaystyle - \\frac{\\log{\\left(- \\pi + \\pi^{2} \\right)}}{2} + \\frac{\\log{\\left(- \\pi + 4 \\pi^{2} \\right)}}{2}$"
      ],
      "text/plain": [
       "-log(-pi + pi**2)/2 + log(-pi + 4*pi**2)/2"
      ]
     },
     "metadata": {},
     "output_type": "display_data"
    },
    {
     "name": "stdout",
     "output_type": "stream",
     "text": [
      "\n",
      "Área Total = -log(-1 + pi)/2 + log(-1 + 4*pi)/2 + pi/2 = 2.414072336682839 u²\n"
     ]
    }
   ],
   "source": [
    "# Ejercicio 9a\n",
    "x = sp.symbols('x')\n",
    "expr1 = sp.sin(x)**2\n",
    "expr2 = x/(sp.pi-x**2)\n",
    "\n",
    "# Definición de la función\n",
    "f_expr = sp.Piecewise((expr1,sp.And(x>=0,x<=sp.pi)),(expr2,sp.And(x>sp.pi, x<=2*sp.pi)))\n",
    "f = sp.Lambda(x,f_expr)\n",
    "display(f(x))\n",
    "\n",
    "# Singularidades\n",
    "print('---------------------------')\n",
    "singularidades = sp.calculus.singularities(f(x), x)\n",
    "display('Singularidades:',singularidades)\n",
    "print('\\n-√π se encuentra fuera del dominio y √π pertenece al primer intervalo, pero no es singularidad de la primera expresión.')\n",
    "\n",
    "# Limites\n",
    "lim_i = sp.limit(expr1,x,sp.pi,dir='-')\n",
    "lim_d = sp.limit(expr2,x,sp.pi,dir='+')\n",
    "display('Límite x --> π-',lim_i)\n",
    "display('Límite x--> π+',lim_d)\n",
    "print('f(x) no es continua pero sí está acotada, por lo que es integrable.')\n",
    "\n",
    "# b\n",
    "print('\\n\\nAPARTADO B')\n",
    "print('---------------------')\n",
    "\n",
    "# Sustituimos las expresiones por un valor de sus respectivos intervalos para ver si es positiva o negativa\n",
    "display('Positiva de [0,π], por ejemplo en x = 1', float(expr1.subs(x,1)))\n",
    "display('Negativa de (π,2π], por ejemplo en x = 4', float(expr2.subs(x,4)))\n",
    "\n",
    "# Cálculo Área\n",
    "print('')\n",
    "A1 = sp.integrate(sp.sin(x)**2,(x,0,sp.pi))\n",
    "display('Area1 =',A1)\n",
    "A2 = sp.integrate(abs(x/(sp.pi-x**2)),(x,sp.pi,2*sp.pi))\n",
    "display('Area2 =',A2)\n",
    "AT = A1+A2\n",
    "print('\\nÁrea Total =',sp.simplify(AT),'=',float(AT),'u²')"
   ]
  },
  {
   "cell_type": "code",
   "execution_count": 13,
   "id": "d95d2e5a",
   "metadata": {},
   "outputs": [
    {
     "data": {
      "text/latex": [
       "$\\displaystyle \\left( t \\mapsto 15 \\cos{\\left(\\frac{\\pi t}{2} \\right)} + 90 \\right)$"
      ],
      "text/plain": [
       "Lambda(t, 15*cos(pi*t/2) + 90)"
      ]
     },
     "metadata": {},
     "output_type": "display_data"
    },
    {
     "data": {
      "text/latex": [
       "$\\displaystyle \\left( t \\mapsto 2 t + 85 \\right)$"
      ],
      "text/plain": [
       "Lambda(t, 2*t + 85)"
      ]
     },
     "metadata": {},
     "output_type": "display_data"
    },
    {
     "data": {
      "text/plain": [
       "'Primer tramo'"
      ]
     },
     "metadata": {},
     "output_type": "display_data"
    },
    {
     "data": {
      "text/latex": [
       "$\\displaystyle \\frac{30}{\\pi}$"
      ],
      "text/plain": [
       "30/pi"
      ]
     },
     "metadata": {},
     "output_type": "display_data"
    },
    {
     "data": {
      "text/plain": [
       "'Segundo tramo'"
      ]
     },
     "metadata": {},
     "output_type": "display_data"
    },
    {
     "data": {
      "text/latex": [
       "$\\displaystyle -50$"
      ],
      "text/plain": [
       "-50"
      ]
     },
     "metadata": {},
     "output_type": "display_data"
    },
    {
     "name": "stdout",
     "output_type": "stream",
     "text": [
      "En el primer tramo Maruja va ganando, mientras que el segundo gana Pepe.\n"
     ]
    }
   ],
   "source": [
    "# Ejercicio 10\n",
    "t = sp.symbols('t')\n",
    "expr1 = 90 + 15*sp.cos(sp.pi/2*t)\n",
    "vm = sp.Lambda(t,expr1)\n",
    "expr2 = 85 + 2*t\n",
    "vp = sp.Lambda(t,expr2)\n",
    "display(vm,vp)\n",
    "\n",
    "#Resolución\n",
    "I1 = sp.integrate(vm(t)-vp(t),(t,0,5))\n",
    "I2 = sp.integrate(vm(t)-vp(t),(t,0,10))\n",
    "display('Primer tramo',I1,'Segundo tramo',I2)\n",
    "print('En el primer tramo Maruja va ganando, mientras que el segundo gana Pepe.')\n"
   ]
  },
  {
   "cell_type": "code",
   "execution_count": 15,
   "id": "3bd44ad0",
   "metadata": {},
   "outputs": [
    {
     "data": {
      "image/png": "[encoded data removed]",
      "text/plain": [
       "<Figure size 640x480 with 1 Axes>"
      ]
     },
     "metadata": {},
     "output_type": "display_data"
    },
    {
     "ename": "ValueError",
     "evalue": "Invalid limits given: ((0, t),)",
     "output_type": "error",
     "traceback": [
      "\u001b[1;31m---------------------------------------------------------------------------\u001b[0m",
      "\u001b[1;31mValueError\u001b[0m                                Traceback (most recent call last)",
      "\u001b[1;32m~\\AppData\\Local\\Temp\\ipykernel_21432\\2837299782.py\u001b[0m in \u001b[0;36m<module>\u001b[1;34m\u001b[0m\n\u001b[0;32m     28\u001b[0m \u001b[1;31m# Cálculo del área\u001b[0m\u001b[1;33m\u001b[0m\u001b[1;33m\u001b[0m\u001b[0m\n\u001b[0;32m     29\u001b[0m \u001b[1;33m\u001b[0m\u001b[0m\n\u001b[1;32m---> 30\u001b[1;33m \u001b[0mdisplay\u001b[0m\u001b[1;33m(\u001b[0m\u001b[0msp\u001b[0m\u001b[1;33m.\u001b[0m\u001b[0mlimit\u001b[0m\u001b[1;33m(\u001b[0m\u001b[0msp\u001b[0m\u001b[1;33m.\u001b[0m\u001b[0mintegrate\u001b[0m\u001b[1;33m(\u001b[0m\u001b[0mexpr\u001b[0m\u001b[1;33m,\u001b[0m\u001b[1;33m(\u001b[0m\u001b[1;36m0\u001b[0m\u001b[1;33m,\u001b[0m\u001b[0mt\u001b[0m\u001b[1;33m)\u001b[0m\u001b[1;33m)\u001b[0m\u001b[1;33m,\u001b[0m\u001b[0mt\u001b[0m\u001b[1;33m,\u001b[0m\u001b[0msp\u001b[0m\u001b[1;33m.\u001b[0m\u001b[0moo\u001b[0m\u001b[1;33m)\u001b[0m\u001b[1;33m)\u001b[0m\u001b[1;33m\u001b[0m\u001b[1;33m\u001b[0m\u001b[0m\n\u001b[0m\u001b[0;32m     31\u001b[0m \u001b[1;33m\u001b[0m\u001b[0m\n\u001b[0;32m     32\u001b[0m \u001b[1;33m\u001b[0m\u001b[0m\n",
      "\u001b[1;32mC:\\Anaconda\\lib\\site-packages\\sympy\\integrals\\integrals.py\u001b[0m in \u001b[0;36mintegrate\u001b[1;34m(meijerg, conds, risch, heurisch, manual, *args, **kwargs)\u001b[0m\n\u001b[0;32m   1561\u001b[0m         \u001b[1;34m'manual'\u001b[0m\u001b[1;33m:\u001b[0m \u001b[0mmanual\u001b[0m\u001b[1;33m\u001b[0m\u001b[1;33m\u001b[0m\u001b[0m\n\u001b[0;32m   1562\u001b[0m         }\n\u001b[1;32m-> 1563\u001b[1;33m     \u001b[0mintegral\u001b[0m \u001b[1;33m=\u001b[0m \u001b[0mIntegral\u001b[0m\u001b[1;33m(\u001b[0m\u001b[1;33m*\u001b[0m\u001b[0margs\u001b[0m\u001b[1;33m,\u001b[0m \u001b[1;33m**\u001b[0m\u001b[0mkwargs\u001b[0m\u001b[1;33m)\u001b[0m\u001b[1;33m\u001b[0m\u001b[1;33m\u001b[0m\u001b[0m\n\u001b[0m\u001b[0;32m   1564\u001b[0m \u001b[1;33m\u001b[0m\u001b[0m\n\u001b[0;32m   1565\u001b[0m     \u001b[1;32mif\u001b[0m \u001b[0misinstance\u001b[0m\u001b[1;33m(\u001b[0m\u001b[0mintegral\u001b[0m\u001b[1;33m,\u001b[0m \u001b[0mIntegral\u001b[0m\u001b[1;33m)\u001b[0m\u001b[1;33m:\u001b[0m\u001b[1;33m\u001b[0m\u001b[1;33m\u001b[0m\u001b[0m\n",
      "\u001b[1;32mC:\\Anaconda\\lib\\site-packages\\sympy\\integrals\\integrals.py\u001b[0m in \u001b[0;36m__new__\u001b[1;34m(cls, function, *symbols, **assumptions)\u001b[0m\n\u001b[0;32m     97\u001b[0m                 active_deprecations_target=\"deprecated-integrate-poly\")\n\u001b[0;32m     98\u001b[0m \u001b[1;33m\u001b[0m\u001b[0m\n\u001b[1;32m---> 99\u001b[1;33m         \u001b[0mobj\u001b[0m \u001b[1;33m=\u001b[0m \u001b[0mAddWithLimits\u001b[0m\u001b[1;33m.\u001b[0m\u001b[0m__new__\u001b[0m\u001b[1;33m(\u001b[0m\u001b[0mcls\u001b[0m\u001b[1;33m,\u001b[0m \u001b[0mfunction\u001b[0m\u001b[1;33m,\u001b[0m \u001b[1;33m*\u001b[0m\u001b[0msymbols\u001b[0m\u001b[1;33m,\u001b[0m \u001b[1;33m**\u001b[0m\u001b[0massumptions\u001b[0m\u001b[1;33m)\u001b[0m\u001b[1;33m\u001b[0m\u001b[1;33m\u001b[0m\u001b[0m\n\u001b[0m\u001b[0;32m    100\u001b[0m         \u001b[1;32mreturn\u001b[0m \u001b[0mobj\u001b[0m\u001b[1;33m\u001b[0m\u001b[1;33m\u001b[0m\u001b[0m\n\u001b[0;32m    101\u001b[0m \u001b[1;33m\u001b[0m\u001b[0m\n",
      "\u001b[1;32mC:\\Anaconda\\lib\\site-packages\\sympy\\concrete\\expr_with_limits.py\u001b[0m in \u001b[0;36m__new__\u001b[1;34m(cls, function, *symbols, **assumptions)\u001b[0m\n\u001b[0;32m    543\u001b[0m     \u001b[1;32mdef\u001b[0m \u001b[0m__new__\u001b[0m\u001b[1;33m(\u001b[0m\u001b[0mcls\u001b[0m\u001b[1;33m,\u001b[0m \u001b[0mfunction\u001b[0m\u001b[1;33m,\u001b[0m \u001b[1;33m*\u001b[0m\u001b[0msymbols\u001b[0m\u001b[1;33m,\u001b[0m \u001b[1;33m**\u001b[0m\u001b[0massumptions\u001b[0m\u001b[1;33m)\u001b[0m\u001b[1;33m:\u001b[0m\u001b[1;33m\u001b[0m\u001b[1;33m\u001b[0m\u001b[0m\n\u001b[0;32m    544\u001b[0m         \u001b[1;32mfrom\u001b[0m \u001b[0msympy\u001b[0m\u001b[1;33m.\u001b[0m\u001b[0mconcrete\u001b[0m\u001b[1;33m.\u001b[0m\u001b[0msummations\u001b[0m \u001b[1;32mimport\u001b[0m \u001b[0mSum\u001b[0m\u001b[1;33m\u001b[0m\u001b[1;33m\u001b[0m\u001b[0m\n\u001b[1;32m--> 545\u001b[1;33m         pre = _common_new(cls, function, *symbols,\n\u001b[0m\u001b[0;32m    546\u001b[0m             discrete=issubclass(cls, Sum), **assumptions)\n\u001b[0;32m    547\u001b[0m         \u001b[1;32mif\u001b[0m \u001b[0misinstance\u001b[0m\u001b[1;33m(\u001b[0m\u001b[0mpre\u001b[0m\u001b[1;33m,\u001b[0m \u001b[0mtuple\u001b[0m\u001b[1;33m)\u001b[0m\u001b[1;33m:\u001b[0m\u001b[1;33m\u001b[0m\u001b[1;33m\u001b[0m\u001b[0m\n",
      "\u001b[1;32mC:\\Anaconda\\lib\\site-packages\\sympy\\concrete\\expr_with_limits.py\u001b[0m in \u001b[0;36m_common_new\u001b[1;34m(cls, function, discrete, *symbols, **assumptions)\u001b[0m\n\u001b[0;32m     55\u001b[0m \u001b[1;33m\u001b[0m\u001b[0m\n\u001b[0;32m     56\u001b[0m     \u001b[1;32mif\u001b[0m \u001b[0msymbols\u001b[0m\u001b[1;33m:\u001b[0m\u001b[1;33m\u001b[0m\u001b[1;33m\u001b[0m\u001b[0m\n\u001b[1;32m---> 57\u001b[1;33m         \u001b[0mlimits\u001b[0m\u001b[1;33m,\u001b[0m \u001b[0morientation\u001b[0m \u001b[1;33m=\u001b[0m \u001b[0m_process_limits\u001b[0m\u001b[1;33m(\u001b[0m\u001b[1;33m*\u001b[0m\u001b[0msymbols\u001b[0m\u001b[1;33m,\u001b[0m \u001b[0mdiscrete\u001b[0m\u001b[1;33m=\u001b[0m\u001b[0mdiscrete\u001b[0m\u001b[1;33m)\u001b[0m\u001b[1;33m\u001b[0m\u001b[1;33m\u001b[0m\u001b[0m\n\u001b[0m\u001b[0;32m     58\u001b[0m         \u001b[1;32mfor\u001b[0m \u001b[0mi\u001b[0m\u001b[1;33m,\u001b[0m \u001b[0mli\u001b[0m \u001b[1;32min\u001b[0m \u001b[0menumerate\u001b[0m\u001b[1;33m(\u001b[0m\u001b[0mlimits\u001b[0m\u001b[1;33m)\u001b[0m\u001b[1;33m:\u001b[0m\u001b[1;33m\u001b[0m\u001b[1;33m\u001b[0m\u001b[0m\n\u001b[0;32m     59\u001b[0m             \u001b[1;32mif\u001b[0m \u001b[0mlen\u001b[0m\u001b[1;33m(\u001b[0m\u001b[0mli\u001b[0m\u001b[1;33m)\u001b[0m \u001b[1;33m==\u001b[0m \u001b[1;36m4\u001b[0m\u001b[1;33m:\u001b[0m\u001b[1;33m\u001b[0m\u001b[1;33m\u001b[0m\u001b[0m\n",
      "\u001b[1;32mC:\\Anaconda\\lib\\site-packages\\sympy\\concrete\\expr_with_limits.py\u001b[0m in \u001b[0;36m_process_limits\u001b[1;34m(discrete, *symbols)\u001b[0m\n\u001b[0;32m    192\u001b[0m                         \u001b[1;32mcontinue\u001b[0m\u001b[1;33m\u001b[0m\u001b[1;33m\u001b[0m\u001b[0m\n\u001b[0;32m    193\u001b[0m \u001b[1;33m\u001b[0m\u001b[0m\n\u001b[1;32m--> 194\u001b[1;33m         \u001b[1;32mraise\u001b[0m \u001b[0mValueError\u001b[0m\u001b[1;33m(\u001b[0m\u001b[1;34m'Invalid limits given: %s'\u001b[0m \u001b[1;33m%\u001b[0m \u001b[0mstr\u001b[0m\u001b[1;33m(\u001b[0m\u001b[0msymbols\u001b[0m\u001b[1;33m)\u001b[0m\u001b[1;33m)\u001b[0m\u001b[1;33m\u001b[0m\u001b[1;33m\u001b[0m\u001b[0m\n\u001b[0m\u001b[0;32m    195\u001b[0m \u001b[1;33m\u001b[0m\u001b[0m\n\u001b[0;32m    196\u001b[0m     \u001b[1;32mreturn\u001b[0m \u001b[0mlimits\u001b[0m\u001b[1;33m,\u001b[0m \u001b[0morientation\u001b[0m\u001b[1;33m\u001b[0m\u001b[1;33m\u001b[0m\u001b[0m\n",
      "\u001b[1;31mValueError\u001b[0m: Invalid limits given: ((0, t),)"
     ]
    }
   ],
   "source": [
    "# Ejercicio 12\n",
    "x,t = sp.symbols('x,t')\n",
    "expr = x*sp.exp(-2*x)\n",
    "f = sp.Lambda(x,expr)\n",
    "\n",
    "# Representación Gráfica\n",
    "import matplotlib as mp\n",
    "import matplotlib.pyplot as plt\n",
    "import numpy as np\n",
    "\n",
    "# Creación de los puntos donde se evalúa la función\n",
    "x = np.linspace(-5, 5*np.pi, 100)\n",
    "\n",
    "# Gráfica de sin(x) y cos(x), con una etiqueta para cada una\n",
    "plt.plot(x, x*sp.E**(-2*x))\n",
    "\n",
    "# Etiquetas de los ejes\n",
    "plt.xlabel('x')\n",
    "plt.ylabel('y')\n",
    "\n",
    "# Definir los límites de los ejes x e y\n",
    "plt.xlim(x[0], x[-1])\n",
    "plt.ylim([-1.,1.2])\n",
    "plt.title('Gráfica de xe^(-2x)')\n",
    "\n",
    "plt.show()\n",
    "\n",
    "# Cálculo del área\n",
    "\n",
    "display(sp.limit(sp.integrate(expr,(0,t)),t,sp.oo))\n",
    "\n",
    "\n"
   ]
  },
  {
   "cell_type": "code",
   "execution_count": null,
   "id": "3a95c548",
   "metadata": {},
   "outputs": [],
   "source": [
    "# Ejercicio 13\n",
    "x = sp.symbols('x')\n",
    "expr = x**2 * sp.log(x)\n",
    "I13 = sp.integrate(expr,(x,0,1))\n",
    "display(I13)\n",
    "\n",
    "print('\\nRESOLUCIÓN INTEGRANDO POR PARTES:')\n",
    "print('----------------------------------')\n",
    "\n",
    "# Datos u,v,du,dv\n",
    "u = sp.log(x)\n",
    "du = sp.diff(u)\n",
    "dv = x**2\n",
    "v = sp.integrate(dv,x)\n",
    "\n",
    "# Fórmula integración por partes\n",
    "IPP = u*v-sp.integrate(v*du,x)\n",
    "display('Expresión obtenida con la integración por partes',IPP)\n",
    "\n",
    "# Límites porque ln(0) no existe en R\n",
    "print('Como ln(x) sólo está definida para x>0 se calcula el límite cuando x-->0+')\n",
    "lim_d = sp.limit((x**3*sp.log(x)/3 - x**3/9),x,0,dir = '+')\n",
    "display('Límite cuando x-->0+ =',lim_d)\n",
    "\n",
    "# Resolución final en los intervalos de la integral definida\n",
    "sol = IPP.subs(x,1) - lim_d\n",
    "display('Solución final',sol)"
   ]
  },
  {
   "cell_type": "code",
   "execution_count": null,
   "id": "a18a69c9",
   "metadata": {},
   "outputs": [],
   "source": [
    "# Ejercicio 14\n",
    "sp.integrate(1/(sp.sqrt(x)*(x+1)),(x,0,sp.oo))"
   ]
  },
  {
   "cell_type": "code",
   "execution_count": 4,
   "id": "992de3d7",
   "metadata": {},
   "outputs": [
    {
     "data": {
      "image/png": "[encoded data removed]",
      "text/plain": [
       "<Figure size 640x480 with 1 Axes>"
      ]
     },
     "metadata": {},
     "output_type": "display_data"
    },
    {
     "name": "stdout",
     "output_type": "stream",
     "text": [
      "\n",
      "\n"
     ]
    },
    {
     "data": {
      "text/plain": [
       "'Área Círculo ='"
      ]
     },
     "metadata": {},
     "output_type": "display_data"
    },
    {
     "data": {
      "text/plain": [
       "[-sqrt(100 - x**2), sqrt(100 - x**2)]"
      ]
     },
     "metadata": {},
     "output_type": "display_data"
    },
    {
     "name": "stdout",
     "output_type": "stream",
     "text": [
      "\n",
      "\n"
     ]
    },
    {
     "data": {
      "text/plain": [
       "'Puntos de corte ='"
      ]
     },
     "metadata": {},
     "output_type": "display_data"
    },
    {
     "data": {
      "text/plain": [
       "[-10, 10]"
      ]
     },
     "metadata": {},
     "output_type": "display_data"
    },
    {
     "name": "stdout",
     "output_type": "stream",
     "text": [
      "\n",
      "\n"
     ]
    },
    {
     "data": {
      "text/plain": [
       "'Volumen de la madera ='"
      ]
     },
     "metadata": {},
     "output_type": "display_data"
    },
    {
     "data": {
      "text/latex": [
       "$\\displaystyle \\frac{4000 \\pi}{3}$"
      ],
      "text/plain": [
       "4000*pi/3"
      ]
     },
     "metadata": {},
     "output_type": "display_data"
    },
    {
     "name": "stdout",
     "output_type": "stream",
     "text": [
      "\n",
      "\n"
     ]
    },
    {
     "data": {
      "text/plain": [
       "'Volument total ='"
      ]
     },
     "metadata": {},
     "output_type": "display_data"
    },
    {
     "data": {
      "text/latex": [
       "$\\displaystyle \\frac{5324 \\pi}{3}$"
      ],
      "text/plain": [
       "5324*pi/3"
      ]
     },
     "metadata": {},
     "output_type": "display_data"
    },
    {
     "name": "stdout",
     "output_type": "stream",
     "text": [
      "\n",
      "\n"
     ]
    },
    {
     "data": {
      "text/plain": [
       "'Volumen acero ='"
      ]
     },
     "metadata": {},
     "output_type": "display_data"
    },
    {
     "data": {
      "text/latex": [
       "$\\displaystyle \\frac{1324 \\pi}{3}$"
      ],
      "text/plain": [
       "1324*pi/3"
      ]
     },
     "metadata": {},
     "output_type": "display_data"
    }
   ],
   "source": [
    "# Ejercicio 15\n",
    "x = sp.symbols('x')\n",
    "\n",
    "# Representación gráfica Esfera\n",
    "\n",
    "import matplotlib.pyplot as plt\n",
    "import mpl_toolkits.mplot3d.axes3d as axes3d\n",
    "\n",
    "fig = plt.figure()\n",
    "ax = fig.add_subplot(projection='3d')\n",
    "\n",
    "RR = 10\n",
    "u = np.linspace(0, 6.5, 60)\n",
    "v = np.linspace(0, 6.5, 60)\n",
    "\n",
    "U, V = np.meshgrid(u,v)\n",
    "\n",
    "X = np.cos(U) * np.sin(V)\n",
    "Y1 = np.sin(U) * np.sin(V)\n",
    "Z1 = np.cos(V)\n",
    "ax.plot_surface(X, Y1, Z1, alpha=0.3, color='red')\n",
    "plt.show()\n",
    "\n",
    "# Areac circ = x**2 + y**2 = 10**2 --> y = +- sqrt(100-x**2)\n",
    "# Vmadera = sp.pi * integral entre 10 y -10 (sqrt(100-x**2)**2 = 100-x**2) = \n",
    "# Vt hay que calcularlo con radio 11 (10+1)\n",
    "# Vacero = Vt -Vmadera\n",
    "\n",
    "# Definición de las variables\n",
    "x,y = sp.symbols('x,y')\n",
    "\n",
    "# Área del círculo\n",
    "print('\\n')\n",
    "Acirc = sp.solve(x**2+y**2-10**2,y)\n",
    "display('Área Círculo =',Acirc)\n",
    "\n",
    "# Puntos de corte\n",
    "print('\\n')\n",
    "display('Puntos de corte =', sp.solve(sp.sqrt(100-x**2,x)))\n",
    "\n",
    "# Vmadera \n",
    "# Fórmula Volumen = pi*integral(f^2(x))\n",
    "print('\\n')\n",
    "Vm = sp.pi * sp.integrate(sp.sqrt(100-x**2)**2,(x,-10,10))\n",
    "display('Volumen de la madera =',Vm)\n",
    "\n",
    "# Vtotal\n",
    "print('\\n')\n",
    "Vt = sp.pi * sp.integrate(sp.sqrt(11**2-x**2)**2,(x,-11,11))\n",
    "display('Volument total =',Vt)\n",
    "\n",
    "# Vacero\n",
    "print('\\n')\n",
    "Va = Vt-Vm\n",
    "display('Volumen acero =', Va)"
   ]
  },
  {
   "cell_type": "code",
   "execution_count": null,
   "id": "4d92f78c",
   "metadata": {},
   "outputs": [],
   "source": [
    "# Ejercicio 16"
   ]
  },
  {
   "cell_type": "code",
   "execution_count": 52,
   "id": "4f07c9ae",
   "metadata": {},
   "outputs": [
    {
     "data": {
      "image/png": "[encoded data removed]",
      "text/plain": [
       "<Figure size 640x480 with 1 Axes>"
      ]
     },
     "metadata": {},
     "output_type": "display_data"
    },
    {
     "name": "stdout",
     "output_type": "stream",
     "text": [
      "\n",
      "RESOLUCIÓN DE LA INTEGRAL DEFINIDA:\n",
      "----------------------------------\n"
     ]
    },
    {
     "data": {
      "text/latex": [
       "$\\displaystyle \\frac{1}{4}$"
      ],
      "text/plain": [
       "1/4"
      ]
     },
     "metadata": {},
     "output_type": "display_data"
    },
    {
     "name": "stdout",
     "output_type": "stream",
     "text": [
      "\n",
      "CÁLCULO DEL VOLUMEN:\n",
      "----------------------------------\n",
      "pi/4 u³\n"
     ]
    }
   ],
   "source": [
    "# Ejercicio 18\n",
    "\n",
    "# Representación gráfica\n",
    "sp.plot(sp.sqrt(-x*sp.log(x)))\n",
    "\n",
    "print('\\nRESOLUCIÓN DE LA INTEGRAL DEFINIDA:')\n",
    "print('----------------------------------')\n",
    "\n",
    "x = sp.symbols('x')\n",
    "\n",
    "expr = sp.sqrt(-x*sp.log(x))\n",
    "I18 = sp.integrate(expr**2,(x,0,1))\n",
    "display(I18)\n",
    "\n",
    "print('\\nCÁLCULO DEL VOLUMEN:')\n",
    "print('----------------------------------')\n",
    "\n",
    "V = sp.pi * I18\n",
    "print(V,'u³')\n",
    "\n"
   ]
  },
  {
   "cell_type": "code",
   "execution_count": null,
   "id": "b637ebb5",
   "metadata": {},
   "outputs": [],
   "source": [
    "# Ejercicio 19\n",
    "x = sp.symbols('x')\n",
    "expr = 2/3 * sp.E**x + sp.E**(-2*x)\n",
    "display(sp.diff(expr) + 2*expr)\n",
    "print('f(x) sí es una solución de la ecuación diferencial y´ + 2y = 2e^x')"
   ]
  },
  {
   "cell_type": "code",
   "execution_count": null,
   "id": "34e1c3d5",
   "metadata": {},
   "outputs": [],
   "source": [
    "# Ejercicio 20"
   ]
  },
  {
   "cell_type": "code",
   "execution_count": null,
   "id": "cb1348e3",
   "metadata": {},
   "outputs": [],
   "source": [
    "# Ejercicio 21"
   ]
  },
  {
   "cell_type": "code",
   "execution_count": null,
   "id": "22c5affc",
   "metadata": {},
   "outputs": [],
   "source": [
    "# Ejercicio 22"
   ]
  },
  {
   "cell_type": "code",
   "execution_count": null,
   "id": "1298e365",
   "metadata": {},
   "outputs": [],
   "source": [
    "# Ejercicio 23"
   ]
  },
  {
   "cell_type": "code",
   "execution_count": null,
   "id": "0e84d4de",
   "metadata": {},
   "outputs": [],
   "source": [
    "# Ejercicio 24"
   ]
  },
  {
   "cell_type": "code",
   "execution_count": null,
   "id": "d61c67f3",
   "metadata": {},
   "outputs": [],
   "source": [
    "# Ejercicio 25"
   ]
  },
  {
   "cell_type": "code",
   "execution_count": null,
   "id": "3f89f346",
   "metadata": {},
   "outputs": [],
   "source": [
    "# Ejercicio 26"
   ]
  },
  {
   "cell_type": "code",
   "execution_count": 20,
   "id": "8f720e61",
   "metadata": {},
   "outputs": [
    {
     "data": {
      "text/plain": [
       "'Resultado de integrar la expresión'"
      ]
     },
     "metadata": {},
     "output_type": "display_data"
    },
    {
     "data": {
      "text/latex": [
       "$\\displaystyle - \\log{\\left(x - 3 \\right)}$"
      ],
      "text/plain": [
       "-log(x - 3)"
      ]
     },
     "metadata": {},
     "output_type": "display_data"
    },
    {
     "data": {
      "text/plain": [
       "'Es verdadera'"
      ]
     },
     "metadata": {},
     "output_type": "display_data"
    },
    {
     "data": {
      "text/latex": [
       "$\\displaystyle \\log{\\left(2 \\right)}$"
      ],
      "text/plain": [
       "log(2)"
      ]
     },
     "metadata": {},
     "output_type": "display_data"
    }
   ],
   "source": [
    "# Ejercicio 27\n",
    "x = sp.symbols('x')\n",
    "expr = 1/(3-x)\n",
    "I = sp.integrate(expr)\n",
    "display('Resultado de integrar la expresión',I)\n",
    "\n",
    "# Resolución de la integral definida\n",
    "sol = -sp.log(4-3) - (-sp.log(abs(1-3)))\n",
    "display('Es verdadera',sol)"
   ]
  },
  {
   "cell_type": "code",
   "execution_count": 26,
   "id": "2847596d",
   "metadata": {},
   "outputs": [
    {
     "name": "stdout",
     "output_type": "stream",
     "text": [
      "APARTADO A\n",
      "---------------------\n",
      "\n"
     ]
    },
    {
     "data": {
      "text/latex": [
       "$\\displaystyle - \\frac{a^{2}}{2} + \\log{\\left(a \\right)} - 1 + \\frac{e^{2}}{2}$"
      ],
      "text/plain": [
       "-a**2/2 + log(a) - 1 + exp(2)/2"
      ]
     },
     "metadata": {},
     "output_type": "display_data"
    },
    {
     "name": "stdout",
     "output_type": "stream",
     "text": [
      "APARTADO B\n",
      "---------------------\n"
     ]
    },
    {
     "data": {
      "text/latex": [
       "$\\displaystyle -\\infty$"
      ],
      "text/plain": [
       "-oo"
      ]
     },
     "metadata": {},
     "output_type": "display_data"
    }
   ],
   "source": [
    "# Ejercicio 28\n",
    "x,a = sp.symbols('x,a')\n",
    "expr = (x**2-1)/x\n",
    "\n",
    "#a\n",
    "print('APARTADO A')\n",
    "print('---------------------\\n')\n",
    "I1 = sp.integrate(expr,(x,a,sp.E))\n",
    "display(I1)\n",
    "\n",
    "#b\n",
    "print('APARTADO B')\n",
    "print('---------------------')\n",
    "I2 = sp.integrate(expr,(x,0,sp.E))\n",
    "display(I2)"
   ]
  },
  {
   "cell_type": "code",
   "execution_count": 32,
   "id": "4c9985cb",
   "metadata": {},
   "outputs": [
    {
     "data": {
      "text/plain": [
       "'Integral de la expresión'"
      ]
     },
     "metadata": {},
     "output_type": "display_data"
    },
    {
     "data": {
      "text/latex": [
       "$\\displaystyle \\frac{x^{2}}{2} - \\log{\\left(x \\right)}$"
      ],
      "text/plain": [
       "x**2/2 - log(x)"
      ]
     },
     "metadata": {},
     "output_type": "display_data"
    },
    {
     "data": {
      "text/plain": [
       "'Límite cuando x-->0+ de la integral, para evaluarla en x = 0'"
      ]
     },
     "metadata": {},
     "output_type": "display_data"
    },
    {
     "data": {
      "text/latex": [
       "$\\displaystyle \\infty$"
      ],
      "text/plain": [
       "oo"
      ]
     },
     "metadata": {},
     "output_type": "display_data"
    },
    {
     "data": {
      "text/plain": [
       "'Solución'"
      ]
     },
     "metadata": {},
     "output_type": "display_data"
    },
    {
     "data": {
      "text/latex": [
       "$\\displaystyle -\\infty$"
      ],
      "text/plain": [
       "-oo"
      ]
     },
     "metadata": {},
     "output_type": "display_data"
    }
   ],
   "source": [
    "# Comprobación apartado b ejercicio 28\n",
    "x = sp.symbols('x')\n",
    "I = sp.integrate((x**2-1)/x)\n",
    "lim_d = sp.limit(I,x,0,dir='+')\n",
    "display('Integral de la expresión',I,'Límite cuando x-->0+ de la integral, para evaluarla en x = 0',lim_d)\n",
    "sol = I.subs(x,sp.E) - lim_d\n",
    "display('Solución',sol)"
   ]
  },
  {
   "cell_type": "code",
   "execution_count": 51,
   "id": "1bbfc309",
   "metadata": {},
   "outputs": [
    {
     "data": {
      "text/plain": [
       "'Apartado A'"
      ]
     },
     "metadata": {},
     "output_type": "display_data"
    },
    {
     "data": {
      "text/latex": [
       "$\\displaystyle 4 - \\pi$"
      ],
      "text/plain": [
       "4 - pi"
      ]
     },
     "metadata": {},
     "output_type": "display_data"
    },
    {
     "data": {
      "text/plain": [
       "'Apartado B'"
      ]
     },
     "metadata": {},
     "output_type": "display_data"
    },
    {
     "data": {
      "text/latex": [
       "$\\displaystyle \\operatorname{Si}{\\left(x \\right)} - \\operatorname{Si}{\\left(1 \\right)}$"
      ],
      "text/plain": [
       "Si(x) - Si(1)"
      ]
     },
     "metadata": {},
     "output_type": "display_data"
    },
    {
     "data": {
      "text/plain": [
       "'Apartado C'"
      ]
     },
     "metadata": {},
     "output_type": "display_data"
    },
    {
     "data": {
      "text/latex": [
       "$\\displaystyle -1 + \\sqrt{2}$"
      ],
      "text/plain": [
       "-1 + sqrt(2)"
      ]
     },
     "metadata": {},
     "output_type": "display_data"
    },
    {
     "data": {
      "text/plain": [
       "'Apartado D'"
      ]
     },
     "metadata": {},
     "output_type": "display_data"
    },
    {
     "data": {
      "text/latex": [
       "$\\displaystyle - \\sqrt{2} + \\frac{\\sqrt{2} \\pi^{2}}{32} + \\frac{\\sqrt{2} \\pi}{4}$"
      ],
      "text/plain": [
       "-sqrt(2) + sqrt(2)*pi**2/32 + sqrt(2)*pi/4"
      ]
     },
     "metadata": {},
     "output_type": "display_data"
    },
    {
     "data": {
      "text/plain": [
       "'Apartado E'"
      ]
     },
     "metadata": {},
     "output_type": "display_data"
    },
    {
     "data": {
      "text/latex": [
       "$\\displaystyle - \\frac{\\log{\\left(\\frac{\\pi^{2}}{16} + 1 \\right)}}{2} + \\frac{\\pi \\operatorname{atan}{\\left(\\frac{\\pi}{4} \\right)}}{4}$"
      ],
      "text/plain": [
       "-log(pi**2/16 + 1)/2 + pi*atan(pi/4)/4"
      ]
     },
     "metadata": {},
     "output_type": "display_data"
    }
   ],
   "source": [
    "# Ejercicio 29\n",
    "x = sp.symbols('x')\n",
    "\n",
    "expra = sp.exp(x)*sp.sqrt(sp.exp(x)-1)/(sp.exp(x)+3)\n",
    "Ia = sp.integrate(expra,(x,0,sp.log(5)))\n",
    "display('Apartado A',Ia)\n",
    "\n",
    "exprb = sp.sin(t)/t\n",
    "Ib = sp.integrate(exprb,(t,1,x))\n",
    "display('Apartado B',Ib)\n",
    "\n",
    "exprc = x/sp.sqrt(1+x**2)\n",
    "Ic = sp.integrate(exprc,(x,0,1))\n",
    "display('Apartado C',Ic)\n",
    "\n",
    "exprd = x**2*sp.cos(x)\n",
    "Id = sp.integrate(exprd,(x,0,sp.pi/4))\n",
    "display('Apartado D',Id)\n",
    "\n",
    "expre = sp.atan(x)\n",
    "Ie = sp.integrate(expre,(x,0,sp.pi/4))\n",
    "display('Apartado E',Ie)"
   ]
  },
  {
   "cell_type": "code",
   "execution_count": 53,
   "id": "d73619fa",
   "metadata": {},
   "outputs": [],
   "source": [
    "# EJERCICIOS COMPLEMENTARIOS"
   ]
  },
  {
   "cell_type": "code",
   "execution_count": 58,
   "id": "1804c189",
   "metadata": {},
   "outputs": [
    {
     "data": {
      "text/plain": [
       "'La expresión obtenida es la siguiente'"
      ]
     },
     "metadata": {},
     "output_type": "display_data"
    },
    {
     "data": {
      "text/latex": [
       "$\\displaystyle \\frac{\\cos{\\left(3 x \\right)}}{\\sqrt{t + 5}}$"
      ],
      "text/plain": [
       "cos(3*x)/sqrt(t + 5)"
      ]
     },
     "metadata": {},
     "output_type": "display_data"
    },
    {
     "data": {
      "text/plain": [
       "'El resultado de integrar la expresión es:'"
      ]
     },
     "metadata": {},
     "output_type": "display_data"
    },
    {
     "data": {
      "text/latex": [
       "$\\displaystyle \\frac{\\sin{\\left(3 x \\right)}}{3 \\sqrt{t + 5}}$"
      ],
      "text/plain": [
       "sin(3*x)/(3*sqrt(t + 5))"
      ]
     },
     "metadata": {},
     "output_type": "display_data"
    }
   ],
   "source": [
    "# Ejercicio 1\n",
    "x,t = sp.symbols('x,t')\n",
    "expr = sp.cos(3*x)/(sp.sqrt(5+sp.sin(3*x)))\n",
    "Sus = expr.subs(sp.sin(3*x),t)\n",
    "display('La expresión obtenida es la siguiente',Sus)\n",
    "I = sp.integrate(Sus,x)\n",
    "display('El resultado de integrar la expresión es:',I)"
   ]
  },
  {
   "cell_type": "code",
   "execution_count": 114,
   "id": "4f17c2d1",
   "metadata": {},
   "outputs": [
    {
     "name": "stdout",
     "output_type": "stream",
     "text": [
      "Integración con cambio de variable\n",
      "-----------------------------------------------\n",
      "\n",
      "\n",
      "x = t**2/5 - 8/5\n"
     ]
    },
    {
     "data": {
      "text/plain": [
       "'Derivada en t'"
      ]
     },
     "metadata": {},
     "output_type": "display_data"
    },
    {
     "data": {
      "text/latex": [
       "$\\displaystyle 2 t$"
      ],
      "text/plain": [
       "2*t"
      ]
     },
     "metadata": {},
     "output_type": "display_data"
    },
    {
     "data": {
      "text/plain": [
       "'Derivada en x'"
      ]
     },
     "metadata": {},
     "output_type": "display_data"
    },
    {
     "data": {
      "text/latex": [
       "$\\displaystyle 5$"
      ],
      "text/plain": [
       "5"
      ]
     },
     "metadata": {},
     "output_type": "display_data"
    },
    {
     "data": {
      "text/plain": [
       "'Sustitución en la derivada de la x por la t'"
      ]
     },
     "metadata": {},
     "output_type": "display_data"
    },
    {
     "data": {
      "text/latex": [
       "$\\displaystyle 5$"
      ],
      "text/plain": [
       "5"
      ]
     },
     "metadata": {},
     "output_type": "display_data"
    },
    {
     "name": "stdout",
     "output_type": "stream",
     "text": [
      "\n",
      "t = sqrt(5*x + 8)\n",
      "dx = 2*t/5 dt\n",
      "\n",
      "\n"
     ]
    },
    {
     "data": {
      "text/plain": [
       "'Expresión a integrar'"
      ]
     },
     "metadata": {},
     "output_type": "display_data"
    },
    {
     "data": {
      "text/latex": [
       "$\\displaystyle \\frac{2}{5}$"
      ],
      "text/plain": [
       "2/5"
      ]
     },
     "metadata": {},
     "output_type": "display_data"
    },
    {
     "data": {
      "text/plain": [
       "'Solución en función de t'"
      ]
     },
     "metadata": {},
     "output_type": "display_data"
    },
    {
     "data": {
      "text/latex": [
       "$\\displaystyle \\frac{2 t}{5}$"
      ],
      "text/plain": [
       "2*t/5"
      ]
     },
     "metadata": {},
     "output_type": "display_data"
    },
    {
     "data": {
      "text/plain": [
       "'Solución en función de x'"
      ]
     },
     "metadata": {},
     "output_type": "display_data"
    },
    {
     "data": {
      "text/latex": [
       "$\\displaystyle \\frac{2 \\sqrt{5 x + 8}}{5}$"
      ],
      "text/plain": [
       "2*sqrt(5*x + 8)/5"
      ]
     },
     "metadata": {},
     "output_type": "display_data"
    }
   ],
   "source": [
    "# Ejercicio 2\n",
    "print('Integración con cambio de variable')\n",
    "print('-----------------------------------------------\\n')\n",
    "\n",
    "x,t,dt,c = sp.symbols('x,t,dt,c')\n",
    "expr = 1/(sp.sqrt(5*x+8))\n",
    "\n",
    "t0 = sp.sqrt(5*x+8)\n",
    "x1 = sp.solve(sp.Eq(t0,t),x)[0]\n",
    "print('\\nx =',x1)\n",
    "dt = sp.diff(t**2)\n",
    "display('Derivada en t',dt)\n",
    "dx = sp.diff(t0**2)\n",
    "display('Derivada en x',dx)\n",
    "adx = dx.subs(x,x1)\n",
    "display('Sustitución en la derivada de la x por la t',adx)\n",
    "adt = dt/adx\n",
    "print('\\nt =',t0)\n",
    "print('dx =',adt,'dt')\n",
    "\n",
    "print('\\n')\n",
    "expr1 = 1/t * adt\n",
    "display('Expresión a integrar',expr1)\n",
    "I = sp.integrate(expr1,t)\n",
    "display('Solución en función de t',I)\n",
    "display('Solución en función de x',I.subs(t,t0))\n"
   ]
  },
  {
   "cell_type": "code",
   "execution_count": 2,
   "id": "a91879a5",
   "metadata": {},
   "outputs": [
    {
     "name": "stdout",
     "output_type": "stream",
     "text": [
      "U(f,P) = -12\n",
      "L(f,P) = 9\n",
      "\n",
      "Ninguna de las opciones es la correcta.\n"
     ]
    }
   ],
   "source": [
    "# Ejercicio 3\n",
    "x,p = sp.symbols('x,p', real=True)\n",
    "expr3 = 3-x**2\n",
    "f = sp.Lambda(x,expr3)\n",
    "p = (-2,-1,1,3)\n",
    "\n",
    "#[-2,-1]\n",
    "Max1 = f(p[1])\n",
    "Min1 = f(p[0])\n",
    "\n",
    "#[-1,1]\n",
    "Max2 = f(p[2])\n",
    "Min2 = f(p[1])\n",
    "\n",
    "#[1,3]\n",
    "Max3 = f(p[3])\n",
    "Min3 = f(p[2])\n",
    "\n",
    "U = 1*Max1+2*Max2+3*Max3\n",
    "L = 1*Min1+2*Min2+3*Min3\n",
    "\n",
    "print('U(f,P) =',U)\n",
    "print('L(f,P) =',L)\n",
    "print('\\nNinguna de las opciones es la correcta.')"
   ]
  },
  {
   "cell_type": "code",
   "execution_count": 10,
   "id": "64df1f8e",
   "metadata": {},
   "outputs": [
    {
     "data": {
      "text/latex": [
       "$\\displaystyle \\begin{cases} 1 & \\text{for}\\: x \\geq 0 \\wedge x \\leq 1 \\\\x + 1 & \\text{for}\\: x \\leq 2 \\wedge x > 1 \\end{cases}$"
      ],
      "text/plain": [
       "Piecewise((1, (x >= 0) & (x <= 1)), (x + 1, (x <= 2) & (x > 1)))"
      ]
     },
     "metadata": {},
     "output_type": "display_data"
    },
    {
     "data": {
      "text/plain": [
       "'Límite de x --> 1 por la izquierda:'"
      ]
     },
     "metadata": {},
     "output_type": "display_data"
    },
    {
     "data": {
      "text/latex": [
       "$\\displaystyle 1$"
      ],
      "text/plain": [
       "1"
      ]
     },
     "metadata": {},
     "output_type": "display_data"
    },
    {
     "data": {
      "text/plain": [
       "'Límite de x --> 1 por la derecha'"
      ]
     },
     "metadata": {},
     "output_type": "display_data"
    },
    {
     "data": {
      "text/latex": [
       "$\\displaystyle 2$"
      ],
      "text/plain": [
       "2"
      ]
     },
     "metadata": {},
     "output_type": "display_data"
    }
   ],
   "source": [
    "# Ejercicio 4\n",
    "x = sp.symbols('x')\n",
    "f_expr = sp.Piecewise((1,sp.And(x >= 0, x <= 1)),(1+x,sp.And(x > 1, x <= 2)))\n",
    "f = sp.Lambda(x,f_expr)\n",
    "display(f(x))\n",
    "\n",
    "# a\n",
    "\n",
    "# Estudio de la continuidad en x = 1\n",
    "lim_i = sp.limit(1,x,1,dir='-')\n",
    "lim_d = sp.limit(x+1,x,1,dir='+')\n",
    "display('Límite de x --> 1 por la izquierda:',lim_i,'Límite de x --> 1 por la derecha',lim_d)\n",
    "display('Como los límites no coinciden f(x) es discontinua.')\n",
    "\n",
    "# b\n",
    "\n",
    "\n"
   ]
  },
  {
   "cell_type": "code",
   "execution_count": 3,
   "id": "a866ccd9",
   "metadata": {},
   "outputs": [
    {
     "data": {
      "text/plain": [
       "'Derivada'"
      ]
     },
     "metadata": {},
     "output_type": "display_data"
    },
    {
     "data": {
      "text/latex": [
       "$\\displaystyle \\left(1 - \\cos^{3}{\\left(e^{x} \\right)}\\right) e^{x} e^{e^{x} + \\frac{\\pi}{2}}$"
      ],
      "text/plain": [
       "(1 - cos(exp(x))**3)*exp(x)*exp(exp(x) + pi/2)"
      ]
     },
     "metadata": {},
     "output_type": "display_data"
    },
    {
     "data": {
      "text/plain": [
       "'Punto crítico en x = '"
      ]
     },
     "metadata": {},
     "output_type": "display_data"
    },
    {
     "data": {
      "text/latex": [
       "$\\displaystyle \\log{\\left(2 \\pi \\right)}$"
      ],
      "text/plain": [
       "log(2*pi)"
      ]
     },
     "metadata": {},
     "output_type": "display_data"
    },
    {
     "data": {
      "text/plain": [
       "'En el intervalo de 1 a ln(2𝜋) la función crece'"
      ]
     },
     "metadata": {},
     "output_type": "display_data"
    },
    {
     "data": {
      "text/latex": [
       "$\\displaystyle \\text{True}$"
      ],
      "text/plain": [
       "True"
      ]
     },
     "metadata": {},
     "output_type": "display_data"
    },
    {
     "data": {
      "text/plain": [
       "'En el intervalo de ln(2𝜋) a ln(5𝜋)) la función crece'"
      ]
     },
     "metadata": {},
     "output_type": "display_data"
    },
    {
     "data": {
      "text/latex": [
       "$\\displaystyle \\text{True}$"
      ],
      "text/plain": [
       "True"
      ]
     },
     "metadata": {},
     "output_type": "display_data"
    },
    {
     "name": "stdout",
     "output_type": "stream",
     "text": [
      "Obtenemos que no hay extremos absolutos, porque de [1,ln(5𝜋)] la función es estrictamente creciente.\n"
     ]
    }
   ],
   "source": [
    "# Ejercicio 5a Teorema fundamental del cálculo integral\n",
    "\n",
    "# Dada una función f integrable en [a,b], llamamos F a una función definida\n",
    "# en [a,b] tal que: F(x) = integral definida entre a y b de f(t) * dt.\n",
    "\n",
    "# Fórmula --> F(x): F'(x) = f(b(x)) * b'(x) - f(a(x)) * a'(x)\n",
    "\n",
    "x,t = sp.symbols('x,t')\n",
    "expr6 = (1-sp.sin(t)**3)*sp.E**t\n",
    "f = sp.Lambda(t,expr6)\n",
    "\n",
    "b = sp.pi/2 + sp.E**x\n",
    "a = sp.pi/2\n",
    "\n",
    "# Derivada definida entre x,1.\n",
    "der = expr6.subs(t,b) * sp.diff(b,x) - expr6.subs(t,a) * sp.diff(a,x)\n",
    "display('Derivada',der)\n",
    "\n",
    "# Derivada = 0\n",
    "x = sp.symbols('x')\n",
    "display('Punto crítico en x = ',sp.solve(der,x)[0]) #Quitar [0], para ver si tiene más soluciones, sino dejarlo\n",
    "\n",
    "#b\n",
    "\n",
    "# Evaluación en (1,ln(2𝜋)) y en (ln(2𝜋),ln(5𝜋))\n",
    "display('En el intervalo de 1 a ln(2𝜋) la función crece',der.subs(x,1.5) > 0)\n",
    "display('En el intervalo de ln(2𝜋) a ln(5𝜋)) la función crece',der.subs(x,2) > 0)\n",
    "print('Obtenemos que no hay extremos absolutos, porque de [1,ln(5𝜋)] la función es estrictamente creciente.')"
   ]
  },
  {
   "cell_type": "code",
   "execution_count": 14,
   "id": "cea4bb21",
   "metadata": {},
   "outputs": [
    {
     "name": "stdout",
     "output_type": "stream",
     "text": [
      "𝐹′(𝑥) = 2*x * f(𝑥2) - 0 * f(0)\n",
      "La expresión simplificada es = 2xf(x²)\n",
      "\n",
      "La opción correcta es la primera.\n"
     ]
    }
   ],
   "source": [
    "# Ejercicio 6\n",
    "# Dada una función f integrable en [a,b], llamamos F a una función definida\n",
    "# en [a,b] tal que: F(x) = integral definida entre a y b de f(t) * dt.\n",
    "\n",
    "# Fórmula --> F(x): F'(x) = f(b(x)) * b'(x) - f(a(x)) * a'(x)\n",
    "\n",
    "x,t = sp.symbols('x,t')\n",
    "\n",
    "b = x**2\n",
    "a = 0\n",
    "\n",
    "# Derivada definida entre 0,x**2\n",
    "print('𝐹′(𝑥) =',sp.diff(b) ,'* f(𝑥2) -',sp.diff(a) ,'* f(0)')\n",
    "print('La expresión simplificada es = 2xf(x²)')\n",
    "print('\\nLa opción correcta es la primera.')\n",
    "\n"
   ]
  },
  {
   "cell_type": "code",
   "execution_count": 52,
   "id": "31f8bf51",
   "metadata": {},
   "outputs": [
    {
     "name": "stdout",
     "output_type": "stream",
     "text": [
      "APARTADO A\n",
      "---------------------\n",
      "\n"
     ]
    },
    {
     "data": {
      "text/plain": [
       "'Primitiva de f,F'"
      ]
     },
     "metadata": {},
     "output_type": "display_data"
    },
    {
     "data": {
      "text/latex": [
       "$\\displaystyle c + 3 x + 3 \\sin{\\left(2 x \\right)}$"
      ],
      "text/plain": [
       "c + 3*x + 3*sin(2*x)"
      ]
     },
     "metadata": {},
     "output_type": "display_data"
    },
    {
     "data": {
      "text/plain": [
       "'Obtenemos que para F(0) = -1, c debe tenere el siguiente valor:'"
      ]
     },
     "metadata": {},
     "output_type": "display_data"
    },
    {
     "data": {
      "text/latex": [
       "$\\displaystyle -1$"
      ],
      "text/plain": [
       "-1"
      ]
     },
     "metadata": {},
     "output_type": "display_data"
    },
    {
     "data": {
      "text/plain": [
       "'Una primitiva de  𝑓 ,  𝐹 , tal que  𝐹(0)=−1 es la siguiente:'"
      ]
     },
     "metadata": {},
     "output_type": "display_data"
    },
    {
     "data": {
      "text/latex": [
       "$\\displaystyle 3 x + 3 \\sin{\\left(2 x \\right)} - 1$"
      ],
      "text/plain": [
       "3*x + 3*sin(2*x) - 1"
      ]
     },
     "metadata": {},
     "output_type": "display_data"
    },
    {
     "data": {
      "text/plain": [
       "'Al derivar la integral obtenida, volvemos a la expresión inicial'"
      ]
     },
     "metadata": {},
     "output_type": "display_data"
    },
    {
     "data": {
      "text/latex": [
       "$\\displaystyle 6 \\cos{\\left(2 x \\right)} + 3$"
      ],
      "text/plain": [
       "6*cos(2*x) + 3"
      ]
     },
     "metadata": {},
     "output_type": "display_data"
    },
    {
     "name": "stdout",
     "output_type": "stream",
     "text": [
      "\n",
      "APARTADO B\n",
      "---------------------\n"
     ]
    },
    {
     "data": {
      "text/latex": [
       "$\\displaystyle 6 \\cos{\\left(2 x \\right)} + 3$"
      ],
      "text/plain": [
       "6*cos(2*x) + 3"
      ]
     },
     "metadata": {},
     "output_type": "display_data"
    },
    {
     "data": {
      "text/plain": [
       "'Puntos críticos en x = '"
      ]
     },
     "metadata": {},
     "output_type": "display_data"
    },
    {
     "data": {
      "text/plain": [
       "[pi/3, 2*pi/3]"
      ]
     },
     "metadata": {},
     "output_type": "display_data"
    },
    {
     "data": {
      "text/plain": [
       "'En el intervalo de 0 a 𝜋/3 la función crece'"
      ]
     },
     "metadata": {},
     "output_type": "display_data"
    },
    {
     "data": {
      "text/latex": [
       "$\\displaystyle \\text{True}$"
      ],
      "text/plain": [
       "True"
      ]
     },
     "metadata": {},
     "output_type": "display_data"
    },
    {
     "data": {
      "text/plain": [
       "'En el intervalo de 𝜋/3 a 2𝜋/3 la función decrece'"
      ]
     },
     "metadata": {},
     "output_type": "display_data"
    },
    {
     "data": {
      "text/latex": [
       "$\\displaystyle \\text{True}$"
      ],
      "text/plain": [
       "True"
      ]
     },
     "metadata": {},
     "output_type": "display_data"
    },
    {
     "data": {
      "text/plain": [
       "'En el intervalo de 2𝜋/3 a 2𝜋 la función crece'"
      ]
     },
     "metadata": {},
     "output_type": "display_data"
    },
    {
     "data": {
      "text/latex": [
       "$\\displaystyle \\text{True}$"
      ],
      "text/plain": [
       "True"
      ]
     },
     "metadata": {},
     "output_type": "display_data"
    },
    {
     "name": "stdout",
     "output_type": "stream",
     "text": [
      "Obtenemos que en 𝜋/3 hay un máximo absoluto y en 2𝜋/3 un mínimo absoluto.\n"
     ]
    },
    {
     "data": {
      "image/png": "[encoded data removed]",
      "text/plain": [
       "<Figure size 640x480 with 1 Axes>"
      ]
     },
     "metadata": {},
     "output_type": "display_data"
    },
    {
     "data": {
      "text/plain": [
       "<sympy.plotting.plot.Plot at 0x162f1d01d00>"
      ]
     },
     "execution_count": 52,
     "metadata": {},
     "output_type": "execute_result"
    }
   ],
   "source": [
    "# Ejercicio 7\n",
    "x,c = sp.symbols('x,c')\n",
    "expr = 3 + 6*sp.cos(2*x)\n",
    "\n",
    "#a\n",
    "print('APARTADO A')\n",
    "print('---------------------\\n')\n",
    "\n",
    "I = sp.integrate(expr,x)\n",
    "display('Primitiva de f,F',I+c)\n",
    "expr2 = I+c\n",
    "expr3 = sp.Eq(expr2.subs(x,0),-1)\n",
    "c0 = sp.solve(expr3,c)\n",
    "display('Obtenemos que para F(0) = -1, c debe tenere el siguiente valor:',c0[0])\n",
    "I2 = 3*x+3*sp.sin(2*x)+c0[0]\n",
    "display('Una primitiva de  𝑓 ,  𝐹 , tal que  𝐹(0)=−1 es la siguiente:',I2)\n",
    "d1f = sp.diff(I2)\n",
    "display('Al derivar la integral obtenida, volvemos a la expresión inicial',d1f)\n",
    "\n",
    "#b\n",
    "print('\\nAPARTADO B')\n",
    "print('---------------------')\n",
    "display(d1f)\n",
    "Puntos_Criticos = sp.solve(d1f)\n",
    "display('Puntos críticos en x = ',Puntos_Criticos)\n",
    "\n",
    "# Evaluación en el intervalo [0,2𝜋]\n",
    "display('En el intervalo de 0 a 𝜋/3 la función crece',d1f.subs(x,1) > 0)\n",
    "display('En el intervalo de 𝜋/3 a 2𝜋/3 la función decrece',d1f.subs(x,1.5) < 0)\n",
    "display('En el intervalo de 2𝜋/3 a 2𝜋 la función crece',d1f.subs(x,3) > 0)\n",
    "print('Obtenemos que en 𝜋/3 hay un máximo absoluto y en 2𝜋/3 un mínimo absoluto.')\n",
    "\n",
    "# Representación gráfica\n",
    "sp.plot(6*sp.cos(2*x)+3, (x,0,2*sp.pi))"
   ]
  },
  {
   "cell_type": "code",
   "execution_count": 37,
   "id": "a00a671a",
   "metadata": {},
   "outputs": [
    {
     "data": {
      "text/latex": [
       "$\\displaystyle - \\frac{1}{16}$"
      ],
      "text/plain": [
       "-1/16"
      ]
     },
     "metadata": {},
     "output_type": "display_data"
    }
   ],
   "source": [
    "# Ejercicio 8\n",
    "x = sp.symbols('x')\n",
    "expr = sp.sin(x)**3*sp.cos(x)\n",
    "I = sp.integrate(expr,(x,-sp.pi/4,0))\n",
    "display(I)"
   ]
  },
  {
   "cell_type": "code",
   "execution_count": 66,
   "id": "a127dc8b",
   "metadata": {},
   "outputs": [
    {
     "data": {
      "text/latex": [
       "$\\displaystyle - \\frac{4}{3} + \\frac{2 \\sqrt{5}}{3}$"
      ],
      "text/plain": [
       "-4/3 + 2*sqrt(5)/3"
      ]
     },
     "metadata": {},
     "output_type": "display_data"
    },
    {
     "data": {
      "text/plain": [
       "0.15737865166652645"
      ]
     },
     "metadata": {},
     "output_type": "display_data"
    },
    {
     "data": {
      "text/plain": [
       "0.15737865166652645"
      ]
     },
     "metadata": {},
     "output_type": "display_data"
    },
    {
     "name": "stdout",
     "output_type": "stream",
     "text": [
      "\n",
      "La respuesta correcta es la última.\n"
     ]
    }
   ],
   "source": [
    "# Ejercicio 9\n",
    "x = sp.symbols('x')\n",
    "expr = sp.cos(3*x)/(sp.sqrt(5+sp.sin(3*x)))\n",
    "I = sp.integrate(expr,(x,sp.pi/2,sp.pi))\n",
    "display(I)\n",
    "display(float(I))\n",
    "display(float(2/3 * (sp.sqrt(5) -2)))\n",
    "print('\\nLa respuesta correcta es la última.')"
   ]
  },
  {
   "cell_type": "code",
   "execution_count": 10,
   "id": "8cd43e6a",
   "metadata": {},
   "outputs": [
    {
     "data": {
      "text/plain": [
       "'Puntos de corte de f(x) con el eje OX'"
      ]
     },
     "metadata": {},
     "output_type": "display_data"
    },
    {
     "data": {
      "text/plain": [
       "[0, a]"
      ]
     },
     "metadata": {},
     "output_type": "display_data"
    },
    {
     "data": {
      "text/plain": [
       "'Vt'"
      ]
     },
     "metadata": {},
     "output_type": "display_data"
    },
    {
     "data": {
      "text/latex": [
       "$\\displaystyle \\pi \\left(\\frac{a^{2} c^{3}}{3} - \\frac{a c^{4}}{2} + \\frac{c^{5}}{5}\\right)$"
      ],
      "text/plain": [
       "pi*(a**2*c**3/3 - a*c**4/2 + c**5/5)"
      ]
     },
     "metadata": {},
     "output_type": "display_data"
    }
   ],
   "source": [
    "# Ejercicio 10\n",
    "x,a,c = sp.symbols('x,a,c')\n",
    "expr = x*(x-a)\n",
    "\n",
    "# Puntos de corte\n",
    "display('Puntos de corte de f(x) con el eje OX', sp.solve(expr,x))\n",
    "\n",
    "# Cálculo del volumen\n",
    "Vt = sp.pi * sp.integrate(expr**2,(x,0,c))\n",
    "display('Volumen total en unidades cúbicas',Vt)\n",
    "\n",
    "\n",
    "\n"
   ]
  },
  {
   "cell_type": "code",
   "execution_count": 72,
   "id": "89764ca8",
   "metadata": {},
   "outputs": [
    {
     "data": {
      "image/png": "[encoded data removed]",
      "text/plain": [
       "<Figure size 640x480 with 1 Axes>"
      ]
     },
     "metadata": {},
     "output_type": "display_data"
    },
    {
     "name": "stdout",
     "output_type": "stream",
     "text": [
      "Expresiones obtenidas al despejar y:\n",
      "\n"
     ]
    },
    {
     "data": {
      "text/plain": [
       "'Experesión 1:'"
      ]
     },
     "metadata": {},
     "output_type": "display_data"
    },
    {
     "data": {
      "text/latex": [
       "$\\displaystyle - \\sqrt{16 - x^{2}}$"
      ],
      "text/plain": [
       "-sqrt(16 - x**2)"
      ]
     },
     "metadata": {},
     "output_type": "display_data"
    },
    {
     "data": {
      "text/latex": [
       "$\\displaystyle \\sqrt{16 - x^{2}}$"
      ],
      "text/plain": [
       "sqrt(16 - x**2)"
      ]
     },
     "metadata": {},
     "output_type": "display_data"
    },
    {
     "data": {
      "text/plain": [
       "'Expresión 2:'"
      ]
     },
     "metadata": {},
     "output_type": "display_data"
    },
    {
     "data": {
      "text/latex": [
       "$\\displaystyle - \\sqrt{- x^{2} + 6 x + 16}$"
      ],
      "text/plain": [
       "-sqrt(-x**2 + 6*x + 16)"
      ]
     },
     "metadata": {},
     "output_type": "display_data"
    },
    {
     "data": {
      "text/latex": [
       "$\\displaystyle \\sqrt{- x^{2} + 6 x + 16}$"
      ],
      "text/plain": [
       "sqrt(-x**2 + 6*x + 16)"
      ]
     },
     "metadata": {},
     "output_type": "display_data"
    },
    {
     "data": {
      "text/plain": [
       "'Puntos de corte primera expresión'"
      ]
     },
     "metadata": {},
     "output_type": "display_data"
    },
    {
     "data": {
      "text/plain": [
       "[-4, 4]"
      ]
     },
     "metadata": {},
     "output_type": "display_data"
    },
    {
     "data": {
      "text/plain": [
       "'Puntos de corte segunda expresión'"
      ]
     },
     "metadata": {},
     "output_type": "display_data"
    },
    {
     "data": {
      "text/plain": [
       "[-2, 8]"
      ]
     },
     "metadata": {},
     "output_type": "display_data"
    },
    {
     "data": {
      "text/plain": [
       "'Puntos de corte entre ambas expresiones'"
      ]
     },
     "metadata": {},
     "output_type": "display_data"
    },
    {
     "data": {
      "text/plain": [
       "[0]"
      ]
     },
     "metadata": {},
     "output_type": "display_data"
    },
    {
     "data": {
      "text/plain": [
       "'Volumen total en unidades cúbicas'"
      ]
     },
     "metadata": {},
     "output_type": "display_data"
    },
    {
     "data": {
      "text/latex": [
       "$\\displaystyle 60 \\pi$"
      ],
      "text/plain": [
       "60*pi"
      ]
     },
     "metadata": {},
     "output_type": "display_data"
    }
   ],
   "source": [
    "# Ejercicio 11\n",
    "x,y = sp.symbols('x,y')\n",
    "expr1 = x**2+y**2-16\n",
    "expr2 = (x-3)**2 + y**2 - 25\n",
    "\n",
    "# Representación gráfica de circunferencias con matplotlib\n",
    "x = np.linspace( -10 , 10 , 250 )\n",
    "y = np.linspace( -10 , 10 , 250 )\n",
    "\n",
    "a, b = np.meshgrid( x , y )\n",
    "\n",
    "C = a**2 + b**2 - 16\n",
    "D = (a-3)**2 + b**2 - 25\n",
    "E = 0\n",
    "\n",
    "figure, axes = plt.subplots()\n",
    "\n",
    "axes.contour(a,b,C,[0])\n",
    "axes.contour(a,b,D,[0])\n",
    "\n",
    "axes.set_aspect( 1 )\n",
    "\n",
    "\n",
    "plt.title('Representación de las circunferencias')\n",
    "plt.show()\n",
    "\n",
    "# Despejamos y\n",
    "x,y = sp.symbols('x,y')\n",
    "expr1 = x**2+y**2-16\n",
    "expr2 = (x-3)**2 + y**2 - 25\n",
    "\n",
    "print('Expresiones obtenidas al despejar y:\\n')\n",
    "y1_1 = sp.solve(expr1,y)[0]\n",
    "y1_2 = sp.solve(expr1,y)[1]\n",
    "y2_1 = sp.expand(sp.solve(expr2,y)[0])\n",
    "y2_2 = sp.expand(sp.solve(expr2,y)[1])\n",
    "display('Experesión 1:',y1_1,y1_2)\n",
    "display('Expresión 2:',y2_1,y2_2)\n",
    "\n",
    "# Puntos de corte con el eje OX\n",
    "display('Puntos de corte primera expresión',sp.solve(y1_1,x))\n",
    "display('Puntos de corte segunda expresión',sp.solve(y2_1,x))\n",
    "display('Puntos de corte entre ambas expresiones',sp.solve(y1_1-y2_1,x))\n",
    "\n",
    "# Cálculo del volumen\n",
    "V1 = sp.pi * sp.integrate(y1_2**2,(x,0,4))\n",
    "V2 = sp.pi * sp.integrate(y2_2**2,(x,-2,0))\n",
    "Vt = V1+V2\n",
    "display('Volumen total en unidades cúbicas',Vt)\n",
    "\n"
   ]
  },
  {
   "cell_type": "code",
   "execution_count": 21,
   "id": "4fcc85db",
   "metadata": {},
   "outputs": [
    {
     "data": {
      "image/png": "[encoded data removed]",
      "text/plain": [
       "<Figure size 640x480 with 1 Axes>"
      ]
     },
     "metadata": {},
     "output_type": "display_data"
    },
    {
     "data": {
      "text/plain": [
       "'Puntos de corte:'"
      ]
     },
     "metadata": {},
     "output_type": "display_data"
    },
    {
     "data": {
      "text/plain": [
       "[-1/3, 3]"
      ]
     },
     "metadata": {},
     "output_type": "display_data"
    },
    {
     "name": "stdout",
     "output_type": "stream",
     "text": [
      "Volumen total 133*pi/5 u³\n"
     ]
    }
   ],
   "source": [
    "# Ejercicio 12\n",
    "x = sp.symbols('x')\n",
    "\n",
    "# Representación gráfica\n",
    "sp.plot(-x**2+2*x+3,2-2*x/3, (x,-0.1,10))\n",
    "\n",
    "# Cálculo del volumen \n",
    "expr1 = -x**2+2*x+3\n",
    "expr2 = 2-2*x/3\n",
    "display('Puntos de corte:',sp.solve(expr1-expr2))\n",
    "I1 = sp.integrate(expr1**2,(x,0,3))\n",
    "I2 = sp.integrate(expr2**2,(x,0,3))\n",
    "v1 = sp.pi*I1\n",
    "v2 = sp.pi*I2\n",
    "vt = v1-v2\n",
    "print('Volumen total',vt,'u³')"
   ]
  },
  {
   "cell_type": "code",
   "execution_count": 20,
   "id": "a6208f7f",
   "metadata": {},
   "outputs": [
    {
     "data": {
      "image/png": "[encoded data removed]",
      "text/plain": [
       "<Figure size 640x480 with 1 Axes>"
      ]
     },
     "metadata": {},
     "output_type": "display_data"
    },
    {
     "data": {
      "text/plain": [
       "[0, 1]"
      ]
     },
     "metadata": {},
     "output_type": "display_data"
    },
    {
     "name": "stdout",
     "output_type": "stream",
     "text": [
      "La integral de  -x**2 + 2*x + 3  entre 0 y 3 es =  153*pi/5\n",
      "La integral de  2 - 2*x/3  entre 0 y 3 es =  4*pi\n",
      "\n",
      "Volumen total = 133*pi/5 u³\n"
     ]
    }
   ],
   "source": [
    "# Ejercicio 12 \n",
    "# Representación gráfica\n",
    "# Creación de los puntos donde se evalúa la función\n",
    "x = np.linspace(0, 5, 100)\n",
    "\n",
    "# Gráfica de sin(x) y cos(x), con una etiqueta para cada una\n",
    "plt.plot(x, -x**2+2*x+3, label='-x**2+2*x+3')\n",
    "plt.plot(x, 2-2*x/3, label='2-2*x/3')\n",
    "\n",
    "# Etiquetas de los ejes\n",
    "plt.xlabel('x')\n",
    "plt.ylabel('y')\n",
    "\n",
    "# Añadir la leyenda (mostrando las etiquetas de los \"plot\")\n",
    "plt.legend()\n",
    "\n",
    "# Definir los límites de los ejes x e y\n",
    "plt.xlim(x[0], x[-1])\n",
    "plt.ylim([-1.,5.2])\n",
    "plt.title('Gráfica de -x**2+2*x+3 y 2-2*x/3')\n",
    "\n",
    "plt.show()\n",
    "# Resolución\n",
    "x = sp.symbols('x')\n",
    "expr1 = -x**2+2*x+3\n",
    "expr2 = 2-2*x/3\n",
    "display(sp.solve(x**2-sp.sqrt(x)))\n",
    "Idef = sp.pi * sp.integrate(expr1**2,(x,0,3))\n",
    "Idef2 = sp.pi * sp.integrate(expr2**2,(x,0,3))\n",
    "IdefT = Idef-Idef2\n",
    "# Fórmula del volumen = pi * integral entre a y b de f^2(x)\n",
    "print('La integral de ',expr1, ' entre 0 y 3 es = ',Idef)\n",
    "print('La integral de ',expr2, ' entre 0 y 3 es = ',Idef2)\n",
    "print('\\nVolumen total =',IdefT,'u³')"
   ]
  },
  {
   "cell_type": "code",
   "execution_count": 34,
   "id": "b36a6531",
   "metadata": {},
   "outputs": [
    {
     "data": {
      "text/plain": [
       "0.5"
      ]
     },
     "metadata": {},
     "output_type": "display_data"
    }
   ],
   "source": [
    "# Ejercicio 13a\n",
    "\n",
    "# Aproximación\n",
    "import sympy as sp\n",
    "import numpy as np\n",
    "x = sp.Symbol('x', real=True)\n",
    "\n",
    "g_expr = sp.cos(sp.pi*x)\n",
    "g = sp.Lambda(x, g_expr)\n",
    "\n",
    "def newton_poly(coef, x_data, x):\n",
    "    # evaluamos el polinomio de Lagrange, construido con la \n",
    "    # tabla de diferencias divididas, en el punto x\n",
    "    # in: \n",
    "    #    coef ---> primera fila de la tabla de diferencias divididas\n",
    "    #    x_data -> valores de x_i\n",
    "    #    x ------> punto en el que queremos evaluar el polinomio \n",
    "    n = len(x_data) - 1 \n",
    "    p = coef[n]\n",
    "    for k in range(1,n+1):\n",
    "        p = coef[n-k] + (x -x_data[n-k])*p\n",
    "    return p\n",
    "\n",
    "# SUSTITUIR AQUÍ\n",
    "x_coef = [0, 0.5]\n",
    "y_coef = [g(0), g(0.5)]\n",
    "\n",
    "x = 0.25\n",
    "\n",
    "n = len(x_coef)\n",
    "coef = np.zeros([n, n])\n",
    "# La primera columna serán los datos en y\n",
    "coef[:,0] = y_coef\n",
    "\n",
    "# Necesitamos un doble bucle para crear la tabla de diferencias divididas\n",
    "for j in range(1,n):\n",
    "    for i in range(n-j):\n",
    "        coef[i,j] = (coef[i+1,j-1] - coef[i,j-1]) / (x_coef[i+j]-x_coef[i])\n",
    "\n",
    "# evaluamos el polinomio según la function definida al principio\n",
    "P_expr = newton_poly(coef[0,:],x_coef,x)\n",
    "display(P_expr)\n"
   ]
  },
  {
   "cell_type": "code",
   "execution_count": 35,
   "id": "f009bd79",
   "metadata": {},
   "outputs": [
    {
     "data": {
      "text/latex": [
       "$\\displaystyle 1.0 - 2.0 x$"
      ],
      "text/plain": [
       "1.0 - 2.0*x"
      ]
     },
     "metadata": {},
     "output_type": "display_data"
    }
   ],
   "source": [
    "# Ejercicio 13b\n",
    "import sympy as sp\n",
    "import numpy as np\n",
    "import matplotlib.pyplot as plt\n",
    "        \n",
    "x = sp.Symbol('x', real=True)\n",
    "\n",
    "g_expr = sp.cos(sp.pi*x)\n",
    "g = sp.Lambda(x, g_expr)\n",
    "\n",
    "def newton_poly(coef, x_data, x):\n",
    "    # evaluamos el polinomio de Lagrange, construido con la \n",
    "    # tabla de diferencias divididas, en el punto x\n",
    "    # in: \n",
    "    #    coef ---> primera fila de la tabla de diferencias divididas\n",
    "    #    x_data -> valores de x_i\n",
    "    #    x ------> punto en el que queremos evaluar el polinomio \n",
    "    n = len(x_data) - 1 \n",
    "    p = coef[n]\n",
    "    for k in range(1,n+1):\n",
    "        p = coef[n-k] + (x -x_data[n-k])*p\n",
    "    return p\n",
    "\n",
    "# SUSTITUIR AQUÍ\n",
    "x_coef = [0.5, 1]\n",
    "y_coef = [g(0.5), g(1)]\n",
    "\n",
    "n = len(x_coef)\n",
    "coef = np.zeros([n, n])\n",
    "# La primera columna serán los datos en y\n",
    "coef[:,0] = y_coef\n",
    "\n",
    "# Necesitamos un doble bucle para crear la matriz (perdón, tabla) de diferencias divididas\n",
    "for j in range(1,n):\n",
    "    for i in range(n-j):\n",
    "        coef[i,j] = (coef[i+1,j-1] - coef[i,j-1]) / (x_coef[i+j]-x_coef[i])\n",
    "\n",
    "# evaluamos el polinomio según la function definida al principio\n",
    "y = sp.Symbol('x', real=True)\n",
    "P_expr = newton_poly(coef[0,:],x_coef,y)\n",
    "\n",
    "# LO PRINTEAMOS\n",
    "display(sp.expand(P_expr)) \n"
   ]
  },
  {
   "cell_type": "code",
   "execution_count": 38,
   "id": "d5c3c904",
   "metadata": {},
   "outputs": [
    {
     "data": {
      "text/latex": [
       "$\\displaystyle 0$"
      ],
      "text/plain": [
       "0"
      ]
     },
     "metadata": {},
     "output_type": "display_data"
    }
   ],
   "source": [
    "# Ejercicio 13c\n",
    "x = sp.symbols('x')\n",
    "expr = 2*x-1\n",
    "I = sp.integrate(expr,(x,0,1))\n",
    "display(I)"
   ]
  },
  {
   "cell_type": "code",
   "execution_count": 49,
   "id": "a87821ed",
   "metadata": {},
   "outputs": [
    {
     "name": "stdout",
     "output_type": "stream",
     "text": [
      "Aproximación mediante trapecio compuesto = -1.3322676295501878e-15\n",
      "Exacta:  0\n"
     ]
    }
   ],
   "source": [
    "# Ejercicio 13d\n",
    "\n",
    "# Aproximación trapecio compuesto\n",
    "x = sp.Symbol('x', real = True)\n",
    "f_exp = sp.cos(sp.pi*x)\n",
    "f = sp.lambdify(x,f_exp)\n",
    "\n",
    "a = 0; b = 1\n",
    "n = 100\n",
    "\n",
    "x1 = np.linspace(a,b,n+1) # aquí guardamos los x_{i}. \n",
    "                          # Recuerda que, en Python, se guarda x1[0], x1[1], ..., x1[(n+1)-1] = x1[n]\n",
    "y1 = f(x1)\n",
    "\n",
    "h = 0.5 # el tamaño de cada subintervalo\n",
    "\n",
    "aprox_trap = h/2 * (y1[0]+2*np.sum(y1[1:n])+y1[n])\n",
    "\n",
    "print('Aproximación mediante trapecio compuesto =',aprox_trap) \n",
    "\n",
    "print('Exacta: ',sp.integrate(sp.cos(sp.pi*x),(x,0,1)))"
   ]
  },
  {
   "cell_type": "code",
   "execution_count": 84,
   "id": "bec1d3b8",
   "metadata": {},
   "outputs": [
    {
     "data": {
      "text/latex": [
       "$\\displaystyle \\left\\{2 n \\pi\\; \\middle|\\; n \\in \\mathbb{Z}\\right\\} \\cup \\left\\{2 n \\pi + \\pi\\; \\middle|\\; n \\in \\mathbb{Z}\\right\\}$"
      ],
      "text/plain": [
       "Union(ImageSet(Lambda(_n, 2*_n*pi + pi), Integers), ImageSet(Lambda(_n, 2*_n*pi), Integers))"
      ]
     },
     "metadata": {},
     "output_type": "display_data"
    },
    {
     "name": "stdout",
     "output_type": "stream",
     "text": [
      "\n",
      "Es una integral impropia porque la función cotangente tiene una asíntota vertical en [π/4, 3π/4] \n"
     ]
    }
   ],
   "source": [
    "# Ejercicio 14\n",
    "x = sp.symbols('x')\n",
    "f_expr = sp.cot(x)\n",
    "f = sp.Lambda(x,f_expr)\n",
    "Sing = sp.calculus.singularities(f(x), x)\n",
    "display(Sing)\n",
    "print('\\nEs una integral impropia porque la función cotangente tiene una asíntota vertical en [π/4, 3π/4] ')\n"
   ]
  },
  {
   "cell_type": "code",
   "execution_count": 82,
   "id": "da8f73e0",
   "metadata": {
    "scrolled": true
   },
   "outputs": [
    {
     "data": {
      "image/png": "[encoded data removed]",
      "text/plain": [
       "<Figure size 640x480 with 1 Axes>"
      ]
     },
     "metadata": {},
     "output_type": "display_data"
    }
   ],
   "source": [
    "# Ejercicio 14 representación\n",
    "\n",
    "# Creación de los puntos donde se evalúa la función\n",
    "x = np.linspace(-10, 10, 100)\n",
    "\n",
    "# Gráfica de sin(x) y cos(x), con una etiqueta para cada una\n",
    "plt.plot(x, 1/np.tan(x), label='cot(x)')\n",
    "\n",
    "# Etiquetas de los ejes\n",
    "plt.xlabel('x')\n",
    "plt.ylabel('y')\n",
    "\n",
    "# Añadir la leyenda (mostrando las etiquetas de los \"plot\")\n",
    "plt.legend()\n",
    "\n",
    "# Definir los límites de los ejes x e y\n",
    "plt.xlim(x[1], x[-1])\n",
    "plt.ylim([-5.,5])\n",
    "plt.title('Gráfica de cot(x)')\n",
    "\n",
    "plt.show()"
   ]
  },
  {
   "cell_type": "code",
   "execution_count": 19,
   "id": "4aacf54e",
   "metadata": {},
   "outputs": [
    {
     "data": {
      "text/latex": [
       "$\\displaystyle 4 x - 8$"
      ],
      "text/plain": [
       "4*x - 8"
      ]
     },
     "metadata": {},
     "output_type": "display_data"
    },
    {
     "data": {
      "image/png": "[encoded data removed]",
      "text/plain": [
       "<Figure size 640x480 with 1 Axes>"
      ]
     },
     "metadata": {},
     "output_type": "display_data"
    },
    {
     "data": {
      "text/plain": [
       "'Puntos de corte de f(x) con el eje OX'"
      ]
     },
     "metadata": {},
     "output_type": "display_data"
    },
    {
     "data": {
      "text/plain": [
       "[1]"
      ]
     },
     "metadata": {},
     "output_type": "display_data"
    },
    {
     "data": {
      "text/plain": [
       "'Puntos de corte de la recta tg con el eje OX'"
      ]
     },
     "metadata": {},
     "output_type": "display_data"
    },
    {
     "data": {
      "text/plain": [
       "[2]"
      ]
     },
     "metadata": {},
     "output_type": "display_data"
    },
    {
     "data": {
      "text/plain": [
       "'Puntos de corte de f(x) con la recta tg'"
      ]
     },
     "metadata": {},
     "output_type": "display_data"
    },
    {
     "data": {
      "text/plain": [
       "[3]"
      ]
     },
     "metadata": {},
     "output_type": "display_data"
    },
    {
     "data": {
      "text/plain": [
       "'Área total en unidades cuadradas'"
      ]
     },
     "metadata": {},
     "output_type": "display_data"
    },
    {
     "data": {
      "text/latex": [
       "$\\displaystyle 5$"
      ],
      "text/plain": [
       "5"
      ]
     },
     "metadata": {},
     "output_type": "display_data"
    }
   ],
   "source": [
    "# Ejercicio 15\n",
    "x = sp.symbols('x')\n",
    "expr = (x-1)**2\n",
    "f = sp.Lambda(x,expr)\n",
    "\n",
    "m = sp.diff(f(x))\n",
    "x0 = 3\n",
    "y0 = f(3)\n",
    "\n",
    "# Ecuación punto-pendiente\n",
    "ec_puntopend = m.subs(x,x0)*(x-x0)+y0\n",
    "display(ec_puntopend)\n",
    "\n",
    "# Representación gráfica\n",
    "sp.plot(f(x),ec_puntopend,(x,-1,5))\n",
    "\n",
    "# Puntos de corte\n",
    "display('Puntos de corte de f(x) con el eje OX',sp.solve(f(x)))\n",
    "display('Puntos de corte de la recta tg con el eje OX',sp.solve(4*x-8))\n",
    "display('Puntos de corte de f(x) con la recta tg',sp.solve(4*x-8-f(x)))\n",
    "\n",
    "# Cálculo del área\n",
    "A1 = sp.integrate(f(x),(x,1,3))\n",
    "A2 = sp.integrate(f(x),(x,2,3))\n",
    "At = A1+A2\n",
    "display('Área total en unidades cuadradas',At)"
   ]
  },
  {
   "cell_type": "code",
   "execution_count": 29,
   "id": "0d51676a",
   "metadata": {},
   "outputs": [
    {
     "data": {
      "text/plain": [
       "'Puntos de corte de tg(x) con y = 1'"
      ]
     },
     "metadata": {},
     "output_type": "display_data"
    },
    {
     "data": {
      "text/plain": [
       "[pi/4]"
      ]
     },
     "metadata": {},
     "output_type": "display_data"
    },
    {
     "data": {
      "text/plain": [
       "'Área total en unidades cuadradas'"
      ]
     },
     "metadata": {},
     "output_type": "display_data"
    },
    {
     "data": {
      "text/latex": [
       "$\\displaystyle \\log{\\left(\\frac{\\sqrt{2}}{2} \\right)} + \\frac{\\pi}{4}$"
      ],
      "text/plain": [
       "log(sqrt(2)/2) + pi/4"
      ]
     },
     "metadata": {},
     "output_type": "display_data"
    },
    {
     "data": {
      "text/plain": [
       "'Volumen total en unidades cúbicas'"
      ]
     },
     "metadata": {},
     "output_type": "display_data"
    },
    {
     "data": {
      "text/latex": [
       "$\\displaystyle - \\pi \\left(1 - \\frac{\\pi}{4}\\right) + \\frac{\\pi^{2}}{4}$"
      ],
      "text/plain": [
       "-pi*(1 - pi/4) + pi**2/4"
      ]
     },
     "metadata": {},
     "output_type": "display_data"
    }
   ],
   "source": [
    "# Ejercicio 16\n",
    "x = sp.symbols('x')\n",
    "expr = sp.tan(x)\n",
    "expr2 = 1\n",
    "\n",
    "# Puntos de corte\n",
    "display('Puntos de corte de tg(x) con y = 1', sp.solve(expr2-expr))\n",
    "\n",
    "# Cálculo del área\n",
    "A1 = sp.integrate(expr,(x,0,sp.pi/4))\n",
    "A2 = sp.integrate(expr2,(x,0,sp.pi/4))\n",
    "At = A2-A1\n",
    "display('Área total en unidades cuadradas',At)\n",
    "\n",
    "# Cálculo del volumen2\n",
    "V1 = sp.pi*(sp.integrate(expr**2,(x,0,sp.pi/4)))\n",
    "V2 = sp.pi*(sp.integrate(expr2**2,(x,0,sp.pi/4)))\n",
    "Vt = V2-V1\n",
    "display('Volumen total en unidades cúbicas',Vt)"
   ]
  },
  {
   "cell_type": "code",
   "execution_count": 80,
   "id": "d6e42e1a",
   "metadata": {},
   "outputs": [
    {
     "data": {
      "text/plain": [
       "'Puntos de corte de y con x = 1/2'"
      ]
     },
     "metadata": {},
     "output_type": "display_data"
    },
    {
     "data": {
      "text/plain": [
       "0.5"
      ]
     },
     "metadata": {},
     "output_type": "display_data"
    },
    {
     "data": {
      "text/plain": [
       "'Puntos de corte de y con x = 2'"
      ]
     },
     "metadata": {},
     "output_type": "display_data"
    },
    {
     "data": {
      "text/plain": [
       "2"
      ]
     },
     "metadata": {},
     "output_type": "display_data"
    },
    {
     "data": {
      "text/plain": [
       "'Área en unidades cuadradas y en valor absoluto'"
      ]
     },
     "metadata": {},
     "output_type": "display_data"
    },
    {
     "data": {
      "text/plain": [
       "0.23286795139986333"
      ]
     },
     "metadata": {},
     "output_type": "display_data"
    }
   ],
   "source": [
    "# Ejercicio 17\n",
    "x,x1 = sp.symbols('x,x1')\n",
    "expr = sp.log(1/x)\n",
    "\n",
    "# Puntos de corte\n",
    "display('Puntos de corte de y con x = 1/2',1/2)\n",
    "display('Puntos de corte de y con x = 2',2)\n",
    "\n",
    "# Cálculo del área\n",
    "A = sp.integrate(expr,(x,1/2,2))\n",
    "display('Área en unidades cuadradas y en valor absoluto',abs(float(A)))\n",
    "\n"
   ]
  },
  {
   "cell_type": "code",
   "execution_count": 14,
   "id": "04186551",
   "metadata": {},
   "outputs": [
    {
     "data": {
      "text/plain": [
       "'Expresión obtenida al calclular f(-2) = -6'"
      ]
     },
     "metadata": {},
     "output_type": "display_data"
    },
    {
     "data": {
      "text/latex": [
       "$\\displaystyle - 2 a + b - 4$"
      ],
      "text/plain": [
       "-2*a + b - 4"
      ]
     },
     "metadata": {},
     "output_type": "display_data"
    },
    {
     "data": {
      "text/plain": [
       "'Resultado de despejar b'"
      ]
     },
     "metadata": {},
     "output_type": "display_data"
    },
    {
     "data": {
      "text/latex": [
       "$\\displaystyle 2 a - 2$"
      ],
      "text/plain": [
       "2*a - 2"
      ]
     },
     "metadata": {},
     "output_type": "display_data"
    },
    {
     "data": {
      "text/plain": [
       "'Recta tangente'"
      ]
     },
     "metadata": {},
     "output_type": "display_data"
    },
    {
     "data": {
      "text/latex": [
       "$\\displaystyle \\left(a - 2\\right) \\left(x + 2\\right) - 6$"
      ],
      "text/plain": [
       "(a - 2)*(x + 2) - 6"
      ]
     },
     "metadata": {},
     "output_type": "display_data"
    },
    {
     "data": {
      "text/plain": [
       "'Derivada tangente'"
      ]
     },
     "metadata": {},
     "output_type": "display_data"
    },
    {
     "data": {
      "text/latex": [
       "$\\displaystyle a - 2$"
      ],
      "text/plain": [
       "a - 2"
      ]
     },
     "metadata": {},
     "output_type": "display_data"
    },
    {
     "data": {
      "text/plain": [
       "'Derivada f(x)'"
      ]
     },
     "metadata": {},
     "output_type": "display_data"
    },
    {
     "data": {
      "text/latex": [
       "$\\displaystyle a - \\frac{8}{x^{2}}$"
      ],
      "text/plain": [
       "a - 8/x**2"
      ]
     },
     "metadata": {},
     "output_type": "display_data"
    }
   ],
   "source": [
    "# Ejercicio 18\n",
    "x,a,b = sp.symbols('x,a,b')\n",
    "expr = a*x+b+8/x\n",
    "f = sp.Lambda(x,expr)\n",
    "\n",
    "# Apartado A\n",
    "display('Expresión obtenida al calclular f(-2) = -6',f(-2))\n",
    "display('Resultado de despejar b',sp.solve(f(-2)+6,b)[0])\n",
    "\n",
    "m = sp.diff(f(x),x)\n",
    "x0 = -2\n",
    "y0 = -6\n",
    "ec_puntopend = m.subs(x,-2)*(x-x0)+y0\n",
    "display('Recta tangente',ec_puntopend)\n",
    "d1f_t = sp.diff(ec_puntopend,x)\n",
    "d1f_f = sp.diff(f(x),x)\n",
    "display('Derivada tangente',d1f_t,'Derivada f(x)',d1f_f)"
   ]
  },
  {
   "cell_type": "code",
   "execution_count": 89,
   "id": "fe8a09c7",
   "metadata": {},
   "outputs": [
    {
     "data": {
      "text/latex": [
       "$\\displaystyle -1.15342640972003 + 2 \\log{\\left(2 \\right)}$"
      ],
      "text/plain": [
       "-1.15342640972003 + 2*log(2)"
      ]
     },
     "metadata": {},
     "output_type": "display_data"
    },
    {
     "name": "stdout",
     "output_type": "stream",
     "text": [
      "La opción correcta es la b\n"
     ]
    }
   ],
   "source": [
    "# Ejercicio 19\n",
    "x = sp.symbols('x')\n",
    "expr = sp.log(x)\n",
    "I = sp.integrate(expr,(x,1/2,2))\n",
    "display(I)\n",
    "print('La opción correcta es la b')"
   ]
  },
  {
   "cell_type": "code",
   "execution_count": 24,
   "id": "481c4f18",
   "metadata": {},
   "outputs": [
    {
     "data": {
      "image/png": "[encoded data removed]",
      "text/plain": [
       "<Figure size 640x480 with 1 Axes>"
      ]
     },
     "metadata": {},
     "output_type": "display_data"
    },
    {
     "data": {
      "text/plain": [
       "'Puntos de corte'"
      ]
     },
     "metadata": {},
     "output_type": "display_data"
    },
    {
     "data": {
      "text/plain": [
       "[0, 1]"
      ]
     },
     "metadata": {},
     "output_type": "display_data"
    },
    {
     "data": {
      "text/plain": [
       "'Volumen total en unidades cúbicas'"
      ]
     },
     "metadata": {},
     "output_type": "display_data"
    },
    {
     "data": {
      "text/latex": [
       "$\\displaystyle \\frac{3 \\pi}{10}$"
      ],
      "text/plain": [
       "3*pi/10"
      ]
     },
     "metadata": {},
     "output_type": "display_data"
    },
    {
     "name": "stdout",
     "output_type": "stream",
     "text": [
      "\n",
      "La opción correcta es la tercera.\n"
     ]
    }
   ],
   "source": [
    "# Ejercicio 20\n",
    "x = sp.symbols('x')\n",
    "expr = x**2\n",
    "expr2 = sp.sqrt(x)\n",
    "sp.plot(expr,expr2, (x,-2,2))\n",
    "\n",
    "# Puntos de corte\n",
    "Puntos_corte = sp.solve(expr-expr2)\n",
    "display('Puntos de corte',Puntos_corte)\n",
    "\n",
    "# Cálculo del volumen\n",
    "V1 = sp.pi * sp.integrate(expr**2,(x,0,1))\n",
    "V2 = sp.pi * sp.integrate(expr2**2,(x,0,1))\n",
    "Vt = V2-V1\n",
    "display('Volumen total en unidades cúbicas',Vt)\n",
    "print('\\nLa opción correcta es la tercera.')"
   ]
  },
  {
   "cell_type": "code",
   "execution_count": 74,
   "id": "8a2c2a15",
   "metadata": {},
   "outputs": [
    {
     "data": {
      "text/latex": [
       "$\\displaystyle \\infty$"
      ],
      "text/plain": [
       "oo"
      ]
     },
     "execution_count": 74,
     "metadata": {},
     "output_type": "execute_result"
    }
   ],
   "source": [
    "# Ejercicio 21\n",
    "x = sp.symbols('x')\n",
    "expr = 1/(x-1)\n"
   ]
  },
  {
   "cell_type": "code",
   "execution_count": 3,
   "id": "52471cb8",
   "metadata": {},
   "outputs": [
    {
     "name": "stdout",
     "output_type": "stream",
     "text": [
      "El intervalo de integración es finito (0,5), pero la función no está acotada superiormente en x = 5, ya que al sustituir en 5 obtenemos la expresión 1/0, por lo que es de primer tipo.\n"
     ]
    }
   ],
   "source": [
    "# Ejercicio 22\n",
    "x = sp.symbols('x')\n",
    "expr = sp.integrate(1/(sp.sqrt(25-5*x)),(x,0,5))\n",
    "print('El intervalo de integración es finito (0,5), pero la función no está acotada superiormente en x = 5, ya que al sustituir en 5 obtenemos la expresión 1/0, por lo que es de primer tipo.')\n",
    "# Para ver si está acotada o no --> sustituir\n",
    "# Intervalo no acotado --> intervalo = (-oo,a), (a,+oo), (-oo,oo)\n",
    "# Función no acotada -> Indeterminación sin solución al sustituir por valores del intervalo"
   ]
  },
  {
   "cell_type": "code",
   "execution_count": null,
   "id": "3a4f8d47",
   "metadata": {},
   "outputs": [],
   "source": []
  },
  {
   "cell_type": "code",
   "execution_count": null,
   "id": "ff81c8cd",
   "metadata": {},
   "outputs": [],
   "source": []
  },
  {
   "cell_type": "code",
   "execution_count": null,
   "id": "58687a1f",
   "metadata": {},
   "outputs": [],
   "source": [
    "# Aproximaciones y representaciones"
   ]
  },
  {
   "cell_type": "code",
   "execution_count": 175,
   "id": "d29fc48a",
   "metadata": {},
   "outputs": [
    {
     "name": "stdout",
     "output_type": "stream",
     "text": [
      "Valor aproximado de I mediante la fórmula del punto medio =  18.1875\n"
     ]
    }
   ],
   "source": [
    "# Aproximación punto medio\n",
    "x = sp.Symbol('x', real = True)\n",
    "\n",
    "#Aproximación por punto medio\n",
    "a = 0\n",
    "b = 3\n",
    "pm = (a+b)/2\n",
    "\n",
    "f_exp = x**4+1\n",
    "f = sp.lambdify(x,f_exp)\n",
    "\n",
    "fpm = f(pm)\n",
    "I_aprox = (b-a) * fpm\n",
    "print('Valor aproximado de I mediante la fórmula del punto medio = ', I_aprox)"
   ]
  },
  {
   "cell_type": "code",
   "execution_count": 174,
   "id": "c1db6af3",
   "metadata": {},
   "outputs": [
    {
     "name": "stdout",
     "output_type": "stream",
     "text": [
      "Valor aproximado de la integral por trapecio simple =  124.5\n"
     ]
    }
   ],
   "source": [
    "# Aproximación trapecio\n",
    "def trapecio(a,b,fa,fb):\n",
    "    aprox_tr = (b-a) * (fa + fb)/2\n",
    "    return aprox_tr\n",
    "\n",
    "x = sp.Symbol('x', real = True)\n",
    "\n",
    "a = 0\n",
    "b = 3\n",
    "\n",
    "f_exp = x**4+1\n",
    "f = sp.lambdify(x,f_exp)\n",
    "\n",
    "fa = f(a)\n",
    "fb = f(b)\n",
    "aproximacion_trapecio = trapecio(a,b,fa,fb)\n",
    "print('Valor aproximado de la integral por trapecio simple = ', aproximacion_trapecio)"
   ]
  },
  {
   "cell_type": "code",
   "execution_count": 2,
   "id": "1bfafdb3",
   "metadata": {},
   "outputs": [
    {
     "name": "stdout",
     "output_type": "stream",
     "text": [
      "Valor aproximado de la integral por simpson simple =  1.2083333333333333\n"
     ]
    }
   ],
   "source": [
    "# Aproximación simpson\n",
    "def simpson(a,b,fa,fb):\n",
    "    aprox_simp = (b-a)/6 * (fa + 4*fm_ab + fb)\n",
    "    return aprox_simp\n",
    "\n",
    "x = sp.Symbol('x', real = True)\n",
    "\n",
    "a = 0\n",
    "b = 1\n",
    "\n",
    "f_exp = x**4+1\n",
    "f = sp.lambdify(x,f_exp)\n",
    "\n",
    "fa = f(a)\n",
    "fb = f(b)\n",
    "fm_ab = f((a+b)/2)\n",
    "aproximacion_simpson = simpson(a,b,fa,fb)\n",
    "print('Valor aproximado de la integral por simpson simple = ', aproximacion_simpson)"
   ]
  },
  {
   "cell_type": "code",
   "execution_count": 176,
   "id": "2121aa63",
   "metadata": {},
   "outputs": [
    {
     "name": "stdout",
     "output_type": "stream",
     "text": [
      "aprox_trap:  51.608099919\n",
      "aprox_medio:  51.583801133999984\n",
      "aprox_simpson:  51.60000032399999\n",
      "Exacta:  51.6\n"
     ]
    }
   ],
   "source": [
    "# Aproximación fórmulas compuestas\n",
    "x = sp.Symbol('x', real = True)\n",
    "f_exp = x**4+1\n",
    "f = sp.lambdify(x,f_exp)\n",
    "\n",
    "a = 0; b = 3\n",
    "n = 100\n",
    "\n",
    "x1 = np.linspace(a,b,n+1) # aquí guardamos los x_{i}. \n",
    "                          # Recuerda que, en Python, se guarda x1[0], x1[1], ..., x1[(n+1)-1] = x1[n]\n",
    "y1 = f(x1)\n",
    "\n",
    "h = (b-a)/n # el tamaño de cada subintervalo\n",
    "\n",
    "aprox_trap = h/2 * (y1[0]+2*np.sum(y1[1:n])+y1[n])\n",
    "aprox_medio = 2*h * np.sum(y1[1:n:2])\n",
    "aprox_simpson = 2*h/6 * (y1[0] + 4*np.sum(y1[1:n:2])+2*np.sum(y1[2:n-1:2])+y1[n])\n",
    "\n",
    "print('aprox_trap: ',aprox_trap) \n",
    "print('aprox_medio: ',aprox_medio) \n",
    "print('aprox_simpson: ',aprox_simpson) \n",
    "\n",
    "print('Exacta: ',b**5/5+b)"
   ]
  },
  {
   "cell_type": "code",
   "execution_count": 125,
   "id": "a97b73ce",
   "metadata": {},
   "outputs": [
    {
     "data": {
      "image/png": "[encoded data removed]",
      "text/plain": [
       "<Figure size 700x350 with 1 Axes>"
      ]
     },
     "metadata": {},
     "output_type": "display_data"
    }
   ],
   "source": [
    "# Representación gráfica Esfera\n",
    "\n",
    "import matplotlib.pyplot as plt\n",
    "import mpl_toolkits.mplot3d.axes3d as axes3d\n",
    "\n",
    "fig = plt.figure()\n",
    "ax = fig.add_subplot(projection='3d')\n",
    "\n",
    "RR = 10\n",
    "u = np.linspace(0, 6.5, 60)\n",
    "v = np.linspace(0, 6.5, 60)\n",
    "\n",
    "U, V = np.meshgrid(u,v)\n",
    "\n",
    "X = np.cos(U) * np.sin(V)\n",
    "Y1 = np.sin(U) * np.sin(V)\n",
    "Z1 = np.cos(V)\n",
    "ax.plot_surface(X, Y1, Z1, alpha=0.3, color='red')\n",
    "plt.show()"
   ]
  },
  {
   "cell_type": "code",
   "execution_count": 138,
   "id": "5628ef80",
   "metadata": {
    "scrolled": true
   },
   "outputs": [
    {
     "data": {
      "image/png": "[encoded data removed]",
      "text/plain": [
       "<Figure size 700x350 with 1 Axes>"
      ]
     },
     "metadata": {},
     "output_type": "display_data"
    }
   ],
   "source": [
    "# Representación gráfica Cono\n",
    "import matplotlib.pyplot as plt\n",
    "import mpl_toolkits.mplot3d.axes3d as axes3d\n",
    "\n",
    "fig = plt.figure()\n",
    "ax = fig.add_subplot(1, 1, 1, projection='3d')\n",
    "\n",
    "RR = 3.0 \n",
    "hh = 6.0 \n",
    "u = np.linspace(0, 6.5, 60)\n",
    "v = np.linspace(0, 6.5, 60)\n",
    "U, V = np.meshgrid(u, v)\n",
    "\n",
    "X = U\n",
    "Y1 = RR/hh*U*np.cos(V)\n",
    "Z1 = RR/hh*U*np.sin(V)\n",
    "\n",
    "ax.plot_surface(X, Y1, Z1, alpha=0.7, color='red', rstride=1, cstride=1)\n",
    "plt.show()"
   ]
  },
  {
   "cell_type": "code",
   "execution_count": null,
   "id": "68054487",
   "metadata": {},
   "outputs": [],
   "source": [
    "#Integración con cambio de variable\n",
    "print('Integración con cambio de variable')\n",
    "print('-----------------------------------------------\\n')\n",
    "expr = x**2*(4*x**3+7)**9\n",
    "t,dt,c = sp.symbols('t,dt,c')\n",
    "x,t = sp.symbols('x,t')\n",
    "x0 = sp.Eq(4*x**3+7,t)\n",
    "x1 = sp.solve(x0,x)[0]\n",
    "display('x =',x1)\n",
    "dt = sp.diff(t**9)\n",
    "display('Derivada en t',dt)\n",
    "dx = sp.diff(4*x**3+7)\n",
    "display('Derivada en x',dx)\n",
    "adx = dx.subs(x,x1)\n",
    "display('Sustitución en la derivada de la x por la t',adx)\n",
    "adt = dt/adx\n",
    "print('\\nx =',x1)\n",
    "print('dx =',adt,'dt')\n",
    "expr1 = expr.subs(x**2,x1**2)\n",
    "expr2 = expr1.subs((4*x**3+7)**9,t**9)\n",
    "I0 = expr2*adt\n",
    "print('\\n')\n",
    "display('Expresión a integrar',I0)\n",
    "I1 = sp.integrate(I0)\n",
    "\n",
    "# Está sin acabar"
   ]
  },
  {
   "cell_type": "code",
   "execution_count": null,
   "id": "b859decd",
   "metadata": {},
   "outputs": [],
   "source": [
    "# Ecuación de circunferencia\n",
    "# (x-a)**2 + (y-b)**2 = r**2S"
   ]
  }
 ],
 "metadata": {
  "kernelspec": {
   "display_name": "Python 3 (ipykernel)",
   "language": "python",
   "name": "python3"
  },
  "language_info": {
   "codemirror_mode": {
    "name": "ipython",
    "version": 3
   },
   "file_extension": ".py",
   "mimetype": "text/x-python",
   "name": "python",
   "nbconvert_exporter": "python",
   "pygments_lexer": "ipython3",
   "version": "3.9.12"
  }
 },
 "nbformat": 4,
 "nbformat_minor": 5
}
