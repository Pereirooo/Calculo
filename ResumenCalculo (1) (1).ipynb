{
 "cells": [
  {
   "cell_type": "markdown",
   "id": "22da020d",
   "metadata": {},
   "source": [
    "# CÁLCULO 1º DE INGENIERÍA INFORMATICA UDC\n",
    "[comment]: <> (S.G)\n",
    "****"
   ]
  },
  {
   "cell_type": "markdown",
   "id": "0621ec29",
   "metadata": {},
   "source": [
    "# 0.Introducción a Jupyter Notebook (Principales librerias)\n",
    "****\n",
    "[Apuntes de la Universidad](https://luishervella.github.io/JB_Calculo1_UDC/capitulos/01/README.html)"
   ]
  },
  {
   "cell_type": "markdown",
   "id": "4db2ae35",
   "metadata": {},
   "source": [
    "## 0.1.Symbolic Python - \"Sympy\""
   ]
  },
  {
   "cell_type": "markdown",
   "id": "64eb8229",
   "metadata": {},
   "source": [
    "### 0.1.1.Introducción a Sympy\n",
    "\n",
    "import **sympy** as **sp**\n",
    "\n",
    "<table style=\"width: 100%\"><thead><tr><th colspan=\"3\">Salidas/Impresiones/Outputs</th></tr></thead><tbody><tr><td>CUESTIÓN</td><td>RESOLUCIÓN</td><td>EJEMPLO</td></tr><tr><td>Texto</td><td>print(“texto”)</td><td>print(texto)</td></tr><tr><td>Variables</td><td>print(variable)</td><td>print(x)</td></tr><tr><td>Tipo de número</td><td>print(type(variable))</td><td>print(type(x))  -&gt;  float</td></tr><tr><td>Funciones</td><td>display()</td><td>display(x*2=0) -&gt; x=0</td></tr><tr><td>Verificar <br>(Hipótesis sobre las variables)<br>( Expresiones y Funciones en Sympy)</td><td>print(variable.is_tipodenumero)<br>print(expresión1==expresión2)</td><td>print(x.is_real)</td></tr><tr><td>Semejante al papel<br>(Expresiones simbólicas)</td><td>sp.pprint(expresión)</td><td></td></tr></tbody></table>\n",
    "\n",
    "<table style=\"width: 100%\"><thead><tr><th colspan=\"2\">Conjuntos de números en Sympy</th></tr></thead><tbody><tr><td>Positivo</td><td>positive/nonnegative</td></tr><tr><td>Negativo</td><td>negative</td></tr><tr><td>Entero</td><td>integer</td></tr><tr><td>Racional</td><td>rational, (tional?)</td></tr><tr><td>Real</td><td>real</td></tr></tbody></table>\n",
    "\n",
    "<table style=\"width: 100%\"><thead><tr><th colspan=\"3\">Variables Simbólicas</th></tr></thead><tbody><tr><td>CUESTIÓN</td><td>RESOLUCIÓN</td><td>EJEMPLO</td></tr><tr><td rowspan=\"2\"><br>Definir variables</td><td>x= sp.Symbol (“x”,tipo de número=True)</td><td>x=sp.Symbol(“x”, real=True)</td></tr><tr><td>sp.symbols (“a0 : a1”)</td><td></td></tr><tr><td>Definir expresiones o funciones</td><td>nombre de la expresión = expresión </td><td>f=2*x</td></tr><tr><td colspan=\"3\">Usar un número como</td></tr><tr><td>Entero</td><td>sp.Integer(“”)</td><td>sp.Integer(“1”)</td></tr><tr><td rowspan=\"2\">Racional</td><td>sp.Rational(“”)</td><td>sp.Rational(“4.99”)</td></tr><tr><td>sp.Integer(“”)/sp.Integer(“”)</td><td>ssp.Integer(“1”)/sp.Integer(“3”)</td></tr><tr><td>Decimal</td><td>número/número</td><td>1/3</td></tr><tr><td>Constante Simbólica</td><td>sp.S()</td><td></td></tr></tbody></table>\n",
    "\n",
    "<table style=\"width: 100%\"><thead><tr><th colspan=\"3\">Expresiones Simbólicas</th></tr></thead><tbody><tr><td>CUESTIÓN</td><td>RESOLUCIÓN</td><td>EJEMPLO</td></tr><tr><td>Expandir</td><td>sp.expand(expresión)</td><td>expr = 2*x<br>expr_long = sp.expand(expr)</td></tr><tr><td>Simplificar/Desarrollar</td><td>sp.simplify(expresión)</td><td>expr=2*x<br>expr_short=sp.simplify(expr)</td></tr><tr><td>Factorizar</td><td>sp.factor(expresión)</td><td>expr=2*x<br>expr_short=sp.factor(expr)</td></tr><tr><td rowspan=\"2\"><br>Resolver</td><td>sp.solve(expresión, variable que quieras despejar si la hay)<br>(el simpy interpreta las expresiones igualadas a cero por lo que hay que despejar la expresión)</td><td>expr=2*x-5 <br>expr_short=sp.solve(expr)</td></tr><tr><td>sp.solve(expresión,domain=Sp.Reals) (para buscar solo reales)</td><td>expr=2*x-5 <br>expr_short=sp.solve(expr, Sp.Reals)</td></tr><tr><td>Substituir/Cambiar por constantes<br>(sirve para resolver expresiones)</td><td>nombredelafunción.subs({variable1:valor,...}]</td><td>expr=2*x<br>expr.subs({x:1,...}]</td></tr><tr><td>Substituir/Cambiar por variables<br>(sirve para resolver expresiones)</td><td>nombredelafunción.subs({variable1:valor,...}</td><td>expr=2*x<br>expr.subs({x:y-1,...}]</td></tr></tbody></table>\n",
    "\n",
    "<table style=\"width: 100%\"><thead><tr><th colspan=\"3\">Representación gráfica (Regiones en el plano)</th></tr></thead><tbody><tr><td>CUESTIÓN</td><td>RESOLUCIÓN</td><td>EJEMPLO</td></tr><tr><td>Representar Funciones</td><td>x =sp.plot_implicit(función)</td><td>p1 = sp.plot_implicit(y&gt; x**2)</td></tr><tr><td colspan=\"3\">Operaciones Gráficas (dentro del sp.plot_implicit)</td></tr><tr><td>Igualdad</td><td>sp.Eq(función1, función2)</td><td>sp.plot_implicit(sq.Eq(x, y*2))</td></tr><tr><td>Desigualdad</td><td>(función1 &lt;,&gt;,&lt;=,&gt;= función 2)</td><td>sp.plot_implicit(x&lt;y)</td></tr><tr><td>Unión de varias funciones (AND)</td><td>sp.And(función1, función2)</td><td>sp.plot_implicit(sp.And(y&lt;x,y&lt;2*x)(dibujara los puntos en los que se cumplan las dos condiciones)</td></tr><tr><td>Unión de varias funcione (OR)</td><td>sp.Or(función1, función2)</td><td>sp.plot_implicit(sp.Or(y&gt;x, x&gt;y+1) (dibujara los puntos en los que se cumpla por lo menos una de las condiciones)</td></tr><tr><td colspan=\"3\">Dibujar formas</td></tr><tr><td>Circunferencia</td><td>sq.Eq(función1+función2,radio)</td><td>sp.plot_implicit((x-h)**2+(y-k)**2=r**2) ((h,k) cordenadas del centro)</td></tr><tr><td>Parábola</td><td>sq.Eq(función1,función2)</td><td>sp.plot_implicit(y,a*z**2+b*x+c)</td></tr><tr><td>Parábola (Pintarla)</td><td>(función1 &lt;,&gt;,&lt;=,&gt;= función 2)</td><td>sp.plot_implicit(y &gt; x**2)</td></tr><tr><td>Recta</td><td>sq.Eq(función1,función2)</td><td>(y,a*x+b)</td></tr></tbody></table>\n",
    "\n",
    "<table style=\"width: 100%\"><thead><tr><th colspan=\"3\">Gráficas de funciones</th></tr></thead><tbody><tr><td>CUESTIÓN</td><td>RESOLUCIÓN</td><td>EJEMPLO</td></tr><tr><td>Definir una gráfica</td><td>p = sp.plot(función1,...,(x, donde empeza a gráfica, donde acaba, show=True/False)<br>(primer paso después de definir variable)</td><td>p = sp.plot(sp.sin(x), sp.cos(x),(x, 0, 4*sp.pi),show=False)<br>(un periodo = 4)</td></tr><tr><td>Definir/Cambiar<br> color de la línea</td><td>p[0].linecolor=”codigo de color”<br>(si es la primera función sino se pone el número de la función)</td><td>p[0].linecolor=”b”<br>“b”-azul “g”-gris “r”-rojo “c”-cian “m”-magenta “y”-amarillo “k”-negro “w”-blanco</td></tr><tr><td>Nombrar ejes</td><td>p.xlabel(nome), p.ylabel(nome)</td><td>p.xlabel(x), p.ylabel(y)</td></tr><tr><td>Leyenda</td><td>p.legend=True</td><td>p.legend=True</td></tr><tr><td>Acotar la gráfica</td><td>p.xlim=(valor mínimo, valor máximo), p.ylim=(valor mínimo, valor máximo)</td><td>p.xlim=(0,10), p.ylim=(-1,10)</td></tr><tr><td>Mostrar</td><td>p.show()</td><td>p.show()</td></tr></tbody></table>"
   ]
  },
  {
   "cell_type": "markdown",
   "id": "df908bc1",
   "metadata": {},
   "source": [
    "## 0.1.2.Operaciones Matematicas en Sympy\n",
    "\n",
    "<table style=\"width: 100%\"><thead><tr><th colspan=\"4\">Funciones Matemáticas de Sympy</th></tr></thead><tbody><tr><td>CUESTIÓN</td><td>RESOLUCIÓN</td><td></td><td>EJEMPLO</td></tr><tr><td>Inversa</td><td colspan=\"2\">sp.solve(función-variablecalquera,variabledafunción)</td><td>i=sp.Symbol(“x”, real=True)<br>sp.solve(f-i,x)</td></tr><tr><td colspan=\"4\">Constantes Matemáticas</td></tr><tr><td>Pi</td><td>sp.pi</td><td>Número de Euler</td><td>sp.E</td></tr><tr><td>Infinito</td><td>sp.oo</td><td></td><td></td></tr><tr><td colspan=\"4\">Operaciones</td></tr><tr><td>Logaritmo Neperiano</td><td>sp.log()</td><td>Logaritmo en cualquier base</td><td>sp.log(función,base)</td></tr><tr><td>Raíz</td><td>sp.sqrt()</td><td>Raíz cualquiera</td><td>x**1/exponente</td></tr><tr><td>Valor Absoluto</td><td>sp.Abs()</td><td>Exponencial</td><td>sp.exp()</td></tr><tr><td>Intervalo</td><td colspan=\"3\">sp.Interval(variable&gt;x1,variable&lt;x2,left_open=True/False,_open=True/False).contains(variable)</td></tr><tr><td colspan=\"4\">Funciones Trigonométricas</td></tr><tr><td>seno</td><td>sp.sin()</td><td>arcoseno</td><td>sp.asin()</td></tr><tr><td>coseno</td><td>sp.cos()</td><td>arcocoseno</td><td>sp.acos()</td></tr><tr><td>tangente</td><td>sp.tan()</td><td>arcotangente</td><td>sp.atan()</td></tr><tr><td>secante</td><td>sp.sec()</td><td>arcosecante</td><td>sp.asec()</td></tr><tr><td>cosecante</td><td>sp.csc()</td><td>arcocosecante</td><td>sp.csc()</td></tr><tr><td>cotangente</td><td>sp.cot()</td><td>arcocotangente</td><td>sp.acot()</td></tr></tbody></table>"
   ]
  },
  {
   "cell_type": "markdown",
   "id": "a98618db",
   "metadata": {},
   "source": [
    "## 0.1.3.LimitesyContinuidad en Sympy\n",
    "\n",
    "<table style=\"width: 99%\"><thead><tr><th colspan=\"3\">Expresiones y funciones en Sympy y Funciones definidas a trozos</th></tr></thead><tbody><tr><td>CUESTIÓN</td><td>RESOLUCIÓN</td><td>EJEMPLO</td></tr><tr><td>Crear una función a partir de una expresión</td><td>f=sp.Lambda((variables),expresión)<br>(debemos hacer una expresión a priori)</td><td>f=sp.Lambda((x),f_expr))</td></tr><tr><td>Resolver/Evaluar funciones</td><td>print(nome da función(valor))</td><td>print(“Valor de f(2)=”f(2))</td></tr><tr><td rowspan=\"2\"><br>Función definida a trozos<br>(después hay que pasar la expresion a una función)</td><td>f= sp.Piecewise((1ºtrozo, condición),...,(nº trozo, True))<br>(el true para el resto de casos)</td><td>f= sp.Piecewise((1, x&gt;0),(2, True))<br>f= sp.Piecewise((1, ((x&gt;0) &amp; (x&lt;10)),(2, True)) (condición intervalo (0,10)<br>f= sp.Piecewise((1, sp.Interval(0,10,left_open=True,right_open=True).contains(x)) (condición intervalo (0,10)</td></tr><tr><td>g=2ºtrozo +(1ºtrozo-2ºtr ozo)* sp.Heaviside(condición despejada, 0 se incluye o igual ou 1 se non)</td><td></td></tr><tr><td>Pasar de escalonado a normal (Heaviside a Piecewise)</td><td>display(sp.simplify(función(variable).rewrite(sp.Piecewise)))<br>(sirve para comprobar si esta bien formulada)</td><td>display(sp.simplify(g(x).rewrite(sp.Piecewise)))</td></tr><tr><td>Función compuesta/ Composición</td><td>1.Definimos las dos expresiones (f(x) o g(x))<br>2.Sustituimos la x de la primera con la segunda (g(x)) con la función subs<br>3.Definimos la función con la nueva expresión</td><td>expr1=2*x  expr2=3x<br>expr=expr1.subs({x:expr1}]<br>f=sp.Lambda(x,expr)</td></tr><tr><td>Periodicidad</td><td>función(variable) == función(variable+2*sp.pi/cociente de la x)</td><td>f(x) == f(x+2*sp.pi/b)</td></tr><tr><td>Cálculo de la asíntota vertical</td><td>y=sp.limit(f(x),x,x0) (con x como posible raíz (valor de x cuando el denominador = 0))<br>print(“A asíntota vertical de f(x) é y= ”,x0”</td><td></td></tr><tr><td>Cálculo de la asíntota horizontal</td><td>x0=sp.limit(f(x),x,sp.oo)<br>print(“A asíntota horizontal da función é x= ”,x0)</td><td></td></tr><tr><td>Cálculo de la asíntota oblicua</td><td>m=sp.limit(f(x)/x,x,sp.oo)<br>n=sp.limit(f(x)-m*x,x,sp.oo)<br>y= m*x+n<br>print(“A asíntota vertical da función é y=”,y)</td><td></td></tr></tbody></table>\n",
    "\n",
    "<table style=\"width: 100%\"><thead><tr><th colspan=\"3\">Dominio e imagen de la función</th></tr></thead><tbody><tr><td>CUESTIÓN</td><td>RESOLUCIÓN</td><td>EJEMPLO</td></tr><tr><td>Dominio/Singularidades</td><td>d=(sp.calculus.singularities(función(variable), variable))</td><td>d=(sp.calculus.singularities(f(x , x))<br>display(d)</td></tr><tr><td>Imagen</td><td>r=(sp.calculus.util.function_range((función(variable), variable, sp.Reals))</td><td>r=(sp.calculus.util.function_range((f(x), x, sp.Reals))</td></tr></tbody></table>\n",
    "\n",
    "<table style=\"width: 100%\"><thead><tr><th colspan=\"3\">Límites y Continuidad</th></tr></thead><tbody><tr><td>CUESTIÓN</td><td>RESOLUCIÓN</td><td>EJEMPLO</td></tr><tr><td>Límite de una función<br>(tiene que ser de una función)<br>(no usar el limite sin dirección si no estamos seguros de que existe)</td><td>nombre de la variable = sp.Limit(función(variable), variable, número al que tiende, dir=”-” si es por la izquierda “+” derecha</td><td>l=sp.Limit(f(x),x,0,dir=”-”)</td></tr><tr><td>Límites laterales de una función Heaviside</td><td>1.Definimos la función<br>2.Pasamos de escalonado a Piecewise para comprobar que esté bien<br>3.diplay(l)</td><td>l=sp.Limit(f(x),x,0,dir=”-”)</td></tr><tr><td><br>Continuidad</td><td>I = sp.calculus.util.continuous_domain(función(variable), variable, sp.Reals)</td><td>I = sp.calculus.util.continuous_domain(f(x),x, sp.Reals)</td></tr><tr><td>Comprobar Continuidad</td><td>sp.limit(función(variable), variable, 0) ==función(0)</td><td>sp.limit(f(x), x , 0)==función(0)</td></tr></tbody></table>"
   ]
  },
  {
   "cell_type": "markdown",
   "id": "5c7d753f",
   "metadata": {},
   "source": [
    "## 0.2.Numerical Python - \"Numpy\"\n",
    "import **numpy** as **np**\n",
    "\n",
    "<table style=\"width: 100%\"><thead><tr><th colspan=\"4\">Programación orientada a objetos</th></tr></thead><tbody><tr><td>CUESTIÓN</td><td colspan=\"2\">RESOLUCIÓN</td><td>EJEMPLO</td></tr><tr><td>Comprobar Clase</td><td colspan=\"2\">insistance(variable,clase) <br>nos devuelve True si el objeto pertenece a la clase o a una subclase (&lt;class 'numpy.ndarray'&gt; si es un vector)</td><td>insistance(x,float)</td></tr><tr><td>Lista de métodos y atributos aplicables </td><td colspan=\"2\">dir(variable)</td><td>dir(x)</td></tr><tr><td>Convertir / Cambiar tipo de número</td><td colspan=\"2\">np.tipodenumero(variable)<br>variable._tipodenumero_()</td><td>np.int(x)<br>print(x._int_())</td></tr><tr><td>Uso del for en matrices</td><td colspan=\"2\">variable = np.zeros(tamañoDelVector)<br>for i in range(tamañoDelVector):<br>variable[i] = valorDeLaVariableEnEsaPosición</td><td>x = np.zeros(5)<br>for i in range(len(x))<br>x[i] = i<br>output: [0. 1. 2. 3. 4.]</td></tr></tbody></table>\n",
    "\n",
    "<table style=\"width: 100%\"><thead><tr><th colspan=\"4\">Vectores de números</th></tr></thead><tbody><tr><td>CUESTIÓN</td><td colspan=\"2\">RESOLUCIÓN</td><td>EJEMPLO</td></tr><tr><td>Crear Vectores</td><td colspan=\"2\">variable=np.array([1ºvalor,2ºvalor,...])</td><td>x=np.array([1,2,3])</td></tr><tr><td>Definir Vectores Iguales</td><td colspan=\"2\">variable=np.zeros/ones(nºdeElementosDaLista, dtype=np.tipodenumeroybitsqueusa)</td><td>x=np.zeros(2,dtype=<br>np.float64)</td></tr><tr><td>Crear Arrays / Listas</td><td colspan=\"2\">nombreDeLaLista=[1ºvalor,2ºvalor,...]</td><td>x=[1,2]</td></tr><tr><td>Crear vector a partir de lista de números</td><td colspan=\"2\">variable=np.array(nombreDeLaLista)</td><td>y=np.array(x)</td></tr><tr><td>Cambiar / Dar valores de una lista / vector</td><td colspan=\"2\">nombreDeLaLista[posición]= valor<br>las posiciones empiezan en 0 en Python</td><td>x[0]=1</td></tr><tr><td>Longitud de una Arrays / Lista</td><td colspan=\"2\">len(lista)</td><td>len(x)</td></tr><tr><td>Matriz Identidad</td><td colspan=\"2\">np.eye(ordendelamatriz)</td><td>np.eye(2) (matriz2x2)</td></tr><tr><td>Saber tipo de vector</td><td colspan=\"2\">print(variable.dtype)</td><td>print(x.dtype)</td></tr><tr><td>Saber dimensión de vector</td><td colspan=\"2\">print(variable.shape)</td><td>print(x.shape)</td></tr><tr><td>Crear vectores de números enteros consecutivos</td><td colspan=\"2\">np.arange(1ºnum,ultimoNumº+1)</td><td>np.arange(1,4)<br>output:[1,2,3]</td></tr><tr><td>Crear vectores equidistados</td><td colspan=\"2\">np.linspace(1ºnum,ulitmoNumº,numeroDeNumeros)</td><td>np.linspace(0, 100, 3)<br>output:[0, 50, 100]</td></tr><tr><td>Crear vector aleatorio</td><td colspan=\"2\">np.random.rand(variable)</td><td>np.random.rand(x)</td></tr><tr><td colspan=\"4\">Nota: Podemos definir vectores con operacións y funciones de sympy polo medio, poniendo en vez de un valor una operación, por ejemplo 2/sp.pi<br>            Al usar el print con listas aparecerá la array pero con el display aparecerá la palabra array y la lista<br>            El tipo de vectores guardado por defecto es el float64</td></tr></tbody></table>\n",
    "\n",
    "<table style=\"width: 100%\"><thead><tr><th colspan=\"4\">-Funciones y aritmética sobre vectores y Troceado de vectores</th></tr></thead><tbody><tr><td>CUESTIÓN</td><td colspan=\"2\">RESOLUCIÓN</td><td>EJEMPLO</td></tr><tr><td>Sumar/Restar</td><td colspan=\"2\">variable=variable1variable2</td><td>c=a+b</td></tr><tr><td>Multiplicar por un valor escalar</td><td colspan=\"2\">variable=vector*valor</td><td>x=a*10</td></tr><tr><td>Elevar sus componentes a una potencia</td><td colspan=\"2\">variable=vector**valor</td><td>x=a**2</td></tr><tr><td>Trocear vectores</td><td colspan=\"2\">variable = vector[inicio(noIncluido):final(noIncluirlo)]<br>#Si dejas en blanco es equivalente al primero/último</td><td>a[:3] #Del inicio al 3º</td></tr></tbody></table>\n",
    "\n",
    "<table style=\"width: 100%\"><thead><tr><th colspan=\"4\">Aceleración con NumPy en el cálculo de normas de vectores</th></tr></thead><tbody><tr><td>CUESTIÓN</td><td colspan=\"2\">RESOLUCIÓN</td><td>EJEMPLO</td></tr><tr><td>Vector Random</td><td colspan=\"2\">variable = np.random.rand(nºDeValores)</td><td>x = np.random.rand(10)</td></tr><tr><td> Norma dun vector<br>(raíz cuadrada del produto interior del vector por sí mesmo)                                       </td><td colspan=\"2\">def compute_norm(x):<br>norm =0.0<br>for xi in x:<br>    norm +=xi*xi<br>return np.sqrt(norm)</td><td>def compute_norm(x):<br>norm =0.0<br>for xi in x:<br>    norm +=xi*xi<br>return np.sqrt(norm)</td></tr><tr><td>Tiempo de cálculo</td><td colspan=\"2\">%time variable = función <br>#Tiempo de cálculo de una variable</td><td>% time norm = compute_norm(x)</td></tr><tr><td colspan=\"4\">Ejemplo: <br>x = np.random.rand(10)<br>def compute_norm(x):<br>norm =0.0<br>for xi in x:<br>    norm +=xi*xi <br>return np.sqrt(norm)<br>% time norm<br>print(norm)</td></tr></tbody></table>"
   ]
  },
  {
   "cell_type": "markdown",
   "id": "47915ee2",
   "metadata": {},
   "source": [
    "## 0.3.MatplotLib\n",
    "import **matplotlib.pyplot** as **pl**"
   ]
  },
  {
   "cell_type": "markdown",
   "id": "290b8904",
   "metadata": {},
   "source": [
    "# 1. Funciones"
   ]
  },
  {
   "cell_type": "markdown",
   "id": "d76fc909",
   "metadata": {},
   "source": [
    "## 1.1.Calculadora de funciones"
   ]
  },
  {
   "cell_type": "code",
   "execution_count": 560,
   "id": "9543d705",
   "metadata": {},
   "outputs": [
    {
     "data": {
      "text/latex": [
       "$\\displaystyle \\left( x \\mapsto x + 1 \\right)$"
      ],
      "text/plain": [
       "Lambda(x, x + 1)"
      ]
     },
     "metadata": {},
     "output_type": "display_data"
    },
    {
     "data": {
      "text/latex": [
       "$\\displaystyle 2$"
      ],
      "text/plain": [
       "2"
      ]
     },
     "metadata": {},
     "output_type": "display_data"
    }
   ],
   "source": [
    "import sympy as sp\n",
    "x =sp.Symbol('x',Real=True)\n",
    "expr = 1+x #Introduce aqui a expresión da función\n",
    "f = sp.Lambda(x,expr)\n",
    "display(f)\n",
    "p = 1 #Sustituye el 1 por el punto que quieres sustituir\n",
    "f1 = expr.subs({x:p}) \n",
    "display(f1)"
   ]
  },
  {
   "cell_type": "markdown",
   "id": "b8df81e2",
   "metadata": {},
   "source": [
    "# 2.Limites"
   ]
  },
  {
   "cell_type": "markdown",
   "id": "f578d80d",
   "metadata": {},
   "source": [
    "### 2.1 Propiedades arítmeticas de los límites\n",
    "Sean $f,g:A\\subset\\mathbb{R}\\rightarrow\\mathbb{R}$, $x_0\\in A$. Supongamos que ambas funciones tienen límite\n",
    "finito en $x_0$. Entonces\n",
    "\n",
    "1. $\\displaystyle\\lim_{x\\to x_0}\\left(\\lambda f\\right)(x)=\\lambda\\lim_{x\\to x_0} f(x),\\qquad\\forall\\lambda\\in\\mathbb{R}$,\n",
    "2. $\\displaystyle\\lim_{x\\to x_0}\\left(f\\pm g\\right)(x)=\\left(\\lim_{x\\to x_0} f(x)\\right)\\pm\\left(\\lim_{x\\to x_0} g(x)\\right)$,\n",
    "3. $\\displaystyle \\lim_{x\\to x_0}\\left(fg\\right)(x)=\\left(\\lim_{x\\to x_0} f(x)\\right)\\left(\\lim_{x\\to x_0} g(x)\\right)$,\n",
    "4. $\\displaystyle \\lim_{x\\to x_0}\\left(\\frac{f}{g}\\right)(x)=\\frac{\\displaystyle\\lim_{x\\to x_0} f(x)}{\\displaystyle\\lim_{x\\to x_0} g(x)}$ si $\\displaystyle\\lim_{x\\to x_0} g(x)\\not=0$."
   ]
  },
  {
   "cell_type": "markdown",
   "id": "81ef3fc8",
   "metadata": {},
   "source": [
    "### 2.2.Calculadora de limites"
   ]
  },
  {
   "cell_type": "code",
   "execution_count": 561,
   "id": "1f0eb1f1",
   "metadata": {},
   "outputs": [
    {
     "data": {
      "text/plain": [
       "'El limite por la izquierda de f(x)= '"
      ]
     },
     "metadata": {},
     "output_type": "display_data"
    },
    {
     "data": {
      "text/latex": [
       "$\\displaystyle \\lim_{x \\to 0^-}\\left(\\frac{2 x^{2} + 2 x - e^{2 x} + 1}{\\sin{\\left(x^{2} \\right)}}\\right)$"
      ],
      "text/plain": [
       "Limit((2*x**2 + 2*x - exp(2*x) + 1)/sin(x**2), x, 0, dir='-')"
      ]
     },
     "metadata": {},
     "output_type": "display_data"
    },
    {
     "data": {
      "text/plain": [
       "'El valor del limite por la izquierda es:'"
      ]
     },
     "metadata": {},
     "output_type": "display_data"
    },
    {
     "data": {
      "text/latex": [
       "$\\displaystyle 0$"
      ],
      "text/plain": [
       "0"
      ]
     },
     "metadata": {},
     "output_type": "display_data"
    },
    {
     "data": {
      "text/plain": [
       "'El limite por la derecha de f(x)= '"
      ]
     },
     "metadata": {},
     "output_type": "display_data"
    },
    {
     "data": {
      "text/latex": [
       "$\\displaystyle \\lim_{x \\to 0^+}\\left(\\frac{2 x^{2} + 2 x - e^{2 x} + 1}{\\sin{\\left(x^{2} \\right)}}\\right)$"
      ],
      "text/plain": [
       "Limit((2*x**2 + 2*x - exp(2*x) + 1)/sin(x**2), x, 0)"
      ]
     },
     "metadata": {},
     "output_type": "display_data"
    },
    {
     "data": {
      "text/plain": [
       "'El valor del limite por la derecha es:'"
      ]
     },
     "metadata": {},
     "output_type": "display_data"
    },
    {
     "data": {
      "text/latex": [
       "$\\displaystyle 0$"
      ],
      "text/plain": [
       "0"
      ]
     },
     "metadata": {},
     "output_type": "display_data"
    },
    {
     "name": "stdout",
     "output_type": "stream",
     "text": [
      "Los limites existen, son iguales y por lo tanto existe limite en ese punto.\n"
     ]
    },
    {
     "data": {
      "text/plain": [
       "'El valor del limite es:'"
      ]
     },
     "metadata": {},
     "output_type": "display_data"
    },
    {
     "data": {
      "text/latex": [
       "$\\displaystyle 0$"
      ],
      "text/plain": [
       "0"
      ]
     },
     "metadata": {},
     "output_type": "display_data"
    }
   ],
   "source": [
    "import sympy as sp\n",
    "from sympy import Limit, limit, Symbol, S\n",
    "x=sp.Symbol('x',Real=True)\n",
    "expr = ((2*x**2)+2*x+1-sp.E**(2*x))/sp.sin(x**2) #Cambiamos la expresión por la que queramos usar\n",
    "f = sp.Lambda(x,expr)\n",
    "p=0#Cambiamos el 1 por el punto que queramos usar\n",
    "lizquierda= sp.Limit(f(x),x,p,dir='-')  \n",
    "lderecha=sp.Limit(f(x),x,p,dir='+') \n",
    "display(\"El limite por la izquierda de f(x)= \",lizquierda)\n",
    "display(\"El valor del limite por la izquierda es:\",lizquierda.doit())\n",
    "display(\"El limite por la derecha de f(x)= \",lderecha)\n",
    "display(\"El valor del limite por la derecha es:\",lderecha.doit())\n",
    "if lizquierda.doit()==lderecha.doit() : {print(\"Los limites existen, son iguales y por lo tanto existe limite en ese punto.\"),\n",
    "display(\"El valor del limite es:\",Limit(f(x),x, p).doit())}\n",
    "else: print(\"No existe el limite en el punto\",p)"
   ]
  },
  {
   "cell_type": "markdown",
   "id": "0ef642d7",
   "metadata": {},
   "source": [
    "### 2.3.Asíntotas\n",
    "**Definición:** Sea $f:\\mathbb{R}\\rightarrow\\mathbb{R}$. \n",
    "\n",
    "* Diremos que $x=x_0$ es una **asíntota vertical** de $f$ si\n",
    "\n",
    "    $$\n",
    "    \\lim_{x\\to x_0}f(x)=\\pm\\infty.\n",
    "    $$\n",
    "    En este tipo de asíntota, y en los dos que se definirán a continuación, si la\n",
    "    convergencia se tiene sólamente por uno de los dos lados, hablaremos de asíntota\n",
    "    vertical (horizontal u oblicua, según proceda) por la izquierda o por la derecha.\n",
    "* Diremos que $y=l$ es una **asíntota horizontal** de $f$ si\n",
    "\n",
    "    $$\n",
    "    \\lim_{x\\to\\pm\\infty}f(x)=l.\n",
    "    $$\n",
    "* Diremos que la recta $y=mx+n$ es una **asíntota oblicua** de $f$ si\n",
    "\n",
    "    $$\n",
    "    \\lim_{x\\to\\pm\\infty}\\left(f(x)-(mx+n)\\right)=0.\n",
    "    $$\n",
    "\n",
    "    En este último caso, para saber si una función tiene asíntotas oblicuas,\n",
    "    procederemos como sigue. Primero calculamos \n",
    "\n",
    "    $$\n",
    "    m=\\lim_{x\\to \\pm\\infty}\\frac{f(x)}{x},\n",
    "    $$\n",
    "\n",
    "    si este límite existe y es finito calculamos\n",
    "    \n",
    "    $$\n",
    "    n=\\lim_{x\\to\\pm\\infty}\\left(f(x)-mx\\right).\n",
    "    $$\n",
    "    Si este segundo límite también existe y es finito, la recta $y=mx+n$ es una asíntota\n",
    "    oblicua de $f$. Si alguno de los límites anteriores no existe o no es finito, la\n",
    "    función no tiene asíntotas oblicuas."
   ]
  },
  {
   "cell_type": "markdown",
   "id": "3fab45cd",
   "metadata": {},
   "source": [
    "### 2.4.Calculadora de Asíntotas"
   ]
  },
  {
   "cell_type": "code",
   "execution_count": 562,
   "id": "3fedb82d",
   "metadata": {
    "scrolled": true
   },
   "outputs": [
    {
     "name": "stdout",
     "output_type": "stream",
     "text": [
      "FUNCIÓN\n"
     ]
    },
    {
     "data": {
      "text/latex": [
       "$\\displaystyle x e^{1 - x}$"
      ],
      "text/plain": [
       "x*exp(1 - x)"
      ]
     },
     "metadata": {},
     "output_type": "display_data"
    },
    {
     "name": "stdout",
     "output_type": "stream",
     "text": [
      "ASÍNTOTA VERTICAL\n"
     ]
    },
    {
     "data": {
      "text/latex": [
       "$\\displaystyle \\lim_{x \\to 2^+}\\left(x e^{1 - x}\\right)$"
      ],
      "text/plain": [
       "Limit(x*exp(1 - x), x, 2)"
      ]
     },
     "metadata": {},
     "output_type": "display_data"
    },
    {
     "data": {
      "text/latex": [
       "$\\displaystyle \\frac{2}{e}$"
      ],
      "text/plain": [
       "2*exp(-1)"
      ]
     },
     "metadata": {},
     "output_type": "display_data"
    },
    {
     "name": "stdout",
     "output_type": "stream",
     "text": [
      "El punto 2 no es una asintota vertical\n",
      "ASÍNTOTA HORIZONTAL\n"
     ]
    },
    {
     "data": {
      "text/latex": [
       "$\\displaystyle \\lim_{x \\to \\infty}\\left(x e^{1 - x}\\right)$"
      ],
      "text/plain": [
       "Limit(x*exp(1 - x), x, oo, dir='-')"
      ]
     },
     "metadata": {},
     "output_type": "display_data"
    },
    {
     "data": {
      "text/latex": [
       "$\\displaystyle 0$"
      ],
      "text/plain": [
       "0"
      ]
     },
     "metadata": {},
     "output_type": "display_data"
    },
    {
     "data": {
      "text/latex": [
       "$\\displaystyle \\lim_{x \\to -\\infty}\\left(x e^{1 - x}\\right)$"
      ],
      "text/plain": [
       "Limit(x*exp(1 - x), x, -oo)"
      ]
     },
     "metadata": {},
     "output_type": "display_data"
    },
    {
     "data": {
      "text/latex": [
       "$\\displaystyle -\\infty$"
      ],
      "text/plain": [
       "-oo"
      ]
     },
     "metadata": {},
     "output_type": "display_data"
    },
    {
     "name": "stdout",
     "output_type": "stream",
     "text": [
      "No existe limite de f(x) cuando x tiende más/menos infinito, por lo tanto concluimos no existen asíntotas horizontales\n"
     ]
    },
    {
     "data": {
      "text/latex": [
       "$\\displaystyle \\lim_{x \\to \\infty}\\left(x e^{1 - x}\\right)$"
      ],
      "text/plain": [
       "Limit(x*exp(1 - x), x, oo, dir='-')"
      ]
     },
     "metadata": {},
     "output_type": "display_data"
    },
    {
     "name": "stdout",
     "output_type": "stream",
     "text": [
      "La asíntota horizontal da función é y = 0\n",
      "ASÍNTOTA OBLICUA\n"
     ]
    },
    {
     "data": {
      "text/latex": [
       "$\\displaystyle \\lim_{x \\to \\infty} e^{1 - x}$"
      ],
      "text/plain": [
       "Limit(exp(1 - x), x, oo, dir='-')"
      ]
     },
     "metadata": {},
     "output_type": "display_data"
    },
    {
     "data": {
      "text/latex": [
       "$\\displaystyle 0$"
      ],
      "text/plain": [
       "0"
      ]
     },
     "metadata": {},
     "output_type": "display_data"
    },
    {
     "data": {
      "text/latex": [
       "$\\displaystyle \\lim_{x \\to -\\infty} e^{1 - x}$"
      ],
      "text/plain": [
       "Limit(exp(1 - x), x, -oo)"
      ]
     },
     "metadata": {},
     "output_type": "display_data"
    },
    {
     "data": {
      "text/latex": [
       "$\\displaystyle \\infty$"
      ],
      "text/plain": [
       "oo"
      ]
     },
     "metadata": {},
     "output_type": "display_data"
    },
    {
     "data": {
      "text/latex": [
       "$\\displaystyle \\lim_{x \\to \\infty}\\left(x e^{1 - x}\\right)$"
      ],
      "text/plain": [
       "Limit(x*exp(1 - x), x, oo, dir='-')"
      ]
     },
     "metadata": {},
     "output_type": "display_data"
    },
    {
     "data": {
      "text/latex": [
       "$\\displaystyle 0$"
      ],
      "text/plain": [
       "0"
      ]
     },
     "metadata": {},
     "output_type": "display_data"
    },
    {
     "data": {
      "text/latex": [
       "$\\displaystyle \\lim_{x \\to -\\infty}\\left(x e^{1 - x}\\right)$"
      ],
      "text/plain": [
       "Limit(x*exp(1 - x), x, -oo)"
      ]
     },
     "metadata": {},
     "output_type": "display_data"
    },
    {
     "data": {
      "text/latex": [
       "$\\displaystyle -\\infty$"
      ],
      "text/plain": [
       "-oo"
      ]
     },
     "metadata": {},
     "output_type": "display_data"
    },
    {
     "name": "stdout",
     "output_type": "stream",
     "text": [
      "No existe asíntota oblicua\n",
      "REPRESENTACIÓN GRÁFICA\n"
     ]
    },
    {
     "data": {
      "image/png": "[encoded data removed]",
      "text/plain": [
       "<Figure size 640x480 with 1 Axes>"
      ]
     },
     "metadata": {},
     "output_type": "display_data"
    }
   ],
   "source": [
    "import sympy as sp\n",
    "x = sp.Symbol(\"x\", Real=True)\n",
    "expr = (x/(sp.E**(x-1)))\n",
    "f = sp.Lambda(x,expr)\n",
    "print(\"FUNCIÓN\")\n",
    "display(expr)\n",
    "#ASÍNTOTA VERTICAL y = punto en el que el limite de f(x)=oo\n",
    "print(\"ASÍNTOTA VERTICAL\")\n",
    "x0=2 #Le damos el valor a x0 dela posible raíz (valor de x cuando el denominador = 0))\n",
    "y=sp.Limit(f(x),x,x0)\n",
    "display(y)\n",
    "y1=sp.Limit(f(x),x,x0).doit()\n",
    "display(y1)\n",
    "if yv1==sp.oo or yv1==-sp.oo: print(\"La asíntota vertical de f(x)\", \"es x =\",x0)\n",
    "else: print(\"El punto\",x0,\"no es una asintota vertical\")\n",
    "#ASÍNTOTA HORIZONTAL y= valor del limite cuando x tiende a infinito\n",
    "print(\"ASÍNTOTA HORIZONTAL\")\n",
    "y2izq=sp.Limit(f(x),x,sp.oo,dir='-')\n",
    "y2der=sp.Limit(f(x),x,-sp.oo,dir='+')\n",
    "yv2izq=y2izq.doit()\n",
    "yv2der=y2der.doit()\n",
    "display(y2izq), display(yv2izq), display(y2der), display(yv2der)\n",
    "if y2izq.doit()==y2der.doit() :print(\"Existe el limite de f(x) cuando x tiende a mas/menos infinito\")\n",
    "else: print(\"No existe limite de f(x) cuando x tiende más/menos infinito, por lo tanto concluimos no existen asíntotas horizontales\")\n",
    "y2=sp.Limit(f(x),x,sp.oo)\n",
    "display(y2)\n",
    "print(\"La asíntota horizontal da función é y =\",y2.doit())\n",
    "#ASÍNTOTA OBLICUA\n",
    "print(\"ASÍNTOTA OBLICUA\")\n",
    "mizq=sp.Limit(f(x)/x,x,sp.oo,dir='-')\n",
    "mider=sp.Limit(f(x)/x,x,-sp.oo,dir='+')\n",
    "display(mizq), display(mizq.doit()),display(mider),display(mider.doit())\n",
    "m=sp.limit(f(x)/x,x,sp.oo)\n",
    "if (mizq.doit()==mider.doit()): print(\"Existe limite de m\"),\n",
    "nizq = sp.Limit(f(x)-m*x,x,sp.oo,dir='-')\n",
    "nider = sp.Limit(f(x)-m*x,x,-sp.oo,dir='+')\n",
    "display(nizq),display(nizq.doit()),display(nider),display(nider.doit())\n",
    "n=sp.limit(f(x)-m*x,x,sp.oo)\n",
    "if (nizq.doit()==nider.doit()): print(\"Existe limite de n\")\n",
    "y3= m*x+n\n",
    "if y2izq.doit()==y2der.doit() : print(\"No existen asintotas oblicuas\")\n",
    "else:\n",
    "    if ((mizq.doit()==mider.doit() and mizq.doit()!=sp.oo)and(nizq.doit()==nider.doit() and nizq.doit()!=sp.oo)): print(\"A asíntota oblicua da función es y =\",y3)\n",
    "    else: print(\"No existe asíntota oblicua\")\n",
    "#INICIAR JUSTO DESPOIS DA ANTERIOR\n",
    "print(\"REPRESENTACIÓN GRÁFICA\")\n",
    "grafica = sp.plot(f(x),(x, p-1, p+1), show=False) #Escribir as f1(x),f2(x),...,(x,principioEnX,finalEnX)\n",
    "grafica[0].line_color='y' #Marcamos el color amarillo para la gráfica\n",
    "grafica.xlabel='x' #Nombramos el eje de las abscisas como queramos\n",
    "grafica.ylabel='y' #Nombramos el eje de las ordenadas como queramos\n",
    "grafica.legend=True #Mostramos la legenda de la función\n",
    "grafica.show()"
   ]
  },
  {
   "cell_type": "markdown",
   "id": "b1cf763d",
   "metadata": {},
   "source": [
    "### 2.5.Regla de L'Hopital\n",
    "Sea $x_{0}\\in\\mathbb{R}$ y $f$ y $g$ funciones derivables en $\\left(x_{0}-r, x_{0}\\right)\\cup\\left(x_{0}, x_{0}+r\\right)$. \n",
    "\n",
    "Si $\\displaystyle \\lim_{x\\to x_{0}} f(x) = \\displaystyle\\lim_{x\\to x_{0}} g(x) = 0$ y $\\exists\\displaystyle\\lim_{x\\to x_{0}} \\dfrac{f'(x)}{g'(x)}$ entonces \n",
    "$\\exists\\displaystyle\\lim_{x\\to x_{0}} \\dfrac{f(x)}{g(x)}$ y \n",
    "\n",
    "$$\n",
    "\\displaystyle\\lim_{x\\to x_{0}} \\dfrac{f(x)}{g(x)} = \\displaystyle\\lim_{x\\to x_{0}} \\dfrac{f'(x)}{g'(x)}.\n",
    "$$\n",
    "**INDETERMINACIONES**\n",
    "* $\\displaystyle \\frac{0}{0} = $ INDETERMINADO,\n",
    "* $\\displaystyle \\frac{\\pm\\infty}{\\pm\\infty} = $ INDETERMINADO,\n",
    "* $\\displaystyle 0\\left(\\pm\\infty\\right) = $ INDETERMINADO,\n",
    "* $+\\infty - \\infty  = $ INDETERMINADO,\n",
    "* $-\\infty + \\infty  = $ INDETERMINADO,\n",
    "*  $\\displaystyle 1^{\\pm\\infty} = $ INDETERMINADO,\n",
    "* $\\displaystyle 0^{0}  = $ INDETERMINADO,\n",
    "* $\\displaystyle \\left(\\pm\\infty\\right)^{0}  = $ INDETERMINADO."
   ]
  },
  {
   "cell_type": "markdown",
   "id": "0ea3afa7",
   "metadata": {},
   "source": [
    "## 3.Derivación\n",
    "### 3.1.Derivadas Inmediatas\n",
    "<table style=\"width: 100%\">\n",
    "<tr> <th>Caso</th> <th>Derivada</th> <th>Caso</th> <th>Derivada</th> </tr>\n",
    "<tr> <td>$y = k$</td> <td>$y'= 0$</td> <td>$y=x$</td> <td>$y'=1$</td> </tr>\n",
    "<tr> <td>$y = k·x$</td> <td>$y'= k$</td><td>$y = k·f{x}$<td>$y'= k·f'(x)$</td> </tr>\n",
    "<tr> <td>$y = x^n $</td> <td>$y'= n·x^{(n-1)} $</td> <td>$y = f{x}^n $</td> <td>$y'= n·f{x}^{(n-1)}·f'{x}$</td> </tr>\n",
    "<tr> <td>$y = \\sqrt{x} $</td> <td>$y'= \\frac{1}{2·\\sqrt{x}}$</td> <td>$y = \\sqrt{f{x}} $</td> <td>$y'= \\frac{1}{2·\\sqrt{f{x}}} · f'(x) $</td> </tr>\n",
    "<tr> <td>$y = \\frac{1}{x} $</td> <td>$y'= \\frac{-1}{x²} $</td> <td>$y = \\frac{1}{f{x}} $</td> <td>$y'= \\frac{-1}{f{x}²}·f'{x}$</td> </tr>\n",
    "<tr> <td>$y = e^x $</td> <td>$y'= e^x $</td> <td>$ y = e^{f{x}} $</td> <td>$y'= e^{f{x}}·f'{x} $</td> </tr>\n",
    "<tr> <td>$y = a^x $</td> <td>$y'= a^x·\\ln{a} $</td> <td>$y = a^{f{x}} $</td> <td>$y'= a^{f{x}}·\\ln{a} $</td> </tr>\n",
    "<tr> <td>$y= \\ln(x) $</td> <td>$y'= 1/x $</td> <td>$y = \\ln(f{x}) $</td> <td>$ y'= \\frac{1}{f{x}}·f'{x} $</td> </tr>\n",
    "<tr> <td>$y = \\log_a{x}$</td> <td>$y'= \\frac{1}{x}·\\frac{1}{\\ln{a}} $</td> <td>$y = \\log_a{f{x}} $</td> <td>$y'= \\frac{1}{f{x}}·\\frac{1}{\\ln{a}}$ </td> </tr>\n",
    "<tr> <td>$y=\\sin{x} $</td> <td>$y'=\\cos{x} $</td> <td>$y=\\sin{f{x}}$</td> <td>$y'=\\cos{f{x}}·f'{x} $</td> </tr>\n",
    "<tr> <td>$y=\\cos{x} $</td> <td>$y'=-\\sin{x} $</td> <td>$y=\\cos{f{x}} $</td> <td>$y'=-\\sin{f{x}}·f'{x} $</td> </tr>\n",
    "<tr> <td>$y=\\tan{x} $</td> <td>$y'=\\frac{1}{\\cos²{x}} $</td> <td>$y=\\tan{f{x}} $</td> <td>$y'=\\frac{1}{\\cos²{f{x}}}·f'{x} $</td> </tr>\n",
    "<tr> <td>$y=\\arcsin{x} $</td> <td>$y'= \\frac{1}{\\sqrt{1-x²}}$</td> <td>$y=\\arcsin{f{x}} $</td> <td>$y'=\\frac{1}{\\sqrt{1-f{x}²}}·f'{x} $</td> </tr>\n",
    "<tr> <td>$y=\\arccos{x}$</td> <td>$y'=-\\frac{1}{\\sqrt{1-x²}} $</td> <td>$y=\\arccos{f{x}} $</td> <td>$y'=-\\frac{1}{\\sqrt{1-f{x}²}}·f'{x} $</td> </tr>\n",
    "<tr> <td>$y=\\arctan{x}$</td> <td>$y'=\\frac{1}{1+x²}$</td> <td>$y=\\arctan{f{x}} $</td> <td>$y'=\\frac{1}{1+{f²{x}}}·f'{x}$</td> </tr>\n",
    "</table>\n",
    "$(\\sqrt{x} = x^{1/2})$\n",
    "\n",
    "### 3.2.Definición de Derivada\n",
    "Sea $f:(a,b) \\rightarrow \\mathbb R, x_0 \\in (a,b).$ Definimos <b>la derivada de f en </b> $x_0$  como el límite, si existe de:\n",
    "\n",
    "$$f'(x_0)=\n",
    "\\lim\\limits_{x\\rightarrow x_0}\\frac{f{(x)}-f{(x_0)}}{x-x_0}=\n",
    "\\lim\\limits_{h\\rightarrow 0}\\frac{f{(x_o+h)}-f{(x_0)}}{h}$$\n",
    "\n",
    "Debemos tener en cuenta que esta definición tambien aplica para la derivada de la derivada siendo $f{(x)}$ $f'{(x)}$\n",
    "\n",
    "**EJEMPLO:** Demuestra que $f'{(x)}=10x $ sabiendo que $ f{(x)}=5x²$\n",
    "\n",
    "$\\lim\\limits_{h\\rightarrow 0}\\frac{f{x+h}-f{x}}{h}=\\lim\\limits_{h\\rightarrow 0}\\frac{5·(x+h)²-5·x²}{h}=\\lim\\limits_{h\\rightarrow 0}\\frac{5(h²+2hx+x²)-5x²}{h} =\\lim\\limits_{h\\rightarrow 0}\\frac{5h²+10hx+5x²-5x²}{h}\n",
    "\\lim\\limits_{h\\rightarrow 0}\\frac{5h²+10hx}{h}=\\lim\\limits_{h\\rightarrow 0}5h+10x=10x$\n",
    "\n",
    "### 3.3.Propiedades aritmeticas de la derivada\n",
    "\n",
    "#### · Uso de estas propiedades en casos especificos\n",
    "\n",
    "##### · Derivación de funciones trigonometricas\n",
    "\n",
    "##### · Derivación de logaritmos\n",
    "\n",
    "##### · Derivación de composición de funciones\n",
    "\n",
    "##### · Derivación de función inversa\n",
    "\n",
    "##### · Derivación logaritmica"
   ]
  },
  {
   "cell_type": "markdown",
   "id": "7baee389",
   "metadata": {},
   "source": [
    "### 3.4.Calculadora de derivadas"
   ]
  },
  {
   "cell_type": "code",
   "execution_count": 563,
   "id": "d4ed8251",
   "metadata": {},
   "outputs": [
    {
     "name": "stdout",
     "output_type": "stream",
     "text": [
      "La función es:\n"
     ]
    },
    {
     "data": {
      "text/latex": [
       "$\\displaystyle e^{x - 1}$"
      ],
      "text/plain": [
       "exp(x - 1)"
      ]
     },
     "metadata": {},
     "output_type": "display_data"
    },
    {
     "name": "stdout",
     "output_type": "stream",
     "text": [
      "La derivada 1 es: \n"
     ]
    },
    {
     "data": {
      "text/latex": [
       "$\\displaystyle e^{x - 1}$"
      ],
      "text/plain": [
       "exp(x - 1)"
      ]
     },
     "metadata": {},
     "output_type": "display_data"
    },
    {
     "name": "stdout",
     "output_type": "stream",
     "text": [
      "El valor de la derivada en el punto 0 es: \n"
     ]
    },
    {
     "data": {
      "text/latex": [
       "$\\displaystyle e^{-1}$"
      ],
      "text/plain": [
       "exp(-1)"
      ]
     },
     "metadata": {},
     "output_type": "display_data"
    }
   ],
   "source": [
    "import sympy as sp\n",
    "x =sp.Symbol('x',Real=True)\n",
    "a =sp.Symbol('a',Real=True)\n",
    "b =sp.Symbol('b',Real=True)\n",
    "expr = (sp.E**(x-1)) #Introduce aqui a expresión da función\n",
    "f = sp.Lambda(x,expr)\n",
    "n=1 #Cambia el valor por el numero de la derivada que necesites\n",
    "x0=0 #Cambia el valor por el numero de la derivada que necesites\n",
    "fd = sp.diff(expr,x,n)\n",
    "print(\"La función es:\"),display(expr)\n",
    "print(\"La derivada\",n,\"es: \"),display(fd)\n",
    "print(\"El valor de la derivada en el punto\",x0,\"es: \")\n",
    "display(fd.subs({x:x0}))"
   ]
  },
  {
   "cell_type": "markdown",
   "id": "adfbf96d",
   "metadata": {},
   "source": [
    "## 4.Continuidad y Derivabilidad\n",
    "### 4.1.Continuidad\n",
    "Una función es continua en un punto si existe limite de esa función en ese punto (existen sus limites laterales y coinciden) y coincide con su imagen\n",
    "\n",
    "$\\lim\\limits_{x\\rightarrow x_0⁻}f{x}=\\lim\\limits_{x\\rightarrow x_0⁺}f{x}=f{x_0}$\n",
    "\n",
    "Si hay un punto en el que se anula la función, ese punto no pertenece al dominio por lo tanto no es continua en ese punto.\n",
    "\n",
    "Si una función esta definida a trozos tenemos que mirar la continuidad de los trozos en sus correspondientes intervalos y en los puntos en los que se cambia de función.\n",
    "\n",
    "Ejemplo:\n",
    "$$\n",
    "            f(t) = \\left\\{\\begin{array}{cl}\n",
    "            (\\cos(t) + t)^2          \\, & \\quad  \\text{se } t < 2\\pi, \\\\    \n",
    "            \\dfrac{t^3 +1}{t^2 - 4}      \\, & \\quad  \\text{se } t \\geq 2\\pi. \\\\\n",
    "            \\end{array}\\right.\n",
    "$$\n",
    "Miramos la continuidad en cada trozo:\n",
    "\n",
    "1º Trozo: Es continua ya que es una función trigonometrica\n",
    "\n",
    "2º Trozo: El denomidor se anula (vale 0) en los puntos 2 y -2 (2²-4=(-2)²-4=0) pero como esos puntos no estan definidos en el 2º \n",
    "\n",
    "(como 2$\\pi$ es mayor que 2 y que -2)\n",
    "\n",
    "Tenemos que averiguar si es continua en el punto $2\\pi$\n",
    "\n",
    "$\\lim\\limits_{t\\rightarrow 2\\pi⁻}f{x}=\\lim\\limits_{t\\rightarrow 2\\pi⁻}{(\\cos(t) + t)^2}=(\\cos(2\\pi) + 2\\pi)^2=(1 + 2\\pi)^2$\n",
    "\n",
    "$\\lim\\limits_{t\\rightarrow 2\\pi⁺}f{x}=\\lim\\limits_{t\\rightarrow 2\\pi⁺}{\\dfrac{t^3 +1}{t^2 - 4}}=\\dfrac{(2\\pi)^3 +1}{(2\\pi)^2 - 4}=\\dfrac{8\\pi^3 +1}{4\\pi^2 - 4}=\\dfrac{249.05}{35.48}=7.019$\n",
    "\n",
    "$Como \\lim\\limits_{x\\rightarrow 2\\pi⁻}f{x}\\neq\\lim\\limits_{x\\rightarrow 2\\pi⁺}f{x}\\neq f{(2\\pi)}$ la función no es continua en ese punto y por lo tanto no es derivable"
   ]
  },
  {
   "cell_type": "markdown",
   "id": "90883aab",
   "metadata": {},
   "source": [
    "### 4.2.Derivabilidad\n",
    "La derivabilidad es la continuidad de la primera derivada de la función, por lo tanto requiere hacerle los mismos pasos a la función"
   ]
  },
  {
   "cell_type": "markdown",
   "id": "6b20e8ad",
   "metadata": {},
   "source": [
    "### 4.3.Calculadora de Cotinuidad y Derivabilidad de una función"
   ]
  },
  {
   "cell_type": "code",
   "execution_count": 564,
   "id": "09e4b48b",
   "metadata": {},
   "outputs": [
    {
     "name": "stdout",
     "output_type": "stream",
     "text": [
      "FUNCIÓN\n"
     ]
    },
    {
     "data": {
      "text/latex": [
       "$\\displaystyle \\left( x \\mapsto \\begin{cases} - x e^{1 - x} & \\text{for}\\: x < 0 \\\\x e^{1 - x} & \\text{otherwise} \\end{cases} \\right)$"
      ],
      "text/plain": [
       "Lambda(x, Piecewise((-x*exp(1 - x), x < 0), (x*exp(1 - x), True)))"
      ]
     },
     "metadata": {},
     "output_type": "display_data"
    },
    {
     "name": "stdout",
     "output_type": "stream",
     "text": [
      "PRIMER TROZO\n"
     ]
    },
    {
     "data": {
      "text/latex": [
       "$\\displaystyle - x e^{1 - x}$"
      ],
      "text/plain": [
       "-x*exp(1 - x)"
      ]
     },
     "metadata": {},
     "output_type": "display_data"
    },
    {
     "data": {
      "text/plain": [
       "'es continua en el intervalo '"
      ]
     },
     "metadata": {},
     "output_type": "display_data"
    },
    {
     "data": {
      "text/latex": [
       "$\\displaystyle \\left(-\\infty, 0\\right)$"
      ],
      "text/plain": [
       "Interval.open(-oo, 0)"
      ]
     },
     "metadata": {},
     "output_type": "display_data"
    },
    {
     "data": {
      "text/plain": [
       "'y es derivable en el intervalo '"
      ]
     },
     "metadata": {},
     "output_type": "display_data"
    },
    {
     "data": {
      "text/latex": [
       "$\\displaystyle \\left(-\\infty, 0\\right)$"
      ],
      "text/plain": [
       "Interval.open(-oo, 0)"
      ]
     },
     "metadata": {},
     "output_type": "display_data"
    },
    {
     "name": "stdout",
     "output_type": "stream",
     "text": [
      "1 Derivada:\n"
     ]
    },
    {
     "data": {
      "text/latex": [
       "$\\displaystyle x e^{1 - x} - e^{1 - x}$"
      ],
      "text/plain": [
       "x*exp(1 - x) - exp(1 - x)"
      ]
     },
     "metadata": {},
     "output_type": "display_data"
    },
    {
     "name": "stdout",
     "output_type": "stream",
     "text": [
      "SEGUNDO TROZO\n"
     ]
    },
    {
     "data": {
      "text/latex": [
       "$\\displaystyle x e^{1 - x}$"
      ],
      "text/plain": [
       "x*exp(1 - x)"
      ]
     },
     "metadata": {},
     "output_type": "display_data"
    },
    {
     "data": {
      "text/plain": [
       "'es continua en el intervalo '"
      ]
     },
     "metadata": {},
     "output_type": "display_data"
    },
    {
     "data": {
      "text/latex": [
       "$\\displaystyle \\left[0, \\infty\\right)$"
      ],
      "text/plain": [
       "Interval(0, oo)"
      ]
     },
     "metadata": {},
     "output_type": "display_data"
    },
    {
     "data": {
      "text/plain": [
       "'y es derivable en el intervalo '"
      ]
     },
     "metadata": {},
     "output_type": "display_data"
    },
    {
     "data": {
      "text/latex": [
       "$\\displaystyle \\left[0, \\infty\\right)$"
      ],
      "text/plain": [
       "Interval(0, oo)"
      ]
     },
     "metadata": {},
     "output_type": "display_data"
    },
    {
     "name": "stdout",
     "output_type": "stream",
     "text": [
      "1 Derivada:\n"
     ]
    },
    {
     "data": {
      "text/latex": [
       "$\\displaystyle - x e^{1 - x} + e^{1 - x}$"
      ],
      "text/plain": [
       "-x*exp(1 - x) + exp(1 - x)"
      ]
     },
     "metadata": {},
     "output_type": "display_data"
    },
    {
     "name": "stdout",
     "output_type": "stream",
     "text": [
      "FUNCIÓN COMPLETA\n",
      "DISCONTINUIDADES EN EL PRIMER TROZO\n"
     ]
    },
    {
     "data": {
      "text/latex": [
       "$\\displaystyle \\emptyset$"
      ],
      "text/plain": [
       "EmptySet"
      ]
     },
     "metadata": {},
     "output_type": "display_data"
    },
    {
     "name": "stdout",
     "output_type": "stream",
     "text": [
      "DISCONTINUIDADES EN EL SEGUNDO TROZO\n"
     ]
    },
    {
     "data": {
      "text/latex": [
       "$\\displaystyle \\emptyset$"
      ],
      "text/plain": [
       "EmptySet"
      ]
     },
     "metadata": {},
     "output_type": "display_data"
    },
    {
     "name": "stdout",
     "output_type": "stream",
     "text": [
      "CONTINUIDAD EN  0\n"
     ]
    },
    {
     "data": {
      "text/latex": [
       "$\\displaystyle \\lim_{x \\to 0^-}\\left(- x e^{1 - x}\\right)$"
      ],
      "text/plain": [
       "Limit(-x*exp(1 - x), x, 0, dir='-')"
      ]
     },
     "metadata": {},
     "output_type": "display_data"
    },
    {
     "data": {
      "text/latex": [
       "$\\displaystyle 0$"
      ],
      "text/plain": [
       "0"
      ]
     },
     "metadata": {},
     "output_type": "display_data"
    },
    {
     "data": {
      "text/latex": [
       "$\\displaystyle \\lim_{x \\to 0^+}\\left(x e^{1 - x}\\right)$"
      ],
      "text/plain": [
       "Limit(x*exp(1 - x), x, 0)"
      ]
     },
     "metadata": {},
     "output_type": "display_data"
    },
    {
     "data": {
      "text/latex": [
       "$\\displaystyle 0$"
      ],
      "text/plain": [
       "0"
      ]
     },
     "metadata": {},
     "output_type": "display_data"
    },
    {
     "name": "stdout",
     "output_type": "stream",
     "text": [
      "Existe limite de 0\n",
      "Es continua en todo R\n"
     ]
    },
    {
     "data": {
      "text/latex": [
       "$\\displaystyle \\left(-\\infty, \\infty\\right)$"
      ],
      "text/plain": [
       "Interval(-oo, oo)"
      ]
     },
     "metadata": {},
     "output_type": "display_data"
    },
    {
     "name": "stdout",
     "output_type": "stream",
     "text": [
      "DISCONTINUIDADES EN EL PRIMER TROZO\n"
     ]
    },
    {
     "data": {
      "text/latex": [
       "$\\displaystyle \\emptyset$"
      ],
      "text/plain": [
       "EmptySet"
      ]
     },
     "metadata": {},
     "output_type": "display_data"
    },
    {
     "name": "stdout",
     "output_type": "stream",
     "text": [
      "DISCONTINUIDADES EN EL SEGUNDO TROZO\n"
     ]
    },
    {
     "data": {
      "text/latex": [
       "$\\displaystyle \\emptyset$"
      ],
      "text/plain": [
       "EmptySet"
      ]
     },
     "metadata": {},
     "output_type": "display_data"
    },
    {
     "name": "stdout",
     "output_type": "stream",
     "text": [
      "Es derivable en todo R\n",
      "DERIVA EN  0\n"
     ]
    },
    {
     "data": {
      "text/latex": [
       "$\\displaystyle \\lim_{x \\to 0^-}\\left(x e^{1 - x} - e^{1 - x}\\right)$"
      ],
      "text/plain": [
       "Limit(x*exp(1 - x) - exp(1 - x), x, 0, dir='-')"
      ]
     },
     "metadata": {},
     "output_type": "display_data"
    },
    {
     "data": {
      "text/latex": [
       "$\\displaystyle - e$"
      ],
      "text/plain": [
       "-E"
      ]
     },
     "metadata": {},
     "output_type": "display_data"
    },
    {
     "data": {
      "text/latex": [
       "$\\displaystyle \\lim_{x \\to 0^+}\\left(- x e^{1 - x} + e^{1 - x}\\right)$"
      ],
      "text/plain": [
       "Limit(-x*exp(1 - x) + exp(1 - x), x, 0)"
      ]
     },
     "metadata": {},
     "output_type": "display_data"
    },
    {
     "data": {
      "text/latex": [
       "$\\displaystyle e$"
      ],
      "text/plain": [
       "E"
      ]
     },
     "metadata": {},
     "output_type": "display_data"
    },
    {
     "name": "stdout",
     "output_type": "stream",
     "text": [
      "No existe limite de 0\n",
      "La función no es derivable en el intervalo\n",
      "DOMINIO DE LA FUNCIÓN\n"
     ]
    },
    {
     "data": {
      "text/latex": [
       "$\\displaystyle \\left(-\\infty, \\infty\\right)$"
      ],
      "text/plain": [
       "Interval(-oo, oo)"
      ]
     },
     "metadata": {},
     "output_type": "display_data"
    }
   ],
   "source": [
    "import sympy as sp\n",
    "x=sp.Symbol('x',Real=True)\n",
    "print(\"FUNCIÓN\")\n",
    "expr = -x/sp.E**(x-1)#Cambiamos la expresión por la que queramos usar\n",
    "expr2 = x/sp.E**(x-1)#Cambiamos la expresión por la que queramos usar\n",
    "p=0 #Punto conflictivo #RELLENAR\n",
    "linf=-sp.oo #Normalmente -sp.oo (-infinito)\n",
    "lsup=sp.oo #Normalmente sp.oo (infinito)\n",
    "i1=sp.Interval(linf,p,left_open=True,right_open=True) #CAMBIAR LOS PARAMETROS DEL INTERVALO SI NO SON CORRECTOS\n",
    "i2=sp.Interval(p,lsup,left_open=False,right_open=True)\n",
    "funcion = sp.simplify(sp.Lambda(x,(expr + (expr2 -(expr))*sp.Heaviside(x-p,1))).rewrite(sp.Piecewise))\n",
    "display(funcion)\n",
    "n=1\n",
    "print(\"PRIMER TROZO\")\n",
    "f = sp.Lambda(x,expr)\n",
    "display(expr,\"es continua en el intervalo \")\n",
    "display(sp.calculus.util.continuous_domain(f(x),x,i1)) #Esta función ya comprueba el dominio\n",
    "exprd = sp.diff(expr,x,n)\n",
    "display(\"y es derivable en el intervalo \")\n",
    "display(sp.calculus.util.continuous_domain(exprd,x,i1))\n",
    "print(n,\"Derivada:\"),sp.calculus.util.continuous_domain(f(x),x,i1)\n",
    "display(exprd)\n",
    "print(\"SEGUNDO TROZO\")\n",
    "f2 = sp.Lambda(x,expr2)\n",
    "display(expr2,\"es continua en el intervalo \")\n",
    "display(sp.calculus.util.continuous_domain(f2(x),x,i2)) #Esta función ya comprueba el dominio\n",
    "exprd2 = sp.diff(expr2,x,n)\n",
    "display(\"y es derivable en el intervalo \")\n",
    "display(sp.calculus.util.continuous_domain(exprd2,x,i2))\n",
    "print(n,\"Derivada:\")\n",
    "display(exprd2)\n",
    "print(\"FUNCIÓN COMPLETA\")\n",
    "d1=sp.calculus.singularities(expr,x,domain=i1)\n",
    "d2=sp.calculus.singularities(expr,x,domain=i2)\n",
    "print(\"DISCONTINUIDADES EN EL PRIMER TROZO\")\n",
    "display(d1)\n",
    "print(\"DISCONTINUIDADES EN EL SEGUNDO TROZO\")\n",
    "display(d2)\n",
    "print(\"CONTINUIDAD EN \",p)\n",
    "lizquierda=sp.Limit(expr,x,p,dir='-')  #Calculamos los limites laterales\n",
    "lderecha=sp.Limit(expr2,x,p,dir='+')\n",
    "display(lizquierda)\n",
    "display(lizquierda.doit())\n",
    "display(lderecha)\n",
    "display(lderecha.doit())\n",
    "if (lizquierda.doit() == lderecha.doit()): print(\"Existe limite de\",p)\n",
    "else: print(\"No existe limite de\",p)\n",
    "if(d1==d2 and d1==sp.calculus.singularities(x,x) and lizquierda.doit() == lderecha.doit() and (lizquierda.doit()==expr.subs({x:p}) or lizquierda.doit()==expr2.subs({x:p}))): \n",
    "    print(\"Es continua en todo R\")\n",
    "    display(sp.calculus.util.continuous_domain(expr,x,i1).union(sp.calculus.util.continuous_domain(expr2,x,i2)))\n",
    "    dd1=sp.calculus.singularities(exprd,x,domain=i1)\n",
    "    dd2=sp.calculus.singularities(exprd2,x,domain=i2)\n",
    "    print(\"DISCONTINUIDADES EN EL PRIMER TROZO\")\n",
    "    display(dd1)\n",
    "    print(\"DISCONTINUIDADES EN EL SEGUNDO TROZO\")\n",
    "    display(dd2)\n",
    "    if(dd1==dd2 and dd1==sp.calculus.singularities(x,x)): \n",
    "        print(\"Es derivable en todo R\")\n",
    "        print(\"DERIVA EN \",p)\n",
    "        lizquierdad=sp.Limit(exprd,x,p,dir='-')  #Calculamos los limites laterales\n",
    "        lderechad=sp.Limit(exprd2,x,p,dir='+')\n",
    "        display(lizquierdad)\n",
    "        display(lizquierdad.doit())\n",
    "        display(lderechad)\n",
    "        display(lderechad.doit())\n",
    "        if (lizquierdad == lderechad): print(\"Existe limite de\",p)\n",
    "        else: print(\"No existe limite de\",p)\n",
    "        if(dd1==dd2 and dd1==sp.calculus.singularities(x,x) and lizquierdad.doit()==lderechad.doit() and (lizquierdad.doit()==exprd.subs({x:p}) or lizquierdad.doit()==exprd2.subs({x:p}))): \n",
    "            print(\"Es derivable en todo R\")\n",
    "        else: \n",
    "            print(\"La función no es derivable en el intervalo\")\n",
    "        print(\"DOMINIO DE LA FUNCIÓN\")\n",
    "        display(sp.calculus.util.continuous_domain(exprd,x,i1).union(sp.calculus.util.continuous_domain(exprd2,x,i2)))\n",
    "else: print(\"La función NO es continua en todo el intervalo, y como no es continua NO es derivable\")\n"
   ]
  },
  {
   "cell_type": "code",
   "execution_count": 565,
   "id": "bb79e54c",
   "metadata": {},
   "outputs": [
    {
     "name": "stdout",
     "output_type": "stream",
     "text": [
      "REPRESENTACIÓN GRÁFICA\n"
     ]
    },
    {
     "data": {
      "image/png": "[encoded data removed]",
      "text/plain": [
       "<Figure size 640x480 with 1 Axes>"
      ]
     },
     "metadata": {},
     "output_type": "display_data"
    },
    {
     "data": {
      "text/latex": [
       "$\\displaystyle \\frac{2}{e}$"
      ],
      "text/plain": [
       "2*exp(-1)"
      ]
     },
     "metadata": {},
     "output_type": "display_data"
    }
   ],
   "source": [
    "#INICIAR JUSTO DESPOIS DA ANTERIOR\n",
    "print(\"REPRESENTACIÓN GRÁFICA\")\n",
    "grafica = sp.plot(funcion(x),(x, p-1, p+2), show=False) #Escribir as f1(x),f2(x),...,(x,principioEnX,finalEnX)\n",
    "grafica[0].line_color='y' #Marcamos el color amarillo para la gráfica\n",
    "grafica.xlabel='x' #Nombramos el eje de las abscisas como queramos\n",
    "grafica.ylabel='y' #Nombramos el eje de las ordenadas como queramos\n",
    "grafica.legend=True #Mostramos la legenda de la función\n",
    "grafica.show()\n",
    "display(2/sp.E*(2-1))"
   ]
  },
  {
   "cell_type": "markdown",
   "id": "9d9f4627",
   "metadata": {},
   "source": [
    "## 5.Estudio y representación de una función"
   ]
  },
  {
   "cell_type": "markdown",
   "id": "8e21cecc",
   "metadata": {},
   "source": [
    "### 5.1.Dominio e Imagen\n",
    "#### 5.1.1.Dominio\n",
    "El dominio de una función es el conjunto de todos los posibles valores de entrada de la función\n",
    "\n",
    "Para calcularlo debemos calcular los puntos que no pertenecen al dominio (No existe solución de la función) y excluirlos.\n",
    "\n",
    "Los casos en los que no existe solución son:\n",
    "\n",
    "\n",
    "* $\\frac{a}{x=0} \\rightarrow Dom f{(x)}= \\mathbb R - ${$x = 0$}\n",
    "* $\\sqrt[n_{par}]{x\\leq0} \\rightarrow Dom f{(x)}=[x\\geq 0,\\infty)$  \n",
    "* $\\sqrt[n_{par}]{x²\\leq0} \\rightarrow Dom f{(x)}=[x^2\\geq 0,\\infty)$  Hacer la recta real desde $-\\infty$ a $+\\infty$ con las soluciones de la ecuación de 2º grado por el medio, comprobamos el signo de cada trozo y el dominio es la unión de los intervalos positivos.\n",
    "* $\\frac{a}{\\sqrt[n_{par}]{x\\leq0}} \\rightarrow Dom f{(x)}=[x> 0,\\infty)$\n",
    "* $\\frac{a}{\\sqrt[n_{impar}]{x\\leq0}} \\rightarrow Dom f{(x)}= \\mathbb R - ${$x = 0$}\n",
    "\n",
    "Para el resto el $Dom f{(x)}= \\mathbb R$\n",
    "#### 5.1.2.Imagen\n",
    "La imagen de una función es el conjunto de valores que toma la misma que es lo mismo que el dominio de la función inversa\n",
    "\n",
    "Para el calculo de la función inversa de una función tenemos que sustituir 'f(x)' por 'y', depejamos 'y', depejamos la 'x' y esa función sera la inversa.\n",
    "\n",
    "**EJEMPLO**\n",
    "\n",
    "$f{(x)}=\\frac{2x+3}{x-1}$\n",
    "\n",
    "Cambiamos $f{(x)}$ por $y$\n",
    "\n",
    "$y=\\frac{2x+3}{x-1}$\n",
    "\n",
    "Despejamos x\n",
    "\n",
    "$y=\\frac{2x+3}{x-1} \\rightarrow y(x-1) = 2x+3 \\rightarrow xy-y = 2x+3 \\rightarrow xy-2x = 3+y \\rightarrow x(y-2)= 3+y \\rightarrow x = \\frac{3+y}{y-2} $\n",
    "\n",
    "Sustituímos x e y\n",
    "$f^{-1}{(x)} = \\frac{3+x}{x-2}$"
   ]
  },
  {
   "cell_type": "markdown",
   "id": "b82bece9",
   "metadata": {},
   "source": [
    "#### 5.1.3.Comprobar dominio e imagen"
   ]
  },
  {
   "cell_type": "code",
   "execution_count": 566,
   "id": "6b602379",
   "metadata": {},
   "outputs": [
    {
     "data": {
      "text/latex": [
       "$\\displaystyle \\left( x \\mapsto \\frac{2 x + 3}{x - 1} \\right)$"
      ],
      "text/plain": [
       "Lambda(x, (2*x + 3)/(x - 1))"
      ]
     },
     "metadata": {},
     "output_type": "display_data"
    },
    {
     "name": "stdout",
     "output_type": "stream",
     "text": [
      "El dominio de esta función es:\n"
     ]
    },
    {
     "data": {
      "text/latex": [
       "$\\displaystyle \\left(-\\infty, 1\\right) \\cup \\left(1, \\infty\\right)$"
      ],
      "text/plain": [
       "Union(Interval.open(-oo, 1), Interval.open(1, oo))"
      ]
     },
     "metadata": {},
     "output_type": "display_data"
    },
    {
     "name": "stdout",
     "output_type": "stream",
     "text": [
      "La imagen de esta función es:\n"
     ]
    },
    {
     "data": {
      "text/latex": [
       "$\\displaystyle \\left(-\\infty, 2\\right) \\cup \\left(2, \\infty\\right)$"
      ],
      "text/plain": [
       "Union(Interval.open(-oo, 2), Interval.open(2, oo))"
      ]
     },
     "metadata": {},
     "output_type": "display_data"
    }
   ],
   "source": [
    "import sympy as sp\n",
    "x = sp.Symbol('x',Real=True)\n",
    "#1 Trozo\n",
    "expr = (2*x+3)/(x-1)\n",
    "#2 Trozos\n",
    "#trozo1=(1-sp.E**-x)/x\n",
    "#trozo2=1\n",
    "#expr = ((trozo1)) + ((trozo2)-(trozo1))*sp.Heaviside(x-2,0) #Definimos la expresión a trozos\n",
    "# (1º trozo)+ (((2ºtrozo)-(1ºTrozo))*sp.Heaviside(condición despejada,0 sin incluir el igual,1 incluyendolo)\n",
    "\n",
    "f = sp.Lambda(x,expr)\n",
    "display(sp.simplify(f.rewrite(sp.Piecewise))) \n",
    "print(\"El dominio de esta función es:\") \n",
    "display(sp.calculus.util.continuous_domain(f(x),x,sp.Reals))\n",
    "print(\"La imagen de esta función es:\") \n",
    "display(sp.calculus.util.function_range(f(x),x,sp.Reals)) \n",
    "#Si no funciona tienes que calcular la inversa a mano y hacer su dominio"
   ]
  },
  {
   "cell_type": "markdown",
   "id": "fdef8b8e",
   "metadata": {},
   "source": [
    "### 5.2.Monotonía y Curvatura (puntos de inflexión, máximos y mínimos relativos/locales o absolutos)\n",
    "#### 5.2.1.Monotonía\n",
    "* 1.Calculamos la derivada de la función y la igualamos a cero para calcular los extremos relativos\n",
    "\n",
    "Los extremos relativos son x1=sol1, x2=sol2,.. (si hay una solucion repetida ese extremo relativo es doble) y los puntos conflictivos\n",
    "\n",
    "* 2.Estudio de la monotomia: Hacemos la recta real y situamos los posibles extremos relativos\n",
    "\n",
    "Estudiamos el signo de los intervalos que quedan en la recta real\n",
    "\n",
    "* Si $f'(x)>0$ en $[a,b] \\rightarrow f(x) $ crece en $[a,b]$\n",
    "* Si $f'(x)<0$ en $[a,b] \\rightarrow f(x) $ decrece en $[a,b]$\n",
    "\n",
    "Los puntos donde cambie el crecimiento y decrecimiento son máximos y minimos relativos\n",
    "\n",
    "* Si $f'(x)<0$ en $[a,b]$ y $f'(x)>0$ en $[b,c] $ $ b$ es un Minimo Relativo $(b,f(b))$\n",
    "* Si $f'(x)>0$ en $[a,b]$ y $f'(x)<0$ en $[b,c] $ $ b$ es un Máximo Relativo $(b,f(b))$\n",
    "\n",
    "#### 5.2.2.Curvatura\n",
    "* 1.Calculamos la segunda derivada de la función y la igualamos a cero para calcular los puntos de inflexión\n",
    "\n",
    "Los puntos de inflexión son x1=sol1, x2=sol2,..., y los puntos conflictivos\n",
    "\n",
    "* 2.Estudio de la curvatura: Hacemos la recta real y situamos los posibles puntos de inflexión \n",
    "\n",
    "Estudiamos el signo de los intervalos que quedan en la recta real\n",
    "\n",
    "* Si $f''(x)\\geq0$ en $[a,b] \\rightarrow f(x) $ convacava $[a,b]$\n",
    "* Si $f''(x)\\leq0$ en $[a,b] \\rightarrow f(x) $ convexa $[a,b]$\n",
    "\n",
    "Los puntos donde cambie el concavidad y convexidad son puntos de inflexión\n",
    "\n",
    "* Si $f''(x)<0$ en $[a,b]$ y $f''(x)>0$ en $[b,c] $ $ b$ es un Punto de Inflexión $(b,f(b))$\n",
    "* Si $f''(x)>0$ en $[a,b]$ y $f''(x)<0$ en $[b,c] $ $ b$ es un Punto de Inflexión $(b,f(b))$\n",
    "\n",
    "#### 5.2.3. Máximos y Minimos Absolutos en un intervalo de una función\n",
    "* 1.Calculamos la derivada de la función y la igualamos a cero para calcular los puntos criticos\n",
    "\n",
    "Los extremos relativos son x1=sol1, x2=sol2,...\n",
    "\n",
    "* 2.Hacemos $f(x)=0,$ la imagen de los extremos relativos, de los extremos del intervalo y de los puntos conflictivos\n",
    "\n",
    "El mayor de los resultados es el máximo absoluto $(x1,f(x1))$ y el menor el minimo absoluto $(x2,f(x2))$\n",
    "\n"
   ]
  },
  {
   "cell_type": "code",
   "execution_count": 567,
   "id": "c334e79c",
   "metadata": {},
   "outputs": [
    {
     "name": "stdout",
     "output_type": "stream",
     "text": [
      "FUNCIÓN\n"
     ]
    },
    {
     "data": {
      "text/latex": [
       "$\\displaystyle x^{2} e^{- x}$"
      ],
      "text/plain": [
       "x**2*exp(-x)"
      ]
     },
     "metadata": {},
     "output_type": "display_data"
    },
    {
     "name": "stdout",
     "output_type": "stream",
     "text": [
      "DERIVADA\n"
     ]
    },
    {
     "data": {
      "text/latex": [
       "$\\displaystyle - x^{2} e^{- x} + 2 x e^{- x}$"
      ],
      "text/plain": [
       "-x**2*exp(-x) + 2*x*exp(-x)"
      ]
     },
     "metadata": {},
     "output_type": "display_data"
    },
    {
     "data": {
      "image/png": "[encoded data removed]",
      "text/plain": [
       "<Figure size 640x480 with 1 Axes>"
      ]
     },
     "metadata": {},
     "output_type": "display_data"
    }
   ],
   "source": [
    "import sympy as sp\n",
    "x = sp.Symbol('x',Real=True)\n",
    "print(\"FUNCIÓN\")\n",
    "expr = x**2/sp.E**x\n",
    "f = sp.Lambda(x,expr)\n",
    "display(expr)\n",
    "print(\"DERIVADA\")\n",
    "fd = sp.diff(expr,x,1)\n",
    "display(fd)\n",
    "f1 = sp.Lambda(x,expr)\n",
    "grafica = sp.plot(f1(x),f2(x),(x, 0,2.5), show=False) #Escribir as f1(x),f2(x),...,(x,principioEnX,finalEnX)\n",
    "grafica[0].line_color='y' #Marcamos el color amarillo para la gráfica\n",
    "grafica.xlabel='x' #Nombramos el eje de las abscisas como queramos\n",
    "grafica.ylabel='y' #Nombramos el eje de las ordenadas como queramos\n",
    "grafica.legend=True #Mostramos la legenda de la función\n",
    "grafica.show()"
   ]
  },
  {
   "cell_type": "markdown",
   "id": "bdde5cb5",
   "metadata": {},
   "source": [
    "### 5.3.Representación de funciones"
   ]
  },
  {
   "cell_type": "code",
   "execution_count": 568,
   "id": "e6423025",
   "metadata": {},
   "outputs": [
    {
     "data": {
      "text/latex": [
       "$\\displaystyle x^{2} e^{- x}$"
      ],
      "text/plain": [
       "x**2*exp(-x)"
      ]
     },
     "metadata": {},
     "output_type": "display_data"
    },
    {
     "data": {
      "image/png": "[encoded data removed]",
      "text/plain": [
       "<Figure size 640x480 with 1 Axes>"
      ]
     },
     "metadata": {},
     "output_type": "display_data"
    }
   ],
   "source": [
    "import sympy as sp\n",
    "x=sp.Symbol('x',Real=True)\n",
    "#expr = sp.Piecewise((sp.sin(x), x<0),(sp.atan(x),(x>0) & (x<1)),((sp.pi*x**3)/4, x>1))\n",
    "#expr = sp.Piecewise((sp.sqrt(x)+1, (x>0) & (x<1)),(x+1,(x>=1) & (x<2)))\n",
    "expr=x**2/(sp.E**x)\n",
    "f1 = sp.Lambda(x,expr)\n",
    "expr2 = 0\n",
    "f2 = sp.Lambda(x,expr2)\n",
    "display(expr)\n",
    "grafica = sp.plot(f1(x),f2(x),(x, 0,10), show=False) #Escribir as f1(x),f2(x),...,(x,principioEnX,finalEnX)\n",
    "grafica[0].line_color='y' #Marcamos el color amarillo para la gráfica\n",
    "grafica.xlabel='x' #Nombramos el eje de las abscisas como queramos\n",
    "grafica.ylabel='y' #Nombramos el eje de las ordenadas como queramos\n",
    "grafica.legend=True #Mostramos la legenda de la función\n",
    "grafica.show()"
   ]
  },
  {
   "cell_type": "markdown",
   "id": "918c1304",
   "metadata": {},
   "source": [
    "## 6.Teoremas y sus aplicaciones\n",
    "### 6.1. Teorema de Bolzano\n",
    "Basicamente el teorema nos cuenta que si una función en un intervalo cerrado es continua y sus extremos tienen diferente signo entonces sabemos que hay un valor medio en ese intervalo pero abierto para el que la función vale 0. Osea existe por lo menos una raíz dentro del intervalo.\n",
    "\n",
    "$ Sea f : [a,b] \\rightarrow \\mathbb R $ una función continua en $[a,b]$ tal que $f{(a)}f{(b)}<0$. Entonces existe $ x_o \\in (a,b)$ tal que $f{(x_0)}=0 $\n",
    "\n",
    "**APLICACIÓN** Encontrar raíz única de una función en un intervalo\n",
    "\n",
    "**EJEMPLO**\n",
    "\n"
   ]
  },
  {
   "cell_type": "markdown",
   "id": "4e6d4889",
   "metadata": {},
   "source": [
    "### 6.2. Teorema de Weierstrass\n",
    "Basicamente el teomera nos cuenta que si una función es continua en un intervalo cerrado entonces la función alcanza un máximo y un minimo absolutos en ese intervalo.\n",
    "\n",
    "$$\n",
    "\\exists x_1, x_2\\in[a,b]\\Big/  f(x_1)\\leq f(x)\\leq f(x_2)\\qquad\\forall x\\in[a,b].\n",
    "$$\n",
    "Esto nos sirve para demostrar que existe un maximo y un minimo en un intervalo cerrado de una función continua"
   ]
  },
  {
   "cell_type": "markdown",
   "id": "d5f8d397",
   "metadata": {},
   "source": [
    "### 6.3.Teorema de Rolle\n",
    "Sirve mostrar la unicidad de una raíz.\n",
    "\n",
    "Sea una aplicación $f : [a,b] \\longrightarrow \\mathbb{R}$, continua en $[a,b]$ y derivable en $(a,b)$.  Si $f(a) = f(b)$, entonces existe un punto $\\xi \\in (a,b)$ tal que:\n",
    "\\begin{equation*}\n",
    "f^{\\prime} (\\xi) = 0 \\, .\n",
    "\\end{equation*}\n",
    "* 1. El teorema nos dice que existe una raíz de $f'$. Puede existir más de una.\n",
    "* 2. Si $f$ cumple las hipótesis del teorema y tiene $n$ raíces reales, $f'$\n",
    "tendrá, al menos, $n-1$ raíces reales.\n",
    "\n",
    "Según el teorema de Rolle, entre dos raíces de $f$ (es decir, dos puntos donde $f$ vale $0$) tiene que             haber, por lo menos, una raíz de $f'$.\n",
    "\n",
    "    \n",
    "* 3. Recíprocamente, si $f'$ tiene $n$ raíces reales, $f$ tendrá, a lo sumo, $n+1$\n",
    "raíces reales.\n",
    "\n",
    "**EJEMPLO**\n",
    "Demostrar que la ecuación \n",
    "\n",
    "$$\n",
    "x+\\sin x=\\frac{1}{\\sqrt{x}+3}\n",
    "$$\n",
    "tiene exactamente una raíz en $[0,\\pi]$.\n",
    "\n",
    "**Solución:** \n",
    "\n",
    "Igualamos a $0$, despejamos y lo que nos queda es la función.\n",
    "\n",
    "$$\n",
    "f(x)=x+\\sin x-\\frac{1}{\\sqrt{x}+3}.\n",
    "$$\n",
    "\n",
    "Vamos a demostrar que esta función tiene raíz en $[0,\\pi]$ (utilizando el teorema de\n",
    "Bolzano), y, a continuación, que esta raíz es única, con el teorema de Rolle.\n",
    "\n",
    "*Existencia*\n",
    "\n",
    "$$\n",
    "\\left.\\begin{array}{l}\n",
    "f\\mbox{ continua en }[0,\\pi] \\\\\n",
    "f(0)=0+\\sin 0-\\frac{1}{\\sqrt{0}+3}=-\\frac{1}{3}<0 \\\\\n",
    "f(\\pi)= \\pi+\\sin \\pi-\\frac{1}{\\sqrt{\\pi}+3}=\\pi-\\frac{1}{\\sqrt{\\pi}+3}>0\n",
    "\\end{array}\\right\\} \n",
    "\\stackrel{\\mbox{(Bolzano)}}{\\Longrightarrow}\n",
    "\\mbox{Existe raíz de $f$ en }[0,\\pi].\n",
    "$$\n",
    "\n",
    "*Unicidad*\n",
    "\n",
    "Para probar la unicidad razonaremos por reducción al absurdo. Según el teorema de\n",
    "Rolle, si $f$ tuviera dos raíces en $[0,\\pi]$, habría algún punto entre ellas (por\n",
    "lo tanto en $(0,\\pi)$) en el que $f'$ se anularía. Veamos que esto no es posible.\n",
    "Derivando,\n",
    "\n",
    "$$\n",
    "f'(x)=1+\\cos x+\\frac{1}{2\\sqrt{x}\\left(\\sqrt{x}+3\\right)^2}.\n",
    "$$\n",
    "Como\n",
    "\n",
    "$$\n",
    "\\left.\\begin{array}{ll}\n",
    "1+\\cos x>0&\\quad\\forall x\\in(0,\\pi) \\\\\n",
    "\\dfrac{1}{2\\sqrt{x}\\left(\\sqrt{x}+3\\right)^2}>0&\\quad\\forall x\\in(0,\\pi)\n",
    "\\end{array}\\right\\}\n",
    "\\Rightarrow\n",
    "f'(x)=1+\\cos x+\\frac{1}{2\\sqrt{x}\\left(\\sqrt{x}+3\\right)^2}>0\\quad\\forall x\\in(0,\\pi),\n",
    "$$\n",
    "lo que contradice el que exista un punto en el que $f'$ se anula. Por lo tanto, es\n",
    "imposible que haya dos raíces distintas de $f$ en $[0,\\pi]$."
   ]
  },
  {
   "cell_type": "markdown",
   "id": "3c819390",
   "metadata": {},
   "source": [
    "### 6.4.Teorema del Valor Medio de Lagrange\n",
    "Sea una aplicación $f : [a,b] \\longrightarrow \\mathbb{R}$ continua en $[a,b]$ y derivable en $(a,b)$.  Entonces, existe un punto $\\xi \\in (a,b)$ tal que:\n",
    "\\begin{equation*}\n",
    "f(b) - f(a) = f' (\\xi) (b - a) \\, .\n",
    "\\end{equation*}\n",
    "\n",
    "Basta recordar que $\\displaystyle\\frac{f(b) - f(a)}{b-a}$ es la pendiente de la recta secante a $f$ por $a$ y $b$ para tener la interpretación geométrica de este teorema: \n",
    "existe un punto $x_0\\in(a,b)$ de forma que la recta tangente a $f$ por ese punto es paralela a dicha recta \n",
    "secante.\n",
    "\n",
    "como una consecuencia inmediata del teorema anterior, tenemos la siguiente propiedad:\n",
    "\n",
    "Sea $f$ una función real derivable en $(a,b)$.\n",
    "- Si $f' (x) \\geq 0$, $\\forall x \\in (a,b)$, entonces $f$ es monótona creciente.\n",
    "- Si $f' (x) \\leq 0$, $\\forall x \\in (a,b)$, entonces $f$ es monótona decreciente.\n",
    "- Si $f' (x) = 0$, $\\forall x \\in (a,b)$, entonces $f$ es constante.\n",
    "- Si $f' (x) \\neq 0$, $\\forall x \\in (a,b)$, entonces $f$ es inyectiva."
   ]
  },
  {
   "cell_type": "markdown",
   "id": "1e56cfef",
   "metadata": {},
   "source": [
    "## 7.Recta tangente a una función en un punto\n",
    "### 7.1.Método teórico\n",
    "\n",
    "**FORMULA** \n",
    "\n",
    "$$ y-f{(x_0)}=f'{(x_0)}(x-x_0) $$\n",
    "\n",
    "\n",
    "**EJEMPLO**\n",
    "* **Calcula la ecuación de la recta tangente a la gráfica de f en $x=\\frac{1}{2}$**\n",
    "$f{(x)}=5x²$\n",
    "* 1.Calculamos $f'{(x)}$\n",
    "\n",
    "$f'{(x)}=5·2·x=10x$\n",
    "\n",
    "* 2.Sustituimos 'x' en la ecuación de la recta tangente\n",
    "\n",
    "$ y-f{(x_0)}=f'{(x_0)}(x-x_0) \\rightarrow y-f{(\\frac{1}{2})}=f'{(\\frac{1}{2})}(x-\\frac{1}{2}) \\rightarrow y-5·(\\frac{1}{2})²=10·\\frac{1}{2}(x-\\frac{1}{2})$ \n",
    "* 3.Despejamos 'y'\n",
    "\n",
    "$ y-5·\\frac{1}{4}=\\frac{10}{2}(x-\\frac{1}{2}) \\rightarrow y-\\frac{5}{4}=5(x-\\frac{1}{2})\\rightarrow y-\\frac{5}{4}=5x-\\frac{5}{2} \\rightarrow y=5x-\\frac{5}{2}+\\frac{5}{4} \\rightarrow y=5x-\\frac{5}{4} $\n"
   ]
  },
  {
   "cell_type": "markdown",
   "id": "6ab04d12",
   "metadata": {},
   "source": [
    "### 7.2.Calculadora de Recta Tangente"
   ]
  },
  {
   "cell_type": "code",
   "execution_count": 569,
   "id": "7e73a817",
   "metadata": {},
   "outputs": [
    {
     "name": "stdout",
     "output_type": "stream",
     "text": [
      "FUNCIÓN\n"
     ]
    },
    {
     "data": {
      "text/latex": [
       "$\\displaystyle \\operatorname{atan}{\\left(\\frac{\\sin{\\left(x \\right)}}{\\cos{\\left(x \\right)} + 1} \\right)}$"
      ],
      "text/plain": [
       "atan(sin(x)/(cos(x) + 1))"
      ]
     },
     "metadata": {},
     "output_type": "display_data"
    },
    {
     "name": "stdout",
     "output_type": "stream",
     "text": [
      "PUNTO en x = 0\n",
      "DERIVADA\n"
     ]
    },
    {
     "data": {
      "text/latex": [
       "$\\displaystyle \\frac{\\frac{\\cos{\\left(x \\right)}}{\\cos{\\left(x \\right)} + 1} + \\frac{\\sin^{2}{\\left(x \\right)}}{\\left(\\cos{\\left(x \\right)} + 1\\right)^{2}}}{1 + \\frac{\\sin^{2}{\\left(x \\right)}}{\\left(\\cos{\\left(x \\right)} + 1\\right)^{2}}}$"
      ],
      "text/plain": [
       "(cos(x)/(cos(x) + 1) + sin(x)**2/(cos(x) + 1)**2)/(1 + sin(x)**2/(cos(x) + 1)**2)"
      ]
     },
     "metadata": {},
     "output_type": "display_data"
    },
    {
     "name": "stdout",
     "output_type": "stream",
     "text": [
      "FORMULA: \n",
      "y-f(x0)=f'(x0)(x-x0)\n",
      "y- f( 0 ) = f'( 0 ) ( x )\n",
      "y- 0 = 1/2 · ( x )\n",
      "y- 0 = x/2\n",
      "y = x/2 + 0\n",
      "y = x/2\n"
     ]
    }
   ],
   "source": [
    "import sympy as sp\n",
    "x = sp.Symbol('x', real=True)\n",
    "expr = sp.atan(sp.sin(x)/(1+sp.cos(x)))\n",
    "p = 0\n",
    "print(\"FUNCIÓN\")\n",
    "f = sp.Lambda(x,expr)\n",
    "display(expr)\n",
    "print(\"PUNTO en x =\",p)\n",
    "print(\"DERIVADA\")\n",
    "fd = sp.diff(expr,x,1)\n",
    "display(fd)\n",
    "print(\"FORMULA: \")\n",
    "print(\"y-f(x0)=f'(x0)(x-x0)\")\n",
    "print(\"y- f(\",p,\") =\",\"f'(\",p,\")\",\"(\",x-p,\")\",)\n",
    "print(\"y-\",expr.subs({x:p}),\"=\",fd.subs({x:p}),\"·\",\"(\",x-p,\")\",)\n",
    "print(\"y-\",expr.subs({x:p}),\"=\",fd.subs({x:p})*(x-p))\n",
    "print(\"y =\",fd.subs({x:p})*(x-p),\"+\",expr.subs({x:p}))\n",
    "print(\"y =\",fd.subs({x:p})*(x-p)+expr.subs({x:p}))\n"
   ]
  },
  {
   "cell_type": "markdown",
   "id": "30ded9b9",
   "metadata": {},
   "source": [
    "## 8.Clase de una función\n",
    "\n",
    "### 8.1.Método Teórico\n",
    "\n",
    "Sea $f:(a,b) \\longrightarrow \\mathbb R$. Diremos que\n",
    "1. $f$ es de clase $n$ en $(a,b)$, $f \\in \\mathcal{C}^n(a,b)$, si existen las $n$ primeras derivadas de $f$, $f'$, $f''$, $\\ldots$, $f^{(n}$, y además $f^{(n}$ es una función continua\n",
    "2. $f$ es de clase $0$ en $(a,b)$, $f\\in\\mathcal{C}^0(a,b)$, si $f$ es continua,\n",
    "3. $f$ es de clase $\\infty$ en (a,b), $f \\in \\mathcal{C}^\\infty(a,b)$, si $f\\in\\mathcal{C}^n(a,b), \\forall n\\in\\mathbb N$,\n",
    "4. $f$ es de clase $n$ en $[a,b]$, $f \\in \\mathcal{C}^n[a,b]$,si existe $(c,d)\\supset [a,b]$ tal que $f\\in\\mathcal{C}^n(c,d)$.\n",
    "\n",
    "**EJEMPLO**\n",
    "\n",
    "Sea la función $f(x) = \\dfrac{1}{2} x |x|$, $\\forall x\\in\\mathbb R$. ¿Cuál es la clase de $f$ en $\\mathbb R$?\n",
    "La función desarrolada seria la siguiente\n",
    "\n",
    "$$\n",
    "f(x)=\\left\\{\n",
    "\\begin{array}{cl}\n",
    "-\\frac{1}{2}x^2&\\quad\\mbox{si }x<0, \\\\\n",
    "\\frac{1}{2}x^2&\\quad\\mbox{si }x\\geq 0.\n",
    "\\end{array}\\right.\n",
    "$$\n",
    "\n",
    "Para saber su clase debemos ir mirando su continuidad y su derivabilidad\n",
    "\n",
    "Es continua? Sabemos que en todo valor distinto de cero si, ya que son funciones polinomicas pero y en el 0?\n",
    "Para saberlo hacemos el limite cuando tiende a 0\n",
    "\n",
    "$\\lim\\limits_{t\\rightarrow 0⁻}f{x}=\\lim\\limits_{t\\rightarrow 0⁺}-\\frac{1}{2}x^2=0$\n",
    "\n",
    "$\\lim\\limits_{t\\rightarrow 0⁺}f{x}=\\lim\\limits_{t\\rightarrow 0⁺}\\frac{1}{2}x^2=0$\n",
    "\n",
    "$\\lim\\limits_{t\\rightarrow 0⁻}f{x}=\\lim\\limits_{t\\rightarrow 0⁺}f{x}=f{(0)}=0 \\rightarrow$ Es continua $ \\rightarrow $(f es clase $0$)\n",
    "$$\\fbox{$f\\in\\mathcal{C}^0(\\mathbb R).$}$$\n",
    "Es derivable? Estudiamos el punto problematico:\n",
    "\n",
    "$\\begin{eqnarray*}\n",
    "&&f'(0^{-})=\\lim_{h\\to 0^{-}}\\frac{f(h)-f(0)}{h}=\\lim_{h\\to\n",
    "0^{-}}\\frac{-\\frac{1}{2}h^2-0}{h}=\\lim_{h\\to 0^{-}}-\\frac{1}{2}h=0, \\\\\n",
    "&&f'(0^{+})=\\lim_{h\\to 0^{+}}\\frac{f(h)-f(0)}{h}=\\lim_{h\\to\n",
    "0^{+}}\\frac{\\frac{1}{2}h^2-0}{h}=\\lim_{h\\to 0^{+}}\\frac{1}{2}h=0.\n",
    "\\end{eqnarray*}$\n",
    "\n",
    "Como las derivadas laterales coinciden, sabemos que $f'$ es una función derivable en el $0$ y que $f'(0)=0$. En el resto de puntos es muy sencillo derivar, porque $f$ es un polinomio. Resulta entonces,\n",
    "\n",
    "$$\n",
    "f'(x)=\\left\\{\n",
    "\\begin{array}{cl}\n",
    "-x&\\quad\\mbox{si }x<0, \\\\\n",
    "0&\\quad\\mbox{si }x=0, \\\\\n",
    "x&\\quad\\mbox{si }x\\geq 0.\n",
    "\\end{array}\\right.\n",
    "$$\n",
    "Es muy sencillo comprobar que $f'$ es una función continua. Entonces \n",
    "\n",
    "$$\\fbox{$f\\in\\mathcal{C}^1(\\mathbb R).$}$$\n",
    "\n",
    "Ahora intentamos calcular la derivada segunda de $f$. Comenzamos con el punto problemático, $x=0$, calculando sus derivadas laterales.\n",
    "\n",
    "\\begin{eqnarray*}\n",
    "&&f''(0^{-})=\\lim_{h\\to 0^{-}}\\frac{f'(h)-f'(0)}{h}=\\lim_{h\\to\n",
    "0^{-}}\\frac{-h-0}{h}=\\lim_{h\\to 0^{-}}-1=-1, \\\\\n",
    "&&f''(0^{+})=\\lim_{h\\to 0^{+}}\\frac{f'(h)-f'(0)}{h}=\\lim_{h\\to\n",
    "0^{+}}\\frac{h-0}{h}=\\lim_{h\\to 0^{+}}1=1.\n",
    "\\end{eqnarray*}\n",
    "Como las derivadas laterales no coinciden, resulta que $\\not\\exists f''(0)$. Por lo tanto \n",
    "\n",
    "$$\\fbox{$f\\not\\in\\mathcal{C}^2(\\mathbb R).$}$$"
   ]
  },
  {
   "cell_type": "code",
   "execution_count": 570,
   "id": "6fb9b3ef",
   "metadata": {},
   "outputs": [
    {
     "name": "stdout",
     "output_type": "stream",
     "text": [
      "FUNCIONES\n"
     ]
    },
    {
     "data": {
      "text/latex": [
       "$\\displaystyle x + 1$"
      ],
      "text/plain": [
       "x + 1"
      ]
     },
     "metadata": {},
     "output_type": "display_data"
    },
    {
     "name": "stdout",
     "output_type": "stream",
     "text": [
      "DERIVADAS 1\n",
      "f'1\n"
     ]
    },
    {
     "data": {
      "text/latex": [
       "$\\displaystyle 1$"
      ],
      "text/plain": [
       "1"
      ]
     },
     "metadata": {},
     "output_type": "display_data"
    },
    {
     "name": "stdout",
     "output_type": "stream",
     "text": [
      "LIMITES DE f1\n"
     ]
    },
    {
     "data": {
      "text/latex": [
       "$\\displaystyle 1$"
      ],
      "text/plain": [
       "1"
      ]
     },
     "metadata": {},
     "output_type": "display_data"
    },
    {
     "data": {
      "text/latex": [
       "$\\displaystyle 1$"
      ],
      "text/plain": [
       "1"
      ]
     },
     "metadata": {},
     "output_type": "display_data"
    },
    {
     "name": "stdout",
     "output_type": "stream",
     "text": [
      "f es de clase  1 ? True\n"
     ]
    }
   ],
   "source": [
    "import sympy as sp\n",
    "x = sp.Symbol('x', real=True)\n",
    "expr  = x+1\n",
    "print(\"FUNCIONES\")\n",
    "f = sp.Lambda(x,expr)\n",
    "display(expr)\n",
    "n=1\n",
    "print(\"DERIVADAS\",n)\n",
    "print(\"f'1\")\n",
    "exprd = sp.diff(expr,x,n)\n",
    "fd = sp.Lambda(x,exprd)\n",
    "display(exprd)\n",
    "print(\"LIMITES DE f1\")\n",
    "display(sp.limit(fd(x),x,n,dir='-'))\n",
    "display(sp.limit(fd(x),x,n,dir='+'))\n",
    "print('f es de clase ',n,'?', sp.limit(fd(x),x,0) == fd(0))\n"
   ]
  },
  {
   "cell_type": "markdown",
   "id": "b53c4464",
   "metadata": {},
   "source": [
    "## 9.Maximizar el valor de una función\n",
    "\n",
    "**EJEMPLO**\n",
    "Un rectángulo cuya base está en el eje de abscisas tiene sus dos vértices superiores en la parábola $y=12-x²$. ¿ Cuál es la mayor área que puede tener ese rectángulo? Indica sus dimensiones.\n",
    "\n",
    "$f{(x)}=12-x²$\n",
    "\n",
    "$f{(x)}=0 \\rightarrow 12-x²=0 \\rightarrow x²=12 \\rightarrow x = \\pm\\sqrt{12} \\rightarrow x = \\pm2\\sqrt{3} \\rightarrow$\n",
    "$$\n",
    "x=\\left\\{\n",
    "\\begin{array}{cl}\n",
    "+2\\sqrt{3}&\\quad\\\\\n",
    " -2\\sqrt{3}\\quad\n",
    "\\end{array}\\right.\n",
    "$$\n",
    "$A(x) = b  ·    h \\rightarrow A{(x)}=2x · (12-x²)$ con $ x \\in [0,2\\sqrt{3}]$\n",
    "\n",
    "La base es $2x$ porque el rectangulo apoyado en el eje de abscisas va desde -x a x pero como es una distancia es |-x|+|x|=2\n",
    "\n",
    "La altura es la resta que va desde x hasta la imagen de x (por lo tanto es el valor de f(x)) y este esta dentro del intervalo $[0,2\\sqrt{3}], ya que f(0) es la altura maxima (maximo de la parabola= y f(2\\sqrt{3}) es el minimo (donde la parabola corta al eje abscisas)$\n",
    "\n",
    "Calculamos los extremos absolutos bucando el maximo absoluto\n",
    "Posibles extremos:\n",
    "1.Extremos del intervalo\n",
    "* $x=0 \\rightarrow A(x)=A(0)=0$\n",
    "* $x=2\\sqrt{3} \\rightarrow A(x)=A(2\\sqrt{3})=0$\n",
    "(Como los dos dan 0 es imposible que el maximo este aqui)\n",
    "2.Ptos donde A(x) no sea derivable\n",
    "Aqui A(x) es siempre derivable\n",
    "3.Puntos criticos de A'(x)\n",
    "$ A'(x) = 24-6x²=0 \\rightarrow x=\\pm2 $\n",
    "$$\n",
    "x=\\left\\{\n",
    "\\begin{array}{cl}\n",
    "+2&\\quad\\\\\n",
    " -2\\rightarrow LaDescartarmosPorque2esMayor\\quad\n",
    "\\end{array}\\right.\n",
    "$$\n",
    "$ A'(2) = 24-6(2)²=32u² $"
   ]
  },
  {
   "cell_type": "code",
   "execution_count": null,
   "id": "5b501d2e",
   "metadata": {},
   "outputs": [],
   "source": []
  },
  {
   "cell_type": "markdown",
   "id": "5aaf3da9",
   "metadata": {},
   "source": [
    "# 10.Método de dicotomía o Método de Bisección\n",
    "### 10.1.Método Teórico\n",
    "El método de dicotomía sirve para aproximar raíces\n",
    "\n",
    "Consideramos una función $f:[a,b]\\rightarrow\\mathbb{R}$, continua en $[a,b]$, con $f(a)\\,f(b)<0$\n",
    "\n",
    "Al considerar una función que cumple las hipotesis de Bolzano sabemos que existe unha raiz en el intervalo.\n",
    "\n",
    "Para aproximar mediante dicotomia vamos dividiendo el intervalo a la mitad y nos quedamos con la mitad en la que se cumplan las hipótesis de Bolzano hasta que consideremos que tenemos la suficiente exactitud o milagrosamente demos con el valor exacto de la raíz (no va a pasar).\n",
    "\n",
    "Por lo tanto:\n",
    "* Dividimos el intervalo dado a la mitad.\n",
    "* Tomamos el punto medio del intervalo, $c$, como aproximación de la raíz.\n",
    "* Comprobamos cuál de los 2 subintervalos que nos quedan ($[a,c]$ o $[c,b]$) cumple la hipótesis de Bolzano.\n",
    "* Repetimos el proceso.\n",
    "\n",
    "Lo más habitual es realizar el test de parada en función de la diferencia relativa entre 2 iteraciones consecutivas. Sería algo así, para un parámetro de tolerancia, $tol$, generalmente indicado por el usuario:\n",
    "\n",
    "$$\n",
    "\\text{Si} \\qquad \\frac{\\left| x_{k}-x_{k-1} \\right|}{\\left| x_{k} \\right|} < tol \\quad \\Longrightarrow \\quad \\text{STOP}.\n",
    "$$\n",
    "\n",
    "Sea $f:[a,b]\\rightarrow\\mathbb{R}$ una función continua en $[a,b]$ tal que $f(a)\\,f(b)<0$. Sea $\\alpha\\in(a,b)$ tal que $f(\\alpha)=0$.\n",
    "\n",
    "Entonces, al aplicar el método de dicotomía en el intervalo $[a,b]$, el error máximo cometido en el paso $k$ está acotado mediante la siguiente fórmula: \n",
    "\n",
    "$$ |x_k - \\alpha | \\leq \\frac{b-a}{2^k}.  $$ \n",
    "\n",
    "Ejemplo:"
   ]
  },
  {
   "cell_type": "markdown",
   "id": "98faf985",
   "metadata": {},
   "source": [
    "### 10.2.Calculadora del Metodo de Dicotomia"
   ]
  },
  {
   "cell_type": "code",
   "execution_count": 571,
   "id": "236a64b6",
   "metadata": {},
   "outputs": [
    {
     "name": "stdout",
     "output_type": "stream",
     "text": [
      "FUNCIÓN\n"
     ]
    },
    {
     "data": {
      "text/latex": [
       "$\\displaystyle 0.25 x^{2} - \\log{\\left(x \\right)}$"
      ],
      "text/plain": [
       "0.25*x**2 - log(x)"
      ]
     },
     "metadata": {},
     "output_type": "display_data"
    },
    {
     "name": "stdout",
     "output_type": "stream",
     "text": [
      "Intervalo\n",
      "( 1.0 , 3.0 )\n",
      "MÉTODO DE DICOTOMIA\n",
      "Número de iteraciones realizadas:  17\n",
      "Aproximación de la raíz:  2.9999847412109375\n"
     ]
    }
   ],
   "source": [
    "import numpy as np\n",
    "import sympy as sp\n",
    "print(\"FUNCIÓN\")\n",
    "x = sp.symbols('x', real=True) # define la variable simbólica x\n",
    "expr = ((1/4*x**2-sp.log(x)) ) #Función\n",
    "f = sp.Lambda(x,expr)\n",
    "display(expr)\n",
    "print(\"Intervalo\")\n",
    "a = 1. #Ponemos los extremos del intervalor\n",
    "b = 3.\n",
    "print(\"(\",a,',',b,\")\")\n",
    "print(\"MÉTODO DE DICOTOMIA\")\n",
    "N_max = 17 #Número máximo de iteraciones\n",
    "tol = 1.e-5 #Tolerancia que queremos\n",
    "\n",
    "x_aprox = np.zeros(N_max)\n",
    "\n",
    "for k in range(0,N_max):\n",
    "  x_aprox[k] = (a+b) / 2\n",
    "  \n",
    "  if f(x_aprox[k]) == 0: break\n",
    "        \n",
    "  if f(a) * f(x_aprox[k]) < 0:\n",
    "     b = x_aprox[k]\n",
    "  else:\n",
    "     a = x_aprox[k]\n",
    "\n",
    "  if ( (k > 0) and (np.abs(x_aprox[k]-x_aprox[k-1]) / np.abs(x_aprox[k]) < tol) ): break\n",
    "\n",
    "print('Número de iteraciones realizadas: ', k+1) # Contamos 1 más porque empezamos el bucle en 0\n",
    "print('Aproximación de la raíz: ', x_aprox[k])"
   ]
  },
  {
   "cell_type": "markdown",
   "id": "b7899fcb",
   "metadata": {},
   "source": [
    "## 11.Polinomio de Interpolación de Lagrange\n",
    "### 11.1.Método Directo\n",
    "El polinomio de Interpolación de Lagrange nos permite aproximar un conjunto de datos\n",
    "#### 11.1.1.Por polinomios fundamentales\n",
    "Tenemos que crear tantos polinomios fundamentales de Taylor como puntos tengamos siguiendo la siguiente formula:\n",
    "$$\n",
    "l_i(x)\\, = \\frac{(x-x_0)(x-x_1)\\ldots(x-x_{i-1})(x-x_{i+1})\\ldots(x-x_n)}\n",
    "{(x_i-x_0)(x_i-x_1)\\ldots(x_i-x_{i-1})(x_i-x_{i+1})\\ldots(x_i-x_n)}.\n",
    "$$\n",
    "\n",
    "Siendo basicamente $l_i(x)=$ la multiplicación de las restas de x menos todos los puntos menos $x_i$ **entre** la multiplicación de las restas del $x_i$ menos todos los puntos excepto el mismo.\n",
    "\n",
    "La suma de polinomios de grado $n$ es un polinomio de grado $n$:\n",
    "\n",
    "**Teorema:** \n",
    "El polinomio de interpolación de Lagrange en los nodos $x_0,\\, x_1,\\ldots,\\, x_n$ relativo a los valores\n",
    "$y_0,\\,y_1,\\ldots,\\,y_n$ es\n",
    "\n",
    "$$\n",
    "p_n(x) \\, = \\, %\\sum_{i=0}^ny_i\\,\\ell_i(x)=\n",
    "y_0\\,\\ell_0(x)+y_1\\,\\ell_1(x)+\\ldots+y_n\\,\\ell_n(x).\n",
    "$$\n",
    "Resumiendo el polinomio de Taylor el la suma de la multiplicación de todos los polinomios fundamentales por sus respectivas imagenes de x.\n",
    "#### 11.1.2.Por Diferencias Divididas\n",
    "| x0 | y0 | $\\frac{y_1-y_0}{x_1-x_0} = z0$ | $\\frac{z_1-z_0}{x_2-x_0} = a_0$ | $\\frac{a_1-a_0}{x_3-x_0} =r$ |\n",
    "|---|---|---|---|---|\n",
    "| x1 | y1 | $\\frac{y_2-y_1}{x_2-x_1} =z_1$ | $\\frac{z_1-z_0}{x_3-x_1} = a_1$ |  |\n",
    "| x2 | y2 | $\\frac{y_3-y_2}{x_3-x_2} =z_2$ |  |  |\n",
    "| x3 | y3 |  |  |  |\n",
    "\n",
    "Aquí nos interesa la primera fila de la matriz resultante.  \n",
    "\n",
    "**Fórmula de Newton:**\n",
    "El polinomio de interpolación de Lagrange en los puntos $x_0,\\, x_1,\\ldots,\\, x_n \\,$ relativo a los valores $y_0,\\,y_1,\\ldots,\\,y_n\\,$ puede escribirse como\n",
    "\n",
    "$$\n",
    "\\begin{array}{lcl}\n",
    "p_n(x)\\, &=& [y_0] \\, +\\, [y_0,y_1]\\, (x-x_0) \\, +\\, [y_0,y_1,y_2]\\, (x-x_0)(x-x_1) \\, +  \\\\\n",
    "         & & \\ldots +\\, [y_0,y_1,\\ldots,y_n]\\, (x-x_0)(x-x_1)\\ldots(x-x_{n-1}).\n",
    "\\end{array}\n",
    "$$"
   ]
  },
  {
   "cell_type": "markdown",
   "id": "a38e6762",
   "metadata": {},
   "source": [
    "### 11.2.Calduladora del Polinomio de Interpolación de Lagrange por polinomios fundamentales"
   ]
  },
  {
   "cell_type": "code",
   "execution_count": 572,
   "id": "1660c1fe",
   "metadata": {},
   "outputs": [
    {
     "name": "stdout",
     "output_type": "stream",
     "text": [
      "POR POLINOMIOS FUNDAMENTALES\n",
      "Representación Grafica\n"
     ]
    },
    {
     "data": {
      "text/plain": [
       "<matplotlib.legend.Legend at 0x7f60f00f8790>"
      ]
     },
     "execution_count": 572,
     "metadata": {},
     "output_type": "execute_result"
    },
    {
     "data": {
      "image/png": "[encoded data removed]",
      "text/plain": [
       "<Figure size 2000x1000 with 2 Axes>"
      ]
     },
     "metadata": {},
     "output_type": "display_data"
    }
   ],
   "source": [
    "import numpy as np\n",
    "import matplotlib.pyplot as plt\n",
    "print(\"POR POLINOMIOS FUNDAMENTALES\")\n",
    "fig, axs = plt.subplots(1, 2, figsize=(20,10))\n",
    "x1=-1   \n",
    "x2=0\n",
    "x3=1\n",
    "x4=3\n",
    "y1=-2\n",
    "y2=1\n",
    "y3=-4\n",
    "y4=10\n",
    "x_coef = [x1, x2, x3, x4] #Matriz de tamaño = al numero de puntos\n",
    "y_coef = [y1, y2, y3, y4]\n",
    "\n",
    "y_ceros = [0, 0, 0, 0]\n",
    "y_unos = [1, 1, 1, 1]\n",
    "x= np.linspace(-1.5, 3.1, 200)\n",
    "\n",
    "P0_expr = ( (x-x_coef[1])*(x-x_coef[2])*(x-x_coef[3]) ) / ( (x_coef[0]-x_coef[1])*(x_coef[0]-x_coef[2])*(x_coef[0]-x_coef[3]) )\n",
    "P1_expr = ( (x-x_coef[0])*(x-x_coef[2])*(x-x_coef[3]) ) / ( (x_coef[1]-x_coef[0])*(x_coef[1]-x_coef[2])*(x_coef[1]-x_coef[3]) )\n",
    "P2_expr = ( (x-x_coef[0])*(x-x_coef[1])*(x-x_coef[3]) ) / ( (x_coef[2]-x_coef[0])*(x_coef[2]-x_coef[1])*(x_coef[2]-x_coef[3]) )\n",
    "P3_expr = ( (x-x_coef[0])*(x-x_coef[1])*(x-x_coef[2]) ) / ( (x_coef[3]-x_coef[0])*(x_coef[3]-x_coef[1])*(x_coef[3]-x_coef[2]) )\n",
    "P_expr = y_coef[0]*P0_expr + y_coef[1]*P1_expr + y_coef[2]*P2_expr + y_coef[3]*P3_expr\n",
    "#Si son 3 ptos en vez de cuatro eliminar las de arriba y usar las siguientes lineas\n",
    "#P0_expr = ( (x-x_coef[1])*(x-x_coef[2]) ) / ( (x_coef[0]-x_coef[1])*(x_coef[0]-x_coef[2]) )\n",
    "#P1_expr = ( (x-x_coef[0])*(x-x_coef[2]) ) / ( (x_coef[1]-x_coef[0])*(x_coef[1]-x_coef[2]) )\n",
    "#P2_expr = ( (x-x_coef[0])*(x-x_coef[1]) ) / ( (x_coef[2]-x_coef[0])*(x_coef[2]-x_coef[1]) )\n",
    "#P_expr = y_coef[0]*P0_expr + y_coef[1]*P1_expr + y_coef[2]*P2_expr\n",
    "\n",
    "print(\"Representación Grafica\")\n",
    "# Figura izquierda\n",
    "ax1 = axs[0]\n",
    "ax1.set_title('Polinomios fundamentales de Lagrange', fontsize=20)\n",
    "ax1.scatter(x_coef, y_ceros, s=150, c='b')\n",
    "ax1.scatter(x_coef, y_unos, s=200, c='g')\n",
    "ax1.plot(x, P0_expr, c='black', ls='--', lw='3', label = 'P0')\n",
    "ax1.plot(x, P1_expr, c='y', ls='--', lw='3', label = 'P1')\n",
    "ax1.plot(x, P2_expr, c='c', ls='--', lw='3', label = 'P2')\n",
    "ax1.plot(x, P3_expr, c='m', ls='--', lw='3', label = 'P3')\n",
    "ax1.grid()\n",
    "ax1.legend(fontsize=20, loc='upper right')\n",
    "# Figura derecha\n",
    "ax2 = axs[1]\n",
    "ax2.set_title(\"Polinomio de Lagrange\", fontsize=20)\n",
    "ax2.scatter(x_coef, y_coef, s=200, c='r')\n",
    "ax2.plot(x, P_expr, c='b', ls='--', lw='3', label = 'P')\n",
    "ax2.grid()\n",
    "ax2.legend(fontsize=20, loc='upper left')"
   ]
  },
  {
   "cell_type": "markdown",
   "id": "1639c083",
   "metadata": {},
   "source": [
    "### 10.3.Calculadora del Polinomio de Interpolación de Lagrange mediante Diferencias Divididas"
   ]
  },
  {
   "cell_type": "code",
   "execution_count": 573,
   "id": "c473c009",
   "metadata": {},
   "outputs": [
    {
     "data": {
      "image/png": "[encoded data removed]",
      "text/plain": [
       "<Figure size 1000x800 with 1 Axes>"
      ]
     },
     "metadata": {},
     "output_type": "display_data"
    }
   ],
   "source": [
    "import numpy as np\n",
    "import matplotlib.pyplot as plt\n",
    "\n",
    "def newton_poly(coef, x_data, x):\n",
    "    # evaluamos el polinomio de Lagrange, construido con la \n",
    "    # tabla de diferencias divididas, en el punto x\n",
    "    # in: \n",
    "    #    coef ---> primera fila de la tabla de diferencias divididas\n",
    "    #    x_data -> valores de x_i\n",
    "    #    x ------> punto en el que queremos evaluar el polinomio \n",
    "    n = len(x_data) - 1 \n",
    "    p = coef[n]\n",
    "    for k in range(1,n+1):\n",
    "        p = coef[n-k] + (x -x_data[n-k])*p\n",
    "    return p\n",
    "\n",
    "x_coef = [-1, 0, 1, 3] #Matriz de tamaño = al numero de puntos\n",
    "y_coef = [-2, 1, -4, 10]\n",
    "\n",
    "x= np.linspace(-1.5, 3.1, 200)\n",
    "\n",
    "n = len(x_coef)\n",
    "coef = np.zeros([n, n])\n",
    "# La primera columna serán los datos en y\n",
    "coef[:,0] = y_coef\n",
    "\n",
    "# Necesitamos un doble bucle para crear la matriz (perdón, tabla) de diferencias divididas\n",
    "for j in range(1,n):\n",
    "    for i in range(n-j):\n",
    "        coef[i,j] = (coef[i+1,j-1] - coef[i,j-1]) / (x_coef[i+j]-x_coef[i])\n",
    "\n",
    "# evaluamos el polinomio según la function definida al principio\n",
    "P_expr = newton_poly(coef[0,:],x_coef,x)\n",
    "# dibujamos el resultado\n",
    "fig = plt.figure(figsize = (10,8))\n",
    "plt.scatter(x_coef, y_coef, s=200, c='r')\n",
    "plt.plot(x, P_expr, 'b', lw='3')\n",
    "plt.title('Polinomio de Lagrange (fórmula de Newton)', fontsize=20)\n",
    "plt.grid()\n",
    "plt.xlabel('x')\n",
    "plt.ylabel('y')\n",
    "plt.show()"
   ]
  },
  {
   "cell_type": "markdown",
   "id": "ef76bda9",
   "metadata": {},
   "source": [
    "## 12.Método de Newton-Raphson\n",
    "### 12.1.Método Teórico\n",
    "Al igual que el método de dicotomia este es un método numérico para aproximar la raíz de una función que cumple las hipótesis del Teorema de Bolzano, pero mucho mas eficiente.\n",
    "\n",
    "Entonces, consideramos, como en el método de dicotomía, una función $f:[a,b]\\rightarrow\\mathbb{R}$, continua en $[a,b]$, con $f(a)\\,f(b)<0$.\n",
    "\n",
    "La idea que está detrás de este método es que la función debe parecerse a su recta tangente y, por tanto, la raíz de la función debe estar cerca de la\n",
    "raíz de la recta tangente. Desarrollando esta idea y dejando iterar el método llegamos a:\n",
    "* Tomamos un punto $x_{0}\\in(a,b)$,\n",
    "* $x_{1} =$ la raíz de la recta tangente a $f$ en el punto $\\left(x_{0}, f\\left(x_{0}\\right)\\right)$, \n",
    "* $x_{2} =$ la raíz de la recta tangente a $f$ en el punto $\\left(x_{1}, f\\left(x_{1}\\right)\\right)$,\n",
    "* ...\n",
    "\n",
    "1. Para arrancar el método, tomamos un punto $x_{0}\\in(a,b)$. \n",
    "2. La **recta tangente a $f$ en $x_{0}$** es $y = f(x_0) + f'(x_0) (x-x_0)$.\n",
    "   Entonces, el punto de corte de esta recta con el eje de abscisas ($\\, y=0\\, $) es\n",
    "\n",
    "    $$\n",
    "    x_1\\, =\\, x_0-\\frac{f(x_0)}{f'(x_0)}\\qquad\\text{si }\\,f'(x_0)\\neq 0.\n",
    "    $$\n",
    "3. La **recta tangente a $f$ en $x_{1}$** es $y = f(x_1) + f'(x_1) (x-x_1)$.\n",
    "   Entonces, el punto de corte de esta recta con el eje de abscisas ($\\, y=0\\, $) es\n",
    "\n",
    "    $$\n",
    "    x_2\\, =\\, x_1-\\frac{f(x_1)}{f'(x_1)}\\qquad\\text{si }\\,f'(x_1)\\neq 0.\n",
    "    $$\n",
    "4. En general, si conocemos $x_{k}$, el siguiente punto en el algoritmo será:\n",
    "\n",
    "  $$\n",
    "  x_{k+1} = x_{k} - \\frac{f(x_{k})}{f'(x_{k})}.\n",
    "  $$\n",
    "\n",
    "\n",
    "**IMPORTANTE**\n",
    "Si no nos dan unha función y nos dan solo la raiz que queremos calcular la función sera la raiz igualada a x y despues despejamos\n",
    "\n",
    "**EJEMPLO**\n",
    "Queremos calcular la $\\sqrt[3]{2}$ \n",
    "\n",
    "$\\sqrt[3]{2}=x \\rightarrow 2=x³ \\rightarrow x³-2=0 \\rightarrow f{(x)}=x³-2=0$"
   ]
  },
  {
   "cell_type": "markdown",
   "id": "6d9e9f7c",
   "metadata": {},
   "source": [
    "### 12.2.Calculadora del Método de Newton-Raphson"
   ]
  },
  {
   "cell_type": "code",
   "execution_count": 586,
   "id": "80e10f51",
   "metadata": {},
   "outputs": [
    {
     "data": {
      "text/plain": [
       "1.25"
      ]
     },
     "metadata": {},
     "output_type": "display_data"
    },
    {
     "data": {
      "text/plain": [
       "0.15714285714285725"
      ]
     },
     "metadata": {},
     "output_type": "display_data"
    },
    {
     "data": {
      "text/plain": [
       "8.396747178055584"
      ]
     },
     "metadata": {},
     "output_type": "display_data"
    },
    {
     "data": {
      "text/plain": [
       "5.708254116167765"
      ]
     },
     "metadata": {},
     "output_type": "display_data"
    },
    {
     "data": {
      "text/plain": [
       "3.9081411532675925"
      ]
     },
     "metadata": {},
     "output_type": "display_data"
    },
    {
     "data": {
      "text/plain": [
       "2.686765057049752"
      ]
     },
     "metadata": {},
     "output_type": "display_data"
    },
    {
     "data": {
      "text/plain": [
       "1.8161257765629504"
      ]
     },
     "metadata": {},
     "output_type": "display_data"
    },
    {
     "data": {
      "text/plain": [
       "1.0669524332342908"
      ]
     },
     "metadata": {},
     "output_type": "display_data"
    },
    {
     "data": {
      "text/plain": [
       "-0.5535006152059969"
      ]
     },
     "metadata": {},
     "output_type": "display_data"
    },
    {
     "name": "stdout",
     "output_type": "stream",
     "text": [
      "Número de iteraciones realizadas:  9\n",
      "Aproximación de la raíz:  -0.5535006152059969\n"
     ]
    }
   ],
   "source": [
    "import numpy as np\n",
    "import sympy as sp\n",
    "\n",
    "x = sp.symbols('x', real=True) # define la variable simbólica x\n",
    "\n",
    "f_expr = x**3-x**2+2 #Queremos calcular cuando esto vale 0\n",
    "f_der_expr = sp.diff(f_expr,x)\n",
    "\n",
    "f = sp.Lambda(x,f_expr)\n",
    "f_der = sp.Lambda(x,f_der_expr)\n",
    "\n",
    "N_max = 10\n",
    "tol = 1.e-9\n",
    "\n",
    "x_aprox = np.zeros(N_max)\n",
    "x_aprox[0] = 2 #x0\n",
    "\n",
    "for k in range(1,N_max):\n",
    "   if f_der(x_aprox[k-1]) == 0: break\n",
    "\n",
    "   x_aprox[k] = x_aprox[k-1] - f(x_aprox[k-1])/f_der(x_aprox[k-1])\n",
    "   #display(x_aprox[k])\n",
    "   #display(x_aprox[k-1])\n",
    "   #display(f(x_aprox[k-1]))\n",
    "   #display(f_der(x_aprox[k-1]))\n",
    "   if ( (k > 0) and (np.abs(x_aprox[k]-x_aprox[k-1]) / np.abs(x_aprox[k]) < tol) ): break\n",
    "\n",
    "print('Número de iteraciones realizadas: ', k) \n",
    "print('Aproximación de la raíz: ', x_aprox[k])"
   ]
  },
  {
   "cell_type": "markdown",
   "id": "d38dbaf9",
   "metadata": {},
   "source": [
    "## 13.Polinomio de Taylor\n",
    "### 13.1. Método Teórico\n",
    "El polinomio de Taylor es un polinomio que permite aproximar el valor de una operación con bastante exactitud\n",
    "\n",
    "El polinomio de Taylor de f(x) de rango n entorno del punto $x_0$ se define como:\n",
    "$$ P_{n,f,x_0}(x):=f(x_0)+\\frac{f'(x_0)}{1!}\\left(x-x_0\\right)+\n",
    "                    \\frac{f''(x_0)}{2!}\\left(x-x_0\\right)^{2}+\\dots+\n",
    "                    \\frac{f^{(n)}(x_0)}{n!}\\left(x-x_0\\right)^{n}     $$\n",
    "                    \n",
    "El teorema del Error de Taylor nos permite aproximar el error cometido con la aproximación mediante Taylor\n",
    "\n",
    "$Error = \\frac{f{(x_0)}^{(n+1)}·(x-x_0)^{n+1}}{(n+1)!} $\n",
    "\n",
    "**Ejemplo**: Queremos calcular el polinomio de Taylor de rango 2 de la siguiente función entorno al punto $x_0=0$ y calcular con el valor aproximado del $\\ln{(1.1)}$\n",
    "\n",
    "$f(x) = ln(1+x)$\n",
    "\n",
    "1.Calculamos el polinomio de Taylor\n",
    "\n",
    "$f(0) = ln(1+0) = ln(1) = 0$\n",
    "\n",
    "$f'(x) =  \\frac{1}{x+1}$\n",
    "\n",
    "$f''(x) = - \\frac{1}{(x+1)²}$\n",
    "\n",
    "$P_{2,f,0}(x) = f(0)+\\frac{f'(0)}{1!}\\left(x-0\\right)+\\frac{f''(0)}{2!}\\left(x-0\\right)^{2} = 0+\\frac{\\frac{1}{0+1}}{1!}\\left(x\\right)+\\frac{- \\frac{1}{(0+1)²}}{2!}\\left(x\\right)^{2}=0+1·x - \\frac{x²}{2} = x - \\frac{x²}{2} $\n",
    "\n",
    "2.Sustituimos el valor de x por el valor que haga que el $ln(x+1) =ln(1.1)$\n",
    "\n",
    "$x+1=1.1 \\rightarrow x=1.1-1=0.1$\n",
    "\n",
    "$x - \\frac{x²}{2} = 0.1 - \\frac{0.1²}{2} = \\frac{0.2+0.01}{2} = \\frac{0.21}{2} = 0.095$ \n",
    "\n",
    "3.Comparamos el valor obtenido con el real\n",
    "\n",
    "$f{(0.1)}= \\ln{(1.1)} = 0.0953101798043249$\n",
    "\n",
    "El error cometido es $|0.0953101798043249-0.095| = 0.000310179804324934$\n",
    "\n",
    "4.Aproximamos el error usando Teorema del Error de Taylor\n",
    "\n",
    "$Error = \\frac{f{(x_0)}^{(n+1)}·(x-x_0)^{n+1}}{(n+1)!} $\n",
    "\n",
    "$f'''{x} = \\frac{2}{(x+1)³} \\rightarrow f'''{0}=\\frac{2}{(0+1)³}=\\frac{2}{1}=2$\n",
    "\n",
    "$Error = \\frac{2·(0.1-0)^{3}}{(3)!} = \\frac{2·0.1^{3}}{3·2·1} = \\frac{2·0.1^{3}}{6} =  \\frac{2·0.1^{3}}{6} = \\frac{2·0.001}{6} = \\frac{0.001}{3}$"
   ]
  },
  {
   "cell_type": "markdown",
   "id": "572780be",
   "metadata": {},
   "source": [
    "### 13.2.Calculadora del Polinomio de Taylor"
   ]
  },
  {
   "cell_type": "code",
   "execution_count": 575,
   "id": "03c2ca03",
   "metadata": {},
   "outputs": [
    {
     "name": "stdout",
     "output_type": "stream",
     "text": [
      "FUNCIÓN\n"
     ]
    },
    {
     "data": {
      "text/latex": [
       "$\\displaystyle \\operatorname{asin}{\\left(x \\right)}$"
      ],
      "text/plain": [
       "asin(x)"
      ]
     },
     "metadata": {},
     "output_type": "display_data"
    },
    {
     "name": "stdout",
     "output_type": "stream",
     "text": [
      "POLINOMIO DE TAYLOR DE asin(x) DE ORDEN 2 EN EL PUNTO 0\n"
     ]
    },
    {
     "data": {
      "text/latex": [
       "$\\displaystyle x + O\\left(x^{3}\\right)$"
      ],
      "text/plain": [
       "x + O(x**3)"
      ]
     },
     "metadata": {},
     "output_type": "display_data"
    },
    {
     "data": {
      "text/latex": [
       "$\\displaystyle x$"
      ],
      "text/plain": [
       "x"
      ]
     },
     "metadata": {},
     "output_type": "display_data"
    },
    {
     "name": "stdout",
     "output_type": "stream",
     "text": [
      "VALOR APROXIMADO MEDIANTE EL POLINOMIO\n"
     ]
    },
    {
     "data": {
      "text/plain": [
       "0.1"
      ]
     },
     "metadata": {},
     "output_type": "display_data"
    },
    {
     "name": "stdout",
     "output_type": "stream",
     "text": [
      "VALOR REAL\n"
     ]
    },
    {
     "data": {
      "text/latex": [
       "$\\displaystyle 0.10016742116156$"
      ],
      "text/plain": [
       "0.100167421161560"
      ]
     },
     "metadata": {},
     "output_type": "display_data"
    },
    {
     "name": "stdout",
     "output_type": "stream",
     "text": [
      "ERROR COMETIDO (Valor Absoluto del Valor Real y el Valor aproximado mediante Taylor)\n"
     ]
    },
    {
     "data": {
      "text/latex": [
       "$\\displaystyle 0.000167421161559794$"
      ],
      "text/plain": [
       "0.000167421161559794"
      ]
     },
     "metadata": {},
     "output_type": "display_data"
    },
    {
     "name": "stdout",
     "output_type": "stream",
     "text": [
      "TEOREMA DEL ERROR DE TAYLOR (aproximación del error)\n"
     ]
    },
    {
     "data": {
      "text/latex": [
       "$\\displaystyle \\frac{\\frac{3 x^{2}}{1 - x^{2}} + 1}{\\left(1 - x^{2}\\right)^{\\frac{3}{2}}}$"
      ],
      "text/plain": [
       "(3*x**2/(1 - x**2) + 1)/(1 - x**2)**(3/2)"
      ]
     },
     "metadata": {},
     "output_type": "display_data"
    },
    {
     "data": {
      "text/latex": [
       "$\\displaystyle \\frac{1}{6000}$"
      ],
      "text/plain": [
       "1/6000"
      ]
     },
     "metadata": {},
     "output_type": "display_data"
    },
    {
     "name": "stdout",
     "output_type": "stream",
     "text": [
      "REPRESENTACIÓN GRÁFICA\n",
      "1.POLINOMIO DE TAYLOR\n"
     ]
    },
    {
     "data": {
      "image/png": "[encoded data removed]",
      "text/plain": [
       "<Figure size 640x480 with 1 Axes>"
      ]
     },
     "metadata": {},
     "output_type": "display_data"
    },
    {
     "name": "stdout",
     "output_type": "stream",
     "text": [
      "2.APROXIMACIÓN DEL VALOR\n"
     ]
    },
    {
     "data": {
      "image/png": "[encoded data removed]",
      "text/plain": [
       "<Figure size 640x480 with 1 Axes>"
      ]
     },
     "metadata": {},
     "output_type": "display_data"
    }
   ],
   "source": [
    "import sympy as sp\n",
    "x = sp.symbols('x', real=True)\n",
    "# punto en el que centramos el polinomio de Taylor\n",
    "x0 = 0\n",
    "#Expresión de la función que queremos aproximar\n",
    "expr = sp.asin(x)\n",
    "print(\"FUNCIÓN\")\n",
    "display(expr)\n",
    "n = 2 \n",
    "print(\"POLINOMIO DE TAYLOR DE\",expr,\"DE ORDEN\",n,\"EN EL PUNTO\",x0)\n",
    "P = sp.series(expr,x,x0,n+1) # calculamos el Polinomio de Taylor de grado n centrado en x0\n",
    "display(P) \n",
    "# la O() representa los términos de orden superior que aparecerían en un polinomio de orden superior, por lo que la eliminamos\n",
    "P=P.removeO()\n",
    "display(P)\n",
    "valor=0.1 #Dar el valor a la x para que sea lo que queremos calcular\n",
    "#Ejemplo queremos calcular log(1.1) en la función (log(x+1)) por lo tanto log(1.1)=log(0.1+1) entonces x=0.1=valor\n",
    "#Definimos la función\n",
    "f = sp.Lambda((x),expr) \n",
    "#Definimos la función de Taylor con el Polinomio de taylor\n",
    "Pl = sp.Lambda((x),P)\n",
    "print(\"VALOR APROXIMADO MEDIANTE EL POLINOMIO\")\n",
    "display(Pl(valor)) \n",
    "print(\"VALOR REAL\")\n",
    "display(f(valor))  \n",
    "print(\"ERROR COMETIDO (Valor Absoluto del Valor Real y el Valor aproximado mediante Taylor)\")\n",
    "display(sp.Abs(Pl(valor)-f(valor))) #Error entre la función original y la función de Taylor\n",
    "print(\"TEOREMA DEL ERROR DE TAYLOR (aproximación del error)\")\n",
    "fx3 = expr.diff(x,n+1) #Hacemos la derivada n+1 (2+1=3) para hacer el error de la nésima\n",
    "display(fx3)\n",
    "display(fx3.subs(x,x0)/sp.factorial(n+1)*(sp.Rational('1/10'))**3)\n",
    "#Ponemos el valor que calculamos antes en el sp.Rational pero en forma de fracción si no es entero\n",
    "#En el ejemplo pondriamos 1/10 = 0.1 para que no de en punto flotante\n",
    "print(\"REPRESENTACIÓN GRÁFICA\")\n",
    "print(\"1.POLINOMIO DE TAYLOR\")\n",
    "#Expresión, polinomioDeTaylor, (variable,limiteEsquerdo,LimiteDereito)\n",
    "p = sp.plot(expr, P, (x, -0.99, 4), show=False)\n",
    "p[0].line_color='r'\n",
    "p[1].line_color='b'\n",
    "p.xlabel='x'\n",
    "p.ylabel='y'\n",
    "p.legend=True\n",
    "p.show()\n",
    "print(\"2.APROXIMACIÓN DEL VALOR\")\n",
    "p = sp.plot(fx3, (x, 0, 0.1), show=False)\n",
    "p[0].line_color='r'\n",
    "p.xlabel='x'\n",
    "p.ylabel='y'\n",
    "p.legend=True\n",
    "p.show()"
   ]
  },
  {
   "cell_type": "markdown",
   "id": "82e83b46",
   "metadata": {},
   "source": []
  },
  {
   "cell_type": "code",
   "execution_count": null,
   "id": "a88e04f2",
   "metadata": {},
   "outputs": [],
   "source": []
  }
 ],
 "metadata": {
  "kernelspec": {
   "display_name": "Python 3 (ipykernel)",
   "language": "python",
   "name": "python3"
  },
  "language_info": {
   "codemirror_mode": {
    "name": "ipython",
    "version": 3
   },
   "file_extension": ".py",
   "mimetype": "text/x-python",
   "name": "python",
   "nbconvert_exporter": "python",
   "pygments_lexer": "ipython3",
   "version": "3.9.12"
  }
 },
 "nbformat": 4,
 "nbformat_minor": 5
}
