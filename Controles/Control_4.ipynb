{
 "cells": [
  {
   "cell_type": "markdown",
   "metadata": {},
   "source": [
    "# Cálculo. Grado en ingeniería informática\n",
    "# <pre>Control 4 ( diciembre 2022)               Grupo: Cal.33 <pre> "
   ]
  },
  {
   "cell_type": "markdown",
   "metadata": {
    "tags": []
   },
   "source": [
    "# Nombre y apellidos:                                                              "
   ]
  },
  {
   "cell_type": "markdown",
   "metadata": {},
   "source": [
    "| Ejercicio  |     1    |     2    | \n",
    "|------------|:--------:|:--------:|\n",
    "| Puntuación |  0.75    |   0.75   | \n",
    "| Evaluación |          |          |\n",
    "\n",
    "### Al terminar la prueba, se debe descargar este fichero en formato .ipynb y enviarlo por correo electrónico a *jesus.cendan.verdes@udc.es*.  El nombre de este fichero debe empezar por vuestros apellidos seguidos del nombre y grupo de prácticas ApellidosNombre_cal00.ipynb.\n",
    "## Todo fichero recibido que no tenga el formato requerido, .ipynb, o no sea legible no será evaluado, lo que significa que la nota de este control sea un 0.\n",
    "### La resolución de los ejercicios es mediante jupyter-notebook. Se valorarán los comentarios incluidos en las respuestas"
   ]
  },
  {
   "cell_type": "markdown",
   "metadata": {},
   "source": [
    "## Ejercicio 1 (0.75 puntos):\n",
    "..."
   ]
  },
  {
   "cell_type": "code",
   "execution_count": 52,
   "metadata": {},
   "outputs": [
    {
     "data": {
      "text/latex": [
       "$\\displaystyle \\left( x \\mapsto \\frac{1}{\\sqrt{\\left|{x}\\right|}} \\right)$"
      ],
      "text/plain": [
       "Lambda(x, 1/sqrt(Abs(x)))"
      ]
     },
     "metadata": {},
     "output_type": "display_data"
    },
    {
     "name": "stdout",
     "output_type": "stream",
     "text": [
      "-----------------------------\n",
      "\n",
      "a)\n"
     ]
    },
    {
     "data": {
      "text/plain": [
       "'Dominio de la funcion'"
      ]
     },
     "metadata": {},
     "output_type": "display_data"
    },
    {
     "data": {
      "text/latex": [
       "$\\displaystyle \\left(-\\infty, 0\\right) \\cup \\left(0, \\infty\\right)$"
      ],
      "text/plain": [
       "Union(Interval.open(-oo, 0), Interval.open(0, oo))"
      ]
     },
     "metadata": {},
     "output_type": "display_data"
    },
    {
     "name": "stdout",
     "output_type": "stream",
     "text": [
      "Las AV son: \n"
     ]
    },
    {
     "data": {
      "text/latex": [
       "$\\displaystyle \\infty$"
      ],
      "text/plain": [
       "oo"
      ]
     },
     "metadata": {},
     "output_type": "display_data"
    },
    {
     "data": {
      "text/latex": [
       "$\\displaystyle \\infty$"
      ],
      "text/plain": [
       "oo"
      ]
     },
     "metadata": {},
     "output_type": "display_data"
    },
    {
     "name": "stdout",
     "output_type": "stream",
     "text": [
      "Tiene una asintota vertical en x=0\n",
      "\n",
      "Las AH son: \n"
     ]
    },
    {
     "data": {
      "text/latex": [
       "$\\displaystyle 0$"
      ],
      "text/plain": [
       "0"
      ]
     },
     "metadata": {},
     "output_type": "display_data"
    },
    {
     "data": {
      "text/latex": [
       "$\\displaystyle 0$"
      ],
      "text/plain": [
       "0"
      ]
     },
     "metadata": {},
     "output_type": "display_data"
    },
    {
     "name": "stdout",
     "output_type": "stream",
     "text": [
      "Tiene una asintota horizontal en y=0\n",
      "-----------------------------\n",
      "\n",
      "b)\n"
     ]
    },
    {
     "data": {
      "text/plain": [
       "'Puntos de corte de f(x) con el eje OX'"
      ]
     },
     "metadata": {},
     "output_type": "display_data"
    },
    {
     "data": {
      "text/plain": [
       "[]"
      ]
     },
     "metadata": {},
     "output_type": "display_data"
    },
    {
     "data": {
      "text/plain": [
       "'Área total en unidades cuadradas'"
      ]
     },
     "metadata": {},
     "output_type": "display_data"
    },
    {
     "data": {
      "text/latex": [
       "$\\displaystyle 10$"
      ],
      "text/plain": [
       "10"
      ]
     },
     "metadata": {},
     "output_type": "display_data"
    },
    {
     "name": "stdout",
     "output_type": "stream",
     "text": [
      "-----------------------------\n",
      "\n",
      "c)\n"
     ]
    },
    {
     "data": {
      "text/plain": [
       "'El volumen de la figura es: '"
      ]
     },
     "metadata": {},
     "output_type": "display_data"
    },
    {
     "data": {
      "text/latex": [
       "$\\displaystyle \\pi \\log{\\left(4 \\right)}$"
      ],
      "text/plain": [
       "pi*log(4)"
      ]
     },
     "metadata": {},
     "output_type": "display_data"
    },
    {
     "data": {
      "text/plain": [
       "'Que es lo mismo que: '"
      ]
     },
     "metadata": {},
     "output_type": "display_data"
    },
    {
     "data": {
      "text/plain": [
       "4.355172180607204"
      ]
     },
     "metadata": {},
     "output_type": "display_data"
    }
   ],
   "source": [
    "import sympy as sp\n",
    "import numpy as np\n",
    "import matplotlib as mp\n",
    "import matplotlib.pyplot as plt\n",
    "x,y = sp.symbols('x,y')\n",
    "\n",
    "expr1 = 1 / sp.sqrt(sp.Abs(x))\n",
    "f1 = sp.Lambda(x,expr1)                                   #Definimos la función\n",
    "display(f1)\n",
    "#a)Calculo de asintotas\n",
    "print('-----------------------------')\n",
    "print('\\na)')\n",
    "\n",
    "# Dominio\n",
    "I = sp.calculus.util.continuous_domain(f1, x, sp.Reals)   #Primero calculamos el dominio para saber en que puntos se anula el denominador\n",
    "display('Dominio de la funcion',I)\n",
    "\n",
    "#ASÍNTOTA VERTICAL\n",
    "print('Las AV son: ')\n",
    "display(sp.limit(f1(x),x,0,dir='-'))                      #Luego calculamos las AV en funcion del punto/o puntos que nos dan en el calculo del dominio\n",
    "display(sp.limit(f1(x),x,0,dir='+'))\n",
    "print('Tiene una asintota vertical en x=0')\n",
    "\n",
    "#ASINTOTA HORIZONTAL\n",
    "print('\\nLas AH son: ')\n",
    "display(sp.limit(f1(x),x,-sp.oo))                         #Calculamos las AH en el infino y -infino y nos tiene que dar el mismo número\n",
    "display(sp.limit(f1(x),x,sp.oo))                          #Al darnos estas asintotas ya no tenemos que calcular las oblicuas\n",
    "print('Tiene una asintota horizontal en y=0')\n",
    "\n",
    "#b)Calcular area\n",
    "print('-----------------------------')\n",
    "print('\\nb)')\n",
    "\n",
    "# Puntos de corte\n",
    "display('Puntos de corte de f(x) con el eje OX',sp.solve(f1))    #Calculamos los puntos de corte de la función con el eje 0X\n",
    "\n",
    "# Área\n",
    "I2 = sp.integrate(expr1,(x,-4,9))                                #Obtenemos el area calculando la integral de la expresion en los puntos que nos indican\n",
    "display('Área total en unidades cuadradas',I2)\n",
    "\n",
    "#c)Volumen\n",
    "print('-----------------------------')\n",
    "print('\\nc)')\n",
    "Vol = sp.pi*sp.integrate(expr1**2,(x,-4,-1))               #Para obtener el volumen integramos la funcion al cuadrado en los puntos que nos indican y multiplicamos por pi\n",
    "display('El volumen de la figura es: ',Vol)\n",
    "display('Que es lo mismo que: ',float(Vol))"
   ]
  },
  {
   "cell_type": "markdown",
   "metadata": {},
   "source": [
    "## Ejercicio 2 (0.75 puntos):\n",
    ".."
   ]
  },
  {
   "cell_type": "code",
   "execution_count": 55,
   "metadata": {},
   "outputs": [
    {
     "data": {
      "text/latex": [
       "$\\displaystyle \\left( x \\mapsto \\sqrt{9 - x^{2}} + \\sqrt{x^{2} - 1} \\right)$"
      ],
      "text/plain": [
       "Lambda(x, sqrt(9 - x**2) + sqrt(x**2 - 1))"
      ]
     },
     "metadata": {},
     "output_type": "display_data"
    },
    {
     "name": "stdout",
     "output_type": "stream",
     "text": [
      "-----------------------------\n",
      "\n",
      "a)\n"
     ]
    },
    {
     "data": {
      "text/plain": [
       "'Dominio de la función'"
      ]
     },
     "metadata": {},
     "output_type": "display_data"
    },
    {
     "data": {
      "text/latex": [
       "$\\displaystyle \\left[-3, -1\\right] \\cup \\left[1, 3\\right]$"
      ],
      "text/plain": [
       "Union(Interval(-3, -1), Interval(1, 3))"
      ]
     },
     "metadata": {},
     "output_type": "display_data"
    },
    {
     "name": "stdout",
     "output_type": "stream",
     "text": [
      "La gráfica de la función es:\n"
     ]
    },
    {
     "data": {
      "image/png": "[encoded data removed]",
      "text/plain": [
       "<Figure size 432x288 with 1 Axes>"
      ]
     },
     "metadata": {
      "needs_background": "light"
     },
     "output_type": "display_data"
    },
    {
     "name": "stdout",
     "output_type": "stream",
     "text": [
      "Como podemos observar en la grafica dibujada, el dominio es muy similar al obtenido arriba\n",
      "-----------------------------\n",
      "\n",
      "\n",
      "b)\n",
      "\n",
      "Vamos a calcular las aproximaciones por los dos metodos:\n",
      "\n",
      "aprox_p.medio:  7.480614022097712\n",
      "\n",
      "aprox_simpson:  7.480493979864247\n",
      "\n",
      "Exacta:  7.4863709157601335\n",
      "\n",
      "La mejor de las dos aproximaciones es la del puto medio compuesta porque es la que se acerca mas a la exacta\n"
     ]
    }
   ],
   "source": [
    "#a)\n",
    "expr = sp.sqrt(x**2 - 1) + sp.sqrt(9 - x**2)\n",
    "f = sp.Lambda(x,expr)                                            #Definimos la funcion\n",
    "display(f)\n",
    "\n",
    "print('-----------------------------')\n",
    "print('\\na)')\n",
    "# Dominio\n",
    "Ib = sp.calculus.util.continuous_domain(f, x, sp.Reals)          #Calculamos su dominio\n",
    "display('Dominio de la función',Ib)\n",
    "\n",
    "#Dibujamos la funcion\n",
    "print('La gráfica de la función es:') \n",
    "sp.plot(f(x))                                                    #La dinujamos para comparar\n",
    "\n",
    "print('Como podemos observar en la grafica dibujada, el dominio es muy similar al obtenido arriba')\n",
    "\n",
    "#b)\n",
    "print('-----------------------------')\n",
    "f_exp = sp.sqrt(x**2 - 1) + sp.sqrt(9 - x**2)                    #Definimos la funcion\n",
    "f = sp.lambdify(x,f_exp)\n",
    "\n",
    "a = 1; b = 3 # Elementos del intervalo\n",
    "n = 1001 # Número de elementos -1 o precisión\n",
    "\n",
    "x1 = np.linspace(a,b,n+1) # aquí guardamos los x_{i}. \n",
    "                          # Recuerda que, en Python, se guarda x1[0], x1[1], ..., x1[(n+1)-1] = x1[n]\n",
    "y1 = f(x1)\n",
    "\n",
    "h = (b-a)/n # el tamaño de cada subintervalo\n",
    "\n",
    "aprox_medio = 2*h * np.sum(y1[1:n:2])\n",
    "aprox_simpson = 2*h/6 * (y1[0] + 4*np.sum(y1[1:n:2])+2*np.sum(y1[2:n-1:2])+y1[n])\n",
    "\n",
    "print('\\n\\nb)')\n",
    "print('\\nVamos a calcular las aproximaciones por los dos metodos:')\n",
    "print('\\naprox_p.medio: ',aprox_medio) \n",
    "print('\\naprox_simpson: ',aprox_simpson) \n",
    "\n",
    "print('\\nExacta: ',float(sp.integrate(f_exp,(x,a,b))))\n",
    "\n",
    "print('\\nLa mejor de las dos aproximaciones es la del puto medio compuesta porque es la que se acerca mas a la exacta')"
   ]
  }
 ],
 "metadata": {
  "kernelspec": {
   "display_name": "Python 3 (ipykernel)",
   "language": "python",
   "name": "python3"
  },
  "language_info": {
   "codemirror_mode": {
    "name": "ipython",
    "version": 3
   },
   "file_extension": ".py",
   "mimetype": "text/x-python",
   "name": "python",
   "nbconvert_exporter": "python",
   "pygments_lexer": "ipython3",
   "version": "3.9.12"
  }
 },
 "nbformat": 4,
 "nbformat_minor": 4
}
