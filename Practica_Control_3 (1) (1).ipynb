{
 "cells": [
  {
   "cell_type": "code",
   "execution_count": 244,
   "id": "47e37a22",
   "metadata": {},
   "outputs": [],
   "source": [
    "import sympy as sp\n",
    "import numpy as np"
   ]
  },
  {
   "cell_type": "code",
   "execution_count": 245,
   "id": "dab8758e",
   "metadata": {},
   "outputs": [
    {
     "data": {
      "text/plain": [
       "'La derivada usando la definición es la siguiente:'"
      ]
     },
     "metadata": {},
     "output_type": "display_data"
    },
    {
     "data": {
      "text/latex": [
       "$\\displaystyle 10 x$"
      ],
      "text/plain": [
       "10*x"
      ]
     },
     "metadata": {},
     "output_type": "display_data"
    },
    {
     "data": {
      "text/plain": [
       "'La pendiente es:'"
      ]
     },
     "metadata": {},
     "output_type": "display_data"
    },
    {
     "data": {
      "text/latex": [
       "$\\displaystyle 5.0$"
      ],
      "text/plain": [
       "5.00000000000000"
      ]
     },
     "metadata": {},
     "output_type": "display_data"
    },
    {
     "data": {
      "text/plain": [
       "'La ecuación de la recta tg a la gráfica de f en x = 1/2'"
      ]
     },
     "metadata": {},
     "output_type": "display_data"
    },
    {
     "name": "stdout",
     "output_type": "stream",
     "text": [
      "y =  5.0*x - 1.25\n"
     ]
    }
   ],
   "source": [
    "# Ejercicio 1\n",
    "x,h,y = sp.symbols('x,h,y', real=True)\n",
    "expr1 = 5*x**2\n",
    "f = sp.Lambda(x,expr1)\n",
    "\n",
    "#1.a\n",
    "d1f = sp.limit((f(x+h)-f(x))/h,h,0)\n",
    "display('La derivada usando la definición es la siguiente:',d1f)\n",
    "\n",
    "#1.b\n",
    "m = d1f.subs(x,1/2)\n",
    "display('La pendiente es:',m)\n",
    "expr1b = sp.Eq(m*(x-1/2)+f(1/2),y)\n",
    "display('La ecuación de la recta tg a la gráfica de f en x = 1/2')\n",
    "sol1b = print('y = ',sp.solve(expr1b,y)[0])"
   ]
  },
  {
   "cell_type": "code",
   "execution_count": 246,
   "id": "826744b1",
   "metadata": {},
   "outputs": [
    {
     "data": {
      "text/plain": [
       "'Límite x-->-1-'"
      ]
     },
     "metadata": {},
     "output_type": "display_data"
    },
    {
     "data": {
      "text/latex": [
       "$\\displaystyle -3$"
      ],
      "text/plain": [
       "-3"
      ]
     },
     "metadata": {},
     "output_type": "display_data"
    },
    {
     "data": {
      "text/plain": [
       "'Límite x-->-1+'"
      ]
     },
     "metadata": {},
     "output_type": "display_data"
    },
    {
     "data": {
      "text/latex": [
       "$\\displaystyle -2$"
      ],
      "text/plain": [
       "-2"
      ]
     },
     "metadata": {},
     "output_type": "display_data"
    },
    {
     "name": "stdout",
     "output_type": "stream",
     "text": [
      "f(x) no es continua por lo que no es derivable en x = -1\n"
     ]
    }
   ],
   "source": [
    "# Ejercicio 2\n",
    "x,h = sp.symbols('x,h', reals=True)\n",
    "expr2_1 = 2*x-1\n",
    "f1 = sp.Lambda(x,expr2_1)\n",
    "expr2_2 = (x+1)**3+2*x\n",
    "f2 = sp.Lambda(x,expr2_2)\n",
    "\n",
    "# Estudio de la continuidad\n",
    "lim_i = sp.limit(f1(x),x,-1,dir = '-')\n",
    "lim_d = sp.limit(f2(x),x,-1,dir = '+')\n",
    "display('Límite x-->-1-',lim_i)\n",
    "display('Límite x-->-1+',lim_d)\n",
    "\n",
    "print('f(x) no es continua por lo que no es derivable en x = -1')"
   ]
  },
  {
   "cell_type": "code",
   "execution_count": 247,
   "id": "34d83dfe",
   "metadata": {},
   "outputs": [
    {
     "data": {
      "text/plain": [
       "'Derivada primera de f´(x) para x != 0'"
      ]
     },
     "metadata": {},
     "output_type": "display_data"
    },
    {
     "data": {
      "text/latex": [
       "$\\displaystyle 2 x \\sin{\\left(\\frac{1}{x} \\right)} - \\cos{\\left(\\frac{1}{x} \\right)} + 1$"
      ],
      "text/plain": [
       "2*x*sin(1/x) - cos(1/x) + 1"
      ]
     },
     "metadata": {},
     "output_type": "display_data"
    },
    {
     "data": {
      "text/plain": [
       "'f´(0) es:'"
      ]
     },
     "metadata": {},
     "output_type": "display_data"
    },
    {
     "data": {
      "text/latex": [
       "$\\displaystyle 1$"
      ],
      "text/plain": [
       "1"
      ]
     },
     "metadata": {},
     "output_type": "display_data"
    },
    {
     "data": {
      "text/plain": [
       "'No son iguales:'"
      ]
     },
     "metadata": {},
     "output_type": "display_data"
    },
    {
     "data": {
      "text/latex": [
       "$\\displaystyle 0$"
      ],
      "text/plain": [
       "0"
      ]
     },
     "metadata": {},
     "output_type": "display_data"
    }
   ],
   "source": [
    "# Ejercicio 3\n",
    "x = sp.Symbol('x',real=True)\n",
    "expr3_1 = x+x**2*sp.sin(1/x)\n",
    "f1 = sp.Lambda(x,expr3_1)\n",
    "expr3_2 = 0\n",
    "\n",
    "#3.a\n",
    "d1f = sp.diff(expr3_1,x)\n",
    "display('Derivada primera de f´(x) para x != 0',d1f)\n",
    "\n",
    "#3.b\n",
    "f_expr2 = 0\n",
    "f2 = sp.Lambda(x,f_expr2)\n",
    "d1f_2 = sp.limit((f1(0+h)-f2(0))/h,h,0,dir = '-')\n",
    "display('f´(0) es:',d1f_2)\n",
    "\n",
    "#3.c\n",
    "display('No son iguales:',sp.limit(f1(x),x,0))"
   ]
  },
  {
   "cell_type": "code",
   "execution_count": 248,
   "id": "c3d29cdb",
   "metadata": {},
   "outputs": [
    {
     "data": {
      "text/plain": [
       "'La derivada primera en f´(x) != 0 es:'"
      ]
     },
     "metadata": {},
     "output_type": "display_data"
    },
    {
     "data": {
      "text/latex": [
       "$\\displaystyle \\frac{\\left(x + 1\\right) e^{- x}}{x^{2}}$"
      ],
      "text/plain": [
       "(x + 1)*exp(-x)/x**2"
      ]
     },
     "metadata": {},
     "output_type": "display_data"
    },
    {
     "data": {
      "text/plain": [
       "'La derivada primera en f´(x) = 0 es:'"
      ]
     },
     "metadata": {},
     "output_type": "display_data"
    },
    {
     "data": {
      "text/latex": [
       "$\\displaystyle 0$"
      ],
      "text/plain": [
       "0"
      ]
     },
     "metadata": {},
     "output_type": "display_data"
    },
    {
     "name": "stdout",
     "output_type": "stream",
     "text": [
      "\n",
      "\n"
     ]
    },
    {
     "data": {
      "text/plain": [
       "'Límite x-->-oo'"
      ]
     },
     "metadata": {},
     "output_type": "display_data"
    },
    {
     "data": {
      "text/latex": [
       "$\\displaystyle \\infty$"
      ],
      "text/plain": [
       "oo"
      ]
     },
     "metadata": {},
     "output_type": "display_data"
    },
    {
     "data": {
      "text/plain": [
       "'Límite x-->+oo'"
      ]
     },
     "metadata": {},
     "output_type": "display_data"
    },
    {
     "data": {
      "text/latex": [
       "$\\displaystyle 0$"
      ],
      "text/plain": [
       "0"
      ]
     },
     "metadata": {},
     "output_type": "display_data"
    },
    {
     "data": {
      "text/plain": [
       "'Para calcular los extremos relativos f´(x) = 0 y obtenemos:'"
      ]
     },
     "metadata": {},
     "output_type": "display_data"
    },
    {
     "data": {
      "text/plain": [
       "[-1]"
      ]
     },
     "metadata": {},
     "output_type": "display_data"
    },
    {
     "data": {
      "text/plain": [
       "'En el intervalo de -oo a -1 la función decrece'"
      ]
     },
     "metadata": {},
     "output_type": "display_data"
    },
    {
     "data": {
      "text/latex": [
       "$\\displaystyle - \\frac{e^{2}}{4}$"
      ],
      "text/plain": [
       "-exp(2)/4"
      ]
     },
     "metadata": {},
     "output_type": "display_data"
    },
    {
     "data": {
      "text/plain": [
       "'En el intervalo de -1 a 0 la función crece'"
      ]
     },
     "metadata": {},
     "output_type": "display_data"
    },
    {
     "data": {
      "text/latex": [
       "$\\displaystyle 3.29744254140026$"
      ],
      "text/plain": [
       "3.29744254140026"
      ]
     },
     "metadata": {},
     "output_type": "display_data"
    },
    {
     "data": {
      "text/plain": [
       "'En el intervalo de 0 a oo la función crece '"
      ]
     },
     "metadata": {},
     "output_type": "display_data"
    },
    {
     "data": {
      "text/latex": [
       "$\\displaystyle 3.6391839582758$"
      ],
      "text/plain": [
       "3.63918395827580"
      ]
     },
     "metadata": {},
     "output_type": "display_data"
    },
    {
     "name": "stdout",
     "output_type": "stream",
     "text": [
      "Obtenemos que hay un mínimo absoluto en x = -1, pero de 0 a infinito la función crece, por lo que no se pueden calcular máximos absolutos\n",
      "\n",
      "Por lo tanto deducimos que Im(f) = (-1,oo)\n"
     ]
    }
   ],
   "source": [
    "# Ejercicio 4\n",
    "x,h = sp.symbols('x,h', real=True)\n",
    "expr1 = (1-sp.exp(-x))/x\n",
    "f1 = sp.Lambda(x,expr1)\n",
    "expr2 = (1)\n",
    "f2 = sp.Lambda(x,expr2)\n",
    "\n",
    "\n",
    "#4.a\n",
    "# Cálculo de f'(x) para x != 0\n",
    "f=(1-sp.exp(-x)/x)\n",
    "d1f=sp.diff(f,x,1) # Comando para derivar\n",
    "display('La derivada primera en f´(x) != 0 es:',sp.simplify(d1f))\n",
    "d1f_2 = sp.diff(1,x,1)\n",
    "display('La derivada primera en f´(x) = 0 es:',sp.simplify(d1f_2))\n",
    "\n",
    "#4.b\n",
    "print('\\n')\n",
    "display('Límite x-->-oo',sp.limit(f1(x),x,-sp.oo))\n",
    "display('Límite x-->+oo',sp.limit(f1(x),x,sp.oo))\n",
    "\n",
    "# Para el cálculo de Im(f), calculamos los mínimos y máximos absolutos\n",
    "display('Para calcular los extremos relativos f´(x) = 0 y obtenemos:')\n",
    "display(sp.solve(d1f))\n",
    "# Evaluamos lo obtenido en intervalos\n",
    "display('En el intervalo de -oo a -1 la función decrece',d1f.subs(x,-2))\n",
    "display('En el intervalo de -1 a 0 la función crece',d1f.subs(x,-0.5))\n",
    "display('En el intervalo de 0 a oo la función crece ',d1f.subs(x,0.5))\n",
    "print('Obtenemos que hay un mínimo absoluto en x = -1, pero de 0 a infinito la función crece, por lo que no se pueden calcular máximos absolutos')\n",
    "print('\\nPor lo tanto deducimos que Im(f) = (-1,oo)')\n",
    "\n",
    "\n"
   ]
  },
  {
   "cell_type": "code",
   "execution_count": 249,
   "id": "86aad1c7",
   "metadata": {},
   "outputs": [
    {
     "name": "stdout",
     "output_type": "stream",
     "text": [
      "Número de iteraciones realizadas:  5\n",
      "Aproximación de la raíz:  1.2599210498948732\n",
      "\n",
      "Aproximaciones [1.         1.33333333 1.26388889 1.25993349 1.25992105 1.25992105]\n"
     ]
    }
   ],
   "source": [
    "# Ejercicio 5\n",
    "import numpy as np\n",
    "import sympy as sp\n",
    "\n",
    "x = sp.symbols('x', real=True) # define la variable simbólica x\n",
    "\n",
    "f_expr = x**3 -2\n",
    "f_der_expr = sp.diff(f_expr,x)\n",
    "\n",
    "f = sp.Lambda(x,f_expr)\n",
    "f_der = sp.Lambda(x,f_der_expr)\n",
    "\n",
    "N_max = 10\n",
    "tol = 1.e-9\n",
    "\n",
    "x_aprox = np.zeros(N_max)\n",
    "x_aprox[0] = 1\n",
    "\n",
    "for k in range(1,N_max):\n",
    "   if f_der(x_aprox[k-1]) == 0: break\n",
    "\n",
    "   x_aprox[k] = x_aprox[k-1] - f(x_aprox[k-1])/f_der(x_aprox[k-1])\n",
    "\n",
    "   if ( (k > 0) and (np.abs(x_aprox[k]-x_aprox[k-1]) / np.abs(x_aprox[k]) < tol) ): break\n",
    "\n",
    "print('Número de iteraciones realizadas: ', k) \n",
    "print('Aproximación de la raíz: ', x_aprox[k])\n",
    "print('\\nAproximaciones', x_aprox[0:k+1])"
   ]
  },
  {
   "cell_type": "code",
   "execution_count": 250,
   "id": "ff65ab0d",
   "metadata": {},
   "outputs": [
    {
     "name": "stdout",
     "output_type": "stream",
     "text": [
      "La solucion del apartado a seria: \n",
      "xn + 1 = xn**3 + 2*xn -2 / 3*xn**2 + 2\n",
      "Número de iteraciones realizadas:  6\n",
      "Aproximación de la raíz:  0.7709169970592481\n",
      "\n",
      "Aproximaciones [0.         1.         0.8        0.77142857 0.77091716 0.770917\n",
      " 0.770917  ]\n"
     ]
    }
   ],
   "source": [
    "# Ejercicio 6\n",
    "#a)\n",
    "\n",
    "#Hay que utilizar la ecuacion xn+1 = xn - f(xn) / f´(xn)\n",
    "print('La solucion del apartado a seria: ')\n",
    "print('xn + 1 = xn**3 + 2*xn -2 / 3*xn**2 + 2')\n",
    "\n",
    "\n",
    "\n",
    "#b)\n",
    "import numpy as np\n",
    "import sympy as sp\n",
    "\n",
    "x = sp.symbols('x', real=True) # define la variable simbólica x\n",
    "\n",
    "f_expr = x**3 + 2*x -2\n",
    "f_der_expr = sp.diff(f_expr,x)\n",
    "\n",
    "f = sp.Lambda(x,f_expr)\n",
    "f_der = sp.Lambda(x,f_der_expr)\n",
    "\n",
    "N_max = 100\n",
    "tol = 1.e-9\n",
    "\n",
    "x_aprox = np.zeros(N_max)\n",
    "x_aprox[0] = 0\n",
    "\n",
    "for k in range(1,N_max):\n",
    "   if f_der(x_aprox[k-1]) == 0: break\n",
    "\n",
    "   x_aprox[k] = x_aprox[k-1] - f(x_aprox[k-1])/f_der(x_aprox[k-1])\n",
    "\n",
    "   if ( (k > 0) and (np.abs(x_aprox[k]-x_aprox[k-1]) / np.abs(x_aprox[k]) < tol) ): break\n",
    "\n",
    "print('Número de iteraciones realizadas: ', k) \n",
    "print('Aproximación de la raíz: ', x_aprox[k])\n",
    "print('\\nAproximaciones', x_aprox[0:k+1])"
   ]
  },
  {
   "cell_type": "code",
   "execution_count": 251,
   "id": "78be335b",
   "metadata": {},
   "outputs": [
    {
     "data": {
      "text/plain": [
       "'Pendiente:'"
      ]
     },
     "metadata": {},
     "output_type": "display_data"
    },
    {
     "data": {
      "text/latex": [
       "$\\displaystyle \\frac{1}{2}$"
      ],
      "text/plain": [
       "1/2"
      ]
     },
     "metadata": {},
     "output_type": "display_data"
    },
    {
     "data": {
      "text/plain": [
       "'Ecuación de la recta tg'"
      ]
     },
     "metadata": {},
     "output_type": "display_data"
    },
    {
     "name": "stdout",
     "output_type": "stream",
     "text": [
      "y = x/2\n"
     ]
    }
   ],
   "source": [
    "# Ejercicio 7\n",
    "x,y = sp.symbols('x,y', reals=True)\n",
    "f_expr7 = sp.atan(sp.sin(x)/(1+sp.cos(x)))\n",
    "f = sp.Lambda(x,f_expr7)\n",
    "\n",
    "# Cálculo de la recta tg\n",
    "# Cálculo de la pendiente\n",
    "m = sp.diff(f_expr7,x,1)\n",
    "display('Pendiente:',sp.simplify(m))\n",
    "expr7 = sp.Eq(m*(x-0)+f(0),y)\n",
    "display('Ecuación de la recta tg')\n",
    "print('y =', sp.solve(expr7,y)[0])"
   ]
  },
  {
   "cell_type": "code",
   "execution_count": 252,
   "id": "b0eb43a5",
   "metadata": {},
   "outputs": [
    {
     "data": {
      "text/latex": [
       "$\\displaystyle 2 \\left(4 x + 1\\right)^{\\sin{\\left(x^{2} \\right)} + 1} \\left(x \\left(4 x + 1\\right) \\log{\\left(4 x + 1 \\right)} \\cos{\\left(x^{2} \\right)} + 2 \\sin{\\left(x^{2} \\right)} + 4\\right)$"
      ],
      "text/plain": [
       "2*(4*x + 1)**(sin(x**2) + 1)*(x*(4*x + 1)*log(4*x + 1)*cos(x**2) + 2*sin(x**2) + 4)"
      ]
     },
     "metadata": {},
     "output_type": "display_data"
    }
   ],
   "source": [
    "# Ejercicio 8\n",
    "expr8 = (4*x+1)**(2+sp.sin(x**2))\n",
    "d1f = sp.diff(expr8,x,1)\n",
    "display(sp.simplify(d1f))"
   ]
  },
  {
   "cell_type": "code",
   "execution_count": 253,
   "id": "0f467a9d",
   "metadata": {},
   "outputs": [
    {
     "data": {
      "text/latex": [
       "$\\displaystyle \\frac{1 - e^{- x}}{x}$"
      ],
      "text/plain": [
       "(1 - exp(-x))/x"
      ]
     },
     "metadata": {},
     "output_type": "display_data"
    },
    {
     "data": {
      "text/latex": [
       "$\\displaystyle 0.333333333333333$"
      ],
      "text/plain": [
       "0.333333333333333"
      ]
     },
     "metadata": {},
     "output_type": "display_data"
    },
    {
     "data": {
      "text/plain": [
       "'Límite izqda'"
      ]
     },
     "metadata": {},
     "output_type": "display_data"
    },
    {
     "data": {
      "text/latex": [
       "$\\displaystyle 3$"
      ],
      "text/plain": [
       "3"
      ]
     },
     "metadata": {},
     "output_type": "display_data"
    },
    {
     "data": {
      "text/plain": [
       "'Límite dcha'"
      ]
     },
     "metadata": {},
     "output_type": "display_data"
    },
    {
     "data": {
      "text/latex": [
       "$\\displaystyle 3$"
      ],
      "text/plain": [
       "3"
      ]
     },
     "metadata": {},
     "output_type": "display_data"
    },
    {
     "data": {
      "text/plain": [
       "'Ambos límites coinciden pero != f(a),  por lo tanto B = opción correcta'"
      ]
     },
     "metadata": {},
     "output_type": "display_data"
    }
   ],
   "source": [
    "# Ejercicio 9\n",
    "x = sp.symbols('x', real=True)\n",
    "expr9_1 = (sp.sin(3*x))**2/(3*x**2)\n",
    "f3 = sp.Lambda(x,expr9_1)\n",
    "expr9_2 = 1/3\n",
    "f2 = sp.Lambda(x,expr9_2)\n",
    "display(f1(x))\n",
    "display(f2(x))\n",
    "\n",
    "# Para que exista límite en x = 0, lim x--> 0- = lim x-->0+ = f(0)\n",
    "lim_i3 = sp.limit(f3(x),x,0,dir = '-')\n",
    "lim_d3 = sp.limit(f3(x),x,0,dir = '+')\n",
    "display('Límite izqda',lim_i3)\n",
    "display('Límite dcha',lim_d3)\n",
    "display('Ambos límites coinciden pero != f(a),  por lo tanto B = opción correcta')"
   ]
  },
  {
   "cell_type": "code",
   "execution_count": 254,
   "id": "5aec0ca8",
   "metadata": {},
   "outputs": [
    {
     "data": {
      "text/plain": [
       "'f(x)'"
      ]
     },
     "metadata": {},
     "output_type": "display_data"
    },
    {
     "data": {
      "text/latex": [
       "$\\displaystyle \\frac{a x^{2} + b x - e^{2 x} + 1}{\\sin{\\left(x^{2} \\right)}} - 1$"
      ],
      "text/plain": [
       "(a*x**2 + b*x - exp(2*x) + 1)/sin(x**2) - 1"
      ]
     },
     "metadata": {},
     "output_type": "display_data"
    },
    {
     "data": {
      "text/plain": [
       "'Derivada primera del numerador'"
      ]
     },
     "metadata": {},
     "output_type": "display_data"
    },
    {
     "data": {
      "text/latex": [
       "$\\displaystyle 2 a x + b - 2 e^{2 x}$"
      ],
      "text/plain": [
       "2*a*x + b - 2*exp(2*x)"
      ]
     },
     "metadata": {},
     "output_type": "display_data"
    },
    {
     "data": {
      "text/plain": [
       "'Derivada primera del denominador'"
      ]
     },
     "metadata": {},
     "output_type": "display_data"
    },
    {
     "data": {
      "text/latex": [
       "$\\displaystyle 2 \\left(- 2 x^{2} \\sin{\\left(x^{2} \\right)} + \\cos{\\left(x^{2} \\right)}\\right)$"
      ],
      "text/plain": [
       "2*(-2*x**2*sin(x**2) + cos(x**2))"
      ]
     },
     "metadata": {},
     "output_type": "display_data"
    },
    {
     "name": "stdout",
     "output_type": "stream",
     "text": [
      "\n",
      "Sustituimos por 0 en el numerador: b - 2\n",
      "\n",
      "Sustituimos por 0 en el denominador: 2\n",
      "\n",
      "\n"
     ]
    },
    {
     "data": {
      "text/plain": [
       "'Obtenemos la siguiente expresión:'"
      ]
     },
     "metadata": {},
     "output_type": "display_data"
    },
    {
     "data": {
      "text/latex": [
       "$\\displaystyle \\frac{b}{2} - 1$"
      ],
      "text/plain": [
       "b/2 - 1"
      ]
     },
     "metadata": {},
     "output_type": "display_data"
    },
    {
     "name": "stdout",
     "output_type": "stream",
     "text": [
      "Finalmente sabemos que el valor de a es λ, para λ ∈ R y que b = 4\n"
     ]
    }
   ],
   "source": [
    "# Ejercicio 10\n",
    "x,a,b = sp.symbols('x,a,b', real = True)\n",
    "expr10 = ((a*x**2+b*x+1-sp.exp(2*x))/sp.sin(x**2)-1)\n",
    "f = sp.Lambda(x,expr10)\n",
    "display('f(x)', f(x))\n",
    "\n",
    "# Aplicamos l'Hôpital para resolver el límite\n",
    "expr10_1 = a*x**2+b*x+1-sp.exp(2*x)\n",
    "expr10_2 = sp.sin(x**2)\n",
    "\n",
    "d1f = sp.diff(expr10_1,x,1)\n",
    "d1f_2 = sp.diff(expr10_2,x,2)\n",
    "display('Derivada primera del numerador',d1f)\n",
    "display('Derivada primera del denominador',d1f_2)\n",
    "\n",
    "print('\\nSustituimos por 0 en el numerador:', d1f.subs(x,0))\n",
    "print('\\nSustituimos por 0 en el denominador:',d1f_2.subs(x,0))\n",
    "print('\\n')\n",
    "expr10_3 = d1f.subs(x,0)/d1f_2.subs(x,0)\n",
    "display('Obtenemos la siguiente expresión:', expr10_3)\n",
    "expr10_4 = sp.Eq(expr10_3,1)\n",
    "sol10_4 = sp.solve(expr10_4)\n",
    "print('Finalmente sabemos que el valor de a es λ, para λ ∈ R y que b =',sol10_4[0])\n",
    "\n"
   ]
  },
  {
   "cell_type": "code",
   "execution_count": 255,
   "id": "4544da17",
   "metadata": {},
   "outputs": [],
   "source": [
    "# Ejercicio 11"
   ]
  },
  {
   "cell_type": "code",
   "execution_count": 256,
   "id": "a8c1b0dd",
   "metadata": {},
   "outputs": [],
   "source": [
    "# Ejercicio 12"
   ]
  },
  {
   "cell_type": "code",
   "execution_count": 257,
   "id": "e0e1bcae",
   "metadata": {},
   "outputs": [],
   "source": [
    "# Ejercicio 13"
   ]
  },
  {
   "cell_type": "code",
   "execution_count": 258,
   "id": "a93b1462",
   "metadata": {},
   "outputs": [
    {
     "data": {
      "text/latex": [
       "$\\displaystyle \\left( x \\mapsto x^{3} e^{x} \\right)$"
      ],
      "text/plain": [
       "Lambda(x, x**3*exp(x))"
      ]
     },
     "metadata": {},
     "output_type": "display_data"
    },
    {
     "data": {
      "text/latex": [
       "$\\displaystyle \\emptyset$"
      ],
      "text/plain": [
       "EmptySet"
      ]
     },
     "metadata": {},
     "output_type": "display_data"
    },
    {
     "data": {
      "text/plain": [
       "'La derivada primera es: '"
      ]
     },
     "metadata": {},
     "output_type": "display_data"
    },
    {
     "data": {
      "text/latex": [
       "$\\displaystyle x^{3} e^{x} + 3 x^{2} e^{x}$"
      ],
      "text/plain": [
       "x**3*exp(x) + 3*x**2*exp(x)"
      ]
     },
     "metadata": {},
     "output_type": "display_data"
    },
    {
     "name": "stdout",
     "output_type": "stream",
     "text": [
      "Estos son los puntos donde la primera derivada es 0: \n"
     ]
    },
    {
     "data": {
      "text/plain": [
       "[-3, 0]"
      ]
     },
     "metadata": {},
     "output_type": "display_data"
    },
    {
     "data": {
      "text/plain": [
       "'En el intervalo de -oo a -3 la función decrece'"
      ]
     },
     "metadata": {},
     "output_type": "display_data"
    },
    {
     "data": {
      "text/latex": [
       "$\\displaystyle - \\frac{16}{e^{4}}$"
      ],
      "text/plain": [
       "-16*exp(-4)"
      ]
     },
     "metadata": {},
     "output_type": "display_data"
    },
    {
     "data": {
      "text/plain": [
       "'En el intervalo de -3 a 0 la función crece'"
      ]
     },
     "metadata": {},
     "output_type": "display_data"
    },
    {
     "data": {
      "text/latex": [
       "$\\displaystyle \\frac{4}{e^{2}}$"
      ],
      "text/plain": [
       "4*exp(-2)"
      ]
     },
     "metadata": {},
     "output_type": "display_data"
    },
    {
     "data": {
      "text/plain": [
       "'En el intervalo de 0 a oo la función crece'"
      ]
     },
     "metadata": {},
     "output_type": "display_data"
    },
    {
     "data": {
      "text/latex": [
       "$\\displaystyle 4 e$"
      ],
      "text/plain": [
       "4*E"
      ]
     },
     "metadata": {},
     "output_type": "display_data"
    },
    {
     "data": {
      "text/plain": [
       "'La funcion es creciente desde el -3 al oo'"
      ]
     },
     "metadata": {},
     "output_type": "display_data"
    },
    {
     "data": {
      "text/plain": [
       "'La derivada segunda es: '"
      ]
     },
     "metadata": {},
     "output_type": "display_data"
    },
    {
     "data": {
      "text/latex": [
       "$\\displaystyle x \\left(x^{2} + 6 x + 6\\right) e^{x}$"
      ],
      "text/plain": [
       "x*(x**2 + 6*x + 6)*exp(x)"
      ]
     },
     "metadata": {},
     "output_type": "display_data"
    },
    {
     "name": "stdout",
     "output_type": "stream",
     "text": [
      "Estos son los puntos donde la segunda derivada es 0: \n"
     ]
    },
    {
     "data": {
      "text/plain": [
       "[0, -3 - sqrt(3), -3 + sqrt(3)]"
      ]
     },
     "metadata": {},
     "output_type": "display_data"
    },
    {
     "data": {
      "text/plain": [
       "'En el intervalo de -oo a -3-sp.sqrt(3) la función es concava'"
      ]
     },
     "metadata": {},
     "output_type": "display_data"
    },
    {
     "data": {
      "text/latex": [
       "$\\displaystyle - \\frac{5}{e^{5}}$"
      ],
      "text/plain": [
       "-5*exp(-5)"
      ]
     },
     "metadata": {},
     "output_type": "display_data"
    },
    {
     "data": {
      "text/plain": [
       "'En el intervalo de -3-sp.sqrt(3) a -3+sp.sqrt(3) la función es convexa '"
      ]
     },
     "metadata": {},
     "output_type": "display_data"
    },
    {
     "data": {
      "text/latex": [
       "$\\displaystyle \\frac{4}{e^{2}}$"
      ],
      "text/plain": [
       "4*exp(-2)"
      ]
     },
     "metadata": {},
     "output_type": "display_data"
    },
    {
     "data": {
      "text/plain": [
       "'En el intervalo de -3+sp.sqrt(3) a 0 la función es concava '"
      ]
     },
     "metadata": {},
     "output_type": "display_data"
    },
    {
     "data": {
      "text/latex": [
       "$\\displaystyle - \\frac{1}{e}$"
      ],
      "text/plain": [
       "-exp(-1)"
      ]
     },
     "metadata": {},
     "output_type": "display_data"
    },
    {
     "data": {
      "text/plain": [
       "'En el intervalo de 0 a oo la función es convexa '"
      ]
     },
     "metadata": {},
     "output_type": "display_data"
    },
    {
     "data": {
      "text/latex": [
       "$\\displaystyle 13 e$"
      ],
      "text/plain": [
       "13*E"
      ]
     },
     "metadata": {},
     "output_type": "display_data"
    },
    {
     "name": "stdout",
     "output_type": "stream",
     "text": [
      "La funcion en el intervalo que crece empieza siendo concava luego es convexa y termina siendo concava otra vez\n",
      "Aqui tenemos la representacion grafica\n"
     ]
    },
    {
     "data": {
      "image/png": "[encoded data removed]",
      "text/plain": [
       "<Figure size 432x288 with 1 Axes>"
      ]
     },
     "metadata": {
      "needs_background": "light"
     },
     "output_type": "display_data"
    }
   ],
   "source": [
    "#Ejercicio 17\n",
    "import numpy as np\n",
    "import matplotlib as mp\n",
    "import matplotlib.pyplot as plt\n",
    "expr  = x**3 * sp.E**x\n",
    "f17 = sp.Lambda(x, expr)\n",
    "display(f17)\n",
    "\n",
    "f=sp.Lambda(x, expr)\n",
    "display(sp.calculus.singularities(f(x), x))\n",
    "\n",
    "d1f = sp.diff(expr, x)\n",
    "display('La derivada primera es: ',d1f)\n",
    "print('Estos son los puntos donde la primera derivada es 0: ')\n",
    "display(sp.solve(d1f))\n",
    "\n",
    "#Ahora vamos a ver los intervalos de crecimiento y decrecimiento de la funcion sobre los puntos -3 y 0\n",
    "display('En el intervalo de -oo a -3 la función decrece',d1f.subs(x,-4))\n",
    "display('En el intervalo de -3 a 0 la función crece',d1f.subs(x,-2))\n",
    "display('En el intervalo de 0 a oo la función crece',d1f.subs(x,1))\n",
    "\n",
    "display('La funcion es creciente desde el -3 al oo')\n",
    "\n",
    "d2f = sp.diff(expr, x, 2)\n",
    "display('La derivada segunda es: ',d2f)\n",
    "print('Estos son los puntos donde la segunda derivada es 0: ')\n",
    "display(sp.solve(d2f))\n",
    "\n",
    "#Ahora vamos a ver los intervalos de concavidad y convexidad de la funcion\n",
    "display('En el intervalo de -oo a -3-sp.sqrt(3) la función es concava',d2f.subs(x,-5))\n",
    "display('En el intervalo de -3-sp.sqrt(3) a -3+sp.sqrt(3) la función es convexa ',d2f.subs(x,-2))\n",
    "display('En el intervalo de -3+sp.sqrt(3) a 0 la función es concava ',d2f.subs(x,-1))\n",
    "display('En el intervalo de 0 a oo la función es convexa ',d2f.subs(x,1))\n",
    "\n",
    "print('La funcion en el intervalo que crece empieza siendo concava luego es convexa y termina siendo concava otra vez')\n",
    "\n",
    "print('Aqui tenemos la representacion grafica')\n",
    "# Creación de los puntos donde se evalúa la función\n",
    "x = np.linspace(-20, 6, 400)\n",
    "\n",
    "# Gráfica de sin(x) y cos(x), con una etiqueta para cada una\n",
    "plt.plot(x, x**3 * sp.E**x, label='sen(x)')\n",
    "\n",
    "# Etiquetas de los ejes\n",
    "plt.xlabel('x')\n",
    "plt.ylabel('y')\n",
    "\n",
    "# Añadir la leyenda (mostrando las etiquetas de los \"plot\")\n",
    "plt.legend()\n",
    "\n",
    "plt.show()"
   ]
  },
  {
   "cell_type": "code",
   "execution_count": 259,
   "id": "7f9ab658",
   "metadata": {},
   "outputs": [
    {
     "data": {
      "text/latex": [
       "$\\displaystyle x - \\frac{x^{2}}{2} + O\\left(x^{3}\\right)$"
      ],
      "text/plain": [
       "x - x**2/2 + O(x**3)"
      ]
     },
     "metadata": {},
     "output_type": "display_data"
    },
    {
     "data": {
      "text/latex": [
       "$\\displaystyle - \\frac{x^{2}}{2} + x$"
      ],
      "text/plain": [
       "-x**2/2 + x"
      ]
     },
     "metadata": {},
     "output_type": "display_data"
    },
    {
     "data": {
      "image/png": "[encoded data removed]",
      "text/plain": [
       "<Figure size 432x288 with 1 Axes>"
      ]
     },
     "metadata": {
      "needs_background": "light"
     },
     "output_type": "display_data"
    },
    {
     "data": {
      "text/latex": [
       "$\\displaystyle 0.095$"
      ],
      "text/plain": [
       "0.0950000000000000"
      ]
     },
     "metadata": {},
     "output_type": "display_data"
    },
    {
     "data": {
      "text/latex": [
       "$\\displaystyle 0.0953101798043249$"
      ],
      "text/plain": [
       "0.0953101798043249"
      ]
     },
     "metadata": {},
     "output_type": "display_data"
    },
    {
     "data": {
      "text/latex": [
       "$\\displaystyle 0.000310179804324934$"
      ],
      "text/plain": [
       "0.000310179804324934"
      ]
     },
     "metadata": {},
     "output_type": "display_data"
    },
    {
     "data": {
      "text/latex": [
       "$\\displaystyle \\frac{2}{\\left(x + 1\\right)^{3}}$"
      ],
      "text/plain": [
       "2/(x + 1)**3"
      ]
     },
     "metadata": {},
     "output_type": "display_data"
    },
    {
     "data": {
      "image/png": "[encoded data removed]",
      "text/plain": [
       "<Figure size 432x288 with 1 Axes>"
      ]
     },
     "metadata": {
      "needs_background": "light"
     },
     "output_type": "display_data"
    },
    {
     "data": {
      "text/latex": [
       "$\\displaystyle - \\frac{6}{\\left(x + 1\\right)^{4}}$"
      ],
      "text/plain": [
       "-6/(x + 1)**4"
      ]
     },
     "metadata": {},
     "output_type": "display_data"
    },
    {
     "data": {
      "image/png": "[encoded data removed]",
      "text/plain": [
       "<Figure size 432x288 with 1 Axes>"
      ]
     },
     "metadata": {
      "needs_background": "light"
     },
     "output_type": "display_data"
    },
    {
     "data": {
      "text/latex": [
       "$\\displaystyle 2$"
      ],
      "text/plain": [
       "2"
      ]
     },
     "metadata": {},
     "output_type": "display_data"
    },
    {
     "data": {
      "text/latex": [
       "$\\displaystyle \\frac{1}{3000}$"
      ],
      "text/plain": [
       "1/3000"
      ]
     },
     "metadata": {},
     "output_type": "display_data"
    }
   ],
   "source": [
    "import sympy as sp\n",
    "\n",
    " \n",
    "\n",
    "x = sp.symbols('x', real=True)\n",
    "\n",
    " \n",
    "\n",
    "# punto en el que centramos el polinomio de Taylor\n",
    "x0 = 0\n",
    "\n",
    " \n",
    "\n",
    "# función que queremos aproximar\n",
    "f = sp.log(1+x)\n",
    "\n",
    " \n",
    "\n",
    "# calculamos el Polinomio de Taylor de grado n centrado en x0\n",
    "n = 2 # grado del polinomio\n",
    "P = sp.series(f,x,x0,n+1)\n",
    "display(P) \n",
    "# la O() representa los términos de orden superior que aparecerían en un polinomio de orden superior, por lo que la eliminamos\n",
    "P=P.removeO()\n",
    "display(P)\n",
    "\n",
    " \n",
    "\n",
    "p = sp.plot(f, P, (x, -0.9, 4), show=False)\n",
    "p[0].line_color='r'\n",
    "p[1].line_color='b'\n",
    "p.xlabel='x'\n",
    "p.ylabel='y'\n",
    "p.legend=True\n",
    "p.show()\n",
    "\n",
    " \n",
    "\n",
    "fL = sp.Lambda((x),f)\n",
    "PL = sp.Lambda((x),P)\n",
    "\n",
    " \n",
    "\n",
    "display(PL(0.1))\n",
    "display(fL(0.1))\n",
    "display(sp.Abs(PL(0.1)-fL(0.1)))\n",
    "\n",
    " \n",
    "\n",
    "fx3 = f.diff(x,3)\n",
    "display(fx3)\n",
    "\n",
    " \n",
    "\n",
    "p = sp.plot(fx3, (x, 0, 0.1), show=False)\n",
    "p[0].line_color='r'\n",
    "p.xlabel='x'\n",
    "p.ylabel='y'\n",
    "p.legend=True\n",
    "p.show()\n",
    "\n",
    " \n",
    "\n",
    "fx4 = f.diff(x,4)\n",
    "display(fx4)\n",
    "\n",
    " \n",
    "\n",
    "p = sp.plot(fx4, (x, 0, 0.1), show=False)\n",
    "p[0].line_color='r'\n",
    "p.xlabel='x'\n",
    "p.ylabel='y'\n",
    "p.legend=True\n",
    "p.show()\n",
    "\n",
    " \n",
    "\n",
    "supremo = sp.Abs(fx3.subs(x,0))\n",
    "display(supremo)\n",
    "acotacione = supremo/sp.factorial(3) * sp.Rational('1/10')**3\n",
    "display(acotacione)"
   ]
  },
  {
   "cell_type": "code",
   "execution_count": 261,
   "id": "67ff63d8",
   "metadata": {},
   "outputs": [
    {
     "name": "stdout",
     "output_type": "stream",
     "text": [
      "Polinomio de Taylor: \n",
      " -x**2/2 + x \n",
      "\n",
      " Resto de Taylor: \n",
      " x**3/(3*(t + 1)**3)\n"
     ]
    },
    {
     "name": "stderr",
     "output_type": "stream",
     "text": [
      "<lambdifygenerated-1>:2: RuntimeWarning: invalid value encountered in log\n",
      "  return log(x + 1)\n"
     ]
    },
    {
     "data": {
      "image/png": "[encoded data removed]",
      "text/plain": [
       "<Figure size 432x288 with 1 Axes>"
      ]
     },
     "metadata": {
      "needs_background": "light"
     },
     "output_type": "display_data"
    }
   ],
   "source": [
    "# Ejercico 24\n",
    "\n",
    "import sympy as sp\n",
    "\n",
    "x,t=sp.symbols('x,t')\n",
    "\n",
    "# p: polinomio de Taylor\n",
    "# R: resto en valor absoluto\n",
    "def taylor(f,x0,n):\n",
    "    p=0\n",
    "    for i in range(n+1):\n",
    "        p+=sp.diff(f,x,i).subs(x,x0)/sp.factorial(i)*(x-x0)**i\n",
    "    R=(sp.diff(f,x,n+1).subs(x,t)/sp.factorial(n+1)*(x-x0)**(n+1))\n",
    "    return p,R\n",
    "\n",
    "# Codigo aqui                \n",
    "import sympy as sp\n",
    "x=sp.symbols('x')\n",
    "f= sp.log(1+x)\n",
    "\n",
    "p,R=taylor(f,0,2)\n",
    "print('Polinomio de Taylor: \\n',p,'\\n\\n Resto de Taylor: \\n',R)\n",
    "\n",
    "# Codigo aqui\n",
    "import numpy as np\n",
    "import matplotlib.pyplot as plt\n",
    "x=sp.symbols('x')\n",
    "fn=sp.lambdify(x,f)\n",
    "pn=sp.lambdify(x,p)\n",
    "x=np.linspace(-np.pi,np.pi)\n",
    "plt.plot(x,fn(x),label='f(x)', lw='3',c='b')\n",
    "plt.plot(x,pn(x),label='p(x)', lw='3',c='g')\n",
    "plt.plot([np.pi,np.pi],[fn(np.pi),pn(np.pi)],lw='3',c='r')\n",
    "plt.axhline(0,color='k')\n",
    "plt.axvline(0,color='k')\n",
    "plt.ylim(-2,2)\n",
    "plt.legend(loc='lower right',fontsize=15)\n",
    "plt.show()"
   ]
  },
  {
   "cell_type": "code",
   "execution_count": 263,
   "id": "1531241c",
   "metadata": {},
   "outputs": [
    {
     "name": "stdout",
     "output_type": "stream",
     "text": [
      "Polinomio de Taylor: \n",
      " 1 \n",
      "\n",
      " Resto de Taylor: \n",
      " -(x - pi/2)**2*sin(t)/2\n"
     ]
    }
   ],
   "source": [
    "# Codigo aqui\n",
    "\n",
    "import sympy as sp\n",
    "\n",
    "x,t=sp.symbols('x,t')\n",
    "\n",
    "# p: polinomio de Taylor\n",
    "# R: resto en valor absoluto\n",
    "def taylor(f,x0,n):\n",
    "    p=0\n",
    "    for i in range(n+1):\n",
    "        p+=sp.diff(f,x,i).subs(x,x0)/sp.factorial(i)*(x-x0)**i\n",
    "    R=(sp.diff(f,x,n+1).subs(x,t)/sp.factorial(n+1)*(x-x0)**(n+1))\n",
    "    return p,R\n",
    "\n",
    "# Codigo aqui                \n",
    "import sympy as sp\n",
    "x=sp.symbols('x')\n",
    "f= sp.sin(x)\n",
    "\n",
    "p,R=taylor(f,sp.pi/2,1)\n",
    "print('Polinomio de Taylor: \\n',p,'\\n\\n Resto de Taylor: \\n',R)"
   ]
  },
  {
   "cell_type": "code",
   "execution_count": 264,
   "id": "358be6d9",
   "metadata": {},
   "outputs": [
    {
     "name": "stdout",
     "output_type": "stream",
     "text": [
      "Polinomio de Taylor: \n",
      " x \n",
      "\n",
      " Resto de Taylor: \n",
      " x**3*(3*t**2/(1 - t**2) + 1)/(6*(1 - t**2)**(3/2))\n"
     ]
    }
   ],
   "source": [
    "#Ejercicio 25\n",
    "import sympy as sp\n",
    "\n",
    "x,t=sp.symbols('x,t')\n",
    "\n",
    "# p: polinomio de Taylor\n",
    "# R: resto en valor absoluto\n",
    "def taylor(f,x0,n):\n",
    "    p=0\n",
    "    for i in range(n+1):\n",
    "        p+=sp.diff(f,x,i).subs(x,x0)/sp.factorial(i)*(x-x0)**i\n",
    "    R=(sp.diff(f,x,n+1).subs(x,t)/sp.factorial(n+1)*(x-x0)**(n+1))\n",
    "    return p,R\n",
    "\n",
    "# Codigo aqui                \n",
    "import sympy as sp\n",
    "x=sp.symbols('x')\n",
    "f= sp.asin(x)\n",
    "\n",
    "p,R=taylor(f,0,2)\n",
    "print('Polinomio de Taylor: \\n',p,'\\n\\n Resto de Taylor: \\n',R)"
   ]
  },
  {
   "cell_type": "code",
   "execution_count": null,
   "id": "59b4050d",
   "metadata": {},
   "outputs": [],
   "source": [
    "#EJERCICIOS COMPLEMENTARIOS"
   ]
  },
  {
   "cell_type": "code",
   "execution_count": 265,
   "id": "247d372b",
   "metadata": {},
   "outputs": [
    {
     "name": "stdout",
     "output_type": "stream",
     "text": [
      "Número de iteraciones realizadas:  6\n",
      "Aproximación de la raíz:  1.324717957244746\n",
      "\n",
      "Aproximaciones [1.         1.5        1.34782609 1.3252004  1.32471817 1.32471796\n",
      " 1.32471796]\n"
     ]
    }
   ],
   "source": [
    "#EJERCICO 2\n",
    "import numpy as np\n",
    "import sympy as sp\n",
    "\n",
    "x = sp.symbols('x', real=True) # define la variable simbólica x\n",
    "\n",
    "f_expr = x**3 - x -1\n",
    "f_der_expr = sp.diff(f_expr,x)\n",
    "\n",
    "f = sp.Lambda(x,f_expr)\n",
    "f_der = sp.Lambda(x,f_der_expr)\n",
    "\n",
    "N_max = 100\n",
    "tol = 1.e-9\n",
    "\n",
    "x_aprox = np.zeros(N_max)\n",
    "x_aprox[0] = 1\n",
    "\n",
    "for k in range(1,N_max):\n",
    "   if f_der(x_aprox[k-1]) == 0: break\n",
    "\n",
    "   x_aprox[k] = x_aprox[k-1] - f(x_aprox[k-1])/f_der(x_aprox[k-1])\n",
    "\n",
    "   if ( (k > 0) and (np.abs(x_aprox[k]-x_aprox[k-1]) / np.abs(x_aprox[k]) < tol) ): break\n",
    "\n",
    "print('Número de iteraciones realizadas: ', k) \n",
    "print('Aproximación de la raíz: ', x_aprox[k])\n",
    "print('\\nAproximaciones', x_aprox[0:k+1])"
   ]
  },
  {
   "cell_type": "code",
   "execution_count": 267,
   "id": "51cdb04e",
   "metadata": {},
   "outputs": [
    {
     "data": {
      "text/plain": [
       "'f(x)'"
      ]
     },
     "metadata": {},
     "output_type": "display_data"
    },
    {
     "data": {
      "text/latex": [
       "$\\displaystyle \\frac{\\sqrt{a x + b} - 2}{x}$"
      ],
      "text/plain": [
       "(sqrt(a*x + b) - 2)/x"
      ]
     },
     "metadata": {},
     "output_type": "display_data"
    },
    {
     "data": {
      "text/plain": [
       "'Derivada primera del numerador'"
      ]
     },
     "metadata": {},
     "output_type": "display_data"
    },
    {
     "data": {
      "text/latex": [
       "$\\displaystyle \\frac{a}{2 \\sqrt{a x + b}}$"
      ],
      "text/plain": [
       "a/(2*sqrt(a*x + b))"
      ]
     },
     "metadata": {},
     "output_type": "display_data"
    },
    {
     "data": {
      "text/plain": [
       "'Derivada primera del denominador'"
      ]
     },
     "metadata": {},
     "output_type": "display_data"
    },
    {
     "data": {
      "text/latex": [
       "$\\displaystyle 1$"
      ],
      "text/plain": [
       "1"
      ]
     },
     "metadata": {},
     "output_type": "display_data"
    },
    {
     "name": "stdout",
     "output_type": "stream",
     "text": [
      "\n",
      "Sustituimos por 0 en el numerador: a/(2*sqrt(b))\n",
      "\n",
      "Sustituimos por 0 en el denominador: 1\n",
      "\n",
      "\n"
     ]
    },
    {
     "data": {
      "text/plain": [
       "'Obtenemos la siguiente expresión:'"
      ]
     },
     "metadata": {},
     "output_type": "display_data"
    },
    {
     "data": {
      "text/latex": [
       "$\\displaystyle \\frac{a}{2 \\sqrt{b}}$"
      ],
      "text/plain": [
       "a/(2*sqrt(b))"
      ]
     },
     "metadata": {},
     "output_type": "display_data"
    },
    {
     "name": "stdout",
     "output_type": "stream",
     "text": [
      "Finalmente sabemos que el valor de a es λ, para λ ∈ R y que b = {a: 2*sqrt(b)}\n"
     ]
    }
   ],
   "source": [
    "#Ejericio 3\n",
    "# \n",
    "x,a,b = sp.symbols('x,a,b', real = True)\n",
    "expr3 = (sp.sqrt(a*x + b)-2)/x\n",
    "f = sp.Lambda(x,expr3)\n",
    "display('f(x)', f(x))\n",
    "\n",
    "# Aplicamos l'Hôpital para resolver el límite\n",
    "expr_1 = (sp.sqrt(a*x + b)-2)\n",
    "expr_2 = x\n",
    "\n",
    "d1f = sp.diff(expr_1,x,1)\n",
    "d1f_2 = sp.diff(expr_2,x,1)\n",
    "display('Derivada primera del numerador',d1f)\n",
    "display('Derivada primera del denominador',d1f_2)\n",
    "\n",
    "print('\\nSustituimos por 0 en el numerador:', d1f.subs(x,0))\n",
    "print('\\nSustituimos por 0 en el denominador:',d1f_2.subs(x,0))\n",
    "print('\\n')\n",
    "expr_3 = d1f.subs(x,0)/d1f_2.subs(x,0)\n",
    "display('Obtenemos la siguiente expresión:', expr_3)\n",
    "expr_4 = sp.Eq(expr10_3,1)\n",
    "sol_4 = sp.solve(expr_4)\n",
    "print('Finalmente sabemos que el valor de a es λ, para λ ∈ R y que b =',sol_4[0])"
   ]
  }
 ],
 "metadata": {
  "kernelspec": {
   "display_name": "Python 3 (ipykernel)",
   "language": "python",
   "name": "python3"
  },
  "language_info": {
   "codemirror_mode": {
    "name": "ipython",
    "version": 3
   },
   "file_extension": ".py",
   "mimetype": "text/x-python",
   "name": "python",
   "nbconvert_exporter": "python",
   "pygments_lexer": "ipython3",
   "version": "3.9.12"
  }
 },
 "nbformat": 4,
 "nbformat_minor": 5
}
