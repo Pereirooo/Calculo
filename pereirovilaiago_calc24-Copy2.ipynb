{
 "cells": [
  {
   "cell_type": "markdown",
   "metadata": {
    "jp-MarkdownHeadingCollapsed": true,
    "tags": []
   },
   "source": [
    "# Cálculo. Grado en ingeniería informática\n",
    "# <pre>Control 2 ( octubre 2022)               Grupo: Cal. <pre> "
   ]
  },
  {
   "cell_type": "markdown",
   "metadata": {
    "tags": []
   },
   "source": [
    "# Nombre y apellidos:                                                              "
   ]
  },
  {
   "cell_type": "markdown",
   "metadata": {},
   "source": [
    "| Ejercicio  |     1    |     2    | \n",
    "|------------|:--------:|:--------:|\n",
    "| Puntuación |  0.75    |   0.75   | \n",
    "| Evaluación |          |          |\n",
    "\n",
    "### Al terminar la prueba, se debe descargar este fichero en formato .ipynb y enviarlo por correo electrónico a *jesus.cendan.verdes@udc.es*.  El nombre de este fichero debe empezar por vuestros apellidos seguidos del nombre y grupo de prácticas ApellidosNombre_cal00.ipynb.\n",
    "## Todo fichero recibido que no tenga el formato requerido, .ipynb, o no sea legible no será evaluado, lo que significa que la nota de este control sea un 0.\n",
    "### La resolución de los ejercicios es mediante jupyter-notebook. Se valorarán los comentarios incluidos en las respuestas"
   ]
  },
  {
   "cell_type": "markdown",
   "metadata": {},
   "source": [
    "## Ejercicio 1 (0.75 puntos):\n",
    "..."
   ]
  },
  {
   "cell_type": "code",
   "execution_count": 27,
   "metadata": {
    "scrolled": false
   },
   "outputs": [
    {
     "data": {
      "text/latex": [
       "$\\displaystyle \\begin{cases} \\sqrt{t + 3} + 1 & \\text{for}\\: t \\leq -2 \\\\e^{2 t} - \\sqrt{3} & \\text{otherwise} \\end{cases}$"
      ],
      "text/plain": [
       "Piecewise((sqrt(t + 3) + 1, t <= -2), (exp(2*t) - sqrt(3), True))"
      ]
     },
     "metadata": {},
     "output_type": "display_data"
    },
    {
     "data": {
      "text/latex": [
       "$\\displaystyle \\emptyset$"
      ],
      "text/plain": [
       "EmptySet"
      ]
     },
     "metadata": {},
     "output_type": "display_data"
    },
    {
     "data": {
      "text/latex": [
       "$\\displaystyle \\left[-3, \\infty\\right)$"
      ],
      "text/plain": [
       "Interval(-3, oo)"
      ]
     },
     "metadata": {},
     "output_type": "display_data"
    },
    {
     "name": "stdout",
     "output_type": "stream",
     "text": [
      "Como podemos ver la función es continua entre -3 e infinito.\n"
     ]
    },
    {
     "data": {
      "text/latex": [
       "$\\displaystyle 0$"
      ],
      "text/plain": [
       "0"
      ]
     },
     "metadata": {},
     "output_type": "display_data"
    },
    {
     "data": {
      "text/plain": [
       "'La pendiente es: '"
      ]
     },
     "metadata": {},
     "output_type": "display_data"
    },
    {
     "data": {
      "text/latex": [
       "$\\displaystyle 0$"
      ],
      "text/plain": [
       "0"
      ]
     },
     "metadata": {},
     "output_type": "display_data"
    },
    {
     "name": "stdout",
     "output_type": "stream",
     "text": [
      "La ecuación de la recta tangente a la gráfica de v en a = 1\n",
      "y =  -sqrt(3) + exp(2)\n"
     ]
    }
   ],
   "source": [
    "import sympy as sp\n",
    "# Primero definimos las variables y creamos la función a trozos-\n",
    "t,y=sp.symbols('t,y', reals=True)\n",
    "vexpr = sp.Piecewise((1+sp.sqrt(t+3), (t<=-2) ), (sp.exp(2*t)-sp.sqrt(3), t>-2))\n",
    "v = sp.Lambda(t, vexpr)\n",
    "display(v(t))\n",
    "\n",
    "expr1=1+sp.sqrt(t+3)\n",
    "expr2=sp.exp(2*t)-sp.sqrt(3)\n",
    "f1 = sp.Lambda(t,expr1)\n",
    "f2 = sp.Lambda(t,expr2)\n",
    "\n",
    "\n",
    "# Ahora pasaremos a calcular el dominio con la función \"sp.calculus.singularities\".\n",
    "\n",
    "display(sp.calculus.singularities(v(t), t)) # Como al calcular las singularidades de la función, nos da el conjunto vacío, esto nos esta diciendo que no hay ningún punto fuera del dominio, por lo que la función es continua en todo el conjunto R.\n",
    "\n",
    "# Ahora estudiamos la continuidad empleando la función \"sp.calculus.util.continuous_domain\".\n",
    "\n",
    "I = sp.calculus.util.continuous_domain(v, t, sp.Reals)\n",
    "display(I)\n",
    "\n",
    "print('Como podemos ver la función es continua entre -3 e infinito.')\n",
    "\n",
    "\n",
    "# Ahora pasaremos a dibujar la gráfica.\n",
    "\n",
    "#p = sp.plot(f1, f2, (t, -50, 40), show=False)\n",
    "#p[0].line_color='r'\n",
    "#p[1].line_color='b'\n",
    "#p.xlabel='x'\n",
    "#p.ylabel='y'\n",
    "#p.legend=True\n",
    "#p.show()\n",
    "\n",
    "\n",
    "\n",
    "\n",
    "# Para terminar pasamos a calcular la recta tangente a la función en el punto a=1\n",
    "d1f = sp.diff(f2,t,1) # Calculamso la primera derivada antes de nada para poder aplicar la fórmula.\n",
    "m = d1f.subs(t,1) # Sustituimos el punto, en el que calcular la tangente, en la derivada de la función, para obtener la pendiente. \n",
    "display('La pendiente es: ', m)\n",
    "expr1b = sp.Eq(m*(t-1)+v(1), y) # Implementamos la ecuación de la recta tangente una vez tenemos la pendiente.\n",
    "print('La ecuación de la recta tangente a la gráfica de v en a = 1')\n",
    "sol1b = print('y = ', sp.solve(expr1b,y)[0])\n"
   ]
  },
  {
   "cell_type": "markdown",
   "metadata": {},
   "source": [
    "## Ejercicio 2 (0.75 puntos):\n",
    ".."
   ]
  },
  {
   "cell_type": "code",
   "execution_count": 33,
   "metadata": {},
   "outputs": [
    {
     "data": {
      "text/latex": [
       "$\\displaystyle e^{2} - \\sqrt{3} + 2 \\left(t - 1\\right) e^{2} + O\\left(\\left(t - 1\\right)^{2}; t\\rightarrow 1\\right)$"
      ],
      "text/plain": [
       "exp(2) - sqrt(3) + 2*(t - 1)*exp(2) + O((t - 1)**2, (t, 1))"
      ]
     },
     "metadata": {},
     "output_type": "display_data"
    },
    {
     "data": {
      "text/latex": [
       "$\\displaystyle 2 \\left(t - 1\\right) e^{2} - \\sqrt{3} + e^{2}$"
      ],
      "text/plain": [
       "2*(t - 1)*exp(2) - sqrt(3) + exp(2)"
      ]
     },
     "metadata": {},
     "output_type": "display_data"
    },
    {
     "data": {
      "image/png": "[encoded data removed]",
      "text/plain": [
       "<Figure size 432x288 with 1 Axes>"
      ]
     },
     "metadata": {
      "needs_background": "light"
     },
     "output_type": "display_data"
    },
    {
     "data": {
      "text/latex": [
       "$\\displaystyle 2 \\left(t - 1\\right) e^{2} - \\sqrt{3} + e^{2}$"
      ],
      "text/plain": [
       "2*(t - 1)*exp(2) - sqrt(3) + exp(2)"
      ]
     },
     "metadata": {},
     "output_type": "display_data"
    },
    {
     "data": {
      "text/latex": [
       "$\\displaystyle 1.22140275816017 - \\sqrt{3}$"
      ],
      "text/plain": [
       "1.22140275816017 - sqrt(3)"
      ]
     },
     "metadata": {},
     "output_type": "display_data"
    },
    {
     "data": {
      "text/latex": [
       "$\\displaystyle \\left|{2 \\left(t - 1\\right) e^{2} - 1.22140275816017 + e^{2}}\\right|$"
      ],
      "text/plain": [
       "Abs(2*(t - 1)*exp(2) - 1.22140275816017 + exp(2))"
      ]
     },
     "metadata": {},
     "output_type": "display_data"
    },
    {
     "data": {
      "text/latex": [
       "$\\displaystyle \\begin{cases} \\frac{3}{8 \\left(t + 3\\right)^{\\frac{5}{2}}} & \\text{for}\\: t \\leq -2 \\\\8 e^{2 t} & \\text{otherwise} \\end{cases}$"
      ],
      "text/plain": [
       "Piecewise((3/(8*(t + 3)**(5/2)), t <= -2), (8*exp(2*t), True))"
      ]
     },
     "metadata": {},
     "output_type": "display_data"
    },
    {
     "data": {
      "image/png": "[encoded data removed]",
      "text/plain": [
       "<Figure size 432x288 with 1 Axes>"
      ]
     },
     "metadata": {
      "needs_background": "light"
     },
     "output_type": "display_data"
    },
    {
     "data": {
      "text/latex": [
       "$\\displaystyle \\begin{cases} - \\frac{15}{16 \\left(t + 3\\right)^{\\frac{7}{2}}} & \\text{for}\\: t \\leq -2 \\\\16 e^{2 t} & \\text{otherwise} \\end{cases}$"
      ],
      "text/plain": [
       "Piecewise((-15/(16*(t + 3)**(7/2)), t <= -2), (16*exp(2*t), True))"
      ]
     },
     "metadata": {},
     "output_type": "display_data"
    },
    {
     "data": {
      "image/png": "[encoded data removed]",
      "text/plain": [
       "<Figure size 432x288 with 1 Axes>"
      ]
     },
     "metadata": {
      "needs_background": "light"
     },
     "output_type": "display_data"
    }
   ],
   "source": [
    "# a) POLINOMIO DE TAYLOR\n",
    "import sympy as sp\n",
    "\n",
    " \n",
    "\n",
    "x = sp.symbols('x', real=True)\n",
    "\n",
    " \n",
    "\n",
    "# punto en el que centramos el polinomio de Taylor\n",
    "x0 = 1\n",
    "\n",
    " \n",
    "\n",
    "# función que queremos aproximar\n",
    "v = sp.Piecewise((1+sp.sqrt(t+3), (t<=-2) ), (sp.exp(2*t)-sp.sqrt(3), t>-2))\n",
    "\n",
    " \n",
    "\n",
    "# calculamos el Polinomio de Taylor de orden n centrado en x0\n",
    "n = 1 # grado del polinomio\n",
    "P = sp.series(v,t,x0,n+1)\n",
    "display(P) \n",
    "# la O() representa los términos de orden superior que aparecerían en un polinomio de orden superior, por lo que la eliminamos\n",
    "P=P.removeO()\n",
    "display(P)\n",
    "\n",
    " \n",
    "# Representamos el polinomio junto con la función v.\n",
    "p = sp.plot(v, P, (t, -0.9, 4), show=False)\n",
    "p[0].line_color='r'\n",
    "p[1].line_color='b'\n",
    "p.xlabel='x'\n",
    "p.ylabel='y'\n",
    "p.legend=True\n",
    "p.show()\n",
    "\n",
    " \n",
    "\n",
    "vL = sp.Lambda((t),v)\n",
    "PL = sp.Lambda((x),P)\n",
    "\n",
    " \n",
    "\n",
    "display(PL(0.1))\n",
    "display(vL(0.1))\n",
    "display(sp.Abs(PL(0.1)-vL(0.1)))\n",
    "\n",
    " \n",
    "\n",
    "fx3 = v.diff(t,3)\n",
    "display(fx3)\n",
    "\n",
    " \n",
    "\n",
    "p = sp.plot(fx3, (t, 0, 0.1), show=False)\n",
    "p[0].line_color='r'\n",
    "p.xlabel='x'\n",
    "p.ylabel='y'\n",
    "p.legend=True\n",
    "p.show()\n",
    "\n",
    " \n",
    "\n",
    "fx4 = v.diff(t,4)\n",
    "display(fx4)\n",
    "\n",
    " \n",
    "\n",
    "p = sp.plot(fx4, (t, 0, 0.1), show=False)\n",
    "p[0].line_color='r'\n",
    "p.xlabel='x'\n",
    "p.ylabel='y'\n",
    "p.legend=True\n",
    "p.show()\n",
    "\n",
    " \n",
    "\n",
    "#supremo = sp.Abs(fx3.subs(t,0))\n",
    "#display(supremo)\n",
    "#acotacione = supremo/sp.factorial(3) * sp.Rational('1/10')**3\n",
    "#display(acotacione)"
   ]
  },
  {
   "cell_type": "code",
   "execution_count": 46,
   "metadata": {},
   "outputs": [
    {
     "name": "stdout",
     "output_type": "stream",
     "text": [
      "Número de iteraciones realizadas:  11\n",
      "Aproximación de la raíz:  0.27465307216702745\n"
     ]
    }
   ],
   "source": [
    "import numpy as np\n",
    "import sympy as sp\n",
    "\n",
    "x = sp.symbols('x', real=True) # define la variable simbólica x\n",
    "\n",
    "# Introducimos la expresión y su derivada.\n",
    "v_expr = sp.Piecewise((1+sp.sqrt(t+3), (t<=-2) ), (sp.exp(2*t)-sp.sqrt(3), t>-2))\n",
    "v_der_expr = sp.diff(v_expr,t)\n",
    "\n",
    "# Creamos las funciones de dichas expresiones.\n",
    "v = sp.Lambda(t,v_expr)\n",
    "v_der = sp.Lambda(t,v_der_expr)\n",
    "\n",
    "N_max = 100 # Seleccionamos el número máximo de iteraciones.\n",
    "tol = 1.e-9 # Implementamos la tolerancia que va a utilizar.\n",
    "\n",
    "x_aprox = np.zeros(N_max)\n",
    "x_aprox[0] = 3 #x0 # En x_aprox guardamos el número en el que centramos la aproximación.\n",
    "\n",
    "# Procedemos a crear el bucle donde se realizarán las iteraciones.\n",
    "for k in range(1,N_max):\n",
    "   if v_der(x_aprox[k-1]) == 0: break\n",
    "\n",
    "   x_aprox[k] = x_aprox[k-1] - v(x_aprox[k-1])/v_der(x_aprox[k-1])\n",
    "   #display(x_aprox[k])\n",
    "   #display(x_aprox[k-1])\n",
    "   #display(f(x_aprox[k-1]))\n",
    "   #display(f_der(x_aprox[k-1]))\n",
    "   if ( (k > 0) and (np.abs(x_aprox[k]-x_aprox[k-1]) / np.abs(x_aprox[k]) < tol) ): break\n",
    "\n",
    "print('Número de iteraciones realizadas: ', k) \n",
    "print('Aproximación de la raíz: ', x_aprox[k])\n"
   ]
  },
  {
   "cell_type": "code",
   "execution_count": null,
   "metadata": {},
   "outputs": [],
   "source": []
  }
 ],
 "metadata": {
  "kernelspec": {
   "display_name": "Python 3 (ipykernel)",
   "language": "python",
   "name": "python3"
  },
  "language_info": {
   "codemirror_mode": {
    "name": "ipython",
    "version": 3
   },
   "file_extension": ".py",
   "mimetype": "text/x-python",
   "name": "python",
   "nbconvert_exporter": "python",
   "pygments_lexer": "ipython3",
   "version": "3.9.12"
  }
 },
 "nbformat": 4,
 "nbformat_minor": 4
}
