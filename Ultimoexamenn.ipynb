{
 "cells": [
  {
   "cell_type": "code",
   "execution_count": 24,
   "id": "f49449ec-c9db-4742-bdd3-e4050fbcda38",
   "metadata": {},
   "outputs": [],
   "source": [
    "import sympy as sp\n",
    "import numpy as np\n",
    "import matplotlib as mp\n",
    "import matplotlib.pyplot as plt\n",
    "import numpy as np"
   ]
  },
  {
   "cell_type": "code",
   "execution_count": 25,
   "id": "2a06d844-08eb-4559-8e6e-6af12698d03c",
   "metadata": {},
   "outputs": [
    {
     "data": {
      "text/latex": [
       "$\\displaystyle c - \\frac{\\sqrt{1 - 4 x^{2}}}{4}$"
      ],
      "text/plain": [
       "c - sqrt(1 - 4*x**2)/4"
      ]
     },
     "metadata": {},
     "output_type": "display_data"
    },
    {
     "data": {
      "text/latex": [
       "$\\displaystyle 8 - 0.25 \\sqrt{1 - 4 x^{2}}$"
      ],
      "text/plain": [
       "8 - 0.25*sqrt(1 - 4*x**2)"
      ]
     },
     "metadata": {},
     "output_type": "display_data"
    },
    {
     "name": "stdout",
     "output_type": "stream",
     "text": [
      "La expresión 8 - 0.25*sqrt(1 - 4*x**2)  es una primitiva, pero no la única, de x/sqrt(1 - 4*x**2) puesto que la constante de integración C puede adquirir cualquier valor perteneciente a R\n"
     ]
    }
   ],
   "source": [
    "#Ejercicio 1\n",
    "# DEMOSTRAR QUE f ES PRIMITIVA DE g.\n",
    "\n",
    "x,c = sp.symbols('x,c', reals=True)\n",
    "expr = x/sp.sqrt(1-4*x**2)\n",
    "\n",
    "I1 = sp.integrate(expr) # Comando para integrar una expresión.\n",
    "display(I1+c)\n",
    "prim = 8-1/4*sp.sqrt(1-4*x**2)\n",
    "p = display(prim)\n",
    "print('La expresión',prim, ' es una primitiva, pero no la única, de',expr,'puesto que la constante de integración C puede adquirir cualquier valor perteneciente a R')"
   ]
  },
  {
   "cell_type": "code",
   "execution_count": 26,
   "id": "4f909a22-e979-4bc6-8a99-e49e9fdc3ac1",
   "metadata": {},
   "outputs": [
    {
     "name": "stdout",
     "output_type": "stream",
     "text": [
      "APARTADO A\n",
      "------------------\n",
      "\n"
     ]
    },
    {
     "data": {
      "text/latex": [
       "$\\displaystyle c + \\frac{\\sin{\\left(x^{4} + 2 \\right)}}{4}$"
      ],
      "text/plain": [
       "c + sin(x**4 + 2)/4"
      ]
     },
     "metadata": {},
     "output_type": "display_data"
    },
    {
     "name": "stdout",
     "output_type": "stream",
     "text": [
      "APARTADO B\n",
      "-------------------\n",
      "\n"
     ]
    },
    {
     "data": {
      "text/latex": [
       "$\\displaystyle c + x \\log{\\left(x \\right)} - x$"
      ],
      "text/plain": [
       "c + x*log(x) - x"
      ]
     },
     "metadata": {},
     "output_type": "display_data"
    },
    {
     "name": "stdout",
     "output_type": "stream",
     "text": [
      "APARTADO C\n",
      "-------------------\n",
      "\n"
     ]
    },
    {
     "ename": "TypeError",
     "evalue": "unsupported operand type(s) for *: 'FunctionClass' and 'cos'",
     "output_type": "error",
     "traceback": [
      "\u001b[1;31m---------------------------------------------------------------------------\u001b[0m",
      "\u001b[1;31mTypeError\u001b[0m                                 Traceback (most recent call last)",
      "Input \u001b[1;32mIn [26]\u001b[0m, in \u001b[0;36m<cell line: 22>\u001b[1;34m()\u001b[0m\n\u001b[0;32m     20\u001b[0m \u001b[38;5;28mprint\u001b[39m(\u001b[38;5;124m'\u001b[39m\u001b[38;5;124mAPARTADO C\u001b[39m\u001b[38;5;124m'\u001b[39m)\n\u001b[0;32m     21\u001b[0m \u001b[38;5;28mprint\u001b[39m(\u001b[38;5;124m'\u001b[39m\u001b[38;5;124m-------------------\u001b[39m\u001b[38;5;130;01m\\n\u001b[39;00m\u001b[38;5;124m'\u001b[39m)\n\u001b[1;32m---> 22\u001b[0m exprc \u001b[38;5;241m=\u001b[39m \u001b[43msp\u001b[49m\u001b[38;5;241;43m.\u001b[39;49m\u001b[43mcos\u001b[49m\u001b[38;5;241;43m*\u001b[39;49m\u001b[43msp\u001b[49m\u001b[38;5;241;43m.\u001b[39;49m\u001b[43mcos\u001b[49m\u001b[43m(\u001b[49m\u001b[43msp\u001b[49m\u001b[38;5;241;43m.\u001b[39;49m\u001b[43msin\u001b[49m\u001b[43m(\u001b[49m\u001b[43mx\u001b[49m\u001b[43m)\u001b[49m\u001b[43m)\u001b[49m\n\u001b[0;32m     23\u001b[0m IC \u001b[38;5;241m=\u001b[39m sp\u001b[38;5;241m.\u001b[39mintegrate(exprc, x)\n\u001b[0;32m     24\u001b[0m display(IC\u001b[38;5;241m+\u001b[39mc)\n",
      "\u001b[1;31mTypeError\u001b[0m: unsupported operand type(s) for *: 'FunctionClass' and 'cos'"
     ]
    }
   ],
   "source": [
    "# Ejercicio 2\n",
    "# REALIZAR INTEGRALES DE FUNCIONES\n",
    "\n",
    "x,c = sp.symbols('x,c', reals=True)\n",
    "\n",
    "#a\n",
    "print('APARTADO A')\n",
    "print('------------------\\n')\n",
    "expra = x**3*sp.cos(x**4+2)\n",
    "IA = sp.integrate(expra,x)\n",
    "display(IA + c)\n",
    "\n",
    "#b\n",
    "print('APARTADO B')\n",
    "print('-------------------\\n')\n",
    "exprb = sp.log(x)\n",
    "IB = sp.integrate(exprb,x)\n",
    "display(IB+c)\n",
    "\n",
    "#c \n",
    "print('APARTADO C')\n",
    "print('-------------------\\n')\n",
    "exprc = sp.cos*sp.cos(sp.sin(x))\n",
    "IC = sp.integrate(exprc, x)\n",
    "display(IC+c)\n",
    "\n",
    "#d\n",
    "print('APARTADO D (Primera regla de integral inmediata)')\n",
    "print('-------------------------------------------\\n')\n",
    "expr0 = x**2*(4*x**3+7)**9 # La derivada de lo de dentro del paréntesis es 12x**2\n",
    "v = x**2\n",
    "u = (4*x**3+7)\n",
    "exp = 9\n",
    "du = sp.diff(u, x)\n",
    "print('du = ', du)\n",
    "expr1 = 1/12*(12*v*u*exp)\n",
    "print('\\nExpresión a integrar = 1/12 * ∫(12x**2 * (4*x**3+7)**9)')\n",
    "sol = 1/(12*(exp+1)) * u**(exp+1)\n",
    "print('\\n')\n",
    "display('Solución final:', sol+c)\n",
    "\n",
    "#e\n",
    "print('APARTADO E')\n",
    "print('-------------------\\n')\n",
    "expre = sp.E**x*sp.sin(2*x+5)\n",
    "IE = sp.integrate(expre, x)\n",
    "display(IE)\n",
    "\n",
    "#f\n",
    "print('APARTADO F')\n",
    "print('-------------------\\n')\n",
    "exprf = x/(1+x**4)\n",
    "IF = sp.integrate(exprf, x)\n",
    "display(IF)"
   ]
  },
  {
   "cell_type": "code",
   "execution_count": 27,
   "id": "592d8f76-f0bf-471a-b5bf-56404a0ba217",
   "metadata": {},
   "outputs": [
    {
     "name": "stdout",
     "output_type": "stream",
     "text": [
      "U(f,P) = 181\n",
      "L(f,P) = -19\n",
      "\n",
      "La opción correcta es la A\n"
     ]
    }
   ],
   "source": [
    "# Ejercicio 3 Particiones\n",
    "x,p = sp.symbols('x,p', reals=True)\n",
    "expr3 = x**3-2\n",
    "f = sp.Lambda(x, expr3)\n",
    "p = (-2,-1,1,4)\n",
    "\n",
    "#[-2,-1]\n",
    "Max1 = f(p[1])\n",
    "Min1 = f(p[0])\n",
    "\n",
    "#[-1,1]\n",
    "Max2 = f(p[2])\n",
    "Min2 = f(p[1])\n",
    "\n",
    "#[1,4]\n",
    "Max3 = f(p[3])\n",
    "Min3 = f(p[2])\n",
    "\n",
    "U = 1*Max1+2*Max2+3*Max3\n",
    "L = 1*Min1+2*Min2+3*Min3\n",
    "\n",
    "print('U(f,P) =',U)\n",
    "print('L(f,P) =',L)\n",
    "print('\\nLa opción correcta es la A')"
   ]
  },
  {
   "cell_type": "code",
   "execution_count": 4,
   "id": "b89a7f7f-6a71-4b83-b730-1b659a9b08d3",
   "metadata": {},
   "outputs": [
    {
     "name": "stdout",
     "output_type": "stream",
     "text": [
      "APARTADO A\n",
      "-------------------\n"
     ]
    },
    {
     "data": {
      "text/plain": [
       "False"
      ]
     },
     "metadata": {},
     "output_type": "display_data"
    },
    {
     "name": "stdout",
     "output_type": "stream",
     "text": [
      "\n",
      "APARTADO B\n",
      "-------------------\n",
      "\n",
      "La integral definida entre a y b de f(x) puede oscilar entre los siguientes valores: [ 6 , 12 ]\n"
     ]
    }
   ],
   "source": [
    "#Ejercicio 4\n",
    "# CARLCULAR POSIBLES VALORES DE ÁREAS TENIENDO EN CUENTA UN INTERVALO, UN MÁXIMO Y UN MÍNIMO EN ESTE.\n",
    "#Datos\n",
    "a = 2\n",
    "b = 4\n",
    "min = 3\n",
    "max = 6\n",
    "\n",
    "#Fórmula\n",
    "Expr = min*(b-a) <= sp.integrate(f(x),(x,b,a)) <= max*(b-a)\n",
    "\n",
    "#a\n",
    "print('APARTADO A')\n",
    "print('-------------------')\n",
    "display(15 <= max*(b-a)) # CALCULAR MÁXIMO VALOR POSIBLE DE ÁREA (max*(b-a))\n",
    "\n",
    "#b\n",
    "print('\\nAPARTADO B')\n",
    "print('-------------------\\n')\n",
    "v1 = min*(b-a) \n",
    "v2 = max*(b-a)\n",
    "print('La integral definida entre a y b de f(x) puede oscilar entre los siguientes valores: [',v1,',',v2,']')"
   ]
  },
  {
   "cell_type": "code",
   "execution_count": 28,
   "id": "113ea39f-2e8a-49ff-ba35-35807d75c4e2",
   "metadata": {},
   "outputs": [
    {
     "name": "stdout",
     "output_type": "stream",
     "text": [
      "APARTADO A\n",
      "------------------\n",
      "f(4) =  1\n",
      "APARTADO B\n",
      "-----------------\n",
      "g(1) =  -1\n"
     ]
    }
   ],
   "source": [
    "# Ejercicio 5\n",
    "# HALLAR EL VALOR DE UNA FUNCIÓN EN UN PUNTO DÁNDOSE ÚNICAMENTE LA INTEGRAL.\n",
    "#a\n",
    "print('APARTADO A')\n",
    "print('------------------')\n",
    "d1f = sp.diff(x*sp.cos(sp.pi*x))\n",
    "f = sp.Lambda(x, d1f)\n",
    "\n",
    "v = 4\n",
    "a = x\n",
    "b = 0\n",
    "\n",
    "sol = f(v) * sp.diff(a,x) - f(v) * sp.diff(b,x) # Este apartado nos permite averiguar el valor de f(4) teniendo en cuenta los puntos de la derivada definida (a=x , b=0)\n",
    "print('f(4) = ',sol)\n",
    "\n",
    "#b\n",
    "\n",
    "print('APARTADO B')\n",
    "print('-----------------')\n",
    "d1g = sp.diff(x*sp.cos(sp.pi*x))\n",
    "g = sp.Lambda(x, d1g)\n",
    "\n",
    "v2 = 1\n",
    "a2 = x**3\n",
    "b2 = x**2\n",
    "\n",
    "sol2 = g(v2)*sp.diff(a2,x) - g(v2)*sp.diff(b2,x)\n",
    "print('g(1) = ',sol2.subs(x,v2))\n",
    "\n"
   ]
  },
  {
   "cell_type": "code",
   "execution_count": 29,
   "id": "fd44e768-4a79-490f-b67c-2318509282e6",
   "metadata": {},
   "outputs": [
    {
     "data": {
      "text/plain": [
       "'Derivada'"
      ]
     },
     "metadata": {},
     "output_type": "display_data"
    },
    {
     "data": {
      "text/latex": [
       "$\\displaystyle \\frac{\\sin{\\left(x \\right)}}{x}$"
      ],
      "text/plain": [
       "sin(x)/x"
      ]
     },
     "metadata": {},
     "output_type": "display_data"
    },
    {
     "name": "stdout",
     "output_type": "stream",
     "text": [
      "x = K * pi ; para todo K > 0\n"
     ]
    }
   ],
   "source": [
    "# Ejercicio 6 (Teorema fundamental del cálculo integral)\n",
    "\n",
    "# OBTENER LOS EXTREMOS RELATICOS DE UNA FUNCIÓN DADA UNA INTEGRAL DEFINIDA.\n",
    "\n",
    "# Dada una función f integrable en [a,b], llamamos F a una función definida \n",
    "# en [a,b] tal que: F(x) = integral definida entre a y b de f(t) * dt.\n",
    "\n",
    "# Fórmula --> F(x): F'(x) = f(b(x)) * b'(x) - f(a(x)) *a(x)\n",
    "\n",
    "x = sp.Symbol('x')\n",
    "expr6 = sp.sin(x)/x\n",
    "f = sp.Lambda(x, expr6)\n",
    "\n",
    "b = x # UN EXTREMOS DE INTEGRACIÓN\n",
    "a = 1 # EL OTRO\n",
    "\n",
    "# Derivada definida entre x, 1.\n",
    "# CALCULAMOS LA DERIVADA DEFINIDA\n",
    "der = expr6.subs(x,b) * sp.diff(b,x) - expr6.subs(x,a) * sp.diff(a,x)\n",
    "display('Derivada',der)\n",
    "\n",
    "# Derivda = 0\n",
    "# PARA OBTENER LOS EXTREMOS RELATIVOS IGUALAMOS LA FUNCIÓN A CERO (RESOLVEMOS PARA X=0)\n",
    "sol = sp.solve(der, x)\n",
    "print('x = K *', sol[0],'; para todo K > 0')"
   ]
  },
  {
   "cell_type": "code",
   "execution_count": 30,
   "id": "74fcfcf4-0efc-41b8-95f6-fd2c9db52066",
   "metadata": {},
   "outputs": [
    {
     "data": {
      "image/png": "[encoded data removed]",
      "text/plain": [
       "<Figure size 432x288 with 1 Axes>"
      ]
     },
     "metadata": {
      "needs_background": "light"
     },
     "output_type": "display_data"
    },
    {
     "data": {
      "text/plain": [
       "'Puntos de corte y1 = y2; x ='"
      ]
     },
     "metadata": {},
     "output_type": "display_data"
    },
    {
     "data": {
      "text/latex": [
       "$\\displaystyle 0$"
      ],
      "text/plain": [
       "0"
      ]
     },
     "metadata": {},
     "output_type": "display_data"
    },
    {
     "data": {
      "text/plain": [
       "'Puntos de corte y1 = y3; x ='"
      ]
     },
     "metadata": {},
     "output_type": "display_data"
    },
    {
     "data": {
      "text/latex": [
       "$\\displaystyle 4$"
      ],
      "text/plain": [
       "4"
      ]
     },
     "metadata": {},
     "output_type": "display_data"
    },
    {
     "data": {
      "text/plain": [
       "'Área 1'"
      ]
     },
     "metadata": {},
     "output_type": "display_data"
    },
    {
     "data": {
      "text/latex": [
       "$\\displaystyle 2$"
      ],
      "text/plain": [
       "2"
      ]
     },
     "metadata": {},
     "output_type": "display_data"
    },
    {
     "data": {
      "text/plain": [
       "'Área 2'"
      ]
     },
     "metadata": {},
     "output_type": "display_data"
    },
    {
     "data": {
      "text/latex": [
       "$\\displaystyle 2$"
      ],
      "text/plain": [
       "2"
      ]
     },
     "metadata": {},
     "output_type": "display_data"
    },
    {
     "data": {
      "text/plain": [
       "'Área total = '"
      ]
     },
     "metadata": {},
     "output_type": "display_data"
    },
    {
     "data": {
      "text/latex": [
       "$\\displaystyle 4$"
      ],
      "text/plain": [
       "4"
      ]
     },
     "metadata": {},
     "output_type": "display_data"
    }
   ],
   "source": [
    "# Ejercicio 8\n",
    "# HALLAR EL ÁREA MEDIANTE TRES RECTAS DADAS.\n",
    "# Representación gráfica\n",
    "x,y = sp.symbols('x,y', reals=True)\n",
    "p = sp.plot(2*x, x, 4, (x, -1, 5), show = False)\n",
    "p[0].line_color = 'black'\n",
    "p[1].line_color = 'orange'\n",
    "p.xlabel='x'\n",
    "p.ylabel='y'\n",
    "p.legend=True\n",
    "p.show()\n",
    "\n",
    "# Puntos de corte\n",
    "# ESTO NOS PERMITE ANALIZAR LOS PUNTOS DONDE INTERSECAN RECTAS Y POR TANTO DELIMITAN EL ÁREA\n",
    "expr1 = x\n",
    "expr2 = 2*x\n",
    "expr3 = 4\n",
    "\n",
    "display('Puntos de corte y1 = y2; x =', sp.solve(expr1-expr2)[0])\n",
    "display('Puntos de corte y1 = y3; x =',sp.solve(expr1-expr3)[0])\n",
    "\n",
    "# Cálculo del área\n",
    "A1 = sp.integrate(expr2-expr1,(x,0,2))\n",
    "display('Área 1',A1)\n",
    "A2 = sp.integrate(expr3-expr1,(x,2,4))\n",
    "display('Área 2',A2)\n",
    "AT = A1+A2\n",
    "display('Área total',AT)"
   ]
  },
  {
   "cell_type": "code",
   "execution_count": 31,
   "id": "c27bccdf-a2f6-4c88-b897-92831e1e26aa",
   "metadata": {},
   "outputs": [
    {
     "name": "stdout",
     "output_type": "stream",
     "text": [
      "----------------------\n"
     ]
    },
    {
     "data": {
      "text/plain": [
       "'Singularidades:'"
      ]
     },
     "metadata": {},
     "output_type": "display_data"
    },
    {
     "data": {
      "text/latex": [
       "$\\displaystyle \\left\\{- \\sqrt{\\pi}, \\sqrt{\\pi}\\right\\}$"
      ],
      "text/plain": [
       "{-sqrt(pi), sqrt(pi)}"
      ]
     },
     "metadata": {},
     "output_type": "display_data"
    },
    {
     "name": "stdout",
     "output_type": "stream",
     "text": [
      "\n",
      "-√π se encuentra fuera del dominio y √π pertenece al primer intervalo, pero no es singularidad de la primera expresión.\n"
     ]
    },
    {
     "data": {
      "text/plain": [
       "'Límite x --> π-'"
      ]
     },
     "metadata": {},
     "output_type": "display_data"
    },
    {
     "data": {
      "text/latex": [
       "$\\displaystyle 0$"
      ],
      "text/plain": [
       "0"
      ]
     },
     "metadata": {},
     "output_type": "display_data"
    },
    {
     "data": {
      "text/plain": [
       "'Límite x --> π+'"
      ]
     },
     "metadata": {},
     "output_type": "display_data"
    },
    {
     "data": {
      "text/latex": [
       "$\\displaystyle \\frac{\\pi}{\\pi - \\pi^{2}}$"
      ],
      "text/plain": [
       "pi/(pi - pi**2)"
      ]
     },
     "metadata": {},
     "output_type": "display_data"
    },
    {
     "name": "stdout",
     "output_type": "stream",
     "text": [
      "f(x) no es continua pero sí está acotada, por lo que es integrable.\n",
      "\n",
      "APARTADO B\n",
      "--------------------\n"
     ]
    },
    {
     "data": {
      "text/plain": [
       "'Positiva de [0,π], por ejemplo en x = 1'"
      ]
     },
     "metadata": {},
     "output_type": "display_data"
    },
    {
     "data": {
      "text/plain": [
       "0.7080734182735712"
      ]
     },
     "metadata": {},
     "output_type": "display_data"
    },
    {
     "data": {
      "text/plain": [
       "'Negativa de (π,2π], por ejemplo x = 4'"
      ]
     },
     "metadata": {},
     "output_type": "display_data"
    },
    {
     "data": {
      "text/plain": [
       "-0.3110805166019814"
      ]
     },
     "metadata": {},
     "output_type": "display_data"
    },
    {
     "name": "stdout",
     "output_type": "stream",
     "text": [
      "\n"
     ]
    },
    {
     "data": {
      "text/plain": [
       "'Area1 ='"
      ]
     },
     "metadata": {},
     "output_type": "display_data"
    },
    {
     "data": {
      "text/latex": [
       "$\\displaystyle \\frac{\\pi}{2}$"
      ],
      "text/plain": [
       "pi/2"
      ]
     },
     "metadata": {},
     "output_type": "display_data"
    },
    {
     "data": {
      "text/plain": [
       "'Area2 ='"
      ]
     },
     "metadata": {},
     "output_type": "display_data"
    },
    {
     "data": {
      "text/latex": [
       "$\\displaystyle - \\frac{\\log{\\left(- \\pi + \\pi^{2} \\right)}}{2} + \\frac{\\log{\\left(- \\pi + 4 \\pi^{2} \\right)}}{2}$"
      ],
      "text/plain": [
       "-log(-pi + pi**2)/2 + log(-pi + 4*pi**2)/2"
      ]
     },
     "metadata": {},
     "output_type": "display_data"
    },
    {
     "name": "stdout",
     "output_type": "stream",
     "text": [
      "\n",
      "Área Total = -log(-1 + pi)/2 + log(-1 + 4*pi)/2 + pi/2 = 2.414072336682839 u²\n"
     ]
    }
   ],
   "source": [
    "# Ejercicio 9\n",
    "# ANALIZAR SI UNA FUNCIÓN ES INTEGRABLE DENTRO DE UN INTERVALO DADO. \n",
    "\n",
    "x = sp.Symbol('x')\n",
    "expr1 = sp.sin(x)**2\n",
    "expr2 = x/(sp.pi-x**2)\n",
    "\n",
    "#Definición de la función\n",
    "f_expr = sp.Piecewise((expr1,sp.And(x>=0,x<=sp.pi)), (expr2,sp.And(x>sp.pi, x<=2*sp.pi)))\n",
    "f = sp.Lambda(x,f_expr)\n",
    "\n",
    "#Singularidades\n",
    "print('----------------------')\n",
    "singularidades = sp.calculus.singularities(f(x),x)\n",
    "display('Singularidades:', singularidades)\n",
    "print('\\n-√π se encuentra fuera del dominio y √π pertenece al primer intervalo, pero no es singularidad de la primera expresión.')\n",
    "\n",
    "# Límites\n",
    "lim_i = sp.limit(expr1,x,sp.pi,dir='-')\n",
    "lim_d = sp.limit(expr2,x,sp.pi,dir='+')\n",
    "display('Límite x --> π-',lim_i)\n",
    "display('Límite x --> π+', lim_d)\n",
    "print('f(x) no es continua pero sí está acotada, por lo que es integrable.')\n",
    "\n",
    "#b\n",
    "print('\\nAPARTADO B')\n",
    "print('--------------------')\n",
    "\n",
    "#Sustituimos las expresiones por un valor de sus respectivos intervalos para ver si es positiva o negativa\n",
    "display('Positiva de [0,π], por ejemplo en x = 1', float(expr1.subs(x,1)))\n",
    "display('Negativa de (π,2π], por ejemplo x = 4', float(expr2.subs(x,4)))\n",
    "\n",
    "# Cálculo Área\n",
    "print('')\n",
    "A1 = sp.integrate(sp.sin(x)**2,(x,0,sp.pi))\n",
    "display('Area1 =',A1)\n",
    "A2 = sp.integrate(abs(x/(sp.pi-x**2)),(x,sp.pi,2*sp.pi))\n",
    "display('Area2 =',A2)\n",
    "AT = A1+A2\n",
    "print('\\nÁrea Total =',sp.simplify(AT),'=',float(AT),'u²')"
   ]
  },
  {
   "cell_type": "code",
   "execution_count": 32,
   "id": "71c1c29c-c3b6-437c-b852-408126ac2bea",
   "metadata": {},
   "outputs": [
    {
     "data": {
      "text/latex": [
       "$\\displaystyle \\left( t \\mapsto 15 \\cos{\\left(\\frac{\\pi t}{2} \\right)} + 90 \\right)$"
      ],
      "text/plain": [
       "Lambda(t, 15*cos(pi*t/2) + 90)"
      ]
     },
     "metadata": {},
     "output_type": "display_data"
    },
    {
     "data": {
      "text/latex": [
       "$\\displaystyle \\left( t \\mapsto 2 t + 85 \\right)$"
      ],
      "text/plain": [
       "Lambda(t, 2*t + 85)"
      ]
     },
     "metadata": {},
     "output_type": "display_data"
    },
    {
     "data": {
      "text/plain": [
       "'Primer tramo'"
      ]
     },
     "metadata": {},
     "output_type": "display_data"
    },
    {
     "data": {
      "text/latex": [
       "$\\displaystyle \\frac{30}{\\pi}$"
      ],
      "text/plain": [
       "30/pi"
      ]
     },
     "metadata": {},
     "output_type": "display_data"
    },
    {
     "data": {
      "text/plain": [
       "'Segundo tramo'"
      ]
     },
     "metadata": {},
     "output_type": "display_data"
    },
    {
     "data": {
      "text/latex": [
       "$\\displaystyle -50$"
      ],
      "text/plain": [
       "-50"
      ]
     },
     "metadata": {},
     "output_type": "display_data"
    },
    {
     "name": "stdout",
     "output_type": "stream",
     "text": [
      "En el primer tramo Maruja va ganando, mientras que el segundo gana Pepe.\n"
     ]
    }
   ],
   "source": [
    "# Ejercicio 10\n",
    "# EJERCICIO DE VELOCIDAD DE MARUJA Y PEPE\n",
    "t = sp.Symbol('t')\n",
    "expr1 = 90+15*sp.cos(sp.pi/2*t)\n",
    "vm = sp.Lambda(t,expr1)\n",
    "expr2 = 85+2*t\n",
    "vp = sp.Lambda(t,expr2)\n",
    "display(vm,vp)\n",
    "\n",
    "#Resolución\n",
    "I1 = sp.integrate(vm(t)-vp(t),(t,0,5))\n",
    "I2 = sp.integrate(vm(t)-vp(t),(t,0,10))\n",
    "display('Primer tramo',I1,'Segundo tramo',I2)\n",
    "print('En el primer tramo Maruja va ganando, mientras que el segundo gana Pepe.')"
   ]
  },
  {
   "cell_type": "code",
   "execution_count": 34,
   "id": "dd452658-74b7-4365-873c-1921f9184ad8",
   "metadata": {},
   "outputs": [
    {
     "data": {
      "image/png": "[encoded data removed]",
      "text/plain": [
       "<Figure size 432x288 with 1 Axes>"
      ]
     },
     "metadata": {
      "needs_background": "light"
     },
     "output_type": "display_data"
    },
    {
     "ename": "ValueError",
     "evalue": "Invalid limits given: ((0, t),)",
     "output_type": "error",
     "traceback": [
      "\u001b[1;31m---------------------------------------------------------------------------\u001b[0m",
      "\u001b[1;31mValueError\u001b[0m                                Traceback (most recent call last)",
      "Input \u001b[1;32mIn [34]\u001b[0m, in \u001b[0;36m<cell line: 31>\u001b[1;34m()\u001b[0m\n\u001b[0;32m     27\u001b[0m plt\u001b[38;5;241m.\u001b[39mshow()\n\u001b[0;32m     29\u001b[0m \u001b[38;5;66;03m# Cálculo del área\u001b[39;00m\n\u001b[1;32m---> 31\u001b[0m display(sp\u001b[38;5;241m.\u001b[39mlimit(\u001b[43msp\u001b[49m\u001b[38;5;241;43m.\u001b[39;49m\u001b[43mintegrate\u001b[49m\u001b[43m(\u001b[49m\u001b[43mexpr\u001b[49m\u001b[43m,\u001b[49m\u001b[43m(\u001b[49m\u001b[38;5;241;43m0\u001b[39;49m\u001b[43m,\u001b[49m\u001b[43mt\u001b[49m\u001b[43m)\u001b[49m\u001b[43m)\u001b[49m,t,sp\u001b[38;5;241m.\u001b[39moo))\n",
      "File \u001b[1;32m~\\anaconda3\\lib\\site-packages\\sympy\\integrals\\integrals.py:1563\u001b[0m, in \u001b[0;36mintegrate\u001b[1;34m(meijerg, conds, risch, heurisch, manual, *args, **kwargs)\u001b[0m\n\u001b[0;32m   1399\u001b[0m \u001b[38;5;124;03m\"\"\"integrate(f, var, ...)\u001b[39;00m\n\u001b[0;32m   1400\u001b[0m \n\u001b[0;32m   1401\u001b[0m \u001b[38;5;124;03m.. deprecated:: 1.6\u001b[39;00m\n\u001b[1;32m   (...)\u001b[0m\n\u001b[0;32m   1553\u001b[0m \n\u001b[0;32m   1554\u001b[0m \u001b[38;5;124;03m\"\"\"\u001b[39;00m\n\u001b[0;32m   1555\u001b[0m doit_flags \u001b[38;5;241m=\u001b[39m {\n\u001b[0;32m   1556\u001b[0m     \u001b[38;5;124m'\u001b[39m\u001b[38;5;124mdeep\u001b[39m\u001b[38;5;124m'\u001b[39m: \u001b[38;5;28;01mFalse\u001b[39;00m,\n\u001b[0;32m   1557\u001b[0m     \u001b[38;5;124m'\u001b[39m\u001b[38;5;124mmeijerg\u001b[39m\u001b[38;5;124m'\u001b[39m: meijerg,\n\u001b[1;32m   (...)\u001b[0m\n\u001b[0;32m   1561\u001b[0m     \u001b[38;5;124m'\u001b[39m\u001b[38;5;124mmanual\u001b[39m\u001b[38;5;124m'\u001b[39m: manual\n\u001b[0;32m   1562\u001b[0m     }\n\u001b[1;32m-> 1563\u001b[0m integral \u001b[38;5;241m=\u001b[39m Integral(\u001b[38;5;241m*\u001b[39margs, \u001b[38;5;241m*\u001b[39m\u001b[38;5;241m*\u001b[39mkwargs)\n\u001b[0;32m   1565\u001b[0m \u001b[38;5;28;01mif\u001b[39;00m \u001b[38;5;28misinstance\u001b[39m(integral, Integral):\n\u001b[0;32m   1566\u001b[0m     \u001b[38;5;28;01mreturn\u001b[39;00m integral\u001b[38;5;241m.\u001b[39mdoit(\u001b[38;5;241m*\u001b[39m\u001b[38;5;241m*\u001b[39mdoit_flags)\n",
      "File \u001b[1;32m~\\anaconda3\\lib\\site-packages\\sympy\\integrals\\integrals.py:99\u001b[0m, in \u001b[0;36mIntegral.__new__\u001b[1;34m(cls, function, *symbols, **assumptions)\u001b[0m\n\u001b[0;32m     89\u001b[0m \u001b[38;5;28;01mif\u001b[39;00m \u001b[38;5;28misinstance\u001b[39m(function, Poly):\n\u001b[0;32m     90\u001b[0m     sympy_deprecation_warning(\n\u001b[0;32m     91\u001b[0m         \u001b[38;5;124;03m\"\"\"\u001b[39;00m\n\u001b[0;32m     92\u001b[0m \u001b[38;5;124;03m        integrate(Poly) and Integral(Poly) are deprecated. Instead,\u001b[39;00m\n\u001b[1;32m   (...)\u001b[0m\n\u001b[0;32m     96\u001b[0m         deprecated_since_version\u001b[38;5;241m=\u001b[39m\u001b[38;5;124m\"\u001b[39m\u001b[38;5;124m1.6\u001b[39m\u001b[38;5;124m\"\u001b[39m,\n\u001b[0;32m     97\u001b[0m         active_deprecations_target\u001b[38;5;241m=\u001b[39m\u001b[38;5;124m\"\u001b[39m\u001b[38;5;124mdeprecated-integrate-poly\u001b[39m\u001b[38;5;124m\"\u001b[39m)\n\u001b[1;32m---> 99\u001b[0m obj \u001b[38;5;241m=\u001b[39m AddWithLimits\u001b[38;5;241m.\u001b[39m\u001b[38;5;21m__new__\u001b[39m(\u001b[38;5;28mcls\u001b[39m, function, \u001b[38;5;241m*\u001b[39msymbols, \u001b[38;5;241m*\u001b[39m\u001b[38;5;241m*\u001b[39massumptions)\n\u001b[0;32m    100\u001b[0m \u001b[38;5;28;01mreturn\u001b[39;00m obj\n",
      "File \u001b[1;32m~\\anaconda3\\lib\\site-packages\\sympy\\concrete\\expr_with_limits.py:545\u001b[0m, in \u001b[0;36mAddWithLimits.__new__\u001b[1;34m(cls, function, *symbols, **assumptions)\u001b[0m\n\u001b[0;32m    543\u001b[0m \u001b[38;5;28;01mdef\u001b[39;00m \u001b[38;5;21m__new__\u001b[39m(\u001b[38;5;28mcls\u001b[39m, function, \u001b[38;5;241m*\u001b[39msymbols, \u001b[38;5;241m*\u001b[39m\u001b[38;5;241m*\u001b[39massumptions):\n\u001b[0;32m    544\u001b[0m     \u001b[38;5;28;01mfrom\u001b[39;00m \u001b[38;5;21;01msympy\u001b[39;00m\u001b[38;5;21;01m.\u001b[39;00m\u001b[38;5;21;01mconcrete\u001b[39;00m\u001b[38;5;21;01m.\u001b[39;00m\u001b[38;5;21;01msummations\u001b[39;00m \u001b[38;5;28;01mimport\u001b[39;00m Sum\n\u001b[1;32m--> 545\u001b[0m     pre \u001b[38;5;241m=\u001b[39m _common_new(\u001b[38;5;28mcls\u001b[39m, function, \u001b[38;5;241m*\u001b[39msymbols,\n\u001b[0;32m    546\u001b[0m         discrete\u001b[38;5;241m=\u001b[39m\u001b[38;5;28missubclass\u001b[39m(\u001b[38;5;28mcls\u001b[39m, Sum), \u001b[38;5;241m*\u001b[39m\u001b[38;5;241m*\u001b[39massumptions)\n\u001b[0;32m    547\u001b[0m     \u001b[38;5;28;01mif\u001b[39;00m \u001b[38;5;28misinstance\u001b[39m(pre, \u001b[38;5;28mtuple\u001b[39m):\n\u001b[0;32m    548\u001b[0m         function, limits, orientation \u001b[38;5;241m=\u001b[39m pre\n",
      "File \u001b[1;32m~\\anaconda3\\lib\\site-packages\\sympy\\concrete\\expr_with_limits.py:57\u001b[0m, in \u001b[0;36m_common_new\u001b[1;34m(cls, function, discrete, *symbols, **assumptions)\u001b[0m\n\u001b[0;32m     54\u001b[0m     \u001b[38;5;28;01mreturn\u001b[39;00m S\u001b[38;5;241m.\u001b[39mNaN\n\u001b[0;32m     56\u001b[0m \u001b[38;5;28;01mif\u001b[39;00m symbols:\n\u001b[1;32m---> 57\u001b[0m     limits, orientation \u001b[38;5;241m=\u001b[39m \u001b[43m_process_limits\u001b[49m\u001b[43m(\u001b[49m\u001b[38;5;241;43m*\u001b[39;49m\u001b[43msymbols\u001b[49m\u001b[43m,\u001b[49m\u001b[43m \u001b[49m\u001b[43mdiscrete\u001b[49m\u001b[38;5;241;43m=\u001b[39;49m\u001b[43mdiscrete\u001b[49m\u001b[43m)\u001b[49m\n\u001b[0;32m     58\u001b[0m     \u001b[38;5;28;01mfor\u001b[39;00m i, li \u001b[38;5;129;01min\u001b[39;00m \u001b[38;5;28menumerate\u001b[39m(limits):\n\u001b[0;32m     59\u001b[0m         \u001b[38;5;28;01mif\u001b[39;00m \u001b[38;5;28mlen\u001b[39m(li) \u001b[38;5;241m==\u001b[39m \u001b[38;5;241m4\u001b[39m:\n",
      "File \u001b[1;32m~\\anaconda3\\lib\\site-packages\\sympy\\concrete\\expr_with_limits.py:194\u001b[0m, in \u001b[0;36m_process_limits\u001b[1;34m(discrete, *symbols)\u001b[0m\n\u001b[0;32m    191\u001b[0m                     limits\u001b[38;5;241m.\u001b[39mappend(Tuple(newsymbol, V[\u001b[38;5;241m1\u001b[39m]))\n\u001b[0;32m    192\u001b[0m                     \u001b[38;5;28;01mcontinue\u001b[39;00m\n\u001b[1;32m--> 194\u001b[0m     \u001b[38;5;28;01mraise\u001b[39;00m \u001b[38;5;167;01mValueError\u001b[39;00m(\u001b[38;5;124m'\u001b[39m\u001b[38;5;124mInvalid limits given: \u001b[39m\u001b[38;5;132;01m%s\u001b[39;00m\u001b[38;5;124m'\u001b[39m \u001b[38;5;241m%\u001b[39m \u001b[38;5;28mstr\u001b[39m(symbols))\n\u001b[0;32m    196\u001b[0m \u001b[38;5;28;01mreturn\u001b[39;00m limits, orientation\n",
      "\u001b[1;31mValueError\u001b[0m: Invalid limits given: ((0, t),)"
     ]
    }
   ],
   "source": [
    "# Ejercicio 12\n",
    "# HALLAR EL ÁREA PERO DANDO LA FUNCIÓN Y UN INTERVALO QUE VA DESDE 0 HASTA EL INFINITO.\n",
    "x,t = sp.symbols('x,t')\n",
    "expr = x*sp.exp(-2*x)\n",
    "f = sp.Lambda(x,expr)\n",
    "\n",
    "# Representación Gráfica\n",
    "import matplotlib as mp\n",
    "import matplotlib.pyplot as plt\n",
    "import numpy as np\n",
    "\n",
    "# Creación de los puntos donde se evalúa la función\n",
    "x = np.linspace(-5, 5*np.pi, 100)\n",
    "\n",
    "# Gráfica de sin(x) y cos(x), con una etiqueta para cada una\n",
    "plt.plot(x, x*sp.E**(-2*x))\n",
    "\n",
    "# Etiquetas de los ejes\n",
    "plt.xlabel('x')\n",
    "plt.ylabel('y')\n",
    "\n",
    "# Definir los límites de los ejes x e y\n",
    "plt.xlim(x[0], x[-1])\n",
    "plt.ylim([-1.,1.2])\n",
    "plt.title('Gráfica de xe^(-2x)')\n",
    "\n",
    "plt.show()\n",
    "\n",
    "# Cálculo del área\n",
    "\n",
    "display(sp.limit(sp.integrate(expr,(0,t)),t,sp.oo))"
   ]
  },
  {
   "cell_type": "code",
   "execution_count": 35,
   "id": "a3779f49-30ef-4414-9d63-5d2e9bfe0523",
   "metadata": {},
   "outputs": [
    {
     "data": {
      "text/latex": [
       "$\\displaystyle - \\frac{1}{9}$"
      ],
      "text/plain": [
       "-1/9"
      ]
     },
     "metadata": {},
     "output_type": "display_data"
    },
    {
     "name": "stdout",
     "output_type": "stream",
     "text": [
      "\n",
      "RESOLUCIÓN INTEGRANDO POR PARTES\n",
      "----------------------------------\n"
     ]
    },
    {
     "data": {
      "text/plain": [
       "'Expresión obtenida con la integración por partes'"
      ]
     },
     "metadata": {},
     "output_type": "display_data"
    },
    {
     "data": {
      "text/latex": [
       "$\\displaystyle \\frac{x^{3} \\log{\\left(x \\right)}}{3} - \\frac{x^{3}}{9}$"
      ],
      "text/plain": [
       "x**3*log(x)/3 - x**3/9"
      ]
     },
     "metadata": {},
     "output_type": "display_data"
    },
    {
     "name": "stdout",
     "output_type": "stream",
     "text": [
      "Como ln(x) sólo está definida para x>0 se calcula el límite cuando x --> 0+\n"
     ]
    },
    {
     "data": {
      "text/plain": [
       "'Límite cuando x --> 0+ ='"
      ]
     },
     "metadata": {},
     "output_type": "display_data"
    },
    {
     "data": {
      "text/latex": [
       "$\\displaystyle \\frac{1}{3}$"
      ],
      "text/plain": [
       "1/3"
      ]
     },
     "metadata": {},
     "output_type": "display_data"
    },
    {
     "data": {
      "text/plain": [
       "'Solución final'"
      ]
     },
     "metadata": {},
     "output_type": "display_data"
    },
    {
     "data": {
      "text/latex": [
       "$\\displaystyle - \\frac{4}{9}$"
      ],
      "text/plain": [
       "-4/9"
      ]
     },
     "metadata": {},
     "output_type": "display_data"
    }
   ],
   "source": [
    "# Ejercicio 13\n",
    "# RESOLVER UNA INTEGRAL POR PARTES.\n",
    "x = sp.Symbol('x')\n",
    "expr = x**2 * sp.log(x)\n",
    "I13 = sp.integrate(expr,(x,0,1))\n",
    "display(I13)\n",
    "\n",
    "print('\\nRESOLUCIÓN INTEGRANDO POR PARTES')\n",
    "print('----------------------------------')\n",
    "\n",
    "# Datos u,v,du,dv\n",
    "u = sp.log(x)\n",
    "du = sp.diff(u)\n",
    "dv = x**2\n",
    "v = sp.integrate(dv,x)\n",
    "\n",
    "# Fórmula integración por partes\n",
    "IPP = u*v-sp.integrate(v*du,x)\n",
    "display('Expresión obtenida con la integración por partes', IPP)\n",
    "\n",
    "# Límites porque el ln(0) no existe en R\n",
    "print('Como ln(x) sólo está definida para x>0 se calcula el límite cuando x --> 0+')\n",
    "lim_d = sp.limit((x**3*sp.log(x)/3 - x++3/9),x,0,dir = '+')\n",
    "display('Límite cuando x --> 0+ =', lim_d)\n",
    "\n",
    "# Resolución final en los intervalos de la integral definida\n",
    "sol = IPP.subs(x,1) - lim_d\n",
    "display('Solución final', sol)"
   ]
  },
  {
   "cell_type": "code",
   "execution_count": 36,
   "id": "b7ce8332-a6b3-4646-a03b-591590bab4ca",
   "metadata": {},
   "outputs": [
    {
     "data": {
      "text/latex": [
       "$\\displaystyle \\pi$"
      ],
      "text/plain": [
       "pi"
      ]
     },
     "execution_count": 36,
     "metadata": {},
     "output_type": "execute_result"
    }
   ],
   "source": [
    "# Ejercicio 14\n",
    "sp.integrate(1/(sp.sqrt(x)*(x+1)),(x,0,sp.oo))"
   ]
  },
  {
   "cell_type": "code",
   "execution_count": 37,
   "id": "f572bb1c-03d3-4924-aeb8-9156d70e7b91",
   "metadata": {},
   "outputs": [
    {
     "data": {
      "image/png": "[encoded data removed]",
      "text/plain": [
       "<Figure size 432x288 with 1 Axes>"
      ]
     },
     "metadata": {
      "needs_background": "light"
     },
     "output_type": "display_data"
    },
    {
     "name": "stdout",
     "output_type": "stream",
     "text": [
      "\n",
      "\n"
     ]
    },
    {
     "data": {
      "text/plain": [
       "'Área Círculo ='"
      ]
     },
     "metadata": {},
     "output_type": "display_data"
    },
    {
     "data": {
      "text/plain": [
       "[-sqrt(100 - x**2), sqrt(100 - x**2)]"
      ]
     },
     "metadata": {},
     "output_type": "display_data"
    },
    {
     "name": "stdout",
     "output_type": "stream",
     "text": [
      "\n",
      "\n"
     ]
    },
    {
     "data": {
      "text/plain": [
       "'Puntos de corte ='"
      ]
     },
     "metadata": {},
     "output_type": "display_data"
    },
    {
     "data": {
      "text/plain": [
       "[-10, 10]"
      ]
     },
     "metadata": {},
     "output_type": "display_data"
    },
    {
     "name": "stdout",
     "output_type": "stream",
     "text": [
      "\n",
      "\n"
     ]
    },
    {
     "data": {
      "text/plain": [
       "'Volumen de la madera ='"
      ]
     },
     "metadata": {},
     "output_type": "display_data"
    },
    {
     "data": {
      "text/latex": [
       "$\\displaystyle \\frac{4000 \\pi}{3}$"
      ],
      "text/plain": [
       "4000*pi/3"
      ]
     },
     "metadata": {},
     "output_type": "display_data"
    },
    {
     "name": "stdout",
     "output_type": "stream",
     "text": [
      "\n",
      "\n"
     ]
    },
    {
     "data": {
      "text/plain": [
       "'Volument total ='"
      ]
     },
     "metadata": {},
     "output_type": "display_data"
    },
    {
     "data": {
      "text/latex": [
       "$\\displaystyle \\frac{5324 \\pi}{3}$"
      ],
      "text/plain": [
       "5324*pi/3"
      ]
     },
     "metadata": {},
     "output_type": "display_data"
    },
    {
     "name": "stdout",
     "output_type": "stream",
     "text": [
      "\n",
      "\n"
     ]
    },
    {
     "data": {
      "text/plain": [
       "'Volumen acero ='"
      ]
     },
     "metadata": {},
     "output_type": "display_data"
    },
    {
     "data": {
      "text/latex": [
       "$\\displaystyle \\frac{1324 \\pi}{3}$"
      ],
      "text/plain": [
       "1324*pi/3"
      ]
     },
     "metadata": {},
     "output_type": "display_data"
    }
   ],
   "source": [
    "# Ejercicio 15\n",
    "# EL VOLUMEN DEL ACERO NECESARIO PARA RECUBRIR CON UN ESPESOR DE 1 CM UNA ESFERA DE MADERA DE RADIO 10 CM.\n",
    "x = sp.symbols('x')\n",
    "\n",
    "# Representación gráfica Esfera\n",
    "\n",
    "import matplotlib.pyplot as plt\n",
    "import mpl_toolkits.mplot3d.axes3d as axes3d\n",
    "\n",
    "fig = plt.figure()\n",
    "ax = fig.add_subplot(projection='3d')\n",
    "\n",
    "RR = 10\n",
    "u = np.linspace(0, 6.5, 60)\n",
    "v = np.linspace(0, 6.5, 60)\n",
    "\n",
    "U, V = np.meshgrid(u,v)\n",
    "\n",
    "X = np.cos(U) * np.sin(V)\n",
    "Y1 = np.sin(U) * np.sin(V)\n",
    "Z1 = np.cos(V)\n",
    "ax.plot_surface(X, Y1, Z1, alpha=0.3, color='red')\n",
    "plt.show()\n",
    "\n",
    "# Areac circ = x**2 + y**2 = 10**2 --> y = +- sqrt(100-x**2)\n",
    "# Vmadera = sp.pi * integral entre 10 y -10 (sqrt(100-x**2)**2 = 100-x**2) = \n",
    "# Vt hay que calcularlo con radio 11 (10+1)\n",
    "# Vacero = Vt -Vmadera\n",
    "\n",
    "# Definición de las variables\n",
    "x,y = sp.symbols('x,y')\n",
    "\n",
    "# Área del círculo\n",
    "print('\\n')\n",
    "Acirc = sp.solve(x**2+y**2-10**2,y)\n",
    "display('Área Círculo =',Acirc)\n",
    "\n",
    "# Puntos de corte\n",
    "print('\\n')\n",
    "display('Puntos de corte =', sp.solve(sp.sqrt(100-x**2,x)))\n",
    "\n",
    "# Vmadera \n",
    "# Fórmula Volumen = pi*integral(f^2(x))\n",
    "print('\\n')\n",
    "Vm = sp.pi * sp.integrate(sp.sqrt(100-x**2)**2,(x,-10,10))\n",
    "display('Volumen de la madera =',Vm)\n",
    "\n",
    "# Vtotal\n",
    "print('\\n')\n",
    "Vt = sp.pi * sp.integrate(sp.sqrt(11**2-x**2)**2,(x,-11,11))\n",
    "display('Volument total =',Vt)\n",
    "\n",
    "# Vacero\n",
    "print('\\n')\n",
    "Va = Vt-Vm\n",
    "display('Volumen acero =', Va)"
   ]
  },
  {
   "cell_type": "code",
   "execution_count": 38,
   "id": "def0aed7-b1af-48bf-a3c0-5bf2b213e7e6",
   "metadata": {},
   "outputs": [
    {
     "data": {
      "image/png": "[encoded data removed]",
      "text/plain": [
       "<Figure size 432x288 with 1 Axes>"
      ]
     },
     "metadata": {
      "needs_background": "light"
     },
     "output_type": "display_data"
    },
    {
     "name": "stdout",
     "output_type": "stream",
     "text": [
      "\n",
      "RESOLUCIÓN DE LA INTEGRAL DEFINIDA:\n",
      "----------------------------------\n"
     ]
    },
    {
     "data": {
      "text/latex": [
       "$\\displaystyle \\frac{1}{4}$"
      ],
      "text/plain": [
       "1/4"
      ]
     },
     "metadata": {},
     "output_type": "display_data"
    },
    {
     "name": "stdout",
     "output_type": "stream",
     "text": [
      "\n",
      "CÁLCULO DEL VOLUMEN:\n",
      "----------------------------------\n",
      "pi/4 u³\n"
     ]
    }
   ],
   "source": [
    "# Ejercicio 18\n",
    "# CALCULAR EL VOLUMEN DEL SÓLIDO FORMADO AL ROTAR TODO SU DOMINIO ALREDEDOR DEL EJE X.\n",
    "# Representación gráfica\n",
    "sp.plot(sp.sqrt(-x*sp.log(x)))\n",
    "\n",
    "print('\\nRESOLUCIÓN DE LA INTEGRAL DEFINIDA:')\n",
    "print('----------------------------------')\n",
    "\n",
    "x = sp.symbols('x')\n",
    "\n",
    "expr = sp.sqrt(-x*sp.log(x))\n",
    "I18 = sp.integrate(expr**2,(x,0,1))\n",
    "display(I18)\n",
    "\n",
    "print('\\nCÁLCULO DEL VOLUMEN:')\n",
    "print('----------------------------------')\n",
    "\n",
    "V = sp.pi * I18\n",
    "print(V,'u³')\n"
   ]
  },
  {
   "cell_type": "code",
   "execution_count": 44,
   "id": "c247deff-6b5f-48b4-9c6c-576e49e21433",
   "metadata": {},
   "outputs": [
    {
     "data": {
      "text/latex": [
       "$\\displaystyle 2.0 e^{x}$"
      ],
      "text/plain": [
       "2.0*exp(x)"
      ]
     },
     "metadata": {},
     "output_type": "display_data"
    },
    {
     "name": "stdout",
     "output_type": "stream",
     "text": [
      "f(x) sí es una solución de la ecuación diferencial y´ + 2y = 2e^x\n"
     ]
    }
   ],
   "source": [
    "# Ejercicio 19\n",
    "# COMPROBAR SI UNA FUNCIÓN ES RESULTADO DE UNA EDO\n",
    "x = sp.Symbol('x')\n",
    "expr = 2/3 * sp.E**x + sp.E**(-2*x)\n",
    "display(sp.diff(expr) + 2*expr) # COMO TENEMOS Y´ + 2Y LO QUE HAREMOS SERÁ HACER LA DERIVADA DE LA EXPRESIÓN Y TAMBIÉN MULTIPLICAR POR 2 DICHA EXPRESIÓN.\n",
    "print('f(x) sí es una solución de la ecuación diferencial y´ + 2y = 2e^x')"
   ]
  },
  {
   "cell_type": "code",
   "execution_count": 45,
   "id": "3988d505-3dbe-48b7-89cd-9f7d49d25ac0",
   "metadata": {},
   "outputs": [
    {
     "data": {
      "text/plain": [
       "'Resultado de integrar la expresión'"
      ]
     },
     "metadata": {},
     "output_type": "display_data"
    },
    {
     "data": {
      "text/latex": [
       "$\\displaystyle - \\log{\\left(x - 3 \\right)}$"
      ],
      "text/plain": [
       "-log(x - 3)"
      ]
     },
     "metadata": {},
     "output_type": "display_data"
    },
    {
     "data": {
      "text/plain": [
       "'Es verdadera'"
      ]
     },
     "metadata": {},
     "output_type": "display_data"
    },
    {
     "data": {
      "text/latex": [
       "$\\displaystyle \\log{\\left(2 \\right)}$"
      ],
      "text/plain": [
       "log(2)"
      ]
     },
     "metadata": {},
     "output_type": "display_data"
    }
   ],
   "source": [
    "# Ejercicio 27\n",
    "x = sp.symbols('x')\n",
    "expr = 1/(3-x)\n",
    "I = sp.integrate(expr)\n",
    "display('Resultado de integrar la expresión',I)\n",
    "\n",
    "# Resolución de la integral definida\n",
    "sol = -sp.log(4-3) - (-sp.log(abs(1-3)))\n",
    "display('Es verdadera',sol)\n",
    "sol = f(v) * sp.diff(a,x) - f(v) * sp.diff(b,x)"
   ]
  },
  {
   "cell_type": "code",
   "execution_count": null,
   "id": "78ca5035-5034-440d-b442-d084fabb1bc5",
   "metadata": {},
   "outputs": [],
   "source": [
    "# EJERCICIOS COMPLEMENTARIOS"
   ]
  },
  {
   "cell_type": "code",
   "execution_count": 47,
   "id": "b9a53cba-4742-498c-84e1-32e6c77e99ef",
   "metadata": {},
   "outputs": [
    {
     "data": {
      "text/plain": [
       "'La expresión obtenida es la siguiente'"
      ]
     },
     "metadata": {},
     "output_type": "display_data"
    },
    {
     "data": {
      "text/latex": [
       "$\\displaystyle \\frac{\\cos{\\left(3 x \\right)}}{\\sqrt{t + 5}}$"
      ],
      "text/plain": [
       "cos(3*x)/sqrt(t + 5)"
      ]
     },
     "metadata": {},
     "output_type": "display_data"
    },
    {
     "data": {
      "text/plain": [
       "'El resultado de integrar la expresión es:'"
      ]
     },
     "metadata": {},
     "output_type": "display_data"
    },
    {
     "data": {
      "text/latex": [
       "$\\displaystyle \\frac{\\sin{\\left(3 x \\right)}}{3 \\sqrt{t + 5}}$"
      ],
      "text/plain": [
       "sin(3*x)/(3*sqrt(t + 5))"
      ]
     },
     "metadata": {},
     "output_type": "display_data"
    }
   ],
   "source": [
    "# Ejercicio 1\n",
    "# REALIZAR UN CAMBIO DE VARIABLE(dado) EN UNA INTEGRAL\n",
    "x,t = sp.symbols('x,t')\n",
    "expr = sp.cos(3*x)/(sp.sqrt(5+sp.sin(3*x)))\n",
    "Sus = expr.subs(sp.sin(3*x),t) # SUSTITUIMOS LA PARTE QUE QUEREMOS\n",
    "display('La expresión obtenida es la siguiente',Sus)\n",
    "I = sp.integrate(Sus,x) # POR ÚLTIMO INTEGRAMOS\n",
    "display('El resultado de integrar la expresión es:',I)"
   ]
  },
  {
   "cell_type": "code",
   "execution_count": 46,
   "id": "91d82578-133d-4192-917f-4842d9c24492",
   "metadata": {},
   "outputs": [
    {
     "name": "stdout",
     "output_type": "stream",
     "text": [
      "Integración con cambio de variable\n",
      "-----------------------------------------------\n",
      "\n",
      "\n",
      "x = t**2/5 - 8/5\n"
     ]
    },
    {
     "data": {
      "text/plain": [
       "'Derivada en t'"
      ]
     },
     "metadata": {},
     "output_type": "display_data"
    },
    {
     "data": {
      "text/latex": [
       "$\\displaystyle 2 t$"
      ],
      "text/plain": [
       "2*t"
      ]
     },
     "metadata": {},
     "output_type": "display_data"
    },
    {
     "data": {
      "text/plain": [
       "'Derivada en x'"
      ]
     },
     "metadata": {},
     "output_type": "display_data"
    },
    {
     "data": {
      "text/latex": [
       "$\\displaystyle 5$"
      ],
      "text/plain": [
       "5"
      ]
     },
     "metadata": {},
     "output_type": "display_data"
    },
    {
     "data": {
      "text/plain": [
       "'Sustitución en la derivada de la x por la t'"
      ]
     },
     "metadata": {},
     "output_type": "display_data"
    },
    {
     "data": {
      "text/latex": [
       "$\\displaystyle 5$"
      ],
      "text/plain": [
       "5"
      ]
     },
     "metadata": {},
     "output_type": "display_data"
    },
    {
     "name": "stdout",
     "output_type": "stream",
     "text": [
      "\n",
      "t = sqrt(5*x + 8)\n",
      "dx = 2*t/5 dt\n",
      "\n",
      "\n"
     ]
    },
    {
     "data": {
      "text/plain": [
       "'Expresión a integrar'"
      ]
     },
     "metadata": {},
     "output_type": "display_data"
    },
    {
     "data": {
      "text/latex": [
       "$\\displaystyle \\frac{2}{5}$"
      ],
      "text/plain": [
       "2/5"
      ]
     },
     "metadata": {},
     "output_type": "display_data"
    },
    {
     "data": {
      "text/plain": [
       "'Solución en función de t'"
      ]
     },
     "metadata": {},
     "output_type": "display_data"
    },
    {
     "data": {
      "text/latex": [
       "$\\displaystyle \\frac{2 t}{5}$"
      ],
      "text/plain": [
       "2*t/5"
      ]
     },
     "metadata": {},
     "output_type": "display_data"
    },
    {
     "data": {
      "text/plain": [
       "'Solución en función de x'"
      ]
     },
     "metadata": {},
     "output_type": "display_data"
    },
    {
     "data": {
      "text/latex": [
       "$\\displaystyle \\frac{2 \\sqrt{5 x + 8}}{5}$"
      ],
      "text/plain": [
       "2*sqrt(5*x + 8)/5"
      ]
     },
     "metadata": {},
     "output_type": "display_data"
    }
   ],
   "source": [
    "# Ejercicio 2\n",
    "# RESOLVER UNA INTEGRAL MEDIANTE EL CAMBIO DE VARIABLE\n",
    "print('Integración con cambio de variable')\n",
    "print('-----------------------------------------------\\n')\n",
    "\n",
    "x,t,dt,c = sp.symbols('x,t,dt,c')\n",
    "expr = 1/(sp.sqrt(5*x+8))\n",
    "\n",
    "t0 = sp.sqrt(5*x+8)\n",
    "x1 = sp.solve(sp.Eq(t0,t),x)[0]\n",
    "print('\\nx =',x1)\n",
    "dt = sp.diff(t**2)\n",
    "display('Derivada en t',dt)\n",
    "dx = sp.diff(t0**2)\n",
    "display('Derivada en x',dx)\n",
    "adx = dx.subs(x,x1)\n",
    "display('Sustitución en la derivada de la x por la t',adx)\n",
    "adt = dt/adx\n",
    "print('\\nt =',t0)\n",
    "print('dx =',adt,'dt')\n",
    "\n",
    "print('\\n')\n",
    "expr1 = 1/t * adt\n",
    "display('Expresión a integrar',expr1)\n",
    "I = sp.integrate(expr1,t)\n",
    "display('Solución en función de t',I)\n",
    "display('Solución en función de x',I.subs(t,t0))\n"
   ]
  },
  {
   "cell_type": "code",
   "execution_count": 54,
   "id": "8c2efe5d-1d7c-40eb-9b81-83474af02fd5",
   "metadata": {},
   "outputs": [
    {
     "name": "stdout",
     "output_type": "stream",
     "text": [
      "U(f,P) =  -12\n",
      "L(f,P) =  9\n",
      "\n",
      "Ninguna de las opciones es la correcta.\n"
     ]
    }
   ],
   "source": [
    "# Ejercicio 3\n",
    "# DADA FUNCIÓN Y PARTICIONES CALCULAR CUAL ES LA OPCIÓN CORRECTA\n",
    "\n",
    "x,p = sp.symbols('x,p', real=True)\n",
    "expr3 = 3-x**2\n",
    "f = sp.Lambda(x,expr3)\n",
    "p = (-2,-1,1,3)\n",
    "\n",
    "#[-2,-1]\n",
    "Max1 = f(p[1])\n",
    "Min1 = f(p[0])\n",
    "\n",
    "#[-1,1]\n",
    "Max2 = f(p[2])\n",
    "Min2 = f(p[1])\n",
    "\n",
    "#[1,3]\n",
    "Max3 = f(p[3])\n",
    "Min3 = f(p[2])\n",
    "\n",
    "U = 1*Max1+2*Max2+3*Max3\n",
    "L = 1*Min1+2*Min2+3*Min3\n",
    "\n",
    "print('U(f,P) = ',U)\n",
    "print('L(f,P) = ',L)\n",
    "print('\\nNinguna de las opciones es la correcta.')"
   ]
  },
  {
   "cell_type": "code",
   "execution_count": null,
   "id": "c11b33d1-add9-4cb5-a5c8-0c5f940613df",
   "metadata": {},
   "outputs": [],
   "source": [
    "# Ejercicio 4\n",
    "\n",
    "x = sp.Symbol('x')\n",
    "f_expr = sp.Piecewise((1,sp.And(x >= 0, x <= 1)), (1+x,sp.And(x > 1, x <= 2)))\n",
    "f = sp.Lambda(x, f_expr)\n",
    "display(f(x))\n",
    "\n",
    "#a\n",
    "# Estudio de la continuidad en x = 1\n",
    "lim_i = sp.limit(1,x,1,dir='-')\n",
    "lim_d = sp.limit(x+1,x,1,dir='+')\n",
    "display('Límite de x--> 1 por la izquierda: ',lim_i,'Límite de x--> 1 por la derecha',lim_d)\n",
    "display('Como los límites no coinciden f(x) es discontinua.')"
   ]
  },
  {
   "cell_type": "code",
   "execution_count": 55,
   "id": "70987f56-36b5-414e-bec5-2076e33c1cd5",
   "metadata": {},
   "outputs": [
    {
     "data": {
      "text/plain": [
       "'Derivada'"
      ]
     },
     "metadata": {},
     "output_type": "display_data"
    },
    {
     "data": {
      "text/latex": [
       "$\\displaystyle \\left(1 - \\cos^{3}{\\left(e^{x} \\right)}\\right) e^{x} e^{e^{x} + \\frac{\\pi}{2}}$"
      ],
      "text/plain": [
       "(1 - cos(exp(x))**3)*exp(x)*exp(exp(x) + pi/2)"
      ]
     },
     "metadata": {},
     "output_type": "display_data"
    },
    {
     "data": {
      "text/plain": [
       "'Punto crítico en x = '"
      ]
     },
     "metadata": {},
     "output_type": "display_data"
    },
    {
     "data": {
      "text/latex": [
       "$\\displaystyle \\log{\\left(2 \\pi \\right)}$"
      ],
      "text/plain": [
       "log(2*pi)"
      ]
     },
     "metadata": {},
     "output_type": "display_data"
    },
    {
     "data": {
      "text/plain": [
       "'En el intervalo de 1 a ln(2𝜋) la función crece'"
      ]
     },
     "metadata": {},
     "output_type": "display_data"
    },
    {
     "data": {
      "text/latex": [
       "$\\displaystyle \\text{True}$"
      ],
      "text/plain": [
       "True"
      ]
     },
     "metadata": {},
     "output_type": "display_data"
    },
    {
     "data": {
      "text/plain": [
       "'En el intervalo de ln(2𝜋) a ln(5𝜋)) la función crece'"
      ]
     },
     "metadata": {},
     "output_type": "display_data"
    },
    {
     "data": {
      "text/latex": [
       "$\\displaystyle \\text{True}$"
      ],
      "text/plain": [
       "True"
      ]
     },
     "metadata": {},
     "output_type": "display_data"
    },
    {
     "name": "stdout",
     "output_type": "stream",
     "text": [
      "Obtenemos que no hay extremos absolutos, porque de [1,ln(5𝜋)] la función es estrictamente creciente.\n"
     ]
    }
   ],
   "source": [
    "# Ejercicio 5\n",
    "\n",
    "# DETERMINAR LOS PUNTOS CRÍTICOS DE LA FUNCIÓN EN EL INTERVALO [1, ln(5π)]\n",
    "# CLASIFICAR LOS PUNTOS CRÍTICOS Y LOS EXTREMOS RELATIVOS SIN HACER LA SEGUNDA DERIVADA.\n",
    "# Dada una función f integrable en [a,b], llamamos F a una función definida\n",
    "# en [a,b] tal que: F(x) = integral definida entre a y b de f(t) * dt.\n",
    "# Fórmula --> F(x): F'(x) = f(b(x)) * b'(x) - f(a(x)) * a'(x)\n",
    "\n",
    "x,t = sp.symbols('x,t')\n",
    "expr6 = (1-sp.sin(t)**3)*sp.E**t\n",
    "f = sp.Lambda(t,expr6)\n",
    "\n",
    "b = sp.pi/2 + sp.E**x\n",
    "a = sp.pi/2\n",
    "\n",
    "# Derivada definida entre x,1.\n",
    "der = expr6.subs(t,b) * sp.diff(b,x) - expr6.subs(t,a) * sp.diff(a,x)\n",
    "display('Derivada',der)\n",
    "\n",
    "# Derivada = 0\n",
    "x = sp.symbols('x')\n",
    "display('Punto crítico en x = ',sp.solve(der,x)[0]) #Quitar [0], para ver si tiene más soluciones, sino dejarlo\n",
    "\n",
    "#b\n",
    "\n",
    "# Evaluación en (1,ln(2𝜋)) y en (ln(2𝜋),ln(5𝜋))\n",
    "display('En el intervalo de 1 a ln(2𝜋) la función crece',der.subs(x,1.5) > 0)\n",
    "display('En el intervalo de ln(2𝜋) a ln(5𝜋)) la función crece',der.subs(x,2) > 0)\n",
    "print('Obtenemos que no hay extremos absolutos, porque de [1,ln(5𝜋)] la función es estrictamente creciente.')"
   ]
  },
  {
   "cell_type": "code",
   "execution_count": 56,
   "id": "4cd0a834-e26a-4f3a-8eb8-64dd1c728f18",
   "metadata": {},
   "outputs": [
    {
     "name": "stdout",
     "output_type": "stream",
     "text": [
      "𝐹′(𝑥) = 2*x * f(𝑥2) - 0 * f(0)\n",
      "La expresión simplificada es = 2xf(x²)\n",
      "\n",
      "La opción correcta es la primera.\n"
     ]
    }
   ],
   "source": [
    "# Ejercicio 6\n",
    "# DICIÉNDOTE QUE EXISTE UNA FUNCIÓN QUE ES CONTINUA EN [0,∞) Y QUE f(0)≠0.\n",
    "# DECIR CUAL DE LAS SIGUIENTES AFIRMACIONES ES CORRECTA.\n",
    "\n",
    "# Dada una función f integrable en [a,b], llamamos F a una función definida\n",
    "# en [a,b] tal que: F(x) = integral definida entre a y b de f(t) * dt.\n",
    "\n",
    "# Fórmula --> F(x): F'(x) = f(b(x)) * b'(x) - f(a(x)) * a'(x)\n",
    "\n",
    "x,t = sp.symbols('x,t')\n",
    "\n",
    "b = x**2\n",
    "a = 0\n",
    "\n",
    "# Derivada definida entre 0,x**2\n",
    "print('𝐹′(𝑥) =',sp.diff(b) ,'* f(𝑥2) -',sp.diff(a) ,'* f(0)')\n",
    "print('La expresión simplificada es = 2xf(x²)')\n",
    "print('\\nLa opción correcta es la primera.')\n",
    "\n",
    "\n"
   ]
  },
  {
   "cell_type": "code",
   "execution_count": 57,
   "id": "89818e37-8fe6-48d6-b04d-d7f0b826feab",
   "metadata": {},
   "outputs": [
    {
     "name": "stdout",
     "output_type": "stream",
     "text": [
      "APARTADO A\n",
      "---------------------\n",
      "\n"
     ]
    },
    {
     "data": {
      "text/plain": [
       "'Primitiva de f,F'"
      ]
     },
     "metadata": {},
     "output_type": "display_data"
    },
    {
     "data": {
      "text/latex": [
       "$\\displaystyle c + 3 x + 3 \\sin{\\left(2 x \\right)}$"
      ],
      "text/plain": [
       "c + 3*x + 3*sin(2*x)"
      ]
     },
     "metadata": {},
     "output_type": "display_data"
    },
    {
     "data": {
      "text/plain": [
       "'Obtenemos que para F(0) = -1, c debe tenere el siguiente valor:'"
      ]
     },
     "metadata": {},
     "output_type": "display_data"
    },
    {
     "data": {
      "text/latex": [
       "$\\displaystyle -1$"
      ],
      "text/plain": [
       "-1"
      ]
     },
     "metadata": {},
     "output_type": "display_data"
    },
    {
     "data": {
      "text/plain": [
       "'Una primitiva de  𝑓 ,  𝐹 , tal que  𝐹(0)=−1 es la siguiente:'"
      ]
     },
     "metadata": {},
     "output_type": "display_data"
    },
    {
     "data": {
      "text/latex": [
       "$\\displaystyle 3 x + 3 \\sin{\\left(2 x \\right)} - 1$"
      ],
      "text/plain": [
       "3*x + 3*sin(2*x) - 1"
      ]
     },
     "metadata": {},
     "output_type": "display_data"
    },
    {
     "data": {
      "text/plain": [
       "'Al derivar la integral obtenida, volvemos a la expresión inicial'"
      ]
     },
     "metadata": {},
     "output_type": "display_data"
    },
    {
     "data": {
      "text/latex": [
       "$\\displaystyle 6 \\cos{\\left(2 x \\right)} + 3$"
      ],
      "text/plain": [
       "6*cos(2*x) + 3"
      ]
     },
     "metadata": {},
     "output_type": "display_data"
    },
    {
     "name": "stdout",
     "output_type": "stream",
     "text": [
      "\n",
      "APARTADO B\n",
      "---------------------\n"
     ]
    },
    {
     "data": {
      "text/latex": [
       "$\\displaystyle 6 \\cos{\\left(2 x \\right)} + 3$"
      ],
      "text/plain": [
       "6*cos(2*x) + 3"
      ]
     },
     "metadata": {},
     "output_type": "display_data"
    },
    {
     "data": {
      "text/plain": [
       "'Puntos críticos en x = '"
      ]
     },
     "metadata": {},
     "output_type": "display_data"
    },
    {
     "data": {
      "text/plain": [
       "[pi/3, 2*pi/3]"
      ]
     },
     "metadata": {},
     "output_type": "display_data"
    },
    {
     "data": {
      "text/plain": [
       "'En el intervalo de 0 a 𝜋/3 la función crece'"
      ]
     },
     "metadata": {},
     "output_type": "display_data"
    },
    {
     "data": {
      "text/latex": [
       "$\\displaystyle \\text{True}$"
      ],
      "text/plain": [
       "True"
      ]
     },
     "metadata": {},
     "output_type": "display_data"
    },
    {
     "data": {
      "text/plain": [
       "'En el intervalo de 𝜋/3 a 2𝜋/3 la función decrece'"
      ]
     },
     "metadata": {},
     "output_type": "display_data"
    },
    {
     "data": {
      "text/latex": [
       "$\\displaystyle \\text{True}$"
      ],
      "text/plain": [
       "True"
      ]
     },
     "metadata": {},
     "output_type": "display_data"
    },
    {
     "data": {
      "text/plain": [
       "'En el intervalo de 2𝜋/3 a 2𝜋 la función crece'"
      ]
     },
     "metadata": {},
     "output_type": "display_data"
    },
    {
     "data": {
      "text/latex": [
       "$\\displaystyle \\text{True}$"
      ],
      "text/plain": [
       "True"
      ]
     },
     "metadata": {},
     "output_type": "display_data"
    },
    {
     "name": "stdout",
     "output_type": "stream",
     "text": [
      "Obtenemos que en 𝜋/3 hay un máximo absoluto y en 2𝜋/3 un mínimo absoluto.\n"
     ]
    },
    {
     "data": {
      "image/png": "[encoded data removed]",
      "text/plain": [
       "<Figure size 432x288 with 1 Axes>"
      ]
     },
     "metadata": {
      "needs_background": "light"
     },
     "output_type": "display_data"
    },
    {
     "data": {
      "text/plain": [
       "<sympy.plotting.plot.Plot at 0x202551c0d60>"
      ]
     },
     "execution_count": 57,
     "metadata": {},
     "output_type": "execute_result"
    }
   ],
   "source": [
    "# Ejercicio 7\n",
    "x,c = sp.symbols('x,c')\n",
    "expr = 3 + 6*sp.cos(2*x)\n",
    "\n",
    "#a\n",
    "print('APARTADO A')\n",
    "print('---------------------\\n')\n",
    "\n",
    "I = sp.integrate(expr,x)\n",
    "display('Primitiva de f,F',I+c)\n",
    "expr2 = I+c\n",
    "expr3 = sp.Eq(expr2.subs(x,0),-1)\n",
    "c0 = sp.solve(expr3,c)\n",
    "display('Obtenemos que para F(0) = -1, c debe tenere el siguiente valor:',c0[0])\n",
    "I2 = 3*x+3*sp.sin(2*x)+c0[0]\n",
    "display('Una primitiva de  𝑓 ,  𝐹 , tal que  𝐹(0)=−1 es la siguiente:',I2)\n",
    "d1f = sp.diff(I2)\n",
    "display('Al derivar la integral obtenida, volvemos a la expresión inicial',d1f)\n",
    "\n",
    "#b\n",
    "print('\\nAPARTADO B')\n",
    "print('---------------------')\n",
    "display(d1f)\n",
    "Puntos_Criticos = sp.solve(d1f)\n",
    "display('Puntos críticos en x = ',Puntos_Criticos)\n",
    "\n",
    "# Evaluación en el intervalo [0,2𝜋]\n",
    "display('En el intervalo de 0 a 𝜋/3 la función crece',d1f.subs(x,1) > 0)\n",
    "display('En el intervalo de 𝜋/3 a 2𝜋/3 la función decrece',d1f.subs(x,1.5) < 0)\n",
    "display('En el intervalo de 2𝜋/3 a 2𝜋 la función crece',d1f.subs(x,3) > 0)\n",
    "print('Obtenemos que en 𝜋/3 hay un máximo absoluto y en 2𝜋/3 un mínimo absoluto.')\n",
    "\n",
    "# Representación gráfica\n",
    "sp.plot(6*sp.cos(2*x)+3, (x,0,2*sp.pi))"
   ]
  },
  {
   "cell_type": "code",
   "execution_count": null,
   "id": "0ab32e7e-74a9-4035-a70c-932ce5a626bc",
   "metadata": {},
   "outputs": [],
   "source": []
  },
  {
   "cell_type": "code",
   "execution_count": null,
   "id": "e6475a2d-e63a-4f70-9d8c-a5463c348691",
   "metadata": {},
   "outputs": [],
   "source": []
  },
  {
   "cell_type": "code",
   "execution_count": null,
   "id": "ef7ba33d-e296-48ac-8197-6aaa2fe5f9a5",
   "metadata": {},
   "outputs": [],
   "source": []
  },
  {
   "cell_type": "code",
   "execution_count": null,
   "id": "703a40f7-6ec8-4637-b33e-0dce94b58f08",
   "metadata": {},
   "outputs": [],
   "source": []
  },
  {
   "cell_type": "code",
   "execution_count": null,
   "id": "41d8f745-e83a-48f4-9493-fc291d76495f",
   "metadata": {},
   "outputs": [],
   "source": [
    "# APROXIMACIONES Y REPRESENTACIONES"
   ]
  },
  {
   "cell_type": "code",
   "execution_count": 48,
   "id": "0980cdc9-52d5-4286-88dc-1c4f58e8ca2d",
   "metadata": {},
   "outputs": [
    {
     "name": "stdout",
     "output_type": "stream",
     "text": [
      "Valor aproximado de I mediante la fórmula del punto medio =  18.1875\n"
     ]
    }
   ],
   "source": [
    "# APROXIMACIÓN PUNTO MEDIO\n",
    "x = sp.Symbol('x', real=True)\n",
    "\n",
    "# Aproximación por punto medio\n",
    "a = 0\n",
    "b = 3\n",
    "pm = (a+b)/2\n",
    "\n",
    "f_exp = x**4+1\n",
    "f = sp.lambdify(x,f_exp)\n",
    "\n",
    "fpm = f(pm)\n",
    "I_aprox = (b-a)*fpm\n",
    "print('Valor aproximado de I mediante la fórmula del punto medio = ', I_aprox)"
   ]
  },
  {
   "cell_type": "code",
   "execution_count": 49,
   "id": "692fe000-657f-4f91-88f0-755106895963",
   "metadata": {},
   "outputs": [
    {
     "name": "stdout",
     "output_type": "stream",
     "text": [
      "Valor aproximado de la integral por trapecio simple =  124.5\n"
     ]
    }
   ],
   "source": [
    "# APROXIMACIÓN TRAPECIO\n",
    "def trapecio(a,b,fa,fb):\n",
    "    aprox_tr = (b-a)*(fa+fb)/2\n",
    "    return aprox_tr\n",
    "\n",
    "x = sp.Symbol('x', real = True)\n",
    "\n",
    "a = 0\n",
    "b = 3\n",
    "\n",
    "f_exp = x**4+1\n",
    "f = sp.lambdify(x,f_exp)\n",
    "\n",
    "fa = f(a)\n",
    "fb = f(b)\n",
    "aproximacion_trapecio = trapecio(a,b,fa,fb)\n",
    "print('Valor aproximado de la integral por trapecio simple = ', aproximacion_trapecio)"
   ]
  },
  {
   "cell_type": "code",
   "execution_count": 50,
   "id": "35b276f1-6dd1-4d65-af44-fb25e214d618",
   "metadata": {},
   "outputs": [
    {
     "name": "stdout",
     "output_type": "stream",
     "text": [
      "Valor aproximado de la integral por simpson simple =  1.2083333333333333\n"
     ]
    }
   ],
   "source": [
    "# APROXIMACIÓN SIMPSON\n",
    "def simpson(a,b,fa,fb):\n",
    "    aprox_simp = (b-a)/6 * (fa+4*fm_ab+fb)\n",
    "    return aprox_simp\n",
    "\n",
    "x = sp.Symbol('x', real = True)\n",
    "\n",
    "a = 0\n",
    "b = 1\n",
    "\n",
    "f_expr = x**4+1\n",
    "f = sp.lambdify(x, f_exp)\n",
    "\n",
    "fa = f(a)\n",
    "fb = f(b)\n",
    "fm_ab = f((a+b)/2)\n",
    "aproximacion_simpson = simpson(a,b,fa,fb)\n",
    "print('Valor aproximado de la integral por simpson simple = ', aproximacion_simpson)"
   ]
  },
  {
   "cell_type": "code",
   "execution_count": 51,
   "id": "f40e5f0b-670f-4f5d-bf89-5524d1ac0296",
   "metadata": {},
   "outputs": [
    {
     "name": "stdout",
     "output_type": "stream",
     "text": [
      "aprox_trap:  51.608099919\n",
      "aprox_medio:  51.583801133999984\n",
      "aprox_simpson:  51.60000032399999\n",
      "Exacta:  51.6\n"
     ]
    }
   ],
   "source": [
    "# APROXIMACIÓN FÓRMULAS COMPUESTAS\n",
    "\n",
    "x = sp.Symbol('x', real=True)\n",
    "f_exp = x**4+1\n",
    "f = sp.lambdify(x,f_exp)\n",
    "\n",
    "a = 0; b = 3\n",
    "n = 100 # Número de elementos -1 o precisión\n",
    "\n",
    "x1 = np.linspace(a,b,n+1) # Aquí guardamos los x_{i}.\n",
    "                          # Recuerda que, en Python, se guarda x1[0], x1[1]  \n",
    "y1 = f(x1)\n",
    "\n",
    "h = (b-a)/n # El tamaño de cada subintervalo\n",
    "\n",
    "aprox_trap = h/2 * (y1[0]+2*np.sum(y1[1:n])+y1[n])\n",
    "aprox_medio = 2*h * np.sum(y1[1:n:2])\n",
    "aprox_simpson = 2*h/6 * (y1[0] + 4*np.sum(y1[1:n:2])+2*np.sum(y1[2:n-1:2])+y1[n])\n",
    "\n",
    "print('aprox_trap: ', aprox_trap)\n",
    "print('aprox_medio: ', aprox_medio)\n",
    "print('aprox_simpson: ', aprox_simpson)\n",
    "\n",
    "print('Exacta: ', b**5/5+b)"
   ]
  },
  {
   "cell_type": "code",
   "execution_count": 58,
   "id": "8d9af90a-4df4-487c-9caf-94d37903e86a",
   "metadata": {},
   "outputs": [
    {
     "data": {
      "image/png": "[encoded data removed]",
      "text/plain": [
       "<Figure size 432x288 with 1 Axes>"
      ]
     },
     "metadata": {
      "needs_background": "light"
     },
     "output_type": "display_data"
    }
   ],
   "source": [
    "# REPRESENTACIÓN GRÁFICA ESFERA\n",
    "\n",
    "import matplotlib.pyplot as plt\n",
    "import mpl_toolkits.mplot3d.axes3d as axes3d\n",
    "\n",
    "fig = plt.figure()\n",
    "ax = fig.add_subplot(projection='3d')\n",
    "\n",
    "RR = 10\n",
    "u = np.linspace(0, 6.5, 60)\n",
    "v = np.linspace(0, 6.5, 60)\n",
    "\n",
    "U, V = np.meshgrid(u,v)\n",
    "\n",
    "X = np.cos(U) * np.sin(V)\n",
    "Y1 = np.sin(U) * np.sin(V)\n",
    "Z1 = np.cos(V)\n",
    "ax.plot_surface(X, Y1, Z1, alpha=0.3, color='red')\n",
    "plt.show()"
   ]
  },
  {
   "cell_type": "code",
   "execution_count": 59,
   "id": "3a6fe7cd-6103-4f4d-8438-7247ffe6eaf6",
   "metadata": {},
   "outputs": [
    {
     "data": {
      "image/png": "[encoded data removed]",
      "text/plain": [
       "<Figure size 432x288 with 1 Axes>"
      ]
     },
     "metadata": {
      "needs_background": "light"
     },
     "output_type": "display_data"
    }
   ],
   "source": [
    "# REPRESENTACIÓN GRÁFICA CONO\n",
    "\n",
    "import matplotlib.pyplot as plt\n",
    "import mpl_toolkits.mplot3d.axes3d as axes3d\n",
    "\n",
    "fig = plt.figure()\n",
    "ax = fig.add_subplot(1, 1, 1, projection='3d')\n",
    "\n",
    "RR = 3.0 \n",
    "hh = 6.0 \n",
    "u = np.linspace(0, 6.5, 60)\n",
    "v = np.linspace(0, 6.5, 60)\n",
    "U, V = np.meshgrid(u, v)\n",
    "\n",
    "X = U\n",
    "Y1 = RR/hh*U*np.cos(V)\n",
    "Z1 = RR/hh*U*np.sin(V)\n",
    "\n",
    "ax.plot_surface(X, Y1, Z1, alpha=0.7, color='red', rstride=1, cstride=1)\n",
    "plt.show()"
   ]
  },
  {
   "cell_type": "code",
   "execution_count": null,
   "id": "d3a3cd9f-83be-47ad-b7a6-b7869d9bc3f2",
   "metadata": {},
   "outputs": [],
   "source": [
    "\n",
    "\n",
    "\n",
    "\n"
   ]
  },
  {
   "cell_type": "code",
   "execution_count": null,
   "id": "8d939cfd-57c9-48e5-9de4-b02664724e3e",
   "metadata": {},
   "outputs": [],
   "source": [
    "# EJEMPLO MIDÓN"
   ]
  },
  {
   "cell_type": "code",
   "execution_count": 53,
   "id": "f6522993-6c9a-4568-a287-ac2e21ab7fce",
   "metadata": {},
   "outputs": [
    {
     "data": {
      "text/latex": [
       "$\\displaystyle \\left( x \\mapsto \\frac{1}{\\sqrt{\\left|{x}\\right|}} \\right)$"
      ],
      "text/plain": [
       "Lambda(x, 1/sqrt(Abs(x)))"
      ]
     },
     "metadata": {},
     "output_type": "display_data"
    },
    {
     "name": "stdout",
     "output_type": "stream",
     "text": [
      "-----------------------------\n",
      "\n",
      "a)\n"
     ]
    },
    {
     "data": {
      "text/plain": [
       "'Dominio de la funcion'"
      ]
     },
     "metadata": {},
     "output_type": "display_data"
    },
    {
     "data": {
      "text/latex": [
       "$\\displaystyle \\left(-\\infty, 0\\right) \\cup \\left(0, \\infty\\right)$"
      ],
      "text/plain": [
       "Union(Interval.open(-oo, 0), Interval.open(0, oo))"
      ]
     },
     "metadata": {},
     "output_type": "display_data"
    },
    {
     "name": "stdout",
     "output_type": "stream",
     "text": [
      "Las AV son: \n"
     ]
    },
    {
     "data": {
      "text/latex": [
       "$\\displaystyle \\infty$"
      ],
      "text/plain": [
       "oo"
      ]
     },
     "metadata": {},
     "output_type": "display_data"
    },
    {
     "data": {
      "text/latex": [
       "$\\displaystyle \\infty$"
      ],
      "text/plain": [
       "oo"
      ]
     },
     "metadata": {},
     "output_type": "display_data"
    },
    {
     "name": "stdout",
     "output_type": "stream",
     "text": [
      "Tiene una asintota vertical en x=0\n",
      "\n",
      "Las AH son: \n"
     ]
    },
    {
     "data": {
      "text/latex": [
       "$\\displaystyle 0$"
      ],
      "text/plain": [
       "0"
      ]
     },
     "metadata": {},
     "output_type": "display_data"
    },
    {
     "data": {
      "text/latex": [
       "$\\displaystyle 0$"
      ],
      "text/plain": [
       "0"
      ]
     },
     "metadata": {},
     "output_type": "display_data"
    },
    {
     "name": "stdout",
     "output_type": "stream",
     "text": [
      "Tiene una asintota horizontal en y=0\n",
      "-----------------------------\n",
      "\n",
      "b)\n"
     ]
    },
    {
     "data": {
      "text/plain": [
       "'Puntos de corte de f(x) con el eje OX'"
      ]
     },
     "metadata": {},
     "output_type": "display_data"
    },
    {
     "data": {
      "text/plain": [
       "[]"
      ]
     },
     "metadata": {},
     "output_type": "display_data"
    },
    {
     "data": {
      "text/plain": [
       "'Área total en unidades cuadradas'"
      ]
     },
     "metadata": {},
     "output_type": "display_data"
    },
    {
     "data": {
      "text/latex": [
       "$\\displaystyle 10$"
      ],
      "text/plain": [
       "10"
      ]
     },
     "metadata": {},
     "output_type": "display_data"
    },
    {
     "name": "stdout",
     "output_type": "stream",
     "text": [
      "-----------------------------\n",
      "\n",
      "c)\n"
     ]
    },
    {
     "data": {
      "text/plain": [
       "'El volumen de la figura es: '"
      ]
     },
     "metadata": {},
     "output_type": "display_data"
    },
    {
     "data": {
      "text/latex": [
       "$\\displaystyle \\pi \\log{\\left(4 \\right)}$"
      ],
      "text/plain": [
       "pi*log(4)"
      ]
     },
     "metadata": {},
     "output_type": "display_data"
    },
    {
     "data": {
      "text/plain": [
       "'Que es lo mismo que: '"
      ]
     },
     "metadata": {},
     "output_type": "display_data"
    },
    {
     "data": {
      "text/plain": [
       "4.355172180607204"
      ]
     },
     "metadata": {},
     "output_type": "display_data"
    }
   ],
   "source": [
    "import sympy as sp\n",
    "import numpy as np\n",
    "import matplotlib as mp\n",
    "import matplotlib.pyplot as plt\n",
    "x,y = sp.symbols('x,y')\n",
    "\n",
    "expr1 = 1 / sp.sqrt(sp.Abs(x))\n",
    "f1 = sp.Lambda(x,expr1)                                   #Definimos la función\n",
    "display(f1)\n",
    "#a)Calculo de asintotas\n",
    "print('-----------------------------')\n",
    "print('\\na)')\n",
    "\n",
    "# Dominio\n",
    "I = sp.calculus.util.continuous_domain(f1, x, sp.Reals)   #Primero calculamos el dominio para saber en que puntos se anula el denominador\n",
    "display('Dominio de la funcion',I)\n",
    "\n",
    "#ASÍNTOTA VERTICAL\n",
    "print('Las AV son: ')\n",
    "display(sp.limit(f1(x),x,0,dir='-'))                      #Luego calculamos las AV en funcion del punto/o puntos que nos dan en el calculo del dominio\n",
    "display(sp.limit(f1(x),x,0,dir='+'))\n",
    "print('Tiene una asintota vertical en x=0')\n",
    "\n",
    "#ASINTOTA HORIZONTAL\n",
    "print('\\nLas AH son: ')\n",
    "display(sp.limit(f1(x),x,-sp.oo))                         #Calculamos las AH en el infino y -infino y nos tiene que dar el mismo número\n",
    "display(sp.limit(f1(x),x,sp.oo))                          #Al darnos estas asintotas ya no tenemos que calcular las oblicuas\n",
    "print('Tiene una asintota horizontal en y=0')\n",
    "\n",
    "#b)Calcular area\n",
    "print('-----------------------------')\n",
    "print('\\nb)')\n",
    "\n",
    "# Puntos de corte\n",
    "display('Puntos de corte de f(x) con el eje OX',sp.solve(f1))    #Calculamos los puntos de corte de la función con el eje 0X\n",
    "\n",
    "# Área\n",
    "I2 = sp.integrate(expr1,(x,-4,9))                                #Obtenemos el area calculando la integral de la expresion en los puntos que nos indican\n",
    "display('Área total en unidades cuadradas',I2)\n",
    "\n",
    "#c)Volumen\n",
    "print('-----------------------------')\n",
    "print('\\nc)')\n",
    "Vol = sp.pi*sp.integrate(expr1**2,(x,-4,-1))               #Para obtener el volumen integramos la funcion al cuadrado en los puntos que nos indican y multiplicamos por pi\n",
    "display('El volumen de la figura es: ',Vol)\n",
    "display('Que es lo mismo que: ',float(Vol))"
   ]
  },
  {
   "cell_type": "code",
   "execution_count": 52,
   "id": "b4209d31-cf05-4548-b8f9-50bae4c48af2",
   "metadata": {},
   "outputs": [
    {
     "data": {
      "text/latex": [
       "$\\displaystyle \\left( x \\mapsto \\sqrt{9 - x^{2}} + \\sqrt{x^{2} - 1} \\right)$"
      ],
      "text/plain": [
       "Lambda(x, sqrt(9 - x**2) + sqrt(x**2 - 1))"
      ]
     },
     "metadata": {},
     "output_type": "display_data"
    },
    {
     "name": "stdout",
     "output_type": "stream",
     "text": [
      "-----------------------------\n",
      "\n",
      "a)\n"
     ]
    },
    {
     "data": {
      "text/plain": [
       "'Dominio de la función'"
      ]
     },
     "metadata": {},
     "output_type": "display_data"
    },
    {
     "data": {
      "text/latex": [
       "$\\displaystyle \\left[-3, -1\\right] \\cup \\left[1, 3\\right]$"
      ],
      "text/plain": [
       "Union(Interval(-3, -1), Interval(1, 3))"
      ]
     },
     "metadata": {},
     "output_type": "display_data"
    },
    {
     "name": "stdout",
     "output_type": "stream",
     "text": [
      "La gráfica de la función es:\n"
     ]
    },
    {
     "data": {
      "image/png": "[encoded data removed]",
      "text/plain": [
       "<Figure size 432x288 with 1 Axes>"
      ]
     },
     "metadata": {
      "needs_background": "light"
     },
     "output_type": "display_data"
    },
    {
     "name": "stdout",
     "output_type": "stream",
     "text": [
      "Como podemos observar en la grafica dibujada, el dominio es muy similar al obtenido arriba\n",
      "-----------------------------\n",
      "\n",
      "\n",
      "b)\n",
      "\n",
      "Vamos a calcular las aproximaciones por los dos metodos:\n",
      "\n",
      "aprox_p.medio:  7.480614022097712\n",
      "\n",
      "aprox_simpson:  7.480493979864247\n",
      "\n",
      "Exacta:  7.4863709157601335\n",
      "\n",
      "La mejor de las dos aproximaciones es la del puto medio compuesta porque es la que se acerca mas a la exacta\n"
     ]
    }
   ],
   "source": [
    "# Ejercicio 2\n",
    "#a)\n",
    "expr = sp.sqrt(x**2 - 1) + sp.sqrt(9 - x**2)\n",
    "f = sp.Lambda(x,expr)                                            #Definimos la funcion\n",
    "display(f)\n",
    "\n",
    "print('-----------------------------')\n",
    "print('\\na)')\n",
    "# Dominio\n",
    "Ib = sp.calculus.util.continuous_domain(f, x, sp.Reals)          #Calculamos su dominio\n",
    "display('Dominio de la función',Ib)\n",
    "\n",
    "#Dibujamos la funcion\n",
    "print('La gráfica de la función es:') \n",
    "sp.plot(f(x))                                                    #La dinujamos para comparar\n",
    "\n",
    "print('Como podemos observar en la grafica dibujada, el dominio es muy similar al obtenido arriba')\n",
    "\n",
    "#b)\n",
    "print('-----------------------------')\n",
    "f_exp = sp.sqrt(x**2 - 1) + sp.sqrt(9 - x**2)                    #Definimos la funcion\n",
    "f = sp.lambdify(x,f_exp)\n",
    "\n",
    "a = 1; b = 3 # Elementos del intervalo\n",
    "n = 1001 # Número de elementos -1 o precisión\n",
    "\n",
    "x1 = np.linspace(a,b,n+1) # aquí guardamos los x_{i}. \n",
    "                          # Recuerda que, en Python, se guarda x1[0], x1[1], ..., x1[(n+1)-1] = x1[n]\n",
    "y1 = f(x1)\n",
    "\n",
    "h = (b-a)/n # el tamaño de cada subintervalo\n",
    "\n",
    "aprox_medio = 2*h * np.sum(y1[1:n:2])\n",
    "aprox_simpson = 2*h/6 * (y1[0] + 4*np.sum(y1[1:n:2])+2*np.sum(y1[2:n-1:2])+y1[n])\n",
    "\n",
    "print('\\n\\nb)')\n",
    "print('\\nVamos a calcular las aproximaciones por los dos metodos:')\n",
    "print('\\naprox_p.medio: ',aprox_medio) \n",
    "print('\\naprox_simpson: ',aprox_simpson) \n",
    "\n",
    "print('\\nExacta: ',float(sp.integrate(f_exp,(x,a,b))))\n",
    "\n",
    "print('\\nLa mejor de las dos aproximaciones es la del puto medio compuesta porque es la que se acerca mas a la exacta')"
   ]
  }
 ],
 "metadata": {
  "kernelspec": {
   "display_name": "Python 3 (ipykernel)",
   "language": "python",
   "name": "python3"
  },
  "language_info": {
   "codemirror_mode": {
    "name": "ipython",
    "version": 3
   },
   "file_extension": ".py",
   "mimetype": "text/x-python",
   "name": "python",
   "nbconvert_exporter": "python",
   "pygments_lexer": "ipython3",
   "version": "3.9.12"
  }
 },
 "nbformat": 4,
 "nbformat_minor": 5
}
