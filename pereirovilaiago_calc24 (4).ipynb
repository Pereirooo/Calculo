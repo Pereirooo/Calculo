{
 "cells": [
  {
   "cell_type": "markdown",
   "metadata": {
    "jp-MarkdownHeadingCollapsed": true,
    "tags": []
   },
   "source": [
    "# Cálculo. Grado en ingeniería informática\n",
    "# <pre>Control 4 ( diciembre 2022)               Grupo: Cal. <pre> "
   ]
  },
  {
   "cell_type": "markdown",
   "metadata": {
    "tags": []
   },
   "source": [
    "# Nombre y apellidos:                                                              "
   ]
  },
  {
   "cell_type": "markdown",
   "metadata": {},
   "source": [
    "| Ejercicio  |     1    |     2    | \n",
    "|------------|:--------:|:--------:|\n",
    "| Puntuación |  0.75    |   0.75   | \n",
    "| Evaluación |          |          |\n",
    "\n",
    "### Al terminar la prueba, se debe descargar este fichero en formato .ipynb y enviarlo por correo electrónico a *jesus.cendan.verdes@udc.es*.  El nombre de este fichero debe empezar por vuestros apellidos seguidos del nombre y grupo de prácticas ApellidosNombre_cal00.ipynb.\n",
    "## Todo fichero recibido que no tenga el formato requerido, .ipynb, o no sea legible no será evaluado, lo que significa que la nota de este control sea un 0.\n",
    "### La resolución de los ejercicios es mediante jupyter-notebook. Se valorarán los comentarios incluidos en las respuestas"
   ]
  },
  {
   "cell_type": "code",
   "execution_count": 37,
   "metadata": {},
   "outputs": [],
   "source": [
    "import sympy as sp\n",
    "import numpy as np\n",
    "import matplotlib as mp\n",
    "import matplotlib.pyplot as plt\n",
    "import numpy as np"
   ]
  },
  {
   "cell_type": "markdown",
   "metadata": {
    "tags": []
   },
   "source": [
    "## Ejercicio 1 (0.75 puntos):\n",
    "..."
   ]
  },
  {
   "cell_type": "code",
   "execution_count": 38,
   "metadata": {},
   "outputs": [
    {
     "name": "stdout",
     "output_type": "stream",
     "text": [
      "\n",
      "APARTADO A\n",
      "----------------\n",
      "\n"
     ]
    },
    {
     "data": {
      "text/plain": [
       "'La derivada usando la definición es la siguiente:'"
      ]
     },
     "metadata": {},
     "output_type": "display_data"
    },
    {
     "data": {
      "text/latex": [
       "$\\displaystyle - \\frac{x}{\\sqrt{4 - x^{2}}}$"
      ],
      "text/plain": [
       "-x/sqrt(4 - x**2)"
      ]
     },
     "metadata": {},
     "output_type": "display_data"
    },
    {
     "data": {
      "text/plain": [
       "'La pendiente es:'"
      ]
     },
     "metadata": {},
     "output_type": "display_data"
    },
    {
     "data": {
      "text/latex": [
       "$\\displaystyle - \\frac{\\sqrt{3}}{3}$"
      ],
      "text/plain": [
       "-sqrt(3)/3"
      ]
     },
     "metadata": {},
     "output_type": "display_data"
    },
    {
     "data": {
      "text/plain": [
       "'La ecuación de la recta tg a la gráfica de f en x = 1'"
      ]
     },
     "metadata": {},
     "output_type": "display_data"
    },
    {
     "name": "stdout",
     "output_type": "stream",
     "text": [
      "y =  sqrt(3)*(4 - x)/3\n",
      "\n",
      "APARTADO B\n",
      "----------------\n",
      "\n"
     ]
    },
    {
     "data": {
      "image/png": "[encoded data removed]",
      "text/plain": [
       "<Figure size 432x288 with 1 Axes>"
      ]
     },
     "metadata": {
      "needs_background": "light"
     },
     "output_type": "display_data"
    },
    {
     "data": {
      "text/plain": [
       "'Puntos de corte y1 = y2; x ='"
      ]
     },
     "metadata": {},
     "output_type": "display_data"
    },
    {
     "data": {
      "text/latex": [
       "$\\displaystyle 1$"
      ],
      "text/plain": [
       "1"
      ]
     },
     "metadata": {},
     "output_type": "display_data"
    },
    {
     "data": {
      "text/plain": [
       "'Puntos de corte y1 = y3; x ='"
      ]
     },
     "metadata": {},
     "output_type": "display_data"
    },
    {
     "data": {
      "text/latex": [
       "$\\displaystyle -2$"
      ],
      "text/plain": [
       "-2"
      ]
     },
     "metadata": {},
     "output_type": "display_data"
    },
    {
     "data": {
      "text/plain": [
       "'Puntos de corte y2 = y3; x ='"
      ]
     },
     "metadata": {},
     "output_type": "display_data"
    },
    {
     "data": {
      "text/latex": [
       "$\\displaystyle 4$"
      ],
      "text/plain": [
       "4"
      ]
     },
     "metadata": {},
     "output_type": "display_data"
    },
    {
     "data": {
      "text/plain": [
       "'Área 1'"
      ]
     },
     "metadata": {},
     "output_type": "display_data"
    },
    {
     "data": {
      "text/latex": [
       "$\\displaystyle - \\frac{2 \\pi}{3} + \\frac{4 \\sqrt{3}}{3}$"
      ],
      "text/plain": [
       "-2*pi/3 + 4*sqrt(3)/3"
      ]
     },
     "metadata": {},
     "output_type": "display_data"
    },
    {
     "data": {
      "text/plain": [
       "'Área 2'"
      ]
     },
     "metadata": {},
     "output_type": "display_data"
    },
    {
     "data": {
      "text/latex": [
       "$\\displaystyle \\frac{2 \\sqrt{3}}{3}$"
      ],
      "text/plain": [
       "2*sqrt(3)/3"
      ]
     },
     "metadata": {},
     "output_type": "display_data"
    },
    {
     "data": {
      "text/plain": [
       "'Área total'"
      ]
     },
     "metadata": {},
     "output_type": "display_data"
    },
    {
     "data": {
      "text/latex": [
       "$\\displaystyle - \\frac{2 \\pi}{3} + 2 \\sqrt{3}$"
      ],
      "text/plain": [
       "-2*pi/3 + 2*sqrt(3)"
      ]
     },
     "metadata": {},
     "output_type": "display_data"
    },
    {
     "name": "stdout",
     "output_type": "stream",
     "text": [
      "El volumen es\n",
      ":  pi*(x*sqrt(4 - x**2)/2 + 2*asin(x/2)) u³\n"
     ]
    }
   ],
   "source": [
    "# a)\n",
    "print('\\nAPARTADO A')\n",
    "print('----------------\\n')\n",
    "x,h,y = sp.symbols('x,h,y', reals=True) # Definimos las variable a emplear\n",
    "\n",
    "expr1 = sp.sqrt(4-x**2)\n",
    "f = sp.Lambda(x,expr1)\n",
    "\n",
    "# Hacer derivada\n",
    "d1f = sp.limit((f(x+h)-f(x))/h,h,0) # Realizamos la derivada de la función que más tarde emplearemos para calcular la tangente.\n",
    "display('La derivada usando la definición es la siguiente:',d1f)\n",
    "# Aquí empezamos a calcular la recta tangente a la función.\n",
    "m = d1f.subs(x,1) \n",
    "display('La pendiente es:',m)\n",
    "expr1b = sp.Eq(m*(x-1)+f(1),y)\n",
    "display('La ecuación de la recta tg a la gráfica de f en x = 1')\n",
    "sol1b = sp.solve(expr1b,y)[0]\n",
    "print('y = ', sol1b)\n",
    "\n",
    "#b)\n",
    "print('\\nAPARTADO B')\n",
    "print('----------------\\n')\n",
    "# Podemos dibujar la gráfica para entender mejor algunos parámetros.\n",
    "expr1 = sp.sqrt(4-x**2)\n",
    "expr2 = sol1b\n",
    "expr3 = y=0 #(El eje OX)\n",
    "# Dibujamos la gráfica\n",
    "p = sp.plot(sp.sqrt(4-x**2), sol1b,(x, -5, 10), show = False)\n",
    "p[0].line_color = 'black'\n",
    "p[1].line_color = 'orange'\n",
    "p.xlabel='x'\n",
    "p.ylabel='y'\n",
    "p.legend=True\n",
    "p.show()\n",
    "# Calculamos los puntos de corte que emplearemos para ajustar el cálculo de áreas.\n",
    "display('Puntos de corte y1 = y2; x =', sp.solve(expr1-expr2)[0])\n",
    "display('Puntos de corte y1 = y3; x =', sp.solve(expr1-expr3)[0])\n",
    "display('Puntos de corte y2 = y3; x =', sp.solve(expr2-expr3)[0])\n",
    "# Procedemos a calcular el área.\n",
    "A1 = sp.integrate(expr2-expr1,(x,1,2)) # Realizamos el primer tramo del cálculo del área comprendida entre 1 y 2 y que la delimita la función y su tangente.\n",
    "display('Área 1',A1)\n",
    "A2 = sp.integrate(expr2-expr3,(x,2,4)) # La segunda sección del área está delimitada con la tangente de la función y el eje x y se encuenta comprendida entre 2 y 4.\n",
    "display('Área 2',A2)\n",
    "AT = A1+A2\n",
    "display('Área total',AT) # Suma de ambas áreas para obtener el área total.\n",
    "# Ahor calcularemos el volumen \n",
    "I1 = sp.integrate(expr1,x)\n",
    "V = sp.pi * I1 # Obtenemos el volumen como la multiplicación de la integral de la función y pi.\n",
    "print('El volumen es\\n: ',V,'u³')"
   ]
  },
  {
   "cell_type": "markdown",
   "metadata": {
    "tags": []
   },
   "source": [
    "## Ejercicio 2 (0.75 puntos):\n",
    ".."
   ]
  },
  {
   "cell_type": "code",
   "execution_count": 35,
   "metadata": {},
   "outputs": [
    {
     "name": "stdout",
     "output_type": "stream",
     "text": [
      "\n",
      "APARTADO A\n",
      "----------------\n",
      "\n"
     ]
    },
    {
     "data": {
      "image/png": "[encoded data removed]",
      "text/plain": [
       "<Figure size 432x288 with 1 Axes>"
      ]
     },
     "metadata": {
      "needs_background": "light"
     },
     "output_type": "display_data"
    },
    {
     "name": "stdout",
     "output_type": "stream",
     "text": [
      "Al dibujar la gráfica se puede apreciar que dentro del intervalo [-2,2] la función cuenta con una única raíz\n",
      "\n",
      "APARTADO B\n",
      "-----------------\n",
      "\n",
      "Número de iteraciones realizadas:  18\n",
      "Aproximación de la raíz:  -1.5707855224609375\n"
     ]
    }
   ],
   "source": [
    "#a)\n",
    "print('\\nAPARTADO A')\n",
    "print('----------------\\n')\n",
    "p = sp.plot(sp.cos(x)-x,(x, -2, 2), show = False)\n",
    "p[0].line_color = 'red'\n",
    "p.xlabel='x'\n",
    "p.ylabel='y'\n",
    "p.legend=True\n",
    "p.show()\n",
    "print('Al dibujar la gráfica se puede apreciar que dentro del intervalo [-2,2] la función cuenta con una única raíz')\n",
    "\n",
    "#b)\n",
    "# En este apartado pasaremos a realizar la aproximación mediante el método de bisección.\n",
    "print('\\nAPARTADO B')\n",
    "print('-----------------\\n')\n",
    "x = sp.symbols('x', real=True) # define la variable simbólica x\n",
    "f_expr = sp.cos(x)\n",
    "f = sp.Lambda(x,f_expr)\n",
    "\n",
    "N_max = 100\n",
    "tol = 1.e-5\n",
    "a = -2\n",
    "b = 2\n",
    "\n",
    "x_aprox = np.zeros(N_max)\n",
    "\n",
    "for k in range(0,N_max):\n",
    "    x_aprox[k] = (a+b) / 2\n",
    "\n",
    "    if f(x_aprox[k]) == 0: break\n",
    "      \n",
    "    if f(a) * f(x_aprox[k]) < 0:\n",
    "        b = x_aprox[k]\n",
    "    else:\n",
    "       a = x_aprox[k]\n",
    "    if ((k > 0) and (np.abs(x_aprox[k]-x_aprox[k-1]) / np.abs(x_aprox[k]) < tol) ):break\n",
    "\n",
    "\n",
    "print('Número de iteraciones realizadas: ', k+1) # Contamos 1 más porque empezamos el bucle en 0\n",
    "print('Aproximación de la raíz: ', x_aprox[k])\n",
    "    "
   ]
  },
  {
   "cell_type": "code",
   "execution_count": null,
   "metadata": {},
   "outputs": [],
   "source": []
  }
 ],
 "metadata": {
  "kernelspec": {
   "display_name": "Python 3 (ipykernel)",
   "language": "python",
   "name": "python3"
  },
  "language_info": {
   "codemirror_mode": {
    "name": "ipython",
    "version": 3
   },
   "file_extension": ".py",
   "mimetype": "text/x-python",
   "name": "python",
   "nbconvert_exporter": "python",
   "pygments_lexer": "ipython3",
   "version": "3.9.12"
  }
 },
 "nbformat": 4,
 "nbformat_minor": 4
}
