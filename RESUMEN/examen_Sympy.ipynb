{
 "cells": [
  {
   "cell_type": "code",
   "execution_count": 3,
   "id": "439854d4-dc31-43e1-88e5-a06db5aa8605",
   "metadata": {},
   "outputs": [],
   "source": [
    "import sympy as sp"
   ]
  },
  {
   "cell_type": "code",
   "execution_count": null,
   "id": "6822722e-d03e-4069-891e-659c036d9b9b",
   "metadata": {},
   "outputs": [],
   "source": [
    "#Para calcular la imagen de una función (o, lo que es lo mismo, su rango), utilizaremos la función sp.calculus.util.function_range"
   ]
  },
  {
   "cell_type": "code",
   "execution_count": 2,
   "id": "2b7250d7-e04b-4f72-97ae-e646aa052164",
   "metadata": {},
   "outputs": [
    {
     "data": {
      "text/latex": [
       "$\\displaystyle \\left[- \\frac{1}{2}, \\frac{1}{2}\\right]$"
      ],
      "text/plain": [
       "Interval(-1/2, 1/2)"
      ]
     },
     "metadata": {},
     "output_type": "display_data"
    }
   ],
   "source": [
    "f=sp.Lambda(x, x/(x**2+1))\n",
    "display(sp.calculus.util.function_range(f(x), x, sp.Reals))\n"
   ]
  },
  {
   "cell_type": "code",
   "execution_count": null,
   "id": "86a150b2-df16-4760-9e2c-b7a1a4299861",
   "metadata": {},
   "outputs": [],
   "source": [
    "#Ejercicio 5.1\n",
    "#Calcula las siguientes singularidades y la imagen de la función f(x,y). Para ello, debes definir en primer lugar la expresión asociada y, a continuación, la función Lambda correspondiente.\n",
    "#Después, debes calcular su dominio y su imagen. Por último, dibuja la función f."
   ]
  },
  {
   "cell_type": "code",
   "execution_count": 5,
   "id": "02933319-4ef6-4b04-8f24-2b7bb72a7681",
   "metadata": {},
   "outputs": [
    {
     "data": {
      "text/latex": [
       "$\\displaystyle - x + \\sqrt{x^{2} - 1}$"
      ],
      "text/plain": [
       "-x + sqrt(x**2 - 1)"
      ]
     },
     "metadata": {},
     "output_type": "display_data"
    },
    {
     "data": {
      "text/latex": [
       "$\\displaystyle \\emptyset$"
      ],
      "text/plain": [
       "EmptySet"
      ]
     },
     "metadata": {},
     "output_type": "display_data"
    },
    {
     "data": {
      "text/latex": [
       "$\\displaystyle \\left[-1, 0\\right) \\cup \\left[1, \\infty\\right)$"
      ],
      "text/plain": [
       "Union(Interval.Ropen(-1, 0), Interval(1, oo))"
      ]
     },
     "metadata": {},
     "output_type": "display_data"
    }
   ],
   "source": [
    "import sympy as sp\n",
    "\n",
    "x = sp.symbols('x', real=True)\n",
    "\n",
    "#f = sp.Lambda(x, (x+5)/(x**3-2) + (x**2)/(x-2))\n",
    "\n",
    "f = sp.Lambda(x, sp.sqrt(x**2-1)-x)\n",
    "\n",
    "display(f(x))\n",
    "\n",
    "display(sp.calculus.singularities(f(x), x))\n",
    "display(sp.calculus.util.function_range(f(x), x, sp.Reals))\n"
   ]
  },
  {
   "cell_type": "code",
   "execution_count": null,
   "id": "41de2652-f56b-431c-a4b3-cbbb4b0f428d",
   "metadata": {},
   "outputs": [],
   "source": [
    "#Tipos de funciones\n",
    "#Para definir variables: sp.Symbol / sp.symbols"
   ]
  },
  {
   "cell_type": "code",
   "execution_count": null,
   "id": "20c8a2f4-cbec-4da5-a830-c9c5ec3c080c",
   "metadata": {},
   "outputs": [],
   "source": [
    "import sympy as sp"
   ]
  },
  {
   "cell_type": "code",
   "execution_count": 4,
   "id": "988fa11e-6ed5-4a87-a2b8-7bc9071eb661",
   "metadata": {},
   "outputs": [
    {
     "name": "stdout",
     "output_type": "stream",
     "text": [
      "3*x + 5*y\n"
     ]
    }
   ],
   "source": [
    "x = sp.Symbol('x')\n",
    "y = sp.Symbol('y')\n",
    "f = 3*x + 5*y\n",
    "print (f)"
   ]
  },
  {
   "cell_type": "code",
   "execution_count": 5,
   "id": "bab5d064-86dc-4ce6-b807-170661b7135a",
   "metadata": {},
   "outputs": [],
   "source": [
    "#También se puede expresar como:"
   ]
  },
  {
   "cell_type": "code",
   "execution_count": 6,
   "id": "54cbb58e-5265-4739-8cd8-f0bbefb3d79c",
   "metadata": {},
   "outputs": [
    {
     "name": "stdout",
     "output_type": "stream",
     "text": [
      "a**3 + b**2 + c\n"
     ]
    }
   ],
   "source": [
    "a, b, c  = sp.symbols('a:c')\n",
    "expresion = a**3 + b**2 + c\n",
    "print (expresion)\n",
    "\n"
   ]
  },
  {
   "cell_type": "code",
   "execution_count": null,
   "id": "537f8cb9-fc02-48b0-94dd-ec25810154b9",
   "metadata": {},
   "outputs": [],
   "source": [
    "#La variable no tiene que coincidir con el objeto donde se guarda\n",
    "#es decir, se hace por comodidad pero no tienen pq ser la misma"
   ]
  },
  {
   "cell_type": "code",
   "execution_count": 7,
   "id": "cfb056c9-4a86-4ffd-8971-75b3e3fa170d",
   "metadata": {},
   "outputs": [
    {
     "name": "stdout",
     "output_type": "stream",
     "text": [
      "x\n"
     ]
    },
    {
     "data": {
      "text/plain": [
       "'x'"
      ]
     },
     "execution_count": 7,
     "metadata": {},
     "output_type": "execute_result"
    }
   ],
   "source": [
    "a = sp.Symbol('x')\n",
    "print (a)\n",
    "a.name"
   ]
  },
  {
   "cell_type": "code",
   "execution_count": null,
   "id": "7b973ea3-2268-45ca-ab8e-0b2096b23d16",
   "metadata": {},
   "outputs": [],
   "source": [
    "#Anteriormente hemos declarado variables vacías \n",
    "#A continuación definiremos constantes como variables \n",
    "#Para definir constantes enteras o números racionales\n",
    "#emplearemos las funciones sp.Integer(nos introduce enteros) o sp.Rational(nos introduce racionales) como se verá a continuación"
   ]
  },
  {
   "cell_type": "code",
   "execution_count": 11,
   "id": "58a4bf9e-3f0a-422e-8364-302cf4502dae",
   "metadata": {},
   "outputs": [
    {
     "name": "stdout",
     "output_type": "stream",
     "text": [
      "a: 1/3\n",
      "b: 1/3\n",
      "c: 0.3333333333333333\n",
      "d: 0.3333333333333333\n",
      "<class 'sympy.core.numbers.Rational'>\n",
      "<class 'sympy.core.numbers.Rational'>\n",
      "<class 'float'>\n",
      "<class 'float'>\n"
     ]
    }
   ],
   "source": [
    "a = sp.Rational('1/3')\n",
    "b = sp.Integer('1')/sp.Integer('3')\n",
    "c = 1/3\n",
    "d = 1.0/3.0\n",
    "print ('a:',a)\n",
    "print ('b:',b)\n",
    "print ('c:',c)\n",
    "print ('d:',d)\n",
    "print(type(a))\n",
    "print(type(b))\n",
    "print(type(c))\n",
    "print(type(d))"
   ]
  },
  {
   "cell_type": "code",
   "execution_count": null,
   "id": "c3675855-3a66-4aae-80db-e2a1ad6765dc",
   "metadata": {},
   "outputs": [],
   "source": [
    "#Otra forma sencilla de definir variables de valores constantes es con la función sp.S\n",
    "#Si necesitamos obtener el valor final empleamos sp.N o directamente, float."
   ]
  },
  {
   "cell_type": "code",
   "execution_count": 15,
   "id": "6723273f-c4c9-4cc4-ad99-2f1c2414baa5",
   "metadata": {},
   "outputs": [
    {
     "name": "stdout",
     "output_type": "stream",
     "text": [
      "<class 'sympy.core.numbers.Integer'>\n",
      "<class 'sympy.core.numbers.Integer'>\n",
      "<class 'sympy.core.numbers.Rational'>\n",
      "<class 'sympy.core.numbers.Float'>\n",
      "<class 'float'>\n",
      "1/3\n",
      "0.333333333333333\n",
      "0.333333333333333\n"
     ]
    }
   ],
   "source": [
    "a = sp.S(2)\n",
    "b = sp.S(6)\n",
    "c = a/b\n",
    "d = sp.N(c)\n",
    "e = float(c)\n",
    "print(type(a))\n",
    "print(type(b))\n",
    "print(type(c))\n",
    "print(type(d))\n",
    "print(type(e))\n",
    "print(c)\n",
    "print(d)\n",
    "print('{0:.15f}'.format(d))"
   ]
  },
  {
   "cell_type": "code",
   "execution_count": null,
   "id": "d8506fab-7db6-41f9-adfa-294959862984",
   "metadata": {},
   "outputs": [],
   "source": [
    "#En cuanto a algunas constantes de números reales como pi y e\n",
    "#se pueden definir como constantes simbólicas\n",
    "#Para ello emplearemos funciones que sean capaces de manipular este tipo de objetos\n",
    "#como: sp.sin, sp.cos, sp.log "
   ]
  },
  {
   "cell_type": "code",
   "execution_count": 3,
   "id": "aba3117a-6361-4340-9689-f0314e812f7d",
   "metadata": {},
   "outputs": [
    {
     "name": "stdout",
     "output_type": "stream",
     "text": [
      "-1\n",
      "log(3)\n"
     ]
    }
   ],
   "source": [
    "import sympy as sp\n",
    "\n",
    "p= sp.pi # definimos la constante pi\n",
    "print(sp.cos(p))\n",
    "\n",
    "e= sp.E #definimos el número e\n",
    "print (sp.log(3))\n"
   ]
  },
  {
   "cell_type": "code",
   "execution_count": null,
   "id": "dd2346e3-bd54-44f3-abd0-7b1f44d3615e",
   "metadata": {},
   "outputs": [],
   "source": [
    "# HIPÓTESIS SOBRE LAS VARIABLES"
   ]
  },
  {
   "cell_type": "code",
   "execution_count": 2,
   "id": "ac52e1b5-ac9f-490f-9b2f-978429b17e21",
   "metadata": {},
   "outputs": [
    {
     "name": "stdout",
     "output_type": "stream",
     "text": [
      "True\n",
      "True\n",
      "None\n",
      "None\n"
     ]
    }
   ],
   "source": [
    "import sympy as sp\n",
    "x = sp.Symbol('x', nonnegative = True)#La raíz cuadrada de un número no negativo es real\n",
    "y = sp.sqrt(x)\n",
    "print (y.is_real)\n",
    "\n",
    "x = sp.Symbol('x', integer = True)#La potencia de un número entero es entera\n",
    "y = x**sp.S(2)\n",
    "print(y.is_integer)\n",
    "\n",
    "a = sp.Symbol('a')\n",
    "b = sp.sqrt(a)\n",
    "print(b.is_real)\n",
    "\n",
    "a = sp.Symbol('a')\n",
    "b = a**sp.S(2)\n",
    "print(b.is_integer)\n",
    "\n",
    "\n"
   ]
  },
  {
   "cell_type": "code",
   "execution_count": null,
   "id": "591fb894-2990-48ea-adb1-c1646ca906ee",
   "metadata": {},
   "outputs": [],
   "source": []
  },
  {
   "cell_type": "code",
   "execution_count": null,
   "id": "6ebb79ae-c713-4510-932b-cafb5d95a2f9",
   "metadata": {},
   "outputs": [],
   "source": []
  },
  {
   "cell_type": "code",
   "execution_count": null,
   "id": "1743fcc6-e9f0-46a0-bb61-1e2ec2b47023",
   "metadata": {},
   "outputs": [],
   "source": []
  },
  {
   "cell_type": "code",
   "execution_count": 3,
   "id": "5dfc2bc5-5c72-4a08-97fb-b0b0cd661a09",
   "metadata": {},
   "outputs": [],
   "source": [
    "#EJERCICIOS"
   ]
  },
  {
   "cell_type": "code",
   "execution_count": 4,
   "id": "91b218f5-5eae-4a3f-b945-e25251f3d15c",
   "metadata": {
    "tags": []
   },
   "outputs": [],
   "source": [
    "#Representación gráfica(Regiones en el plano)\n",
    "#Podemos representar regiones con la función plot_implicit"
   ]
  },
  {
   "cell_type": "code",
   "execution_count": 10,
   "id": "032c7f21-9d15-47aa-85e2-9311759e3f57",
   "metadata": {},
   "outputs": [
    {
     "data": {
      "image/png": "[encoded data removed]",
      "text/plain": [
       "<Figure size 432x288 with 1 Axes>"
      ]
     },
     "metadata": {
      "needs_background": "light"
     },
     "output_type": "display_data"
    },
    {
     "data": {
      "image/png": "[encoded data removed]",
      "text/plain": [
       "<Figure size 432x288 with 1 Axes>"
      ]
     },
     "metadata": {
      "needs_background": "light"
     },
     "output_type": "display_data"
    },
    {
     "data": {
      "image/png": "[encoded data removed]",
      "text/plain": [
       "<Figure size 432x288 with 1 Axes>"
      ]
     },
     "metadata": {
      "needs_background": "light"
     },
     "output_type": "display_data"
    }
   ],
   "source": [
    "x, y = sp.symbols('x:y', real=True)\n",
    "\n",
    "p1 = sp.plot_implicit(sp.Eq(x**2 + y**2, 3**2))\n",
    "#Con una igualdad: Representamos gráficamente la circunferencia de centro (0,0) y radio 3.\n",
    "p2 = sp.plot_implicit(y > x**2) #Utilizamos ahora una desigualdad.\n",
    "p3 = sp.plot_implicit(sp.And(sp.And(y > x, y > -x), y < x + 4))\n",
    "# Dos desigualdades, ligadas, en este caso, con el operador lógico 'sp.And' (en otros casos, usaremos 'sp.Or')\n"
   ]
  },
  {
   "cell_type": "code",
   "execution_count": 17,
   "id": "f2b2a4ae-3254-4cea-bf55-8c64e22eeb1e",
   "metadata": {},
   "outputs": [
    {
     "data": {
      "image/png": "[encoded data removed]",
      "text/plain": [
       "<Figure size 432x288 with 1 Axes>"
      ]
     },
     "metadata": {
      "needs_background": "light"
     },
     "output_type": "display_data"
    }
   ],
   "source": [
    "x, y = sp.symbols ('x:y', real=True)\n",
    "\n",
    "#p1 = sp.plot_implicit(sp.Eq(x**2 + y**2, 3**2))\n",
    "#p2 = sp.plot_implicit(-y > x**2)\n",
    "#p3 = sp.plot_implicit(sp.And(sp.And(y>x, y>-x), y<x+4))"
   ]
  },
  {
   "cell_type": "code",
   "execution_count": 18,
   "id": "271c352a-34d8-4d6a-9b23-98475c9f8c39",
   "metadata": {},
   "outputs": [],
   "source": [
    "#Ejercicio: Representa en el plano."
   ]
  },
  {
   "cell_type": "code",
   "execution_count": 3,
   "id": "88d1e3e9-6211-4913-ba2d-80df60c08385",
   "metadata": {},
   "outputs": [
    {
     "data": {
      "image/png": "[encoded data removed]",
      "text/plain": [
       "<Figure size 432x288 with 1 Axes>"
      ]
     },
     "metadata": {
      "needs_background": "light"
     },
     "output_type": "display_data"
    },
    {
     "data": {
      "image/png": "[encoded data removed]",
      "text/plain": [
       "<Figure size 432x288 with 1 Axes>"
      ]
     },
     "metadata": {
      "needs_background": "light"
     },
     "output_type": "display_data"
    },
    {
     "data": {
      "image/png": "[encoded data removed]",
      "text/plain": [
       "<Figure size 432x288 with 1 Axes>"
      ]
     },
     "metadata": {
      "needs_background": "light"
     },
     "output_type": "display_data"
    }
   ],
   "source": [
    "#p1y=2x^2-3\n",
    "#p2y < x^2 e |y| < 2\n",
    "#p3y > x ou y < -2x\n",
    "#p4 (0,0) (0,1) (1,1) (1,2)\n",
    "import sympy as sp\n",
    "\n",
    "x,y = sp.symbols('x:y', real=True)\n",
    "p1 = sp.plot_implicit(sp.Eq(y, 2*x**2-3))\n",
    "p2 = sp.plot_implicit(sp.And(y<x**2, sp.Abs(y)<2))\n",
    "p3 = sp.plot_implicit(sp.Or(y>x, y<-2*x))\n",
    "\n",
    "\n"
   ]
  },
  {
   "cell_type": "code",
   "execution_count": 34,
   "id": "916eb26e-123f-4e33-acbf-33aaeeed2b1c",
   "metadata": {},
   "outputs": [
    {
     "data": {
      "image/png": "[encoded data removed]",
      "text/plain": [
       "<Figure size 432x288 with 1 Axes>"
      ]
     },
     "metadata": {
      "needs_background": "light"
     },
     "output_type": "display_data"
    }
   ],
   "source": [
    "#Gráficas de funciones\n",
    "#Para graficar funciones seguiremos empleando el plot de antes pero añadiendo a continuación la función a graficar.\n",
    "\n",
    "\n",
    "#x = sp.symbols('x', real=True)\n",
    "#p = sp.plot(sp.sin(x), sp.cos(x), (x, 0, 4*sp.pi), show=False)\n",
    "#p[0].line_color='r'\n",
    "#p[1].line_color='b'\n",
    "#p.xlabel='x'\n",
    "#p.ylabel='y'\n",
    "#p.legend=True\n",
    "#p.show()\n",
    "\n",
    "\n",
    "\n",
    "\n",
    "\n",
    "\n",
    "x = sp.symbols('x', real=True)\n",
    "p = sp.plot(sp.sin(x), sp.cos(x), (x, 0, 4*sp.pi), show=False) #Introduces las funciones a representar y luego el espacio q ocupa la gráfica.\n",
    "p.legend=True # Añade la leyenda a la gráfica\n",
    "p[0].line_color='r' # Puedes introducir el color de cada función r=red, b=blue\n",
    "p.show()\n"
   ]
  },
  {
   "cell_type": "code",
   "execution_count": null,
   "id": "38638a24-5782-45dc-81b5-470f64b2b228",
   "metadata": {},
   "outputs": [],
   "source": [
    "#EXPRESIONES Y FUNCIONES EN SYMPY"
   ]
  },
  {
   "cell_type": "code",
   "execution_count": 2,
   "id": "f41a7715-8d83-42d6-8e41-44dda1f4c73c",
   "metadata": {},
   "outputs": [
    {
     "data": {
      "text/latex": [
       "$\\displaystyle x \\cos{\\left(4 x \\right)}$"
      ],
      "text/plain": [
       "x*cos(4*x)"
      ]
     },
     "metadata": {},
     "output_type": "display_data"
    },
    {
     "name": "stdout",
     "output_type": "stream",
     "text": [
      "Valor de f_expr(2)= 2*cos(8)\n"
     ]
    },
    {
     "data": {
      "text/plain": [
       "[1, 7/3]"
      ]
     },
     "execution_count": 2,
     "metadata": {},
     "output_type": "execute_result"
    }
   ],
   "source": [
    "# Hasta ahora hemos visto expresiones almacenadas en variables. \n",
    "# A continuación vamos a ver como utilizar funciones.\n",
    "# EVALUAMOS PRIMERO UNA EXPRESIÓN\n",
    "# Ejemplo: f(x) --> xcos(4x)\n",
    "\n",
    "import sympy as sp\n",
    "\n",
    "x = sp.Symbol('x', real=True)\n",
    "f_expr = x*sp.cos(4*x) # Esto es una expresión.\n",
    "display(f_expr)\n",
    "print('Valor de f_expr(2)=',f_expr.subs({x:2})) #Evaluamos la expresión f con \"subs\". Con \"subs\" podemos añadir un valor a una función.\n",
    "\n",
    "y = sp.symbols('y', real=True)\n",
    "f2_expr=sp.exp(x**3+1)\n",
    "sp.solve(f2_expr-y,x)\n",
    "\n",
    "sp.solve(sp.Abs(2*x-4)-sp.Abs(x-3))\n"
   ]
  },
  {
   "cell_type": "code",
   "execution_count": 5,
   "id": "1f2197b7-d1a1-4a50-af9a-87282ab3e774",
   "metadata": {},
   "outputs": [
    {
     "data": {
      "text/latex": [
       "$\\displaystyle \\left( x \\mapsto x \\cos{\\left(4 x \\right)} \\right)$"
      ],
      "text/plain": [
       "Lambda(x, x*cos(4*x))"
      ]
     },
     "metadata": {},
     "output_type": "display_data"
    },
    {
     "name": "stdout",
     "output_type": "stream",
     "text": [
      "Valor de f(2)= 2*cos(8)\n",
      "True\n"
     ]
    }
   ],
   "source": [
    "# A continuación EVALUAMOS UNA FUNCIÓN\n",
    "# Para definir funciones emplearemos sp.lambda\n",
    "\n",
    "f = sp.Lambda((x),f_expr) #Creamos la función \"f\" a partir de la expresión \"f_expr\"\n",
    "display(f)\n",
    "print('Valor de f(2)=',f(2)) #Evaluación de la función\n",
    "print(f(x)==f_expr)\n"
   ]
  },
  {
   "cell_type": "code",
   "execution_count": null,
   "id": "34dc3443-5b56-4a15-8f20-ba6da1aefcb9",
   "metadata": {},
   "outputs": [],
   "source": [
    "# FUNCIONES DEFINIDAS A TROZOS"
   ]
  },
  {
   "cell_type": "code",
   "execution_count": null,
   "id": "ec8cb282-ddaa-427f-8dae-84d942fafa94",
   "metadata": {},
   "outputs": [],
   "source": [
    "# Las funciones a trozos se irán leyendo de izquierda a derecha y iran siendo evaluadas, es decir, mirando si cumplen o no ciertas condiciones."
   ]
  },
  {
   "cell_type": "code",
   "execution_count": 13,
   "id": "453395d1-013b-4ddd-bc46-dde36dc9e381",
   "metadata": {},
   "outputs": [
    {
     "data": {
      "text/latex": [
       "$\\displaystyle \\begin{cases} \\frac{1}{x} & \\text{for}\\: x > 0 \\\\1 & \\text{otherwise} \\end{cases}$"
      ],
      "text/plain": [
       "Piecewise((1/x, x > 0), (1, True))"
      ]
     },
     "metadata": {},
     "output_type": "display_data"
    }
   ],
   "source": [
    "x, y = sp.symbols('x:y', real=True)\n",
    "g_expr = sp.Piecewise((1/(x), x>0), (1, True))\n",
    "g = sp.Lambda((x,y), g_expr)\n",
    "display(g(x, y))"
   ]
  },
  {
   "cell_type": "code",
   "execution_count": null,
   "id": "6b10b319-3afa-43c4-9c3d-bd65441263b8",
   "metadata": {},
   "outputs": [],
   "source": [
    "#Es más útil definir las funciones a trozos apoyándonos en la función \"escalón\".\n",
    "#Matemáticamente conocida como función de Heaviside, 0,"
   ]
  },
  {
   "cell_type": "code",
   "execution_count": 3,
   "id": "5e440f90-3173-4d51-8e14-919db7a3232d",
   "metadata": {},
   "outputs": [
    {
     "data": {
      "text/latex": [
       "$\\displaystyle \\begin{cases} 1 & \\text{for}\\: x \\leq 0 \\\\\\frac{1}{x} & \\text{otherwise} \\end{cases}$"
      ],
      "text/plain": [
       "Piecewise((1, x <= 0), (1/x, True))"
      ]
     },
     "metadata": {},
     "output_type": "display_data"
    }
   ],
   "source": [
    "#Definición de la función\n",
    "import sympy as sp\n",
    "x = sp.Symbol('x', real=True)\n",
    "g1 = 1/x; g2 = 1\n",
    "g_expr = g2 + (g1 - g2) * sp.Heaviside(x, 0)\n",
    "g = sp.Lambda(x, g_expr)\n",
    "# Comprobar la definición de la función g\n",
    "display(sp.simplify(g(x).rewrite(sp.Piecewise)))\n"
   ]
  },
  {
   "cell_type": "code",
   "execution_count": null,
   "id": "44b75db9-6a74-4a20-ba8d-0a74b9935cc8",
   "metadata": {},
   "outputs": [],
   "source": [
    "# DOMINIO E IMAGEN DE UNA FUNCIÓN\n",
    "#calcular las singularidades de una función dada. Entonces, el dominio máximo de la función será todo  menos las singularidades."
   ]
  },
  {
   "cell_type": "code",
   "execution_count": 6,
   "id": "e06dafe0-1d2a-4841-a3f2-537905ddd43f",
   "metadata": {},
   "outputs": [
    {
     "data": {
      "text/latex": [
       "$\\displaystyle \\left\\{2 n \\pi + \\frac{\\pi}{2}\\; \\middle|\\; n \\in \\mathbb{Z}\\right\\} \\cup \\left\\{2 n \\pi + \\frac{3 \\pi}{2}\\; \\middle|\\; n \\in \\mathbb{Z}\\right\\}$"
      ],
      "text/plain": [
       "Union(ImageSet(Lambda(_n, 2*_n*pi + pi/2), Integers), ImageSet(Lambda(_n, 2*_n*pi + 3*pi/2), Integers))"
      ]
     },
     "metadata": {},
     "output_type": "display_data"
    }
   ],
   "source": [
    "f=sp.Lambda(x, x/(sp.cos(x)))\n",
    "display(sp.calculus.singularities(f(x), x))"
   ]
  },
  {
   "cell_type": "code",
   "execution_count": null,
   "id": "c3d7822d-dea2-453a-b45f-a259d54b87b9",
   "metadata": {},
   "outputs": [],
   "source": [
    "#Para calcular la imagen de una función (o, lo que es lo mismo, su rango), utilizaremos la función sp.calculus.util.function_range:"
   ]
  },
  {
   "cell_type": "code",
   "execution_count": 4,
   "id": "8c273afc-d416-4d9d-a77a-d07bf62eee1a",
   "metadata": {},
   "outputs": [
    {
     "data": {
      "text/latex": [
       "$\\displaystyle \\left[- \\frac{1}{2}, \\frac{1}{2}\\right]$"
      ],
      "text/plain": [
       "Interval(-1/2, 1/2)"
      ]
     },
     "metadata": {},
     "output_type": "display_data"
    }
   ],
   "source": [
    "f=sp.Lambda(x, x/(x**2+1))\n",
    "R = sp.calculus.util.function_range(f(x), x, sp.Reals)\n",
    "display(R)"
   ]
  },
  {
   "cell_type": "code",
   "execution_count": null,
   "id": "096a2f32-4825-4a6e-80cc-4266c443aa61",
   "metadata": {},
   "outputs": [],
   "source": [
    "#LÍMITES\n",
    "#os límites de expresiones de una variable se pueden calcular con la función sp.limit. Esta función también permite calcular límites laterale"
   ]
  },
  {
   "cell_type": "code",
   "execution_count": 5,
   "id": "3ea2e783-543e-4998-9bb5-172c22a1f0d3",
   "metadata": {},
   "outputs": [
    {
     "data": {
      "text/latex": [
       "$\\displaystyle \\frac{\\cos{\\left(x \\right)}}{x + 1}$"
      ],
      "text/plain": [
       "cos(x)/(x + 1)"
      ]
     },
     "metadata": {},
     "output_type": "display_data"
    },
    {
     "data": {
      "text/latex": [
       "$\\displaystyle \\left\\{-1\\right\\}$"
      ],
      "text/plain": [
       "{-1}"
      ]
     },
     "metadata": {},
     "output_type": "display_data"
    },
    {
     "data": {
      "text/latex": [
       "$\\displaystyle -\\infty$"
      ],
      "text/plain": [
       "-oo"
      ]
     },
     "metadata": {},
     "output_type": "display_data"
    },
    {
     "data": {
      "text/latex": [
       "$\\displaystyle \\infty$"
      ],
      "text/plain": [
       "oo"
      ]
     },
     "metadata": {},
     "output_type": "display_data"
    }
   ],
   "source": [
    "g_expr = sp.cos(x)/(x+1)\n",
    "g = sp.Lambda(x, g_expr)\n",
    "display(g(x))\n",
    "display(sp.calculus.singularities(g(x), x, sp.Reals))\n",
    "display(sp.limit(g(x),x,-1,dir='-')) # límite por la izquierda\n",
    "display(sp.limit(g(x),x,-1,dir='+')) # límite por la derecha"
   ]
  },
  {
   "cell_type": "code",
   "execution_count": null,
   "id": "815b203d-dc23-4ca1-a652-a624eb117d8f",
   "metadata": {},
   "outputs": [],
   "source": [
    "display(sp.limit(g(x),x,-1)) # ¡Da un resultado (incorrecto) ya que, por defecto, utiliza el valor del límite por la derecha!"
   ]
  },
  {
   "cell_type": "code",
   "execution_count": null,
   "id": "20b48301-94f7-47e0-9cd0-bd2ca4306004",
   "metadata": {},
   "outputs": [],
   "source": [
    "#A continuación mostramos como se pueden calcular los límites laterales de una función definida a trozos\n",
    "#definición mediante sp.Piecewise dará un error de ejecución (¡prueba!), por lo que tendremos que definir la función utilizando nuestro ya odiado escalón (Heaviside):"
   ]
  },
  {
   "cell_type": "code",
   "execution_count": 7,
   "id": "4d09da6e-55dc-4266-9f58-27025757503e",
   "metadata": {},
   "outputs": [
    {
     "data": {
      "text/latex": [
       "$\\displaystyle \\begin{cases} 1 & \\text{for}\\: x \\leq 0 \\\\\\frac{1}{x} & \\text{otherwise} \\end{cases}$"
      ],
      "text/plain": [
       "Piecewise((1, x <= 0), (1/x, True))"
      ]
     },
     "metadata": {},
     "output_type": "display_data"
    },
    {
     "data": {
      "text/latex": [
       "$\\displaystyle 1$"
      ],
      "text/plain": [
       "1"
      ]
     },
     "metadata": {},
     "output_type": "display_data"
    },
    {
     "data": {
      "text/latex": [
       "$\\displaystyle \\infty$"
      ],
      "text/plain": [
       "oo"
      ]
     },
     "metadata": {},
     "output_type": "display_data"
    }
   ],
   "source": [
    "# Definición de la función a trozos (utilizando la función Heaviside)\n",
    "f1 = 1/x; f2 = 1\n",
    "f_expr = f2 + (f1 - f2) * sp.Heaviside(x, 0)  \n",
    "f = sp.Lambda(x, f_expr)\n",
    "display(sp.simplify(f(x).rewrite(sp.Piecewise)))\n",
    "\n",
    "display(sp.limit(f(x),x,0,dir='-')) # límite por la izquierda\n",
    "display(sp.limit(f(x),x,0,dir='+')) # límite por la derecha\n",
    " \n",
    " "
   ]
  },
  {
   "cell_type": "code",
   "execution_count": null,
   "id": "d98a5ded-0e77-46bd-9f65-d2b26bef84a6",
   "metadata": {},
   "outputs": [],
   "source": [
    "#No hay ningún problema si queremos calcular límites en el infinito,\n",
    "#El valor de infinito se representa en Sympy por sp.oo."
   ]
  },
  {
   "cell_type": "code",
   "execution_count": 6,
   "id": "ee69d962-a23f-4b61-8fe6-2999b72fbb17",
   "metadata": {},
   "outputs": [
    {
     "data": {
      "text/latex": [
       "$\\displaystyle 0$"
      ],
      "text/plain": [
       "0"
      ]
     },
     "metadata": {},
     "output_type": "display_data"
    },
    {
     "data": {
      "text/latex": [
       "$\\displaystyle \\infty$"
      ],
      "text/plain": [
       "oo"
      ]
     },
     "metadata": {},
     "output_type": "display_data"
    }
   ],
   "source": [
    "display(sp.limit(sp.exp(x),x,-sp.oo))\n",
    "display(sp.limit(sp.exp(x),x,sp.oo))"
   ]
  },
  {
   "cell_type": "code",
   "execution_count": null,
   "id": "4cf734e1-fdac-4882-aa40-f6b453818e52",
   "metadata": {},
   "outputs": [],
   "source": [
    "#CONTINUIDAD\n",
    "#En el módulo de Sympy existe una función que calcula el dominio de continuidad (es decir, el conjunto de puntos en los que la función es continua): sp.calculus.util.continuous_domain"
   ]
  },
  {
   "cell_type": "code",
   "execution_count": 7,
   "id": "fb6cb655-7344-4fac-9408-f9d9a35e8051",
   "metadata": {},
   "outputs": [
    {
     "data": {
      "text/latex": [
       "$\\displaystyle \\mathbb{R} \\setminus \\left(\\left\\{2 n \\pi + \\frac{\\pi}{2}\\; \\middle|\\; n \\in \\mathbb{Z}\\right\\} \\cup \\left\\{2 n \\pi + \\frac{3 \\pi}{2}\\; \\middle|\\; n \\in \\mathbb{Z}\\right\\}\\right)$"
      ],
      "text/plain": [
       "Complement(Reals, Union(ImageSet(Lambda(_n, 2*_n*pi + pi/2), Integers), ImageSet(Lambda(_n, 2*_n*pi + 3*pi/2), Integers)))"
      ]
     },
     "metadata": {},
     "output_type": "display_data"
    }
   ],
   "source": [
    "f=sp.Lambda(x, x/sp.cos(x))\n",
    "I = sp.calculus.util.continuous_domain(f, x, sp.Reals)\n",
    "display(I)"
   ]
  },
  {
   "cell_type": "code",
   "execution_count": null,
   "id": "948d3dcf-2aed-4bc6-8b65-369b1bbe853e",
   "metadata": {},
   "outputs": [],
   "source": [
    "#Ademáis, para analizar la continuidad de f en un punto a, basta con comprobar que $ f(a)=limx-->a f(x). Por ejemplo:"
   ]
  },
  {
   "cell_type": "code",
   "execution_count": 5,
   "id": "374603f3-f716-42f0-8efc-f229e868a7ab",
   "metadata": {},
   "outputs": [
    {
     "data": {
      "text/latex": [
       "$\\displaystyle \\mathbb{R}$"
      ],
      "text/plain": [
       "Reals"
      ]
     },
     "metadata": {},
     "output_type": "display_data"
    },
    {
     "data": {
      "text/latex": [
       "$\\displaystyle \\left( x \\mapsto \\begin{cases} - x & \\text{for}\\: x \\leq 0 \\\\x & \\text{otherwise} \\end{cases} \\right)$"
      ],
      "text/plain": [
       "Lambda(x, Piecewise((-x, x <= 0), (x, True)))"
      ]
     },
     "metadata": {},
     "output_type": "display_data"
    },
    {
     "name": "stdout",
     "output_type": "stream",
     "text": [
      "La función f es continua en x=0: True\n"
     ]
    },
    {
     "data": {
      "text/latex": [
       "$\\displaystyle \\mathbb{R}$"
      ],
      "text/plain": [
       "Reals"
      ]
     },
     "metadata": {},
     "output_type": "display_data"
    }
   ],
   "source": [
    "# Dominio de continuidad de la función valor absoluto\n",
    "f = sp.Lambda((x), sp.Abs(x))\n",
    "I = sp.calculus.util.continuous_domain(f(x), x, sp.Reals)\n",
    "display(I)\n",
    "\n",
    "# Comprobación de la continuidad para la misma función, pero ahora definida a trozos\n",
    "f1 = x; f2 = -x\n",
    "f_expr = f2 + (f1-f2) * sp.Heaviside(x, 0)\n",
    "f = sp.Lambda(x, f_expr)\n",
    "# Comprobamos la definición de la función f\n",
    "display(sp.simplify(f.rewrite(sp.Piecewise)))\n",
    "\n",
    "print('La función f es continua en x=0:', sp.limit(f(x),x,0)==f(0))\n",
    "I = sp.calculus.util.continuous_domain(f(x), x, sp.Reals)\n",
    "display(I)"
   ]
  },
  {
   "cell_type": "code",
   "execution_count": 11,
   "id": "c7157a9f-6afe-43c2-9a91-f7b42d949afa",
   "metadata": {},
   "outputs": [
    {
     "data": {
      "text/latex": [
       "$\\displaystyle \\left( x \\mapsto \\frac{3 x^{2} - 2}{4 x^{2} + 1} \\right)$"
      ],
      "text/plain": [
       "Lambda(x, (3*x**2 - 2)/(4*x**2 + 1))"
      ]
     },
     "metadata": {},
     "output_type": "display_data"
    },
    {
     "data": {
      "text/latex": [
       "$\\displaystyle \\emptyset$"
      ],
      "text/plain": [
       "EmptySet"
      ]
     },
     "metadata": {},
     "output_type": "display_data"
    },
    {
     "data": {
      "text/latex": [
       "$\\displaystyle \\frac{3}{4}$"
      ],
      "text/plain": [
       "3/4"
      ]
     },
     "metadata": {},
     "output_type": "display_data"
    },
    {
     "data": {
      "text/latex": [
       "$\\displaystyle \\frac{3}{4}$"
      ],
      "text/plain": [
       "3/4"
      ]
     },
     "metadata": {},
     "output_type": "display_data"
    }
   ],
   "source": [
    "# Para calcular las asíntotas de una función, primero deberemos de hallar el dominio de la función con: sp.calculus.singularities\n",
    "import sympy as sp\n",
    "x = sp.Symbol('x', real=True)\n",
    "f = sp.Lambda(x, (3*x**2-2)/(4*x**2+1))\n",
    "display(f)\n",
    "display(sp.calculus.singularities(f(x), x, sp.Reals))\n",
    "# Como no cuanta con ninguna singularidad, no existen asíntotas verticales para f(x).\n",
    "# A continuación si contamos con singularidades deberemos de mirar si hay asíntotas verticales en el límite cnd tiende a esa singularity\n",
    "\n",
    "# Después miramos si la función cuanta con asíntotas horizontales, si las tiene finalizamos ahí, pero si no las tiene pasamos a calcular las asíntotas oblicuas.\n",
    "\n",
    "display(sp.limit(f(x),x,-sp.oo))\n",
    "display(sp.limit(f(x),x,sp.oo))\n",
    "# Como al calcular las asíntotas horizontales, obtenemos un número real, podemos afirmar que existen y que son: x = 3/4\n",
    "\n",
    "# Por último nos faltaría decir que como f(x) cuenta con asíntotas horizontales, no tendrá asíntota oblícua, por lo que ya no la calculamos.\n",
    "\n",
    "\n",
    "\n"
   ]
  },
  {
   "cell_type": "code",
   "execution_count": null,
   "id": "6fe38aef-c7f1-4836-bf96-a3671793c68f",
   "metadata": {},
   "outputs": [],
   "source": []
  }
 ],
 "metadata": {
  "kernelspec": {
   "display_name": "Python 3 (ipykernel)",
   "language": "python",
   "name": "python3"
  },
  "language_info": {
   "codemirror_mode": {
    "name": "ipython",
    "version": 3
   },
   "file_extension": ".py",
   "mimetype": "text/x-python",
   "name": "python",
   "nbconvert_exporter": "python",
   "pygments_lexer": "ipython3",
   "version": "3.9.12"
  }
 },
 "nbformat": 4,
 "nbformat_minor": 5
}
