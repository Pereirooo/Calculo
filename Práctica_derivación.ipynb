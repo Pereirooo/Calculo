{
 "cells": [
  {
   "cell_type": "code",
   "execution_count": 2,
   "id": "2b8a86cd",
   "metadata": {},
   "outputs": [
    {
     "name": "stdout",
     "output_type": "stream",
     "text": [
      "La derivada primera de f es: \n",
      " -exp(x)*sin(x) + exp(x)*cos(x)\n",
      "La derivada segunda de f es: \n",
      "  -2*exp(x)*sin(x)\n",
      "La derivada tercera de f es: \n",
      " -2*(sin(x) + cos(x))*exp(x)\n"
     ]
    }
   ],
   "source": [
    "import sympy as sp \n",
    "x=sp.Symbol('x')\n",
    "f =sp.exp(x)*sp.cos(x)\n",
    "d1f=sp.diff(f,x)\n",
    "d2f=sp.diff(f,x,2)\n",
    "d3f=sp.diff(f,x,3)\n",
    "print('La derivada primera de f es: \\n', d1f)\n",
    "print('La derivada segunda de f es: \\n ', d2f)\n",
    "print('La derivada tercera de f es: \\n', d3f)"
   ]
  },
  {
   "cell_type": "code",
   "execution_count": 3,
   "id": "786f9865",
   "metadata": {
    "scrolled": true
   },
   "outputs": [
    {
     "data": {
      "text/latex": [
       "$\\displaystyle 4 \\left(\\cos{\\left(x \\right)} + 1\\right) \\sin{\\left(x \\right)}$"
      ],
      "text/plain": [
       "4*(cos(x) + 1)*sin(x)"
      ]
     },
     "metadata": {},
     "output_type": "display_data"
    },
    {
     "data": {
      "text/latex": [
       "$\\displaystyle \\left(4 \\cos{\\left(x \\right)} + 4\\right) \\cos{\\left(x \\right)} - 4 \\sin^{2}{\\left(x \\right)}$"
      ],
      "text/plain": [
       "(4*cos(x) + 4)*cos(x) - 4*sin(x)**2"
      ]
     },
     "metadata": {},
     "output_type": "display_data"
    },
    {
     "data": {
      "text/plain": [
       "<function _lambdifygenerated(x)>"
      ]
     },
     "metadata": {},
     "output_type": "display_data"
    },
    {
     "name": "stdout",
     "output_type": "stream",
     "text": [
      "[-5.99903913e-32 -4.00000000e+00  8.00000000e+00 -4.00000000e+00\n",
      " -5.99903913e-32]\n"
     ]
    }
   ],
   "source": [
    "import sympy as sp\n",
    "import numpy as np\n",
    "x=sp.Symbol('x') # Definimos las variables\n",
    "\n",
    "f=4*sp.sin(x)*(1+sp.cos(x)) # Creamos la función\n",
    "\n",
    "d1f=sp.diff(f,x) # Creamos su derivada\n",
    "\n",
    "d1fn=sp.lambdify(x,d1f) # El lambdify hace que la función sea numérica y no un valor simbólico, por lo que nos permite evaluarla en números flotantes o arrays.\n",
    "\n",
    "display(f)\n",
    "display(d1f)\n",
    "display(d1fn)\n",
    "\n",
    "x=np.linspace(-np.pi,np.pi,5)\n",
    "print(d1fn(x))\n"
   ]
  },
  {
   "cell_type": "code",
   "execution_count": 4,
   "id": "123c7043",
   "metadata": {},
   "outputs": [
    {
     "name": "stdout",
     "output_type": "stream",
     "text": [
      "La sección máxima se alcanza con ángulo:  1.0471975511965979\n"
     ]
    }
   ],
   "source": [
    "x,xn=sp.symbols('x,xn')\n",
    "# Funcion que describe el area de la seccion en funcion del angulo\n",
    "f=4*sp.sin(x)*(1+sp.cos(x))\n",
    "d1f=sp.diff(f,x)\n",
    "d1fn=sp.lambdify(x,d1f)\n",
    "alphamax=sp.solve(d1f)\n",
    "print('La sección máxima se alcanza con ángulo: ',float(alphamax[1]))"
   ]
  },
  {
   "cell_type": "code",
   "execution_count": 5,
   "id": "478a2e23",
   "metadata": {},
   "outputs": [
    {
     "name": "stdout",
     "output_type": "stream",
     "text": [
      "La sección máxima se alcanza con ángulo:  0.9650678568332388\n"
     ]
    }
   ],
   "source": [
    "import numpy as np\n",
    "maxit=100\n",
    "eps=1e-4\n",
    "d2fn=sp.diff(d1f,x)\n",
    "d2fn=sp.lambdify(x,d2f)\n",
    "xn=np.pi/2\n",
    "for i in range(0,maxit):\n",
    "    res=d1fn(xn)/d2fn(xn)\n",
    "    xn=xn-res\n",
    "    if (np.abs(res)<eps):\n",
    "        break\n",
    "print('La sección máxima se alcanza con ángulo: ', xn)"
   ]
  },
  {
   "cell_type": "code",
   "execution_count": 6,
   "id": "b797d4b7",
   "metadata": {},
   "outputs": [
    {
     "name": "stdout",
     "output_type": "stream",
     "text": [
      "El valor de la x calculado con el método de Newton-Raphson es:  0.7853981633974484\n"
     ]
    }
   ],
   "source": [
    "# EJEMPLO RESUELTO DE NEWTON-RAPHSON\n",
    "import sympy as sp\n",
    "import numpy as np\n",
    "\n",
    "x,xn=sp.symbols('x,xn')\n",
    "\n",
    "f=sp.log(sp.tan(x))\n",
    "fn=sp.lambdify(x,f)\n",
    "d1fn=sp.diff(f,x)\n",
    "d1fn=sp.lambdify(x,d1fn)\n",
    "\n",
    "max_it=100\n",
    "tol=1e-4\n",
    "xn=1.5\n",
    "\n",
    "for i in range(0,max_it):\n",
    "    res=fn(xn)/d1fn(xn)\n",
    "    xn=xn-res\n",
    "    if (np.abs(res)<eps):\n",
    "        break\n",
    "print('El valor de la x calculado con el método de Newton-Raphson es: ', xn)\n"
   ]
  },
  {
   "cell_type": "code",
   "execution_count": 7,
   "id": "87c373b6",
   "metadata": {},
   "outputs": [
    {
     "data": {
      "text/latex": [
       "$\\displaystyle x - \\frac{x^{2}}{2} + O\\left(x^{3}\\right)$"
      ],
      "text/plain": [
       "x - x**2/2 + O(x**3)"
      ]
     },
     "metadata": {},
     "output_type": "display_data"
    },
    {
     "data": {
      "text/latex": [
       "$\\displaystyle - \\frac{x^{2}}{2} + x$"
      ],
      "text/plain": [
       "-x**2/2 + x"
      ]
     },
     "metadata": {},
     "output_type": "display_data"
    },
    {
     "data": {
      "image/png": "[encoded data removed]",
      "text/plain": [
       "<Figure size 432x288 with 1 Axes>"
      ]
     },
     "metadata": {
      "needs_background": "light"
     },
     "output_type": "display_data"
    },
    {
     "data": {
      "text/latex": [
       "$\\displaystyle 0.095$"
      ],
      "text/plain": [
       "0.0950000000000000"
      ]
     },
     "metadata": {},
     "output_type": "display_data"
    },
    {
     "data": {
      "text/latex": [
       "$\\displaystyle 0.0953101798043249$"
      ],
      "text/plain": [
       "0.0953101798043249"
      ]
     },
     "metadata": {},
     "output_type": "display_data"
    },
    {
     "data": {
      "text/latex": [
       "$\\displaystyle 0.000310179804324934$"
      ],
      "text/plain": [
       "0.000310179804324934"
      ]
     },
     "metadata": {},
     "output_type": "display_data"
    },
    {
     "data": {
      "text/latex": [
       "$\\displaystyle \\frac{2}{\\left(x + 1\\right)^{3}}$"
      ],
      "text/plain": [
       "2/(x + 1)**3"
      ]
     },
     "metadata": {},
     "output_type": "display_data"
    },
    {
     "data": {
      "image/png": "[encoded data removed]",
      "text/plain": [
       "<Figure size 432x288 with 1 Axes>"
      ]
     },
     "metadata": {
      "needs_background": "light"
     },
     "output_type": "display_data"
    },
    {
     "data": {
      "text/latex": [
       "$\\displaystyle - \\frac{6}{\\left(x + 1\\right)^{4}}$"
      ],
      "text/plain": [
       "-6/(x + 1)**4"
      ]
     },
     "metadata": {},
     "output_type": "display_data"
    },
    {
     "data": {
      "image/png": "[encoded data removed]",
      "text/plain": [
       "<Figure size 432x288 with 1 Axes>"
      ]
     },
     "metadata": {
      "needs_background": "light"
     },
     "output_type": "display_data"
    },
    {
     "data": {
      "text/latex": [
       "$\\displaystyle 2$"
      ],
      "text/plain": [
       "2"
      ]
     },
     "metadata": {},
     "output_type": "display_data"
    },
    {
     "data": {
      "text/latex": [
       "$\\displaystyle \\frac{1}{3000}$"
      ],
      "text/plain": [
       "1/3000"
      ]
     },
     "metadata": {},
     "output_type": "display_data"
    }
   ],
   "source": [
    "# EJEMPLO DE LA APLICACIÓN DEL POLINOMIO DE TAYLOR \n",
    "\n",
    "import sympy as sp\n",
    "\n",
    " \n",
    "\n",
    "x = sp.symbols('x', real=True)\n",
    "\n",
    " \n",
    "\n",
    "# punto en el que centramos el polinomio de Taylor\n",
    "x0 = 0\n",
    "\n",
    " \n",
    "\n",
    "# función que queremos aproximar\n",
    "f = sp.log(1+x)\n",
    "\n",
    " \n",
    "\n",
    "# calculamos el Polinomio de Taylor de grado n centrado en x0\n",
    "n = 2 # grado del polinomio\n",
    "P = sp.series(f,x,x0,n+1)\n",
    "display(P) \n",
    "# la O() representa los términos de orden superior que aparecerían en un polinomio de orden superior, por lo que la eliminamos\n",
    "P=P.removeO()\n",
    "display(P)\n",
    "\n",
    " \n",
    "\n",
    "p = sp.plot(f, P, (x, -0.9, 4), show=False)\n",
    "p[0].line_color='r'\n",
    "p[1].line_color='b'\n",
    "p.xlabel='x'\n",
    "p.ylabel='y'\n",
    "p.legend=True\n",
    "p.show()\n",
    "\n",
    " \n",
    "\n",
    "fL = sp.Lambda((x),f)\n",
    "PL = sp.Lambda((x),P)\n",
    "\n",
    " \n",
    "\n",
    "display(PL(0.1))\n",
    "display(fL(0.1))\n",
    "display(sp.Abs(PL(0.1)-fL(0.1)))\n",
    "\n",
    " \n",
    "\n",
    "fx3 = f.diff(x,3)\n",
    "display(fx3)\n",
    "\n",
    " \n",
    "\n",
    "p = sp.plot(fx3, (x, 0, 0.1), show=False)\n",
    "p[0].line_color='r'\n",
    "p.xlabel='x'\n",
    "p.ylabel='y'\n",
    "p.legend=True\n",
    "p.show()\n",
    "\n",
    " \n",
    "\n",
    "fx4 = f.diff(x,4)\n",
    "display(fx4)\n",
    "\n",
    " \n",
    "\n",
    "p = sp.plot(fx4, (x, 0, 0.1), show=False)\n",
    "p[0].line_color='r'\n",
    "p.xlabel='x'\n",
    "p.ylabel='y'\n",
    "p.legend=True\n",
    "p.show()\n",
    "\n",
    " \n",
    "\n",
    "supremo = sp.Abs(fx3.subs(x,0))\n",
    "display(supremo)\n",
    "acotacione = supremo/sp.factorial(3) * sp.Rational('1/10')**3\n",
    "display(acotacione)"
   ]
  },
  {
   "cell_type": "code",
   "execution_count": 8,
   "id": "310a874b",
   "metadata": {},
   "outputs": [
    {
     "data": {
      "text/latex": [
       "$\\displaystyle \\begin{cases} \\sqrt{t + 3} + 1 & \\text{for}\\: t \\leq 0 \\\\e^{t} + \\sqrt{3} & \\text{otherwise} \\end{cases}$"
      ],
      "text/plain": [
       "Piecewise((sqrt(t + 3) + 1, t <= 0), (exp(t) + sqrt(3), True))"
      ]
     },
     "metadata": {},
     "output_type": "display_data"
    },
    {
     "data": {
      "text/latex": [
       "$\\displaystyle 1 + \\sqrt{3}$"
      ],
      "text/plain": [
       "1 + sqrt(3)"
      ]
     },
     "metadata": {},
     "output_type": "display_data"
    },
    {
     "data": {
      "text/latex": [
       "$\\displaystyle 1 + \\sqrt{3}$"
      ],
      "text/plain": [
       "1 + sqrt(3)"
      ]
     },
     "metadata": {},
     "output_type": "display_data"
    },
    {
     "name": "stdout",
     "output_type": "stream",
     "text": [
      "f es clase 0? True\n",
      "\n",
      "g_aMinus =  sqrt(3)/6 , g_aPlus =  sqrt(3)/6\n",
      "\n",
      "Existe g'(a)? True\n",
      "\n",
      "g2_0Minus =  0 ,g2_0Plus =  0\n",
      "\n",
      "Existe g''(0)? True\n"
     ]
    }
   ],
   "source": [
    "# Ejemplo de como analizar si una función es derivable o no calculando los límites laterales.\n",
    "# También comprobaremos que sea continua.\n",
    "\n",
    "import sympy as sp\n",
    "t = sp.Symbol('t', real=True)\n",
    "h = sp.Symbol('h', real=True)\n",
    "gexpr = sp.Piecewise((1+sp.sqrt(t+3), (t<=0) ), (sp.exp(t)+sp.sqrt(3), t>0))\n",
    "g = sp.Lambda(t, gexpr)\n",
    "display(g(t))\n",
    "# Una vez creda la función comprobamos que sea continua comparando los límites.\n",
    "display(sp.limit(g(x),x,0,dir='-'))\n",
    "display(sp.limit(g(x),x,0,dir='+'))\n",
    "print('f es clase 0?', sp.limit(g(x),x,0)==g(0))\n",
    "# Debido a que la función sí es continua pasamos a comprobar si es derivable.\n",
    "a = 0\n",
    "g_aMinus = sp.limit((g(a+h)-g(a))/h, h, 0, dir='-')\n",
    "g_aPlus = sp.limit((g(a+h)-g(a))/h, h, 0, dir='+')\n",
    "\n",
    "print('\\ng_aMinus = ', g_aMinus, ', g_aPlus = ', g_aPlus)\n",
    "print('\\nExiste g\\'(a)?', g_aMinus==g_aPlus)\n",
    "# Como si existe la primera derivada de g vamos a comprobar si existe la segunda:\n",
    "g1_expr = gexpr.diff(x,1)\n",
    "g1 = sp.Lambda(x, g1_expr)\n",
    "\n",
    "g2_0Minus = sp.limit((g1(h)-g1(0))/h,h,0,dir='-')\n",
    "g2_0Plus = sp.limit((g1(h)-g1(0))/h,h,0,dir='+')\n",
    "print('\\ng2_0Minus = ', g2_0Minus, ',g2_0Plus = ', g2_0Plus)\n",
    "print('\\nExiste g\\'\\'(0)?',g2_0Minus==g2_0Plus)\n"
   ]
  },
  {
   "cell_type": "code",
   "execution_count": null,
   "id": "ea6071c8",
   "metadata": {},
   "outputs": [],
   "source": [
    "# BOLETÍN 3"
   ]
  },
  {
   "cell_type": "code",
   "execution_count": 9,
   "id": "1a70f92f",
   "metadata": {},
   "outputs": [
    {
     "data": {
      "text/plain": [
       "'La derivada usando la definición es la siguiente: '"
      ]
     },
     "metadata": {},
     "output_type": "display_data"
    },
    {
     "data": {
      "text/latex": [
       "$\\displaystyle 10 x$"
      ],
      "text/plain": [
       "10*x"
      ]
     },
     "metadata": {},
     "output_type": "display_data"
    },
    {
     "data": {
      "text/plain": [
       "'La pendiente es: '"
      ]
     },
     "metadata": {},
     "output_type": "display_data"
    },
    {
     "data": {
      "text/latex": [
       "$\\displaystyle 5.0$"
      ],
      "text/plain": [
       "5.00000000000000"
      ]
     },
     "metadata": {},
     "output_type": "display_data"
    },
    {
     "name": "stdout",
     "output_type": "stream",
     "text": [
      "La ecuación de la recta tangente a la gráfica de f en x = 1/2\n",
      "y =  5.0*x - 1.25\n"
     ]
    }
   ],
   "source": [
    "# Ejercicio 1\n",
    "import sympy as sp\n",
    "\n",
    "x,h,y = sp.symbols('x,h,y', real=True)\n",
    "expr1 = 5*x**2\n",
    "f = sp.Lambda(x, expr1)\n",
    "\n",
    "#1.a\n",
    "d1f = sp.limit((f(x+h)-f(x))/h,h,0) # Empleamos la definición de derivada.\n",
    "display('La derivada usando la definición es la siguiente: ', d1f)\n",
    "\n",
    "#1.b\n",
    "m = d1f.subs(x,1/2) # Sustituimos el punto, en el que calcular la tangente, en la derivada de la función, para obtener la pendiente. \n",
    "display('La pendiente es: ', m)\n",
    "expr1b = sp.Eq(m*(x-1/2)+f(1/2), y)\n",
    "print('La ecuación de la recta tangente a la gráfica de f en x = 1/2')\n",
    "sol1b = print('y = ', sp.solve(expr1b,y)[0])"
   ]
  },
  {
   "cell_type": "code",
   "execution_count": 10,
   "id": "7fa870bb",
   "metadata": {},
   "outputs": [
    {
     "data": {
      "text/plain": [
       "'Límite x-->-1-'"
      ]
     },
     "metadata": {},
     "output_type": "display_data"
    },
    {
     "data": {
      "text/latex": [
       "$\\displaystyle -3$"
      ],
      "text/plain": [
       "-3"
      ]
     },
     "metadata": {},
     "output_type": "display_data"
    },
    {
     "data": {
      "text/plain": [
       "'Límite x-->-1+'"
      ]
     },
     "metadata": {},
     "output_type": "display_data"
    },
    {
     "data": {
      "text/latex": [
       "$\\displaystyle -2$"
      ],
      "text/plain": [
       "-2"
      ]
     },
     "metadata": {},
     "output_type": "display_data"
    },
    {
     "name": "stdout",
     "output_type": "stream",
     "text": [
      "f(x) no es continua por lo que no es derivable en x = -1\n"
     ]
    }
   ],
   "source": [
    "# Ejercicio 2\n",
    "import sympy as sp \n",
    "\n",
    "x,h = sp.symbols('x,h', reals=True)\n",
    "expr2_1 = 2*x-1\n",
    "f1 = sp.Lambda(x,expr2_1)\n",
    "expr2_2 = (x+1)**3+2*x\n",
    "f2 = sp.Lambda(x, expr2_2)\n",
    "\n",
    "# Estudio de la continuidad\n",
    "lim_i = sp.limit(f1(x),x,-1,dir='-')\n",
    "lim_d = sp.limit(f2(x),x,-1,dir='+')\n",
    "display('Límite x-->-1-',lim_i)\n",
    "display('Límite x-->-1+',lim_d)\n",
    "\n",
    "print('f(x) no es continua por lo que no es derivable en x = -1')"
   ]
  },
  {
   "cell_type": "code",
   "execution_count": 11,
   "id": "0fba4af4",
   "metadata": {},
   "outputs": [
    {
     "data": {
      "text/plain": [
       "'Derivada primera de f´(x) para x!=0'"
      ]
     },
     "metadata": {},
     "output_type": "display_data"
    },
    {
     "data": {
      "text/latex": [
       "$\\displaystyle 2 x \\sin{\\left(\\frac{1}{x} \\right)} - \\cos{\\left(\\frac{1}{x} \\right)} + 1$"
      ],
      "text/plain": [
       "2*x*sin(1/x) - cos(1/x) + 1"
      ]
     },
     "metadata": {},
     "output_type": "display_data"
    },
    {
     "data": {
      "text/plain": [
       "'f´(0) es: '"
      ]
     },
     "metadata": {},
     "output_type": "display_data"
    },
    {
     "data": {
      "text/latex": [
       "$\\displaystyle 1$"
      ],
      "text/plain": [
       "1"
      ]
     },
     "metadata": {},
     "output_type": "display_data"
    },
    {
     "data": {
      "text/plain": [
       "'No son iguales: '"
      ]
     },
     "metadata": {},
     "output_type": "display_data"
    },
    {
     "data": {
      "text/latex": [
       "$\\displaystyle 0$"
      ],
      "text/plain": [
       "0"
      ]
     },
     "metadata": {},
     "output_type": "display_data"
    }
   ],
   "source": [
    "# Ejercicio 3\n",
    "\n",
    "x = sp.Symbol('x', real=True)\n",
    "expr3_1 = x+x**2*sp.sin(1/x)\n",
    "f1 = sp.Lambda(x,expr3_1)\n",
    "expr3_2 = 0\n",
    "\n",
    "#3.a\n",
    "d1f = sp.diff(expr3_1,x)\n",
    "display('Derivada primera de f´(x) para x!=0', d1f)\n",
    "\n",
    "#3.b\n",
    "f_expr2 = 0\n",
    "f2 = sp.Lambda(x,f_expr2)\n",
    "d1f_2 = sp.limit((f1(0+h)-f2(0))/h,h,0,dir='-')\n",
    "display('f´(0) es: ', d1f_2)\n",
    "\n",
    "#3.c\n",
    "display('No son iguales: ', sp.limit(f1(x),x,0))# Hacemos el límite para x=0 "
   ]
  },
  {
   "cell_type": "code",
   "execution_count": 12,
   "id": "ea53fd90",
   "metadata": {},
   "outputs": [
    {
     "data": {
      "text/plain": [
       "'La derivada primera en f´(x) !=0 es:'"
      ]
     },
     "metadata": {},
     "output_type": "display_data"
    },
    {
     "data": {
      "text/latex": [
       "$\\displaystyle \\frac{\\left(x + 1\\right) e^{- x}}{x^{2}}$"
      ],
      "text/plain": [
       "(x + 1)*exp(-x)/x**2"
      ]
     },
     "metadata": {},
     "output_type": "display_data"
    },
    {
     "data": {
      "text/plain": [
       "'La derivada primera en f´(x) = 0 es:'"
      ]
     },
     "metadata": {},
     "output_type": "display_data"
    },
    {
     "data": {
      "text/latex": [
       "$\\displaystyle 0$"
      ],
      "text/plain": [
       "0"
      ]
     },
     "metadata": {},
     "output_type": "display_data"
    },
    {
     "name": "stdout",
     "output_type": "stream",
     "text": [
      "\n",
      "\n"
     ]
    },
    {
     "data": {
      "text/plain": [
       "'Límite x-->-oo'"
      ]
     },
     "metadata": {},
     "output_type": "display_data"
    },
    {
     "data": {
      "text/latex": [
       "$\\displaystyle \\infty$"
      ],
      "text/plain": [
       "oo"
      ]
     },
     "metadata": {},
     "output_type": "display_data"
    },
    {
     "data": {
      "text/plain": [
       "'Límite x-->+oo'"
      ]
     },
     "metadata": {},
     "output_type": "display_data"
    },
    {
     "data": {
      "text/latex": [
       "$\\displaystyle 0$"
      ],
      "text/plain": [
       "0"
      ]
     },
     "metadata": {},
     "output_type": "display_data"
    },
    {
     "data": {
      "text/plain": [
       "'Para calcular los extremos relativos f´(x) = 0 y obtenemos:'"
      ]
     },
     "metadata": {},
     "output_type": "display_data"
    },
    {
     "data": {
      "text/plain": [
       "[-1]"
      ]
     },
     "metadata": {},
     "output_type": "display_data"
    },
    {
     "data": {
      "text/plain": [
       "'En el intervalo de -oo a -1 la función decrece'"
      ]
     },
     "metadata": {},
     "output_type": "display_data"
    },
    {
     "data": {
      "text/latex": [
       "$\\displaystyle - \\frac{e^{2}}{4}$"
      ],
      "text/plain": [
       "-exp(2)/4"
      ]
     },
     "metadata": {},
     "output_type": "display_data"
    },
    {
     "data": {
      "text/plain": [
       "'En el intervalo de -1 a 0 la función crece'"
      ]
     },
     "metadata": {},
     "output_type": "display_data"
    },
    {
     "data": {
      "text/latex": [
       "$\\displaystyle 3.29744254140026$"
      ],
      "text/plain": [
       "3.29744254140026"
      ]
     },
     "metadata": {},
     "output_type": "display_data"
    },
    {
     "data": {
      "text/plain": [
       "'En el intervalo de 0 a oo la función crece'"
      ]
     },
     "metadata": {},
     "output_type": "display_data"
    },
    {
     "data": {
      "text/latex": [
       "$\\displaystyle 3.6391839582758$"
      ],
      "text/plain": [
       "3.63918395827580"
      ]
     },
     "metadata": {},
     "output_type": "display_data"
    },
    {
     "name": "stdout",
     "output_type": "stream",
     "text": [
      "Obtenemos que hay un mínimo absoluto en x=-1, pero de 0 a infinito la función crece, por lo que no se pueden calcular máximos absolutos\n",
      "\n",
      "Por lo tanto deducimos que Im(f) = (-1,oo)\n"
     ]
    }
   ],
   "source": [
    "# Ejercicio 4\n",
    "x,h = sp.symbols('x,h', real=True)\n",
    "expr1 = (1-sp.exp(-x))/x\n",
    "f1 = sp.Lambda(x,expr1)\n",
    "expr2 = (1)\n",
    "f2 = sp.Lambda(x,expr2)\n",
    "\n",
    "#4.a\n",
    "# Cálculo de f´(x) para x !=0\n",
    "f=(1-sp.exp(-x)/x)\n",
    "d1f=sp.diff(f,x,1) # Comando para derivar\n",
    "display('La derivada primera en f´(x) !=0 es:', sp.simplify(d1f))\n",
    "d1f_2 = sp.diff(1,x,1)\n",
    "display('La derivada primera en f´(x) = 0 es:', sp.simplify(d1f_2))\n",
    "\n",
    "#4.b\n",
    "print('\\n')\n",
    "display('Límite x-->-oo',sp.limit(f1(x),x,-sp.oo))\n",
    "display('Límite x-->+oo',sp.limit(f1(x),x,sp.oo))\n",
    "\n",
    "# Para el cálculo de Im(f), calculamos los mínimos y máximos absolutos\n",
    "display('Para calcular los extremos relativos f´(x) = 0 y obtenemos:')\n",
    "display(sp.solve(d1f))\n",
    "# Evaluamos lo obtenido en intervalos\n",
    "display('En el intervalo de -oo a -1 la función decrece',d1f.subs(x,-2))\n",
    "display('En el intervalo de -1 a 0 la función crece',d1f.subs(x,-0.5))\n",
    "display('En el intervalo de 0 a oo la función crece',d1f.subs(x,0.5))\n",
    "print('Obtenemos que hay un mínimo absoluto en x=-1, pero de 0 a infinito la función crece, por lo que no se pueden calcular máximos absolutos')\n",
    "print('\\nPor lo tanto deducimos que Im(f) = (-1,oo)')"
   ]
  },
  {
   "cell_type": "code",
   "execution_count": 13,
   "id": "e3750af4",
   "metadata": {},
   "outputs": [
    {
     "name": "stdout",
     "output_type": "stream",
     "text": [
      "Número de iteraciones realizadas:  5\n",
      "Aproximación de la raíz:  1.2599210498948732\n",
      "\n",
      "Aproximaciones [1.         1.33333333 1.26388889 1.25993349 1.25992105 1.25992105]\n"
     ]
    }
   ],
   "source": [
    "# Ejercicio 5\n",
    "import numpy as np\n",
    "import sympy as sp\n",
    "\n",
    "x = sp.Symbol('x', real=True)\n",
    "\n",
    "f_expr = x**3-2\n",
    "f_der_expr = sp.diff(f_expr,x)\n",
    "\n",
    "f = sp.Lambda(x,f_expr)\n",
    "f_der = sp.Lambda(x, f_der_expr)\n",
    "\n",
    "N_max = 10\n",
    "tol = 1.e-9\n",
    "\n",
    "x_aprox = np.zeros(N_max)\n",
    "x_aprox[0] = 1\n",
    "\n",
    "for k in range(1,N_max):\n",
    "   if f_der(x_aprox[k-1]) == 0: break\n",
    "\n",
    "   x_aprox[k] = x_aprox[k-1] - f(x_aprox[k-1])/f_der(x_aprox[k-1])\n",
    "\n",
    "   if ( (k > 0) and (np.abs(x_aprox[k]-x_aprox[k-1]) / np.abs(x_aprox[k]) < tol) ): break\n",
    "\n",
    "print('Número de iteraciones realizadas: ', k) \n",
    "print('Aproximación de la raíz: ', x_aprox[k])\n",
    "print('\\nAproximaciones', x_aprox[0:k+1])\n",
    "        \n",
    "    "
   ]
  },
  {
   "cell_type": "code",
   "execution_count": 12,
   "id": "4a634643",
   "metadata": {},
   "outputs": [
    {
     "name": "stdout",
     "output_type": "stream",
     "text": [
      "La solución del apartado a sería: \n",
      "xn + 1 = xn**3 +2*xn -2 / 3*xn**2 +2\n",
      "Número de iteraciones realizadas:  1\n",
      "Aproximación de la raíz:  0.0\n",
      "\n",
      "Aproximaciones [0. 0.]\n"
     ]
    }
   ],
   "source": [
    "# Ejericio 6\n",
    "\n",
    "#a)\n",
    "# Hay que emplear la ecuación: xn+1 = xn -f(xn) / f´(xn)\n",
    "print('La solución del apartado a sería: ')\n",
    "print('xn + 1 = xn**3 +2*xn -2 / 3*xn**2 +2')\n",
    "\n",
    "\n",
    "#b)\n",
    "import numpy as np\n",
    "import sympy as sp\n",
    "\n",
    "x = sp.Symbol('x', real=True)\n",
    "\n",
    "d_expr = x**3 + 2*x -2\n",
    "f_der_expr = sp.diff(f_expr,x)\n",
    "\n",
    "f = sp.Lambda(x,f_expr)\n",
    "f_der = sp.Lambda(x,f_der_expr)\n",
    "\n",
    "N_max = 100\n",
    "tol = 1.e-9\n",
    "\n",
    "x_aprox = np.zeros(N_max)\n",
    "x_aprox[0] = 0\n",
    "\n",
    "for k in range(1,N_max):\n",
    "   if f_der(x_aprox[k-1]) == 0: break\n",
    "    \n",
    "   x_aprox[k] = x_aprox[k-1] - f(x_aprox[k-1])/f_der(x_aprox[k-1])\n",
    "\n",
    "   if ( (k > 0) and (np.abs(x_aprox[k]-x_aprox[k-1]) / np.abs(x_aprox[k]) < tol) ): break\n",
    "\n",
    "print('Número de iteraciones realizadas: ', k) \n",
    "print('Aproximación de la raíz: ', x_aprox[k])\n",
    "print('\\nAproximaciones', x_aprox[0:k+1])\n",
    "    \n",
    "    "
   ]
  },
  {
   "cell_type": "code",
   "execution_count": 14,
   "id": "bd833c4d",
   "metadata": {
    "scrolled": true
   },
   "outputs": [
    {
     "data": {
      "text/latex": [
       "$\\displaystyle \\left( x \\mapsto \\operatorname{atan}{\\left(\\frac{\\sin{\\left(x \\right)}}{\\cos{\\left(x \\right)} + 1} \\right)} \\right)$"
      ],
      "text/plain": [
       "Lambda(x, atan(sin(x)/(cos(x) + 1)))"
      ]
     },
     "metadata": {},
     "output_type": "display_data"
    },
    {
     "data": {
      "text/plain": [
       "'Pendiente: '"
      ]
     },
     "metadata": {},
     "output_type": "display_data"
    },
    {
     "data": {
      "text/latex": [
       "$\\displaystyle \\frac{1}{2}$"
      ],
      "text/plain": [
       "1/2"
      ]
     },
     "metadata": {},
     "output_type": "display_data"
    },
    {
     "data": {
      "text/plain": [
       "'Ecuación de la recta tg'"
      ]
     },
     "metadata": {},
     "output_type": "display_data"
    },
    {
     "name": "stdout",
     "output_type": "stream",
     "text": [
      "y = x/2\n"
     ]
    }
   ],
   "source": [
    "# Ejercicio 7\n",
    "x,y = sp.symbols('x,y', real=True)\n",
    "x_expr = sp.atan(sp.sin(x)/(1+sp.cos(x)))\n",
    "f = sp.Lambda(x,x_expr)\n",
    "display(f)\n",
    "\n",
    "# Cálculo de la recta tg\n",
    "# Cálculo de la pendiente.\n",
    "m = sp.diff(x_expr,x,1)\n",
    "display('Pendiente: ',sp.simplify(m))\n",
    "expr = sp.Eq(m*(x-0)+f(0),y)\n",
    "display('Ecuación de la recta tg')\n",
    "print('y =', sp.solve(expr,y)[0])"
   ]
  },
  {
   "cell_type": "code",
   "execution_count": 15,
   "id": "5a9a9461",
   "metadata": {},
   "outputs": [
    {
     "data": {
      "text/latex": [
       "$\\displaystyle 2 \\left(4 x + 1\\right)^{\\sin{\\left(x^{2} \\right)} + 1} \\left(x \\left(4 x + 1\\right) \\log{\\left(4 x + 1 \\right)} \\cos{\\left(x^{2} \\right)} + 2 \\sin{\\left(x^{2} \\right)} + 4\\right)$"
      ],
      "text/plain": [
       "2*(4*x + 1)**(sin(x**2) + 1)*(x*(4*x + 1)*log(4*x + 1)*cos(x**2) + 2*sin(x**2) + 4)"
      ]
     },
     "metadata": {},
     "output_type": "display_data"
    }
   ],
   "source": [
    "# DERIVADA EN CUALQUIER PUNTO\n",
    "# Ejercicio 8\n",
    "expr8 = (4*x+1)**(2+sp.sin(x**2))\n",
    "d1f = sp.diff(expr8,x,1)\n",
    "display(sp.simplify(d1f))"
   ]
  },
  {
   "cell_type": "code",
   "execution_count": 16,
   "id": "6e5de14f",
   "metadata": {},
   "outputs": [
    {
     "data": {
      "text/latex": [
       "$\\displaystyle \\frac{1 - e^{- x}}{x}$"
      ],
      "text/plain": [
       "(1 - exp(-x))/x"
      ]
     },
     "metadata": {},
     "output_type": "display_data"
    },
    {
     "data": {
      "text/latex": [
       "$\\displaystyle 0.333333333333333$"
      ],
      "text/plain": [
       "0.333333333333333"
      ]
     },
     "metadata": {},
     "output_type": "display_data"
    },
    {
     "data": {
      "text/plain": [
       "'Límite izqda'"
      ]
     },
     "metadata": {},
     "output_type": "display_data"
    },
    {
     "data": {
      "text/latex": [
       "$\\displaystyle 3$"
      ],
      "text/plain": [
       "3"
      ]
     },
     "metadata": {},
     "output_type": "display_data"
    },
    {
     "data": {
      "text/plain": [
       "'Límite dcha'"
      ]
     },
     "metadata": {},
     "output_type": "display_data"
    },
    {
     "data": {
      "text/latex": [
       "$\\displaystyle 3$"
      ],
      "text/plain": [
       "3"
      ]
     },
     "metadata": {},
     "output_type": "display_data"
    },
    {
     "data": {
      "text/plain": [
       "'Ambos límites coinciden pero !=f(a), por lo tanto B=opción correcta'"
      ]
     },
     "metadata": {},
     "output_type": "display_data"
    }
   ],
   "source": [
    "# Ejercicio 9\n",
    "x = sp.symbols('x', real=True)\n",
    "expr9_1 = (sp.sin(3*x))**2/(3*x**2)\n",
    "f3 = sp.Lambda(x,expr9_1)\n",
    "expr9_2 = 1/3\n",
    "f2 = sp.Lambda(x,expr9_2)\n",
    "display(f1(x))\n",
    "display(f2(x))\n",
    "\n",
    "# Para que exista límite en x=0, lim x--> 0- = lim x-->0+ = f(0)\n",
    "lim_i3 = sp.limit(f3(x),x,0,dir='-')\n",
    "lim_d3 = sp.limit(f3(x),x,0,dir ='+')\n",
    "display('Límite izqda',lim_i3)\n",
    "display('Límite dcha', lim_d3)\n",
    "display('Ambos límites coinciden pero !=f(a), por lo tanto B=opción correcta')"
   ]
  },
  {
   "cell_type": "code",
   "execution_count": 17,
   "id": "1385b9a6",
   "metadata": {},
   "outputs": [
    {
     "data": {
      "text/plain": [
       "'f(x)'"
      ]
     },
     "metadata": {},
     "output_type": "display_data"
    },
    {
     "data": {
      "text/latex": [
       "$\\displaystyle \\frac{a x^{2} + b x - e^{2 x} + 1}{\\sin{\\left(x^{2} \\right)}} - 1$"
      ],
      "text/plain": [
       "(a*x**2 + b*x - exp(2*x) + 1)/sin(x**2) - 1"
      ]
     },
     "metadata": {},
     "output_type": "display_data"
    },
    {
     "data": {
      "text/plain": [
       "'Derivada primera del numerador'"
      ]
     },
     "metadata": {},
     "output_type": "display_data"
    },
    {
     "data": {
      "text/latex": [
       "$\\displaystyle 2 a x + b - 2 e^{2 x}$"
      ],
      "text/plain": [
       "2*a*x + b - 2*exp(2*x)"
      ]
     },
     "metadata": {},
     "output_type": "display_data"
    },
    {
     "data": {
      "text/plain": [
       "'Derivada primera del denominador'"
      ]
     },
     "metadata": {},
     "output_type": "display_data"
    },
    {
     "data": {
      "text/latex": [
       "$\\displaystyle 2 x \\cos{\\left(x^{2} \\right)}$"
      ],
      "text/plain": [
       "2*x*cos(x**2)"
      ]
     },
     "metadata": {},
     "output_type": "display_data"
    },
    {
     "name": "stdout",
     "output_type": "stream",
     "text": [
      "\n",
      "Sustituimos por 0 en el numerador: b - 2\n",
      "\n",
      "Sustituimos por 0 en el denominador: 0\n",
      "\n",
      "\n"
     ]
    },
    {
     "data": {
      "text/plain": [
       "'Obtenemos la siguiente expresión:'"
      ]
     },
     "metadata": {},
     "output_type": "display_data"
    },
    {
     "data": {
      "text/latex": [
       "$\\displaystyle \\tilde{\\infty} \\left(b - 2\\right)$"
      ],
      "text/plain": [
       "zoo*(b - 2)"
      ]
     },
     "metadata": {},
     "output_type": "display_data"
    },
    {
     "name": "stdout",
     "output_type": "stream",
     "text": [
      "Como contamos con una indeterminación deberemos de seguir con L´Hopital\n"
     ]
    },
    {
     "data": {
      "text/plain": [
       "'Derivada segunda del numerador'"
      ]
     },
     "metadata": {},
     "output_type": "display_data"
    },
    {
     "data": {
      "text/latex": [
       "$\\displaystyle 2 \\left(a - 2 e^{2 x}\\right)$"
      ],
      "text/plain": [
       "2*(a - 2*exp(2*x))"
      ]
     },
     "metadata": {},
     "output_type": "display_data"
    },
    {
     "data": {
      "text/plain": [
       "'Derivada segunda del denominador'"
      ]
     },
     "metadata": {},
     "output_type": "display_data"
    },
    {
     "data": {
      "text/latex": [
       "$\\displaystyle 2 \\left(- 2 x^{2} \\sin{\\left(x^{2} \\right)} + \\cos{\\left(x^{2} \\right)}\\right)$"
      ],
      "text/plain": [
       "2*(-2*x**2*sin(x**2) + cos(x**2))"
      ]
     },
     "metadata": {},
     "output_type": "display_data"
    },
    {
     "name": "stdout",
     "output_type": "stream",
     "text": [
      "\n",
      "Sustituimos por 0 en el numerador: 2*a - 4\n",
      "\n",
      "Sustituimos por 0 en el denominador: 2\n",
      "\n",
      "\n"
     ]
    },
    {
     "data": {
      "text/plain": [
       "'Obtenemos la siguiente expresión:'"
      ]
     },
     "metadata": {},
     "output_type": "display_data"
    },
    {
     "data": {
      "text/latex": [
       "$\\displaystyle a - 2$"
      ],
      "text/plain": [
       "a - 2"
      ]
     },
     "metadata": {},
     "output_type": "display_data"
    },
    {
     "name": "stdout",
     "output_type": "stream",
     "text": [
      "Finalmente sabemos que el valor de a es λ, para λ ∈ R y que b = 3\n"
     ]
    }
   ],
   "source": [
    "# Ejercicio 10\n",
    "\n",
    "x,a,b = sp.symbols('x,a,b', real = True)\n",
    "expr10 = ((a*x**2+b*x+1-sp.exp(2*x))/sp.sin(x**2)-1)\n",
    "f = sp.Lambda(x,expr10)\n",
    "display('f(x)', f(x))\n",
    "\n",
    "# Aplicamos l'Hôpital para resolver el límite\n",
    "expr10_1 = a*x**2+b*x+1-sp.exp(2*x)\n",
    "expr10_2 = sp.sin(x**2)\n",
    "\n",
    "d1f = sp.diff(expr10_1,x,1)\n",
    "d1f_2 = sp.diff(expr10_2,x,1)\n",
    "display('Derivada primera del numerador',d1f)\n",
    "display('Derivada primera del denominador',d1f_2)\n",
    "\n",
    "print('\\nSustituimos por 0 en el numerador:', d1f.subs(x,0))\n",
    "print('\\nSustituimos por 0 en el denominador:',d1f_2.subs(x,0))\n",
    "print('\\n')\n",
    "expr10_3 = d1f.subs(x,0)/d1f_2.subs(x,0)\n",
    "display('Obtenemos la siguiente expresión:', expr10_3)\n",
    "print('Como contamos con una indeterminación deberemos de seguir con L´Hopital')\n",
    "\n",
    "\n",
    "d2f = sp.diff(expr10_1,x,2)\n",
    "d2f_2 = sp.diff(expr10_2,x,2)\n",
    "display('Derivada segunda del numerador',d2f)\n",
    "display('Derivada segunda del denominador',d2f_2)\n",
    "print('\\nSustituimos por 0 en el numerador:', d2f.subs(x,0))\n",
    "print('\\nSustituimos por 0 en el denominador:',d2f_2.subs(x,0))\n",
    "print('\\n')\n",
    "expr10_4 = d2f.subs(x,0)/d2f_2.subs(x,0)\n",
    "display('Obtenemos la siguiente expresión:', expr10_4)\n",
    "\n",
    "\n",
    "expr10_5 = sp.Eq(expr10_4,1)\n",
    "sol10_5 = sp.solve(expr10_5)\n",
    "print('Finalmente sabemos que el valor de a es λ, para λ ∈ R y que b =',sol10_5[0])\n",
    "\n"
   ]
  },
  {
   "cell_type": "code",
   "execution_count": 18,
   "id": "fc40b883",
   "metadata": {},
   "outputs": [
    {
     "data": {
      "text/latex": [
       "$\\displaystyle \\left( x \\mapsto x^{3} e^{x} \\right)$"
      ],
      "text/plain": [
       "Lambda(x, x**3*exp(x))"
      ]
     },
     "metadata": {},
     "output_type": "display_data"
    },
    {
     "data": {
      "text/latex": [
       "$\\displaystyle \\emptyset$"
      ],
      "text/plain": [
       "EmptySet"
      ]
     },
     "metadata": {},
     "output_type": "display_data"
    },
    {
     "data": {
      "text/plain": [
       "'La derivada primera es: '"
      ]
     },
     "metadata": {},
     "output_type": "display_data"
    },
    {
     "data": {
      "text/latex": [
       "$\\displaystyle x^{3} e^{x} + 3 x^{2} e^{x}$"
      ],
      "text/plain": [
       "x**3*exp(x) + 3*x**2*exp(x)"
      ]
     },
     "metadata": {},
     "output_type": "display_data"
    },
    {
     "name": "stdout",
     "output_type": "stream",
     "text": [
      "Estos son los puntos donde la primera derivada es 0: \n"
     ]
    },
    {
     "data": {
      "text/plain": [
       "[-3, 0]"
      ]
     },
     "metadata": {},
     "output_type": "display_data"
    },
    {
     "data": {
      "text/plain": [
       "'En el intervalo de -oo a -3 la función decrece'"
      ]
     },
     "metadata": {},
     "output_type": "display_data"
    },
    {
     "data": {
      "text/latex": [
       "$\\displaystyle - \\frac{16}{e^{4}}$"
      ],
      "text/plain": [
       "-16*exp(-4)"
      ]
     },
     "metadata": {},
     "output_type": "display_data"
    },
    {
     "data": {
      "text/plain": [
       "'En el intervalo de -3 a 0 la función crece'"
      ]
     },
     "metadata": {},
     "output_type": "display_data"
    },
    {
     "data": {
      "text/latex": [
       "$\\displaystyle \\frac{4}{e^{2}}$"
      ],
      "text/plain": [
       "4*exp(-2)"
      ]
     },
     "metadata": {},
     "output_type": "display_data"
    },
    {
     "data": {
      "text/plain": [
       "'En el intervalo de 0 a oo la función crece'"
      ]
     },
     "metadata": {},
     "output_type": "display_data"
    },
    {
     "data": {
      "text/latex": [
       "$\\displaystyle 4 e$"
      ],
      "text/plain": [
       "4*E"
      ]
     },
     "metadata": {},
     "output_type": "display_data"
    },
    {
     "data": {
      "text/plain": [
       "'La funcion es creciente desde el -3 al oo'"
      ]
     },
     "metadata": {},
     "output_type": "display_data"
    },
    {
     "data": {
      "text/plain": [
       "'La derivada segunda es: '"
      ]
     },
     "metadata": {},
     "output_type": "display_data"
    },
    {
     "data": {
      "text/latex": [
       "$\\displaystyle x \\left(x^{2} + 6 x + 6\\right) e^{x}$"
      ],
      "text/plain": [
       "x*(x**2 + 6*x + 6)*exp(x)"
      ]
     },
     "metadata": {},
     "output_type": "display_data"
    },
    {
     "name": "stdout",
     "output_type": "stream",
     "text": [
      "Estos son los puntos donde la segunda derivada es 0: \n"
     ]
    },
    {
     "data": {
      "text/plain": [
       "[0, -3 - sqrt(3), -3 + sqrt(3)]"
      ]
     },
     "metadata": {},
     "output_type": "display_data"
    },
    {
     "data": {
      "text/plain": [
       "'En el intervalo de -oo a -3-sp.sqrt(3) la función es concava'"
      ]
     },
     "metadata": {},
     "output_type": "display_data"
    },
    {
     "data": {
      "text/latex": [
       "$\\displaystyle - \\frac{5}{e^{5}}$"
      ],
      "text/plain": [
       "-5*exp(-5)"
      ]
     },
     "metadata": {},
     "output_type": "display_data"
    },
    {
     "data": {
      "text/plain": [
       "'En el intervalo de -3-sp.sqrt(3) a -3+sp.sqrt(3) la función es convexa '"
      ]
     },
     "metadata": {},
     "output_type": "display_data"
    },
    {
     "data": {
      "text/latex": [
       "$\\displaystyle \\frac{4}{e^{2}}$"
      ],
      "text/plain": [
       "4*exp(-2)"
      ]
     },
     "metadata": {},
     "output_type": "display_data"
    },
    {
     "data": {
      "text/plain": [
       "'En el intervalo de -3+sp.sqrt(3) a 0 la función es concava '"
      ]
     },
     "metadata": {},
     "output_type": "display_data"
    },
    {
     "data": {
      "text/latex": [
       "$\\displaystyle - \\frac{1}{e}$"
      ],
      "text/plain": [
       "-exp(-1)"
      ]
     },
     "metadata": {},
     "output_type": "display_data"
    },
    {
     "data": {
      "text/plain": [
       "'En el intervalo de 0 a oo la función es convexa '"
      ]
     },
     "metadata": {},
     "output_type": "display_data"
    },
    {
     "data": {
      "text/latex": [
       "$\\displaystyle 13 e$"
      ],
      "text/plain": [
       "13*E"
      ]
     },
     "metadata": {},
     "output_type": "display_data"
    },
    {
     "name": "stdout",
     "output_type": "stream",
     "text": [
      "La funcion en el intervalo que crece empieza siendo concava luego es convexa y termina siendo concava otra vez\n",
      "Aqui tenemos la representacion grafica\n"
     ]
    },
    {
     "data": {
      "image/png": "[encoded data removed]",
      "text/plain": [
       "<Figure size 432x288 with 1 Axes>"
      ]
     },
     "metadata": {
      "needs_background": "light"
     },
     "output_type": "display_data"
    }
   ],
   "source": [
    "#Ejercicio 17\n",
    "import numpy as np\n",
    "import matplotlib as mp\n",
    "import matplotlib.pyplot as plt\n",
    "expr  = x**3 * sp.E**x\n",
    "f17 = sp.Lambda(x, expr)\n",
    "display(f17)\n",
    "# Calculamos su dominio antes de hacer nada.\n",
    "\n",
    "f=sp.Lambda(x, expr)\n",
    "display(sp.calculus.singularities(f(x), x))\n",
    "\n",
    "# Ahora procedemos a calcular los extremos relativos.\n",
    "d1f = sp.diff(expr, x)\n",
    "display('La derivada primera es: ',d1f)\n",
    "print('Estos son los puntos donde la primera derivada es 0: ')\n",
    "display(sp.solve(d1f))# Al resolver con el comando sp.solve la primera derivada, estamos mostrando los puntos donde esta valga 0.\n",
    "\n",
    "#Ahora vamos a ver los intervalos de crecimiento y decrecimiento de la funcion sobre los puntos -3 y 0\n",
    "display('En el intervalo de -oo a -3 la función decrece',d1f.subs(x,-4))\n",
    "display('En el intervalo de -3 a 0 la función crece',d1f.subs(x,-2))\n",
    "display('En el intervalo de 0 a oo la función crece',d1f.subs(x,1))\n",
    "\n",
    "display('La funcion es creciente desde el -3 al oo')\n",
    "\n",
    "# A continuación pasamos a calcular la concavidad/convexidad, empezando con la segunda derivada.\n",
    "d2f = sp.diff(expr, x, 2)\n",
    "display('La derivada segunda es: ',d2f)\n",
    "print('Estos son los puntos donde la segunda derivada es 0: ')\n",
    "display(sp.solve(d2f))\n",
    "\n",
    "#Ahora vamos a ver los intervalos de concavidad y convexidad de la funcion\n",
    "display('En el intervalo de -oo a -3-sp.sqrt(3) la función es concava',d2f.subs(x,-5))\n",
    "display('En el intervalo de -3-sp.sqrt(3) a -3+sp.sqrt(3) la función es convexa ',d2f.subs(x,-2))\n",
    "display('En el intervalo de -3+sp.sqrt(3) a 0 la función es concava ',d2f.subs(x,-1))\n",
    "display('En el intervalo de 0 a oo la función es convexa ',d2f.subs(x,1))\n",
    "\n",
    "print('La funcion en el intervalo que crece empieza siendo concava luego es convexa y termina siendo concava otra vez')\n",
    "\n",
    "print('Aqui tenemos la representacion grafica')\n",
    "# Creación de los puntos donde se evalúa la función\n",
    "x = np.linspace(-20, 6, 400)\n",
    "\n",
    "# Gráfica de sin(x) y cos(x), con una etiqueta para cada una\n",
    "plt.plot(x, x**3 * sp.E**x, label='sen(x)')\n",
    "\n",
    "# Etiquetas de los ejes\n",
    "plt.xlabel('x')\n",
    "plt.ylabel('y')\n",
    "\n",
    "# Añadir la leyenda (mostrando las etiquetas de los \"plot\")\n",
    "plt.legend()\n",
    "\n",
    "plt.show()"
   ]
  },
  {
   "cell_type": "code",
   "execution_count": 19,
   "id": "70552d0a",
   "metadata": {},
   "outputs": [
    {
     "name": "stdout",
     "output_type": "stream",
     "text": [
      "Polinomio de Taylor: \n",
      " -x**2/2 + x \n",
      "\n",
      " Resto de Taylor: \n",
      " x**3/(3*(t + 1)**3)\n"
     ]
    },
    {
     "name": "stderr",
     "output_type": "stream",
     "text": [
      "<lambdifygenerated-6>:2: RuntimeWarning: invalid value encountered in log\n",
      "  return log(x + 1)\n"
     ]
    },
    {
     "data": {
      "image/png": "[encoded data removed]",
      "text/plain": [
       "<Figure size 432x288 with 1 Axes>"
      ]
     },
     "metadata": {
      "needs_background": "light"
     },
     "output_type": "display_data"
    }
   ],
   "source": [
    "# Ejercico 24\n",
    "\n",
    "import sympy as sp\n",
    "\n",
    "x,t=sp.symbols('x,t')\n",
    "\n",
    "# p: polinomio de Taylor\n",
    "# R: resto en valor absoluto\n",
    "def taylor(f,x0,n):\n",
    "    p=0\n",
    "    for i in range(n+1):\n",
    "        p+=sp.diff(f,x,i).subs(x,x0)/sp.factorial(i)*(x-x0)**i\n",
    "    R=(sp.diff(f,x,n+1).subs(x,t)/sp.factorial(n+1)*(x-x0)**(n+1))\n",
    "    return p,R\n",
    "\n",
    "# Codigo aqui                \n",
    "import sympy as sp\n",
    "x=sp.symbols('x')\n",
    "f= sp.log(1+x)\n",
    "\n",
    "p,R=taylor(f,0,2)\n",
    "print('Polinomio de Taylor: \\n',p,'\\n\\n Resto de Taylor: \\n',R)\n",
    "\n",
    "# Codigo aqui\n",
    "import numpy as np\n",
    "import matplotlib.pyplot as plt\n",
    "x=sp.symbols('x')\n",
    "fn=sp.lambdify(x,f)\n",
    "pn=sp.lambdify(x,p)\n",
    "x=np.linspace(-np.pi,np.pi)\n",
    "plt.plot(x,fn(x),label='f(x)', lw='3',c='b')\n",
    "plt.plot(x,pn(x),label='p(x)', lw='3',c='g')\n",
    "plt.plot([np.pi,np.pi],[fn(np.pi),pn(np.pi)],lw='3',c='r')\n",
    "plt.axhline(0,color='k')\n",
    "plt.axvline(0,color='k')\n",
    "plt.ylim(-2,2)\n",
    "plt.legend(loc='lower right',fontsize=15)\n",
    "plt.show()"
   ]
  },
  {
   "cell_type": "code",
   "execution_count": 20,
   "id": "49047f2e",
   "metadata": {},
   "outputs": [
    {
     "name": "stdout",
     "output_type": "stream",
     "text": [
      "Polinomio de Taylor: \n",
      " 1 \n",
      "\n",
      " Resto de Taylor: \n",
      " -(x - pi/2)**2*sin(t)/2\n"
     ]
    }
   ],
   "source": [
    "# Ejercicio 24\n",
    "\n",
    "import sympy as sp\n",
    "\n",
    "x,t=sp.symbols('x,t')\n",
    "\n",
    "# p: polinomio de Taylor\n",
    "# R: resto en valor absoluto\n",
    "def taylor(f,x0,n):\n",
    "    p=0\n",
    "    for i in range(n+1):\n",
    "        p+=sp.diff(f,x,i).subs(x,x0)/sp.factorial(i)*(x-x0)**i\n",
    "    R=(sp.diff(f,x,n+1).subs(x,t)/sp.factorial(n+1)*(x-x0)**(n+1))\n",
    "    return p,R\n",
    "\n",
    "# Codigo aqui                \n",
    "import sympy as sp\n",
    "x=sp.symbols('x')\n",
    "f= sp.sin(x)\n",
    "\n",
    "p,R=taylor(f,sp.pi/2,1)\n",
    "print('Polinomio de Taylor: \\n',p,'\\n\\n Resto de Taylor: \\n',R)"
   ]
  },
  {
   "cell_type": "code",
   "execution_count": 21,
   "id": "2117d3cd",
   "metadata": {},
   "outputs": [
    {
     "name": "stdout",
     "output_type": "stream",
     "text": [
      "Polinomio de Taylor: \n",
      " x \n",
      "\n",
      " Resto de Taylor: \n",
      " x**3*(3*t**2/(1 - t**2) + 1)/(6*(1 - t**2)**(3/2))\n"
     ]
    }
   ],
   "source": [
    "# Ejercicio 25\n",
    "import sympy as sp\n",
    "\n",
    "x,t=sp.symbols('x,t')\n",
    "\n",
    "# p: polinomio de Taylor\n",
    "# R: resto en valor absoluto\n",
    "def taylor(f,x0,n):\n",
    "    p=0\n",
    "    for i in range(n+1):\n",
    "        p+=sp.diff(f,x,i).subs(x,x0)/sp.factorial(i)*(x-x0)**i\n",
    "    R=(sp.diff(f,x,n+1).subs(x,t)/sp.factorial(n+1)*(x-x0)**(n+1))\n",
    "    return p,R\n",
    "\n",
    "# Codigo aqui                \n",
    "import sympy as sp\n",
    "x=sp.symbols('x')\n",
    "f= sp.asin(x)\n",
    "\n",
    "p,R=taylor(f,0,2)\n",
    "print('Polinomio de Taylor: \\n',p,'\\n\\n Resto de Taylor: \\n',R)"
   ]
  },
  {
   "cell_type": "code",
   "execution_count": null,
   "id": "dceb06ee",
   "metadata": {},
   "outputs": [],
   "source": [
    "# EJERCICIOS COMPLEMENTARIOS"
   ]
  },
  {
   "cell_type": "code",
   "execution_count": 28,
   "id": "ca1e2a44",
   "metadata": {},
   "outputs": [
    {
     "name": "stdout",
     "output_type": "stream",
     "text": [
      "Número de iteraciones realizadas:  6\n",
      "Aproximación de la raíz:  1.324717957244746\n",
      "\n",
      "Aproximaciones [1.         1.5        1.34782609 1.3252004  1.32471817 1.32471796\n",
      " 1.32471796]\n"
     ]
    }
   ],
   "source": [
    "# Ejercicio 2\n",
    "import numpy as np\n",
    "import sympy as sp\n",
    "\n",
    "x = sp.symbols('x', real=True) # define la variable simbólica x\n",
    "\n",
    "f_expr = x**3 - x -1\n",
    "f_der_expr = sp.diff(f_expr,x)\n",
    "\n",
    "f = sp.Lambda(x,f_expr)\n",
    "f_der = sp.Lambda(x,f_der_expr)\n",
    "\n",
    "N_max = 100\n",
    "tol = 1.e-9\n",
    "\n",
    "x_aprox = np.zeros(N_max)\n",
    "x_aprox[0] = 1\n",
    "\n",
    "for k in range(1,N_max):\n",
    "   if f_der(x_aprox[k-1]) == 0: break\n",
    "\n",
    "   x_aprox[k] = x_aprox[k-1] - f(x_aprox[k-1])/f_der(x_aprox[k-1])\n",
    "\n",
    "   if ( (k > 0) and (np.abs(x_aprox[k]-x_aprox[k-1]) / np.abs(x_aprox[k]) < tol) ): break\n",
    "\n",
    "print('Número de iteraciones realizadas: ', k) \n",
    "print('Aproximación de la raíz: ', x_aprox[k])\n",
    "print('\\nAproximaciones', x_aprox[0:k+1])"
   ]
  },
  {
   "cell_type": "code",
   "execution_count": 22,
   "id": "b1a1ac98",
   "metadata": {},
   "outputs": [
    {
     "data": {
      "text/plain": [
       "'f(x)'"
      ]
     },
     "metadata": {},
     "output_type": "display_data"
    },
    {
     "data": {
      "text/latex": [
       "$\\displaystyle \\frac{\\sqrt{a x + b} - 2}{x}$"
      ],
      "text/plain": [
       "(sqrt(a*x + b) - 2)/x"
      ]
     },
     "metadata": {},
     "output_type": "display_data"
    },
    {
     "data": {
      "text/plain": [
       "'Derivada primera del numerador'"
      ]
     },
     "metadata": {},
     "output_type": "display_data"
    },
    {
     "data": {
      "text/latex": [
       "$\\displaystyle \\frac{a}{2 \\sqrt{a x + b}}$"
      ],
      "text/plain": [
       "a/(2*sqrt(a*x + b))"
      ]
     },
     "metadata": {},
     "output_type": "display_data"
    },
    {
     "data": {
      "text/plain": [
       "'Derivada primera del denominador'"
      ]
     },
     "metadata": {},
     "output_type": "display_data"
    },
    {
     "data": {
      "text/latex": [
       "$\\displaystyle 1$"
      ],
      "text/plain": [
       "1"
      ]
     },
     "metadata": {},
     "output_type": "display_data"
    },
    {
     "name": "stdout",
     "output_type": "stream",
     "text": [
      "\n",
      "Sustituimos por 0 en el numerador: a/(2*sqrt(b))\n",
      "\n",
      "Sustituimos por 0 en el denominador: 1\n",
      "\n",
      "\n"
     ]
    },
    {
     "data": {
      "text/plain": [
       "'Obtenemos la siguiente expresión:'"
      ]
     },
     "metadata": {},
     "output_type": "display_data"
    },
    {
     "data": {
      "text/latex": [
       "$\\displaystyle \\frac{a}{2 \\sqrt{b}}$"
      ],
      "text/plain": [
       "a/(2*sqrt(b))"
      ]
     },
     "metadata": {},
     "output_type": "display_data"
    },
    {
     "ename": "IndexError",
     "evalue": "list index out of range",
     "output_type": "error",
     "traceback": [
      "\u001b[1;31m---------------------------------------------------------------------------\u001b[0m",
      "\u001b[1;31mIndexError\u001b[0m                                Traceback (most recent call last)",
      "Input \u001b[1;32mIn [22]\u001b[0m, in \u001b[0;36m<cell line: 23>\u001b[1;34m()\u001b[0m\n\u001b[0;32m     21\u001b[0m expr_4 \u001b[38;5;241m=\u001b[39m sp\u001b[38;5;241m.\u001b[39mEq(expr10_3,\u001b[38;5;241m1\u001b[39m)\n\u001b[0;32m     22\u001b[0m sol_4 \u001b[38;5;241m=\u001b[39m sp\u001b[38;5;241m.\u001b[39msolve(expr_4)\n\u001b[1;32m---> 23\u001b[0m \u001b[38;5;28mprint\u001b[39m(\u001b[38;5;124m'\u001b[39m\u001b[38;5;124mFinalmente sabemos que el valor de a es λ, para λ ∈ R y que b =\u001b[39m\u001b[38;5;124m'\u001b[39m,\u001b[43msol_4\u001b[49m\u001b[43m[\u001b[49m\u001b[38;5;241;43m0\u001b[39;49m\u001b[43m]\u001b[49m)\n",
      "\u001b[1;31mIndexError\u001b[0m: list index out of range"
     ]
    }
   ],
   "source": [
    "# Ejercicio 3\n",
    "x,a,b = sp.symbols('x,a,b', real = True)\n",
    "expr3 = (sp.sqrt(a*x + b)-2)/x\n",
    "f = sp.Lambda(x,expr3)\n",
    "display('f(x)', f(x))\n",
    "\n",
    "# Aplicamos l'Hôpital para resolver el límite\n",
    "expr_1 = (sp.sqrt(a*x + b)-2)\n",
    "expr_2 = x\n",
    "\n",
    "d1f = sp.diff(expr_1,x,1)\n",
    "d1f_2 = sp.diff(expr_2,x,1)\n",
    "display('Derivada primera del numerador',d1f)\n",
    "display('Derivada primera del denominador',d1f_2)\n",
    "\n",
    "print('\\nSustituimos por 0 en el numerador:', d1f.subs(x,0))\n",
    "print('\\nSustituimos por 0 en el denominador:',d1f_2.subs(x,0))\n",
    "print('\\n')\n",
    "expr_3 = d1f.subs(x,0)/d1f_2.subs(x,0)\n",
    "display('Obtenemos la siguiente expresión:', expr_3)\n",
    "expr_4 = sp.Eq(expr10_3,1)\n",
    "sol_4 = sp.solve(expr_4)\n",
    "print('Finalmente sabemos que el valor de a es λ, para λ ∈ R y que b =',sol_4[0])"
   ]
  },
  {
   "cell_type": "code",
   "execution_count": null,
   "id": "524bc8d3",
   "metadata": {},
   "outputs": [],
   "source": [
    "# EJERCICIOS ANTERIORES "
   ]
  },
  {
   "cell_type": "code",
   "execution_count": 23,
   "id": "b834f04c",
   "metadata": {},
   "outputs": [
    {
     "data": {
      "text/latex": [
       "$\\displaystyle \\sqrt{\\cos{\\left(t \\right)}}$"
      ],
      "text/plain": [
       "sqrt(cos(t))"
      ]
     },
     "metadata": {},
     "output_type": "display_data"
    },
    {
     "data": {
      "text/latex": [
       "$\\displaystyle \\emptyset$"
      ],
      "text/plain": [
       "EmptySet"
      ]
     },
     "metadata": {},
     "output_type": "display_data"
    }
   ],
   "source": [
    "# Ejercicio 1\n",
    "# Definimos las funciones f1(t)=cos(t) y f2=raíz de t.\n",
    "\n",
    "# a. Construye g(t) = f2(f1(t)). Obtén su dominio.\n",
    "\n",
    "import sympy as sp \n",
    "\n",
    "t=sp.Symbol('t', real=True)\n",
    "expr1=sp.cos(t)\n",
    "expr2=sp.sqrt(t)\n",
    "f1=sp.Lambda(t,expr1)\n",
    "f2=sp.Lambda(t,expr2)\n",
    "g= f2(f1(t))\n",
    "display(g)\n",
    "display(sp.calculus.singularities(g,t))\n",
    "# Al obtener el conjunto vacío esto nos indica que el dominio de la función g es el conjunto de todos los números reales.\n"
   ]
  },
  {
   "cell_type": "code",
   "execution_count": 24,
   "id": "76d7c947",
   "metadata": {},
   "outputs": [
    {
     "name": "stdout",
     "output_type": "stream",
     "text": [
      "La función f1 es par? True\n",
      "La función f1 tiene simetría impar? False\n"
     ]
    }
   ],
   "source": [
    "# b. Estudia las simetrías de f1\n",
    "\n",
    "# Para estudiar las simetrías de la función f1, estudiaremos primero la par y luego la impar.\n",
    "# Para que n-una funcióne tenga simetría par: f(x)=f(-x)\n",
    "# Para analizar esto vaos a emplear lo que llamamos una hipótesis sobre una variable, realizamos una serie de comparaciones/condiciones y dependiendo si se cumplen o no, tendremos un resultado u otro.\n",
    "\n",
    "expr1=f1(t)\n",
    "expr2=f1(-t)\n",
    "print('La función f1 es par?', expr1==expr2)\n",
    "\n",
    "# Al devolver true podemos afirmar que la función \"f1\" tiene siemtría par\n",
    "# Para que una función tenga simetría impar: -f(x)=f(-x)\n",
    "\n",
    "expr3=-f1(t)\n",
    "expr4=f1(-t)\n",
    "print('La función f1 tiene simetría impar?', expr3==expr4)"
   ]
  },
  {
   "cell_type": "code",
   "execution_count": 25,
   "id": "1f428775",
   "metadata": {},
   "outputs": [
    {
     "name": "stdout",
     "output_type": "stream",
     "text": [
      "<class 'sympy.core.symbol.Symbol'>\n",
      "cos\n",
      "cos\n",
      "<class 'sympy.core.function.Lambda'>\n",
      "<class 'sympy.core.function.Lambda'>\n",
      "<class 'sympy.core.power.Pow'>\n"
     ]
    }
   ],
   "source": [
    "# c. Muestra el tipo de variable de las variables que has declarado.\n",
    "print(type(t))\n",
    "print(type(expr1))\n",
    "print(type(expr2))\n",
    "print(type(f1))\n",
    "print(type(f2))\n",
    "print(type(g))"
   ]
  },
  {
   "cell_type": "code",
   "execution_count": 26,
   "id": "b5e1f8e6",
   "metadata": {},
   "outputs": [
    {
     "data": {
      "image/png": "[encoded data removed]",
      "text/plain": [
       "<Figure size 432x288 with 1 Axes>"
      ]
     },
     "metadata": {
      "needs_background": "light"
     },
     "output_type": "display_data"
    }
   ],
   "source": [
    "# EJERCICIO 2:\n",
    "# Representar f1 y g\n",
    "import sympy as sp\n",
    "\n",
    "p = sp.plot(f1(t), g, (t, -3*sp.E, 4*sp.pi), show=False)\n",
    "p[0].line_color='r'\n",
    "p[1].line_color='b'\n",
    "p.xlabel='Eje de abscisas'\n",
    "p.ylabel='Eje ordenadas'\n",
    "p.legend=True\n",
    "p.show()"
   ]
  },
  {
   "cell_type": "code",
   "execution_count": 27,
   "id": "4f9b305f",
   "metadata": {},
   "outputs": [
    {
     "data": {
      "text/latex": [
       "$\\displaystyle 0$"
      ],
      "text/plain": [
       "0"
      ]
     },
     "metadata": {},
     "output_type": "display_data"
    },
    {
     "data": {
      "text/latex": [
       "$\\displaystyle 0$"
      ],
      "text/plain": [
       "0"
      ]
     },
     "metadata": {},
     "output_type": "display_data"
    },
    {
     "name": "stdout",
     "output_type": "stream",
     "text": [
      "Existe el límite cuando x tiende a pi medios? True\n"
     ]
    },
    {
     "data": {
      "text/latex": [
       "$\\displaystyle \\sqrt{\\left\\langle -1, 1\\right\\rangle}$"
      ],
      "text/plain": [
       "sqrt(AccumBounds(-1, 1))"
      ]
     },
     "metadata": {},
     "output_type": "display_data"
    },
    {
     "data": {
      "text/latex": [
       "$\\displaystyle \\sqrt{\\left\\langle -1, 1\\right\\rangle}$"
      ],
      "text/plain": [
       "sqrt(AccumBounds(-1, 1))"
      ]
     },
     "metadata": {},
     "output_type": "display_data"
    },
    {
     "name": "stdout",
     "output_type": "stream",
     "text": [
      "Existe el límite cuando x tiende a infinito? True\n"
     ]
    }
   ],
   "source": [
    "# Ejercicio 3\n",
    "\n",
    "# Empezamos calculando el límite cuando g tiende a pi medios\n",
    "# Para ello calculamos los límites y miramos si coinciden o no.\n",
    "\n",
    "l1=display(sp.limit(g, t, sp.pi/2, dir='-'))\n",
    "l2=display(sp.limit(g, t, sp.pi/2, dir='+'))\n",
    "print('Existe el límite cuando x tiende a pi medios?',l1==l2)\n",
    "\n",
    "# Ahora calcularemos el límite cuando x tiende a infinito.\n",
    "\n",
    "l3=display(sp.limit(g, t, sp.oo, dir='-'))\n",
    "l4=display(sp.limit(g, t, sp.oo, dir='+'))\n",
    "print('Existe el límite cuando x tiende a infinito?', l3==l4)\n"
   ]
  }
 ],
 "metadata": {
  "kernelspec": {
   "display_name": "Python 3 (ipykernel)",
   "language": "python",
   "name": "python3"
  },
  "language_info": {
   "codemirror_mode": {
    "name": "ipython",
    "version": 3
   },
   "file_extension": ".py",
   "mimetype": "text/x-python",
   "name": "python",
   "nbconvert_exporter": "python",
   "pygments_lexer": "ipython3",
   "version": "3.9.12"
  }
 },
 "nbformat": 4,
 "nbformat_minor": 5
}
